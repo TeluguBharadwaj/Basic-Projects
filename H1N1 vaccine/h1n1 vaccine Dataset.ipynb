{
 "cells": [
  {
   "cell_type": "code",
   "execution_count": 1,
   "id": "892bdae8",
   "metadata": {},
   "outputs": [],
   "source": [
    "import pandas as pd\n",
    "import numpy as np\n",
    "import matplotlib.pyplot as plt\n",
    "import seaborn as sns\n",
    "from scipy import stats\n",
    "import statsmodels.api as sm\n",
    "from statsmodels.formula.api import ols\n",
    "from statsmodels.stats.multicomp import pairwise_tukeyhsd\n",
    "import statsmodels.formula.api as smf\n",
    "pd.set_option('display.max_column',None)\n",
    "from scipy.stats import chi2_contingency"
   ]
  },
  {
   "cell_type": "code",
   "execution_count": 2,
   "id": "e38a693b",
   "metadata": {
    "scrolled": false
   },
   "outputs": [
    {
     "data": {
      "text/html": [
       "<div>\n",
       "<style scoped>\n",
       "    .dataframe tbody tr th:only-of-type {\n",
       "        vertical-align: middle;\n",
       "    }\n",
       "\n",
       "    .dataframe tbody tr th {\n",
       "        vertical-align: top;\n",
       "    }\n",
       "\n",
       "    .dataframe thead th {\n",
       "        text-align: right;\n",
       "    }\n",
       "</style>\n",
       "<table border=\"1\" class=\"dataframe\">\n",
       "  <thead>\n",
       "    <tr style=\"text-align: right;\">\n",
       "      <th></th>\n",
       "      <th>unique_id</th>\n",
       "      <th>h1n1_worry</th>\n",
       "      <th>h1n1_awareness</th>\n",
       "      <th>antiviral_medication</th>\n",
       "      <th>contact_avoidance</th>\n",
       "      <th>bought_face_mask</th>\n",
       "      <th>wash_hands_frequently</th>\n",
       "      <th>avoid_large_gatherings</th>\n",
       "      <th>reduced_outside_home_cont</th>\n",
       "      <th>avoid_touch_face</th>\n",
       "      <th>dr_recc_h1n1_vacc</th>\n",
       "      <th>dr_recc_seasonal_vacc</th>\n",
       "      <th>chronic_medic_condition</th>\n",
       "      <th>cont_child_undr_6_mnths</th>\n",
       "      <th>is_health_worker</th>\n",
       "      <th>has_health_insur</th>\n",
       "      <th>is_h1n1_vacc_effective</th>\n",
       "      <th>is_h1n1_risky</th>\n",
       "      <th>sick_from_h1n1_vacc</th>\n",
       "      <th>is_seas_vacc_effective</th>\n",
       "      <th>is_seas_risky</th>\n",
       "      <th>sick_from_seas_vacc</th>\n",
       "      <th>age_bracket</th>\n",
       "      <th>qualification</th>\n",
       "      <th>race</th>\n",
       "      <th>sex</th>\n",
       "      <th>income_level</th>\n",
       "      <th>marital_status</th>\n",
       "      <th>housing_status</th>\n",
       "      <th>employment</th>\n",
       "      <th>census_msa</th>\n",
       "      <th>no_of_adults</th>\n",
       "      <th>no_of_children</th>\n",
       "      <th>h1n1_vaccine</th>\n",
       "    </tr>\n",
       "  </thead>\n",
       "  <tbody>\n",
       "    <tr>\n",
       "      <th>0</th>\n",
       "      <td>0</td>\n",
       "      <td>1.0</td>\n",
       "      <td>0.0</td>\n",
       "      <td>0.0</td>\n",
       "      <td>0.0</td>\n",
       "      <td>0.0</td>\n",
       "      <td>0.0</td>\n",
       "      <td>0.0</td>\n",
       "      <td>1.0</td>\n",
       "      <td>1.0</td>\n",
       "      <td>0.0</td>\n",
       "      <td>0.0</td>\n",
       "      <td>0.0</td>\n",
       "      <td>0.0</td>\n",
       "      <td>0.0</td>\n",
       "      <td>1.0</td>\n",
       "      <td>3.0</td>\n",
       "      <td>1.0</td>\n",
       "      <td>2.0</td>\n",
       "      <td>2.0</td>\n",
       "      <td>1.0</td>\n",
       "      <td>2.0</td>\n",
       "      <td>55 - 64 Years</td>\n",
       "      <td>&lt; 12 Years</td>\n",
       "      <td>White</td>\n",
       "      <td>Female</td>\n",
       "      <td>Below Poverty</td>\n",
       "      <td>Not Married</td>\n",
       "      <td>Own</td>\n",
       "      <td>Not in Labor Force</td>\n",
       "      <td>Non-MSA</td>\n",
       "      <td>0.0</td>\n",
       "      <td>0.0</td>\n",
       "      <td>0</td>\n",
       "    </tr>\n",
       "    <tr>\n",
       "      <th>1</th>\n",
       "      <td>1</td>\n",
       "      <td>3.0</td>\n",
       "      <td>2.0</td>\n",
       "      <td>0.0</td>\n",
       "      <td>1.0</td>\n",
       "      <td>0.0</td>\n",
       "      <td>1.0</td>\n",
       "      <td>0.0</td>\n",
       "      <td>1.0</td>\n",
       "      <td>1.0</td>\n",
       "      <td>0.0</td>\n",
       "      <td>0.0</td>\n",
       "      <td>0.0</td>\n",
       "      <td>0.0</td>\n",
       "      <td>0.0</td>\n",
       "      <td>1.0</td>\n",
       "      <td>5.0</td>\n",
       "      <td>4.0</td>\n",
       "      <td>4.0</td>\n",
       "      <td>4.0</td>\n",
       "      <td>2.0</td>\n",
       "      <td>4.0</td>\n",
       "      <td>35 - 44 Years</td>\n",
       "      <td>12 Years</td>\n",
       "      <td>White</td>\n",
       "      <td>Male</td>\n",
       "      <td>Below Poverty</td>\n",
       "      <td>Not Married</td>\n",
       "      <td>Rent</td>\n",
       "      <td>Employed</td>\n",
       "      <td>MSA, Not Principle  City</td>\n",
       "      <td>0.0</td>\n",
       "      <td>0.0</td>\n",
       "      <td>0</td>\n",
       "    </tr>\n",
       "    <tr>\n",
       "      <th>2</th>\n",
       "      <td>2</td>\n",
       "      <td>1.0</td>\n",
       "      <td>1.0</td>\n",
       "      <td>0.0</td>\n",
       "      <td>1.0</td>\n",
       "      <td>0.0</td>\n",
       "      <td>0.0</td>\n",
       "      <td>0.0</td>\n",
       "      <td>0.0</td>\n",
       "      <td>0.0</td>\n",
       "      <td>NaN</td>\n",
       "      <td>NaN</td>\n",
       "      <td>1.0</td>\n",
       "      <td>0.0</td>\n",
       "      <td>0.0</td>\n",
       "      <td>NaN</td>\n",
       "      <td>3.0</td>\n",
       "      <td>1.0</td>\n",
       "      <td>1.0</td>\n",
       "      <td>4.0</td>\n",
       "      <td>1.0</td>\n",
       "      <td>2.0</td>\n",
       "      <td>18 - 34 Years</td>\n",
       "      <td>College Graduate</td>\n",
       "      <td>White</td>\n",
       "      <td>Male</td>\n",
       "      <td>&lt;= $75,000, Above Poverty</td>\n",
       "      <td>Not Married</td>\n",
       "      <td>Own</td>\n",
       "      <td>Employed</td>\n",
       "      <td>MSA, Not Principle  City</td>\n",
       "      <td>2.0</td>\n",
       "      <td>0.0</td>\n",
       "      <td>0</td>\n",
       "    </tr>\n",
       "    <tr>\n",
       "      <th>3</th>\n",
       "      <td>3</td>\n",
       "      <td>1.0</td>\n",
       "      <td>1.0</td>\n",
       "      <td>0.0</td>\n",
       "      <td>1.0</td>\n",
       "      <td>0.0</td>\n",
       "      <td>1.0</td>\n",
       "      <td>1.0</td>\n",
       "      <td>0.0</td>\n",
       "      <td>0.0</td>\n",
       "      <td>0.0</td>\n",
       "      <td>1.0</td>\n",
       "      <td>1.0</td>\n",
       "      <td>0.0</td>\n",
       "      <td>0.0</td>\n",
       "      <td>NaN</td>\n",
       "      <td>3.0</td>\n",
       "      <td>3.0</td>\n",
       "      <td>5.0</td>\n",
       "      <td>5.0</td>\n",
       "      <td>4.0</td>\n",
       "      <td>1.0</td>\n",
       "      <td>65+ Years</td>\n",
       "      <td>12 Years</td>\n",
       "      <td>White</td>\n",
       "      <td>Female</td>\n",
       "      <td>Below Poverty</td>\n",
       "      <td>Not Married</td>\n",
       "      <td>Rent</td>\n",
       "      <td>Not in Labor Force</td>\n",
       "      <td>MSA, Principle City</td>\n",
       "      <td>0.0</td>\n",
       "      <td>0.0</td>\n",
       "      <td>0</td>\n",
       "    </tr>\n",
       "    <tr>\n",
       "      <th>4</th>\n",
       "      <td>4</td>\n",
       "      <td>2.0</td>\n",
       "      <td>1.0</td>\n",
       "      <td>0.0</td>\n",
       "      <td>1.0</td>\n",
       "      <td>0.0</td>\n",
       "      <td>1.0</td>\n",
       "      <td>1.0</td>\n",
       "      <td>0.0</td>\n",
       "      <td>1.0</td>\n",
       "      <td>0.0</td>\n",
       "      <td>0.0</td>\n",
       "      <td>0.0</td>\n",
       "      <td>0.0</td>\n",
       "      <td>0.0</td>\n",
       "      <td>NaN</td>\n",
       "      <td>3.0</td>\n",
       "      <td>3.0</td>\n",
       "      <td>2.0</td>\n",
       "      <td>3.0</td>\n",
       "      <td>1.0</td>\n",
       "      <td>4.0</td>\n",
       "      <td>45 - 54 Years</td>\n",
       "      <td>Some College</td>\n",
       "      <td>White</td>\n",
       "      <td>Female</td>\n",
       "      <td>&lt;= $75,000, Above Poverty</td>\n",
       "      <td>Married</td>\n",
       "      <td>Own</td>\n",
       "      <td>Employed</td>\n",
       "      <td>MSA, Not Principle  City</td>\n",
       "      <td>1.0</td>\n",
       "      <td>0.0</td>\n",
       "      <td>0</td>\n",
       "    </tr>\n",
       "    <tr>\n",
       "      <th>...</th>\n",
       "      <td>...</td>\n",
       "      <td>...</td>\n",
       "      <td>...</td>\n",
       "      <td>...</td>\n",
       "      <td>...</td>\n",
       "      <td>...</td>\n",
       "      <td>...</td>\n",
       "      <td>...</td>\n",
       "      <td>...</td>\n",
       "      <td>...</td>\n",
       "      <td>...</td>\n",
       "      <td>...</td>\n",
       "      <td>...</td>\n",
       "      <td>...</td>\n",
       "      <td>...</td>\n",
       "      <td>...</td>\n",
       "      <td>...</td>\n",
       "      <td>...</td>\n",
       "      <td>...</td>\n",
       "      <td>...</td>\n",
       "      <td>...</td>\n",
       "      <td>...</td>\n",
       "      <td>...</td>\n",
       "      <td>...</td>\n",
       "      <td>...</td>\n",
       "      <td>...</td>\n",
       "      <td>...</td>\n",
       "      <td>...</td>\n",
       "      <td>...</td>\n",
       "      <td>...</td>\n",
       "      <td>...</td>\n",
       "      <td>...</td>\n",
       "      <td>...</td>\n",
       "      <td>...</td>\n",
       "    </tr>\n",
       "    <tr>\n",
       "      <th>26702</th>\n",
       "      <td>26702</td>\n",
       "      <td>2.0</td>\n",
       "      <td>0.0</td>\n",
       "      <td>0.0</td>\n",
       "      <td>1.0</td>\n",
       "      <td>0.0</td>\n",
       "      <td>0.0</td>\n",
       "      <td>0.0</td>\n",
       "      <td>1.0</td>\n",
       "      <td>0.0</td>\n",
       "      <td>0.0</td>\n",
       "      <td>0.0</td>\n",
       "      <td>0.0</td>\n",
       "      <td>0.0</td>\n",
       "      <td>0.0</td>\n",
       "      <td>NaN</td>\n",
       "      <td>3.0</td>\n",
       "      <td>1.0</td>\n",
       "      <td>1.0</td>\n",
       "      <td>5.0</td>\n",
       "      <td>2.0</td>\n",
       "      <td>2.0</td>\n",
       "      <td>65+ Years</td>\n",
       "      <td>Some College</td>\n",
       "      <td>White</td>\n",
       "      <td>Female</td>\n",
       "      <td>&lt;= $75,000, Above Poverty</td>\n",
       "      <td>Not Married</td>\n",
       "      <td>Own</td>\n",
       "      <td>Not in Labor Force</td>\n",
       "      <td>Non-MSA</td>\n",
       "      <td>0.0</td>\n",
       "      <td>0.0</td>\n",
       "      <td>0</td>\n",
       "    </tr>\n",
       "    <tr>\n",
       "      <th>26703</th>\n",
       "      <td>26703</td>\n",
       "      <td>1.0</td>\n",
       "      <td>2.0</td>\n",
       "      <td>0.0</td>\n",
       "      <td>1.0</td>\n",
       "      <td>0.0</td>\n",
       "      <td>1.0</td>\n",
       "      <td>0.0</td>\n",
       "      <td>0.0</td>\n",
       "      <td>0.0</td>\n",
       "      <td>1.0</td>\n",
       "      <td>1.0</td>\n",
       "      <td>0.0</td>\n",
       "      <td>0.0</td>\n",
       "      <td>1.0</td>\n",
       "      <td>1.0</td>\n",
       "      <td>4.0</td>\n",
       "      <td>2.0</td>\n",
       "      <td>2.0</td>\n",
       "      <td>5.0</td>\n",
       "      <td>1.0</td>\n",
       "      <td>1.0</td>\n",
       "      <td>18 - 34 Years</td>\n",
       "      <td>College Graduate</td>\n",
       "      <td>White</td>\n",
       "      <td>Male</td>\n",
       "      <td>&lt;= $75,000, Above Poverty</td>\n",
       "      <td>Not Married</td>\n",
       "      <td>Rent</td>\n",
       "      <td>Employed</td>\n",
       "      <td>MSA, Principle City</td>\n",
       "      <td>1.0</td>\n",
       "      <td>0.0</td>\n",
       "      <td>0</td>\n",
       "    </tr>\n",
       "    <tr>\n",
       "      <th>26704</th>\n",
       "      <td>26704</td>\n",
       "      <td>2.0</td>\n",
       "      <td>2.0</td>\n",
       "      <td>0.0</td>\n",
       "      <td>1.0</td>\n",
       "      <td>1.0</td>\n",
       "      <td>1.0</td>\n",
       "      <td>1.0</td>\n",
       "      <td>0.0</td>\n",
       "      <td>1.0</td>\n",
       "      <td>0.0</td>\n",
       "      <td>0.0</td>\n",
       "      <td>0.0</td>\n",
       "      <td>0.0</td>\n",
       "      <td>0.0</td>\n",
       "      <td>NaN</td>\n",
       "      <td>4.0</td>\n",
       "      <td>4.0</td>\n",
       "      <td>2.0</td>\n",
       "      <td>5.0</td>\n",
       "      <td>4.0</td>\n",
       "      <td>2.0</td>\n",
       "      <td>55 - 64 Years</td>\n",
       "      <td>Some College</td>\n",
       "      <td>White</td>\n",
       "      <td>Female</td>\n",
       "      <td>NaN</td>\n",
       "      <td>Not Married</td>\n",
       "      <td>Own</td>\n",
       "      <td>NaN</td>\n",
       "      <td>MSA, Not Principle  City</td>\n",
       "      <td>0.0</td>\n",
       "      <td>0.0</td>\n",
       "      <td>0</td>\n",
       "    </tr>\n",
       "    <tr>\n",
       "      <th>26705</th>\n",
       "      <td>26705</td>\n",
       "      <td>1.0</td>\n",
       "      <td>1.0</td>\n",
       "      <td>0.0</td>\n",
       "      <td>0.0</td>\n",
       "      <td>0.0</td>\n",
       "      <td>0.0</td>\n",
       "      <td>0.0</td>\n",
       "      <td>0.0</td>\n",
       "      <td>NaN</td>\n",
       "      <td>0.0</td>\n",
       "      <td>0.0</td>\n",
       "      <td>0.0</td>\n",
       "      <td>0.0</td>\n",
       "      <td>0.0</td>\n",
       "      <td>0.0</td>\n",
       "      <td>3.0</td>\n",
       "      <td>1.0</td>\n",
       "      <td>2.0</td>\n",
       "      <td>2.0</td>\n",
       "      <td>1.0</td>\n",
       "      <td>2.0</td>\n",
       "      <td>18 - 34 Years</td>\n",
       "      <td>Some College</td>\n",
       "      <td>Hispanic</td>\n",
       "      <td>Female</td>\n",
       "      <td>&lt;= $75,000, Above Poverty</td>\n",
       "      <td>Married</td>\n",
       "      <td>Rent</td>\n",
       "      <td>Employed</td>\n",
       "      <td>Non-MSA</td>\n",
       "      <td>1.0</td>\n",
       "      <td>0.0</td>\n",
       "      <td>0</td>\n",
       "    </tr>\n",
       "    <tr>\n",
       "      <th>26706</th>\n",
       "      <td>26706</td>\n",
       "      <td>0.0</td>\n",
       "      <td>0.0</td>\n",
       "      <td>0.0</td>\n",
       "      <td>1.0</td>\n",
       "      <td>0.0</td>\n",
       "      <td>0.0</td>\n",
       "      <td>0.0</td>\n",
       "      <td>0.0</td>\n",
       "      <td>0.0</td>\n",
       "      <td>0.0</td>\n",
       "      <td>0.0</td>\n",
       "      <td>0.0</td>\n",
       "      <td>0.0</td>\n",
       "      <td>0.0</td>\n",
       "      <td>1.0</td>\n",
       "      <td>5.0</td>\n",
       "      <td>1.0</td>\n",
       "      <td>1.0</td>\n",
       "      <td>5.0</td>\n",
       "      <td>1.0</td>\n",
       "      <td>1.0</td>\n",
       "      <td>65+ Years</td>\n",
       "      <td>Some College</td>\n",
       "      <td>White</td>\n",
       "      <td>Male</td>\n",
       "      <td>&lt;= $75,000, Above Poverty</td>\n",
       "      <td>Married</td>\n",
       "      <td>Own</td>\n",
       "      <td>Not in Labor Force</td>\n",
       "      <td>MSA, Principle City</td>\n",
       "      <td>1.0</td>\n",
       "      <td>0.0</td>\n",
       "      <td>0</td>\n",
       "    </tr>\n",
       "  </tbody>\n",
       "</table>\n",
       "<p>26707 rows × 34 columns</p>\n",
       "</div>"
      ],
      "text/plain": [
       "       unique_id  h1n1_worry  h1n1_awareness  antiviral_medication  \\\n",
       "0              0         1.0             0.0                   0.0   \n",
       "1              1         3.0             2.0                   0.0   \n",
       "2              2         1.0             1.0                   0.0   \n",
       "3              3         1.0             1.0                   0.0   \n",
       "4              4         2.0             1.0                   0.0   \n",
       "...          ...         ...             ...                   ...   \n",
       "26702      26702         2.0             0.0                   0.0   \n",
       "26703      26703         1.0             2.0                   0.0   \n",
       "26704      26704         2.0             2.0                   0.0   \n",
       "26705      26705         1.0             1.0                   0.0   \n",
       "26706      26706         0.0             0.0                   0.0   \n",
       "\n",
       "       contact_avoidance  bought_face_mask  wash_hands_frequently  \\\n",
       "0                    0.0               0.0                    0.0   \n",
       "1                    1.0               0.0                    1.0   \n",
       "2                    1.0               0.0                    0.0   \n",
       "3                    1.0               0.0                    1.0   \n",
       "4                    1.0               0.0                    1.0   \n",
       "...                  ...               ...                    ...   \n",
       "26702                1.0               0.0                    0.0   \n",
       "26703                1.0               0.0                    1.0   \n",
       "26704                1.0               1.0                    1.0   \n",
       "26705                0.0               0.0                    0.0   \n",
       "26706                1.0               0.0                    0.0   \n",
       "\n",
       "       avoid_large_gatherings  reduced_outside_home_cont  avoid_touch_face  \\\n",
       "0                         0.0                        1.0               1.0   \n",
       "1                         0.0                        1.0               1.0   \n",
       "2                         0.0                        0.0               0.0   \n",
       "3                         1.0                        0.0               0.0   \n",
       "4                         1.0                        0.0               1.0   \n",
       "...                       ...                        ...               ...   \n",
       "26702                     0.0                        1.0               0.0   \n",
       "26703                     0.0                        0.0               0.0   \n",
       "26704                     1.0                        0.0               1.0   \n",
       "26705                     0.0                        0.0               NaN   \n",
       "26706                     0.0                        0.0               0.0   \n",
       "\n",
       "       dr_recc_h1n1_vacc  dr_recc_seasonal_vacc  chronic_medic_condition  \\\n",
       "0                    0.0                    0.0                      0.0   \n",
       "1                    0.0                    0.0                      0.0   \n",
       "2                    NaN                    NaN                      1.0   \n",
       "3                    0.0                    1.0                      1.0   \n",
       "4                    0.0                    0.0                      0.0   \n",
       "...                  ...                    ...                      ...   \n",
       "26702                0.0                    0.0                      0.0   \n",
       "26703                1.0                    1.0                      0.0   \n",
       "26704                0.0                    0.0                      0.0   \n",
       "26705                0.0                    0.0                      0.0   \n",
       "26706                0.0                    0.0                      0.0   \n",
       "\n",
       "       cont_child_undr_6_mnths  is_health_worker  has_health_insur  \\\n",
       "0                          0.0               0.0               1.0   \n",
       "1                          0.0               0.0               1.0   \n",
       "2                          0.0               0.0               NaN   \n",
       "3                          0.0               0.0               NaN   \n",
       "4                          0.0               0.0               NaN   \n",
       "...                        ...               ...               ...   \n",
       "26702                      0.0               0.0               NaN   \n",
       "26703                      0.0               1.0               1.0   \n",
       "26704                      0.0               0.0               NaN   \n",
       "26705                      0.0               0.0               0.0   \n",
       "26706                      0.0               0.0               1.0   \n",
       "\n",
       "       is_h1n1_vacc_effective  is_h1n1_risky  sick_from_h1n1_vacc  \\\n",
       "0                         3.0            1.0                  2.0   \n",
       "1                         5.0            4.0                  4.0   \n",
       "2                         3.0            1.0                  1.0   \n",
       "3                         3.0            3.0                  5.0   \n",
       "4                         3.0            3.0                  2.0   \n",
       "...                       ...            ...                  ...   \n",
       "26702                     3.0            1.0                  1.0   \n",
       "26703                     4.0            2.0                  2.0   \n",
       "26704                     4.0            4.0                  2.0   \n",
       "26705                     3.0            1.0                  2.0   \n",
       "26706                     5.0            1.0                  1.0   \n",
       "\n",
       "       is_seas_vacc_effective  is_seas_risky  sick_from_seas_vacc  \\\n",
       "0                         2.0            1.0                  2.0   \n",
       "1                         4.0            2.0                  4.0   \n",
       "2                         4.0            1.0                  2.0   \n",
       "3                         5.0            4.0                  1.0   \n",
       "4                         3.0            1.0                  4.0   \n",
       "...                       ...            ...                  ...   \n",
       "26702                     5.0            2.0                  2.0   \n",
       "26703                     5.0            1.0                  1.0   \n",
       "26704                     5.0            4.0                  2.0   \n",
       "26705                     2.0            1.0                  2.0   \n",
       "26706                     5.0            1.0                  1.0   \n",
       "\n",
       "         age_bracket     qualification      race     sex  \\\n",
       "0      55 - 64 Years        < 12 Years     White  Female   \n",
       "1      35 - 44 Years          12 Years     White    Male   \n",
       "2      18 - 34 Years  College Graduate     White    Male   \n",
       "3          65+ Years          12 Years     White  Female   \n",
       "4      45 - 54 Years      Some College     White  Female   \n",
       "...              ...               ...       ...     ...   \n",
       "26702      65+ Years      Some College     White  Female   \n",
       "26703  18 - 34 Years  College Graduate     White    Male   \n",
       "26704  55 - 64 Years      Some College     White  Female   \n",
       "26705  18 - 34 Years      Some College  Hispanic  Female   \n",
       "26706      65+ Years      Some College     White    Male   \n",
       "\n",
       "                    income_level marital_status housing_status  \\\n",
       "0                  Below Poverty    Not Married            Own   \n",
       "1                  Below Poverty    Not Married           Rent   \n",
       "2      <= $75,000, Above Poverty    Not Married            Own   \n",
       "3                  Below Poverty    Not Married           Rent   \n",
       "4      <= $75,000, Above Poverty        Married            Own   \n",
       "...                          ...            ...            ...   \n",
       "26702  <= $75,000, Above Poverty    Not Married            Own   \n",
       "26703  <= $75,000, Above Poverty    Not Married           Rent   \n",
       "26704                        NaN    Not Married            Own   \n",
       "26705  <= $75,000, Above Poverty        Married           Rent   \n",
       "26706  <= $75,000, Above Poverty        Married            Own   \n",
       "\n",
       "               employment                census_msa  no_of_adults  \\\n",
       "0      Not in Labor Force                   Non-MSA           0.0   \n",
       "1                Employed  MSA, Not Principle  City           0.0   \n",
       "2                Employed  MSA, Not Principle  City           2.0   \n",
       "3      Not in Labor Force       MSA, Principle City           0.0   \n",
       "4                Employed  MSA, Not Principle  City           1.0   \n",
       "...                   ...                       ...           ...   \n",
       "26702  Not in Labor Force                   Non-MSA           0.0   \n",
       "26703            Employed       MSA, Principle City           1.0   \n",
       "26704                 NaN  MSA, Not Principle  City           0.0   \n",
       "26705            Employed                   Non-MSA           1.0   \n",
       "26706  Not in Labor Force       MSA, Principle City           1.0   \n",
       "\n",
       "       no_of_children  h1n1_vaccine  \n",
       "0                 0.0             0  \n",
       "1                 0.0             0  \n",
       "2                 0.0             0  \n",
       "3                 0.0             0  \n",
       "4                 0.0             0  \n",
       "...               ...           ...  \n",
       "26702             0.0             0  \n",
       "26703             0.0             0  \n",
       "26704             0.0             0  \n",
       "26705             0.0             0  \n",
       "26706             0.0             0  \n",
       "\n",
       "[26707 rows x 34 columns]"
      ]
     },
     "execution_count": 2,
     "metadata": {},
     "output_type": "execute_result"
    }
   ],
   "source": [
    "df = pd.read_csv(\"C:\\\\Users\\\\HP\\\\OneDrive\\\\Desktop\\\\Machine Learning\\\\EXCEL SHEETS\\\\h1n1_vaccine_prediction.csv\")\n",
    "df"
   ]
  },
  {
   "cell_type": "code",
   "execution_count": 3,
   "id": "9e9dbbb4",
   "metadata": {},
   "outputs": [
    {
     "data": {
      "text/plain": [
       "(26707, 34)"
      ]
     },
     "execution_count": 3,
     "metadata": {},
     "output_type": "execute_result"
    }
   ],
   "source": [
    "df.shape"
   ]
  },
  {
   "cell_type": "code",
   "execution_count": 4,
   "id": "6ebdca8b",
   "metadata": {},
   "outputs": [
    {
     "data": {
      "text/plain": [
       "unique_id                        0\n",
       "h1n1_worry                      92\n",
       "h1n1_awareness                 116\n",
       "antiviral_medication            71\n",
       "contact_avoidance              208\n",
       "bought_face_mask                19\n",
       "wash_hands_frequently           42\n",
       "avoid_large_gatherings          87\n",
       "reduced_outside_home_cont       82\n",
       "avoid_touch_face               128\n",
       "dr_recc_h1n1_vacc             2160\n",
       "dr_recc_seasonal_vacc         2160\n",
       "chronic_medic_condition        971\n",
       "cont_child_undr_6_mnths        820\n",
       "is_health_worker               804\n",
       "has_health_insur             12274\n",
       "is_h1n1_vacc_effective         391\n",
       "is_h1n1_risky                  388\n",
       "sick_from_h1n1_vacc            395\n",
       "is_seas_vacc_effective         462\n",
       "is_seas_risky                  514\n",
       "sick_from_seas_vacc            537\n",
       "age_bracket                      0\n",
       "qualification                 1407\n",
       "race                             0\n",
       "sex                              0\n",
       "income_level                  4423\n",
       "marital_status                1408\n",
       "housing_status                2042\n",
       "employment                    1463\n",
       "census_msa                       0\n",
       "no_of_adults                   249\n",
       "no_of_children                 249\n",
       "h1n1_vaccine                     0\n",
       "dtype: int64"
      ]
     },
     "execution_count": 4,
     "metadata": {},
     "output_type": "execute_result"
    }
   ],
   "source": [
    "df.isnull().sum()"
   ]
  },
  {
   "cell_type": "code",
   "execution_count": 5,
   "id": "197e7be4",
   "metadata": {},
   "outputs": [],
   "source": [
    "columns_with_na = [i for i in df.columns if df[i].isnull().sum()>1]"
   ]
  },
  {
   "cell_type": "code",
   "execution_count": 6,
   "id": "6b3f8386",
   "metadata": {
    "scrolled": false
   },
   "outputs": [
    {
     "name": "stdout",
     "output_type": "stream",
     "text": [
      "h1n1_worry 0.34 % missing values\n",
      "h1n1_awareness 0.43 % missing values\n",
      "antiviral_medication 0.27 % missing values\n",
      "contact_avoidance 0.78 % missing values\n",
      "bought_face_mask 0.07 % missing values\n",
      "wash_hands_frequently 0.16 % missing values\n",
      "avoid_large_gatherings 0.33 % missing values\n",
      "reduced_outside_home_cont 0.31 % missing values\n",
      "avoid_touch_face 0.48 % missing values\n",
      "dr_recc_h1n1_vacc 8.09 % missing values\n",
      "dr_recc_seasonal_vacc 8.09 % missing values\n",
      "chronic_medic_condition 3.64 % missing values\n",
      "cont_child_undr_6_mnths 3.07 % missing values\n",
      "is_health_worker 3.01 % missing values\n",
      "has_health_insur 45.96 % missing values\n",
      "is_h1n1_vacc_effective 1.46 % missing values\n",
      "is_h1n1_risky 1.45 % missing values\n",
      "sick_from_h1n1_vacc 1.48 % missing values\n",
      "is_seas_vacc_effective 1.73 % missing values\n",
      "is_seas_risky 1.92 % missing values\n",
      "sick_from_seas_vacc 2.01 % missing values\n",
      "qualification 5.27 % missing values\n",
      "income_level 16.56 % missing values\n",
      "marital_status 5.27 % missing values\n",
      "housing_status 7.65 % missing values\n",
      "employment 5.48 % missing values\n",
      "no_of_adults 0.93 % missing values\n",
      "no_of_children 0.93 % missing values\n"
     ]
    }
   ],
   "source": [
    "for i in columns_with_na:\n",
    "    print(i,round(df[i].isnull().sum()/len(df)*100,2), \"% missing values\")"
   ]
  },
  {
   "cell_type": "code",
   "execution_count": 7,
   "id": "d6666fc6",
   "metadata": {},
   "outputs": [],
   "source": [
    "df.drop(['has_health_insur'],axis=1,inplace=True)"
   ]
  },
  {
   "cell_type": "code",
   "execution_count": 8,
   "id": "86176fe6",
   "metadata": {},
   "outputs": [],
   "source": [
    "# unique_id has no significance\n",
    "df.drop(['unique_id'],axis=1,inplace=True)"
   ]
  },
  {
   "cell_type": "code",
   "execution_count": 9,
   "id": "5928f5c8",
   "metadata": {},
   "outputs": [
    {
     "name": "stdout",
     "output_type": "stream",
     "text": [
      "Number of numerical variables:  23\n"
     ]
    }
   ],
   "source": [
    "numerical_columns = [i for i in df.columns if df[i].dtypes != 'O']\n",
    "print('Number of numerical variables: ', len(numerical_columns))"
   ]
  },
  {
   "cell_type": "code",
   "execution_count": 10,
   "id": "c4b649dc",
   "metadata": {},
   "outputs": [],
   "source": [
    "# there are year or date column in this data"
   ]
  },
  {
   "cell_type": "code",
   "execution_count": 11,
   "id": "b39885d5",
   "metadata": {},
   "outputs": [
    {
     "data": {
      "text/plain": [
       "[]"
      ]
     },
     "execution_count": 11,
     "metadata": {},
     "output_type": "execute_result"
    }
   ],
   "source": [
    "year_feature = [i for i in numerical_columns if 'Yr' in i or 'Year' in i]\n",
    "year_feature"
   ]
  },
  {
   "cell_type": "code",
   "execution_count": 12,
   "id": "a45ec5de",
   "metadata": {},
   "outputs": [
    {
     "name": "stdout",
     "output_type": "stream",
     "text": [
      "categorical_features 9\n"
     ]
    }
   ],
   "source": [
    "# getting the categorical columns. \n",
    "categorical_features=[i for i in df.columns if df[i].dtypes=='O']\n",
    "print(\"categorical_features {}\".format(len(categorical_features)))"
   ]
  },
  {
   "cell_type": "code",
   "execution_count": 13,
   "id": "5bcd9e86",
   "metadata": {
    "scrolled": true
   },
   "outputs": [
    {
     "data": {
      "text/plain": [
       "['age_bracket',\n",
       " 'qualification',\n",
       " 'race',\n",
       " 'sex',\n",
       " 'income_level',\n",
       " 'marital_status',\n",
       " 'housing_status',\n",
       " 'employment',\n",
       " 'census_msa']"
      ]
     },
     "execution_count": 13,
     "metadata": {},
     "output_type": "execute_result"
    }
   ],
   "source": [
    "categorical_features"
   ]
  },
  {
   "cell_type": "code",
   "execution_count": 14,
   "id": "21a0ea8f",
   "metadata": {},
   "outputs": [
    {
     "data": {
      "text/plain": [
       "0    65+ Years\n",
       "Name: age_bracket, dtype: object"
      ]
     },
     "execution_count": 14,
     "metadata": {},
     "output_type": "execute_result"
    }
   ],
   "source": [
    "df[\"age_bracket\"].mode()"
   ]
  },
  {
   "cell_type": "code",
   "execution_count": 15,
   "id": "5ccec84b",
   "metadata": {},
   "outputs": [
    {
     "data": {
      "text/plain": [
       "0    College Graduate\n",
       "Name: qualification, dtype: object"
      ]
     },
     "execution_count": 15,
     "metadata": {},
     "output_type": "execute_result"
    }
   ],
   "source": [
    "df[\"qualification\"].mode()"
   ]
  },
  {
   "cell_type": "code",
   "execution_count": 16,
   "id": "5a4ffe1e",
   "metadata": {},
   "outputs": [
    {
     "data": {
      "text/plain": [
       "0    White\n",
       "Name: race, dtype: object"
      ]
     },
     "execution_count": 16,
     "metadata": {},
     "output_type": "execute_result"
    }
   ],
   "source": [
    "df[\"race\"].mode()"
   ]
  },
  {
   "cell_type": "code",
   "execution_count": 17,
   "id": "13408709",
   "metadata": {},
   "outputs": [
    {
     "data": {
      "text/plain": [
       "0    Female\n",
       "Name: sex, dtype: object"
      ]
     },
     "execution_count": 17,
     "metadata": {},
     "output_type": "execute_result"
    }
   ],
   "source": [
    "df[\"sex\"].mode()"
   ]
  },
  {
   "cell_type": "code",
   "execution_count": 18,
   "id": "ff6d42e0",
   "metadata": {},
   "outputs": [
    {
     "data": {
      "text/plain": [
       "0    <= $75,000, Above Poverty\n",
       "Name: income_level, dtype: object"
      ]
     },
     "execution_count": 18,
     "metadata": {},
     "output_type": "execute_result"
    }
   ],
   "source": [
    "df[\"income_level\"].mode()"
   ]
  },
  {
   "cell_type": "code",
   "execution_count": 19,
   "id": "033a6700",
   "metadata": {
    "scrolled": true
   },
   "outputs": [
    {
     "data": {
      "text/plain": [
       "0    Married\n",
       "Name: marital_status, dtype: object"
      ]
     },
     "execution_count": 19,
     "metadata": {},
     "output_type": "execute_result"
    }
   ],
   "source": [
    "df[\"marital_status\"].mode()"
   ]
  },
  {
   "cell_type": "code",
   "execution_count": 20,
   "id": "3b5ea459",
   "metadata": {},
   "outputs": [
    {
     "data": {
      "text/plain": [
       "0    Own\n",
       "Name: housing_status, dtype: object"
      ]
     },
     "execution_count": 20,
     "metadata": {},
     "output_type": "execute_result"
    }
   ],
   "source": [
    "df[\"housing_status\"].mode()"
   ]
  },
  {
   "cell_type": "code",
   "execution_count": 21,
   "id": "0857ff48",
   "metadata": {},
   "outputs": [
    {
     "data": {
      "text/plain": [
       "0    Employed\n",
       "Name: employment, dtype: object"
      ]
     },
     "execution_count": 21,
     "metadata": {},
     "output_type": "execute_result"
    }
   ],
   "source": [
    "df[\"employment\"].mode()"
   ]
  },
  {
   "cell_type": "code",
   "execution_count": 22,
   "id": "0d33e7d0",
   "metadata": {},
   "outputs": [
    {
     "data": {
      "text/plain": [
       "0    MSA, Not Principle  City\n",
       "Name: census_msa, dtype: object"
      ]
     },
     "execution_count": 22,
     "metadata": {},
     "output_type": "execute_result"
    }
   ],
   "source": [
    "df[\"census_msa\"].mode()"
   ]
  },
  {
   "cell_type": "markdown",
   "id": "3f1af852",
   "metadata": {},
   "source": [
    "qualification 5.27 % missing values\n",
    "\n",
    "housing_status 7.65 % missing values\n",
    "\n",
    "income_level 16.56 % missing values\n",
    "\n",
    "marital_status 5.27 % missing values\n",
    "\n",
    "employment 5.48 % missing values"
   ]
  },
  {
   "cell_type": "code",
   "execution_count": 23,
   "id": "55a1701f",
   "metadata": {},
   "outputs": [],
   "source": [
    "values = {\n",
    "    \"qualification\":\"College Graduate\",\n",
    "    \"housing_status\":\"Own\",\n",
    "    \"income_level\":\"<= $75,000, Above Poverty\",             # replacing the null values in categorical data with mode\n",
    "    \"marital_status\": \"Married\",\n",
    "    \"employment\": \"Employed\",}\n",
    "\n",
    "df.fillna(value=values, inplace=True)"
   ]
  },
  {
   "cell_type": "code",
   "execution_count": 24,
   "id": "107bc5e4",
   "metadata": {},
   "outputs": [],
   "source": [
    "columns_with_na_2 = [i for i in df.columns if df[i].isnull().sum()>1]"
   ]
  },
  {
   "cell_type": "code",
   "execution_count": 25,
   "id": "6056d997",
   "metadata": {},
   "outputs": [
    {
     "name": "stdout",
     "output_type": "stream",
     "text": [
      "h1n1_worry 0.34 % missing values\n",
      "h1n1_awareness 0.43 % missing values\n",
      "antiviral_medication 0.27 % missing values\n",
      "contact_avoidance 0.78 % missing values\n",
      "bought_face_mask 0.07 % missing values\n",
      "wash_hands_frequently 0.16 % missing values\n",
      "avoid_large_gatherings 0.33 % missing values\n",
      "reduced_outside_home_cont 0.31 % missing values\n",
      "avoid_touch_face 0.48 % missing values\n",
      "dr_recc_h1n1_vacc 8.09 % missing values\n",
      "dr_recc_seasonal_vacc 8.09 % missing values\n",
      "chronic_medic_condition 3.64 % missing values\n",
      "cont_child_undr_6_mnths 3.07 % missing values\n",
      "is_health_worker 3.01 % missing values\n",
      "is_h1n1_vacc_effective 1.46 % missing values\n",
      "is_h1n1_risky 1.45 % missing values\n",
      "sick_from_h1n1_vacc 1.48 % missing values\n",
      "is_seas_vacc_effective 1.73 % missing values\n",
      "is_seas_risky 1.92 % missing values\n",
      "sick_from_seas_vacc 2.01 % missing values\n",
      "no_of_adults 0.93 % missing values\n",
      "no_of_children 0.93 % missing values\n"
     ]
    }
   ],
   "source": [
    "for i in columns_with_na_2:\n",
    "    print(i,round(df[i].isnull().sum()/len(df)*100,2), \"% missing values\")"
   ]
  },
  {
   "cell_type": "code",
   "execution_count": 26,
   "id": "8d40767c",
   "metadata": {},
   "outputs": [
    {
     "data": {
      "text/plain": [
       "0    2.0\n",
       "Name: h1n1_worry, dtype: float64"
      ]
     },
     "execution_count": 26,
     "metadata": {},
     "output_type": "execute_result"
    }
   ],
   "source": [
    "df[\"h1n1_worry\"].mode()"
   ]
  },
  {
   "cell_type": "code",
   "execution_count": 27,
   "id": "aa8dba0a",
   "metadata": {},
   "outputs": [
    {
     "data": {
      "text/plain": [
       "0    1.0\n",
       "Name: h1n1_awareness, dtype: float64"
      ]
     },
     "execution_count": 27,
     "metadata": {},
     "output_type": "execute_result"
    }
   ],
   "source": [
    "df[\"h1n1_awareness\"].mode()"
   ]
  },
  {
   "cell_type": "code",
   "execution_count": 28,
   "id": "b6c7d5dc",
   "metadata": {},
   "outputs": [
    {
     "data": {
      "text/plain": [
       "0    0.0\n",
       "Name: antiviral_medication, dtype: float64"
      ]
     },
     "execution_count": 28,
     "metadata": {},
     "output_type": "execute_result"
    }
   ],
   "source": [
    "df[\"antiviral_medication\"].mode()"
   ]
  },
  {
   "cell_type": "code",
   "execution_count": 29,
   "id": "343f85ae",
   "metadata": {},
   "outputs": [
    {
     "data": {
      "text/plain": [
       "0    1.0\n",
       "Name: contact_avoidance, dtype: float64"
      ]
     },
     "execution_count": 29,
     "metadata": {},
     "output_type": "execute_result"
    }
   ],
   "source": [
    "df[\"contact_avoidance\"].mode()"
   ]
  },
  {
   "cell_type": "code",
   "execution_count": 30,
   "id": "485270f7",
   "metadata": {},
   "outputs": [
    {
     "data": {
      "text/plain": [
       "0    0.0\n",
       "Name: bought_face_mask, dtype: float64"
      ]
     },
     "execution_count": 30,
     "metadata": {},
     "output_type": "execute_result"
    }
   ],
   "source": [
    "df[\"bought_face_mask\"].mode()"
   ]
  },
  {
   "cell_type": "code",
   "execution_count": 31,
   "id": "8a9bb139",
   "metadata": {},
   "outputs": [
    {
     "data": {
      "text/plain": [
       "0    1.0\n",
       "Name: wash_hands_frequently, dtype: float64"
      ]
     },
     "execution_count": 31,
     "metadata": {},
     "output_type": "execute_result"
    }
   ],
   "source": [
    "df[\"wash_hands_frequently\"].mode()"
   ]
  },
  {
   "cell_type": "code",
   "execution_count": 32,
   "id": "fc23ef8f",
   "metadata": {},
   "outputs": [
    {
     "data": {
      "text/plain": [
       "0    0.0\n",
       "Name: avoid_large_gatherings, dtype: float64"
      ]
     },
     "execution_count": 32,
     "metadata": {},
     "output_type": "execute_result"
    }
   ],
   "source": [
    "df[\"avoid_large_gatherings\"].mode()"
   ]
  },
  {
   "cell_type": "code",
   "execution_count": 33,
   "id": "c9925b0b",
   "metadata": {},
   "outputs": [
    {
     "data": {
      "text/plain": [
       "0    0.0\n",
       "Name: reduced_outside_home_cont, dtype: float64"
      ]
     },
     "execution_count": 33,
     "metadata": {},
     "output_type": "execute_result"
    }
   ],
   "source": [
    "df[\"reduced_outside_home_cont\"].mode()"
   ]
  },
  {
   "cell_type": "code",
   "execution_count": 34,
   "id": "e872e9a8",
   "metadata": {},
   "outputs": [
    {
     "data": {
      "text/plain": [
       "0    1.0\n",
       "Name: avoid_touch_face, dtype: float64"
      ]
     },
     "execution_count": 34,
     "metadata": {},
     "output_type": "execute_result"
    }
   ],
   "source": [
    "df[\"avoid_touch_face\"].mode()"
   ]
  },
  {
   "cell_type": "code",
   "execution_count": 35,
   "id": "195d4d9a",
   "metadata": {},
   "outputs": [
    {
     "data": {
      "text/plain": [
       "0    0.0\n",
       "Name: dr_recc_h1n1_vacc, dtype: float64"
      ]
     },
     "execution_count": 35,
     "metadata": {},
     "output_type": "execute_result"
    }
   ],
   "source": [
    "df[\"dr_recc_h1n1_vacc\"].mode()"
   ]
  },
  {
   "cell_type": "code",
   "execution_count": 36,
   "id": "d8903e4b",
   "metadata": {},
   "outputs": [
    {
     "data": {
      "text/plain": [
       "0    0.0\n",
       "Name: dr_recc_seasonal_vacc, dtype: float64"
      ]
     },
     "execution_count": 36,
     "metadata": {},
     "output_type": "execute_result"
    }
   ],
   "source": [
    "df[\"dr_recc_seasonal_vacc\"].mode()"
   ]
  },
  {
   "cell_type": "code",
   "execution_count": 37,
   "id": "b980e4ca",
   "metadata": {},
   "outputs": [
    {
     "data": {
      "text/plain": [
       "0    0.0\n",
       "Name: chronic_medic_condition, dtype: float64"
      ]
     },
     "execution_count": 37,
     "metadata": {},
     "output_type": "execute_result"
    }
   ],
   "source": [
    "df[\"chronic_medic_condition\"].mode()"
   ]
  },
  {
   "cell_type": "code",
   "execution_count": 38,
   "id": "522986fd",
   "metadata": {},
   "outputs": [
    {
     "data": {
      "text/plain": [
       "0    0.0\n",
       "Name: cont_child_undr_6_mnths, dtype: float64"
      ]
     },
     "execution_count": 38,
     "metadata": {},
     "output_type": "execute_result"
    }
   ],
   "source": [
    "df[\"cont_child_undr_6_mnths\"].mode()"
   ]
  },
  {
   "cell_type": "code",
   "execution_count": 39,
   "id": "4236338d",
   "metadata": {},
   "outputs": [
    {
     "data": {
      "text/plain": [
       "0    0.0\n",
       "Name: is_health_worker, dtype: float64"
      ]
     },
     "execution_count": 39,
     "metadata": {},
     "output_type": "execute_result"
    }
   ],
   "source": [
    "df[\"is_health_worker\"].mode()"
   ]
  },
  {
   "cell_type": "code",
   "execution_count": 40,
   "id": "33258735",
   "metadata": {},
   "outputs": [
    {
     "data": {
      "text/plain": [
       "0    4.0\n",
       "Name: is_h1n1_vacc_effective, dtype: float64"
      ]
     },
     "execution_count": 40,
     "metadata": {},
     "output_type": "execute_result"
    }
   ],
   "source": [
    "df[\"is_h1n1_vacc_effective\"].mode()"
   ]
  },
  {
   "cell_type": "code",
   "execution_count": 41,
   "id": "b2e1f87a",
   "metadata": {},
   "outputs": [
    {
     "data": {
      "text/plain": [
       "0    2.0\n",
       "Name: is_h1n1_risky, dtype: float64"
      ]
     },
     "execution_count": 41,
     "metadata": {},
     "output_type": "execute_result"
    }
   ],
   "source": [
    "df[\"is_h1n1_risky\"].mode()"
   ]
  },
  {
   "cell_type": "code",
   "execution_count": 42,
   "id": "fd52f9e0",
   "metadata": {},
   "outputs": [
    {
     "data": {
      "text/plain": [
       "0    2.0\n",
       "Name: sick_from_h1n1_vacc, dtype: float64"
      ]
     },
     "execution_count": 42,
     "metadata": {},
     "output_type": "execute_result"
    }
   ],
   "source": [
    "df[\"sick_from_h1n1_vacc\"].mode()"
   ]
  },
  {
   "cell_type": "code",
   "execution_count": 43,
   "id": "ec12a0cc",
   "metadata": {},
   "outputs": [
    {
     "data": {
      "text/plain": [
       "0    4.0\n",
       "Name: is_seas_vacc_effective, dtype: float64"
      ]
     },
     "execution_count": 43,
     "metadata": {},
     "output_type": "execute_result"
    }
   ],
   "source": [
    "df[\"is_seas_vacc_effective\"].mode()"
   ]
  },
  {
   "cell_type": "code",
   "execution_count": 44,
   "id": "7c2bff2e",
   "metadata": {},
   "outputs": [
    {
     "data": {
      "text/plain": [
       "0    2.0\n",
       "Name: is_seas_risky, dtype: float64"
      ]
     },
     "execution_count": 44,
     "metadata": {},
     "output_type": "execute_result"
    }
   ],
   "source": [
    "df[\"is_seas_risky\"].mode()"
   ]
  },
  {
   "cell_type": "code",
   "execution_count": 45,
   "id": "9a1e0746",
   "metadata": {},
   "outputs": [
    {
     "data": {
      "text/plain": [
       "0    1.0\n",
       "Name: sick_from_seas_vacc, dtype: float64"
      ]
     },
     "execution_count": 45,
     "metadata": {},
     "output_type": "execute_result"
    }
   ],
   "source": [
    "df[\"sick_from_seas_vacc\"].mode()"
   ]
  },
  {
   "cell_type": "code",
   "execution_count": 46,
   "id": "9d668b7b",
   "metadata": {},
   "outputs": [
    {
     "data": {
      "text/plain": [
       "0    1.0\n",
       "Name: no_of_adults, dtype: float64"
      ]
     },
     "execution_count": 46,
     "metadata": {},
     "output_type": "execute_result"
    }
   ],
   "source": [
    "df[\"no_of_adults\"].mode()"
   ]
  },
  {
   "cell_type": "code",
   "execution_count": 47,
   "id": "46f8aae1",
   "metadata": {},
   "outputs": [
    {
     "data": {
      "text/plain": [
       "0    0.0\n",
       "Name: no_of_children, dtype: float64"
      ]
     },
     "execution_count": 47,
     "metadata": {},
     "output_type": "execute_result"
    }
   ],
   "source": [
    "df[\"no_of_children\"].mode()"
   ]
  },
  {
   "cell_type": "code",
   "execution_count": 48,
   "id": "3f5dc066",
   "metadata": {},
   "outputs": [],
   "source": [
    "values = {\n",
    "    \"h1n1_worry\":2.0, \n",
    "\"h1n1_awareness\":1.0, \n",
    "\"antiviral_medication\":0.0,\n",
    "\"contact_avoidance\":1.0, \n",
    "\"bought_face_mask\":0.0, \n",
    "\"wash_hands_frequently\":1.0,\n",
    "\"avoid_large_gatherings\":0.0,\n",
    "\"reduced_outside_home_cont\":0.0,\n",
    "\"avoid_touch_face\":1.0,\n",
    "\"dr_recc_h1n1_vacc\":0.0,\n",
    "\"dr_recc_seasonal_vacc\":0.0,\n",
    "\"chronic_medic_condition\" :0.0,\n",
    "\"cont_child_undr_6_mnths\" :0.0,\n",
    "\"is_health_worker\" :0.0,\n",
    "\"is_h1n1_vacc_effective\":4.0,\n",
    "\"is_h1n1_risky\" :2.0,\n",
    "\"sick_from_h1n1_vacc\":2.0,\n",
    "\"is_seas_vacc_effective\" :4.0,\n",
    "\"is_seas_risky\":2.0,\n",
    "\"sick_from_seas_vacc\":1.0,\n",
    "\"no_of_adults\":1.0,\n",
    "\"no_of_children\":0.0,}\n",
    "\n",
    "df.fillna(value=values, inplace=True)"
   ]
  },
  {
   "cell_type": "code",
   "execution_count": 49,
   "id": "60bc3988",
   "metadata": {},
   "outputs": [],
   "source": [
    "#removed missing values becoz it contained only #5% of remaining values\n",
    "\n",
    "df.dropna(axis=0, how='any', thresh=None, subset=None, inplace=True)  "
   ]
  },
  {
   "cell_type": "code",
   "execution_count": 50,
   "id": "f07a7ff9",
   "metadata": {},
   "outputs": [
    {
     "name": "stdout",
     "output_type": "stream",
     "text": [
      "<class 'pandas.core.frame.DataFrame'>\n",
      "RangeIndex: 26707 entries, 0 to 26706\n",
      "Data columns (total 32 columns):\n",
      " #   Column                     Non-Null Count  Dtype  \n",
      "---  ------                     --------------  -----  \n",
      " 0   h1n1_worry                 26707 non-null  float64\n",
      " 1   h1n1_awareness             26707 non-null  float64\n",
      " 2   antiviral_medication       26707 non-null  float64\n",
      " 3   contact_avoidance          26707 non-null  float64\n",
      " 4   bought_face_mask           26707 non-null  float64\n",
      " 5   wash_hands_frequently      26707 non-null  float64\n",
      " 6   avoid_large_gatherings     26707 non-null  float64\n",
      " 7   reduced_outside_home_cont  26707 non-null  float64\n",
      " 8   avoid_touch_face           26707 non-null  float64\n",
      " 9   dr_recc_h1n1_vacc          26707 non-null  float64\n",
      " 10  dr_recc_seasonal_vacc      26707 non-null  float64\n",
      " 11  chronic_medic_condition    26707 non-null  float64\n",
      " 12  cont_child_undr_6_mnths    26707 non-null  float64\n",
      " 13  is_health_worker           26707 non-null  float64\n",
      " 14  is_h1n1_vacc_effective     26707 non-null  float64\n",
      " 15  is_h1n1_risky              26707 non-null  float64\n",
      " 16  sick_from_h1n1_vacc        26707 non-null  float64\n",
      " 17  is_seas_vacc_effective     26707 non-null  float64\n",
      " 18  is_seas_risky              26707 non-null  float64\n",
      " 19  sick_from_seas_vacc        26707 non-null  float64\n",
      " 20  age_bracket                26707 non-null  object \n",
      " 21  qualification              26707 non-null  object \n",
      " 22  race                       26707 non-null  object \n",
      " 23  sex                        26707 non-null  object \n",
      " 24  income_level               26707 non-null  object \n",
      " 25  marital_status             26707 non-null  object \n",
      " 26  housing_status             26707 non-null  object \n",
      " 27  employment                 26707 non-null  object \n",
      " 28  census_msa                 26707 non-null  object \n",
      " 29  no_of_adults               26707 non-null  float64\n",
      " 30  no_of_children             26707 non-null  float64\n",
      " 31  h1n1_vaccine               26707 non-null  int64  \n",
      "dtypes: float64(22), int64(1), object(9)\n",
      "memory usage: 6.5+ MB\n"
     ]
    }
   ],
   "source": [
    "df.info()"
   ]
  },
  {
   "cell_type": "code",
   "execution_count": 61,
   "id": "5cd9758c",
   "metadata": {},
   "outputs": [],
   "source": [
    "df[\"h1n1_worry\"]=df[\"h1n1_worry\"].astype('object')"
   ]
  },
  {
   "cell_type": "code",
   "execution_count": 62,
   "id": "988137fe",
   "metadata": {},
   "outputs": [
    {
     "data": {
      "text/plain": [
       "dtype('O')"
      ]
     },
     "execution_count": 62,
     "metadata": {},
     "output_type": "execute_result"
    }
   ],
   "source": [
    "df[\"h1n1_worry\"].dtypes"
   ]
  },
  {
   "cell_type": "code",
   "execution_count": 63,
   "id": "84d03de0",
   "metadata": {},
   "outputs": [],
   "source": [
    "df[\"h1n1_vaccine\"]=df[\"h1n1_vaccine\"].astype('object')"
   ]
  },
  {
   "cell_type": "code",
   "execution_count": 64,
   "id": "6d2824a6",
   "metadata": {},
   "outputs": [
    {
     "data": {
      "text/plain": [
       "dtype('O')"
      ]
     },
     "execution_count": 64,
     "metadata": {},
     "output_type": "execute_result"
    }
   ],
   "source": [
    "df[\"h1n1_vaccine\"].dtypes"
   ]
  },
  {
   "cell_type": "code",
   "execution_count": 51,
   "id": "76144cdf",
   "metadata": {},
   "outputs": [
    {
     "data": {
      "text/html": [
       "<div>\n",
       "<style scoped>\n",
       "    .dataframe tbody tr th:only-of-type {\n",
       "        vertical-align: middle;\n",
       "    }\n",
       "\n",
       "    .dataframe tbody tr th {\n",
       "        vertical-align: top;\n",
       "    }\n",
       "\n",
       "    .dataframe thead th {\n",
       "        text-align: right;\n",
       "    }\n",
       "</style>\n",
       "<table border=\"1\" class=\"dataframe\">\n",
       "  <thead>\n",
       "    <tr style=\"text-align: right;\">\n",
       "      <th></th>\n",
       "      <th>h1n1_worry</th>\n",
       "      <th>h1n1_awareness</th>\n",
       "      <th>antiviral_medication</th>\n",
       "      <th>contact_avoidance</th>\n",
       "      <th>bought_face_mask</th>\n",
       "      <th>wash_hands_frequently</th>\n",
       "      <th>avoid_large_gatherings</th>\n",
       "      <th>reduced_outside_home_cont</th>\n",
       "      <th>avoid_touch_face</th>\n",
       "      <th>dr_recc_h1n1_vacc</th>\n",
       "      <th>dr_recc_seasonal_vacc</th>\n",
       "      <th>chronic_medic_condition</th>\n",
       "      <th>cont_child_undr_6_mnths</th>\n",
       "      <th>is_health_worker</th>\n",
       "      <th>is_h1n1_vacc_effective</th>\n",
       "      <th>is_h1n1_risky</th>\n",
       "      <th>sick_from_h1n1_vacc</th>\n",
       "      <th>is_seas_vacc_effective</th>\n",
       "      <th>is_seas_risky</th>\n",
       "      <th>sick_from_seas_vacc</th>\n",
       "      <th>age_bracket</th>\n",
       "      <th>qualification</th>\n",
       "      <th>race</th>\n",
       "      <th>sex</th>\n",
       "      <th>income_level</th>\n",
       "      <th>marital_status</th>\n",
       "      <th>housing_status</th>\n",
       "      <th>employment</th>\n",
       "      <th>census_msa</th>\n",
       "      <th>no_of_adults</th>\n",
       "      <th>no_of_children</th>\n",
       "      <th>h1n1_vaccine</th>\n",
       "    </tr>\n",
       "  </thead>\n",
       "  <tbody>\n",
       "    <tr>\n",
       "      <th>0</th>\n",
       "      <td>1.0</td>\n",
       "      <td>0.0</td>\n",
       "      <td>0.0</td>\n",
       "      <td>0.0</td>\n",
       "      <td>0.0</td>\n",
       "      <td>0.0</td>\n",
       "      <td>0.0</td>\n",
       "      <td>1.0</td>\n",
       "      <td>1.0</td>\n",
       "      <td>0.0</td>\n",
       "      <td>0.0</td>\n",
       "      <td>0.0</td>\n",
       "      <td>0.0</td>\n",
       "      <td>0.0</td>\n",
       "      <td>3.0</td>\n",
       "      <td>1.0</td>\n",
       "      <td>2.0</td>\n",
       "      <td>2.0</td>\n",
       "      <td>1.0</td>\n",
       "      <td>2.0</td>\n",
       "      <td>55 - 64 Years</td>\n",
       "      <td>&lt; 12 Years</td>\n",
       "      <td>White</td>\n",
       "      <td>Female</td>\n",
       "      <td>Below Poverty</td>\n",
       "      <td>Not Married</td>\n",
       "      <td>Own</td>\n",
       "      <td>Not in Labor Force</td>\n",
       "      <td>Non-MSA</td>\n",
       "      <td>0.0</td>\n",
       "      <td>0.0</td>\n",
       "      <td>0</td>\n",
       "    </tr>\n",
       "    <tr>\n",
       "      <th>1</th>\n",
       "      <td>3.0</td>\n",
       "      <td>2.0</td>\n",
       "      <td>0.0</td>\n",
       "      <td>1.0</td>\n",
       "      <td>0.0</td>\n",
       "      <td>1.0</td>\n",
       "      <td>0.0</td>\n",
       "      <td>1.0</td>\n",
       "      <td>1.0</td>\n",
       "      <td>0.0</td>\n",
       "      <td>0.0</td>\n",
       "      <td>0.0</td>\n",
       "      <td>0.0</td>\n",
       "      <td>0.0</td>\n",
       "      <td>5.0</td>\n",
       "      <td>4.0</td>\n",
       "      <td>4.0</td>\n",
       "      <td>4.0</td>\n",
       "      <td>2.0</td>\n",
       "      <td>4.0</td>\n",
       "      <td>35 - 44 Years</td>\n",
       "      <td>12 Years</td>\n",
       "      <td>White</td>\n",
       "      <td>Male</td>\n",
       "      <td>Below Poverty</td>\n",
       "      <td>Not Married</td>\n",
       "      <td>Rent</td>\n",
       "      <td>Employed</td>\n",
       "      <td>MSA, Not Principle  City</td>\n",
       "      <td>0.0</td>\n",
       "      <td>0.0</td>\n",
       "      <td>0</td>\n",
       "    </tr>\n",
       "    <tr>\n",
       "      <th>2</th>\n",
       "      <td>1.0</td>\n",
       "      <td>1.0</td>\n",
       "      <td>0.0</td>\n",
       "      <td>1.0</td>\n",
       "      <td>0.0</td>\n",
       "      <td>0.0</td>\n",
       "      <td>0.0</td>\n",
       "      <td>0.0</td>\n",
       "      <td>0.0</td>\n",
       "      <td>0.0</td>\n",
       "      <td>0.0</td>\n",
       "      <td>1.0</td>\n",
       "      <td>0.0</td>\n",
       "      <td>0.0</td>\n",
       "      <td>3.0</td>\n",
       "      <td>1.0</td>\n",
       "      <td>1.0</td>\n",
       "      <td>4.0</td>\n",
       "      <td>1.0</td>\n",
       "      <td>2.0</td>\n",
       "      <td>18 - 34 Years</td>\n",
       "      <td>College Graduate</td>\n",
       "      <td>White</td>\n",
       "      <td>Male</td>\n",
       "      <td>&lt;= $75,000, Above Poverty</td>\n",
       "      <td>Not Married</td>\n",
       "      <td>Own</td>\n",
       "      <td>Employed</td>\n",
       "      <td>MSA, Not Principle  City</td>\n",
       "      <td>2.0</td>\n",
       "      <td>0.0</td>\n",
       "      <td>0</td>\n",
       "    </tr>\n",
       "    <tr>\n",
       "      <th>3</th>\n",
       "      <td>1.0</td>\n",
       "      <td>1.0</td>\n",
       "      <td>0.0</td>\n",
       "      <td>1.0</td>\n",
       "      <td>0.0</td>\n",
       "      <td>1.0</td>\n",
       "      <td>1.0</td>\n",
       "      <td>0.0</td>\n",
       "      <td>0.0</td>\n",
       "      <td>0.0</td>\n",
       "      <td>1.0</td>\n",
       "      <td>1.0</td>\n",
       "      <td>0.0</td>\n",
       "      <td>0.0</td>\n",
       "      <td>3.0</td>\n",
       "      <td>3.0</td>\n",
       "      <td>5.0</td>\n",
       "      <td>5.0</td>\n",
       "      <td>4.0</td>\n",
       "      <td>1.0</td>\n",
       "      <td>65+ Years</td>\n",
       "      <td>12 Years</td>\n",
       "      <td>White</td>\n",
       "      <td>Female</td>\n",
       "      <td>Below Poverty</td>\n",
       "      <td>Not Married</td>\n",
       "      <td>Rent</td>\n",
       "      <td>Not in Labor Force</td>\n",
       "      <td>MSA, Principle City</td>\n",
       "      <td>0.0</td>\n",
       "      <td>0.0</td>\n",
       "      <td>0</td>\n",
       "    </tr>\n",
       "    <tr>\n",
       "      <th>4</th>\n",
       "      <td>2.0</td>\n",
       "      <td>1.0</td>\n",
       "      <td>0.0</td>\n",
       "      <td>1.0</td>\n",
       "      <td>0.0</td>\n",
       "      <td>1.0</td>\n",
       "      <td>1.0</td>\n",
       "      <td>0.0</td>\n",
       "      <td>1.0</td>\n",
       "      <td>0.0</td>\n",
       "      <td>0.0</td>\n",
       "      <td>0.0</td>\n",
       "      <td>0.0</td>\n",
       "      <td>0.0</td>\n",
       "      <td>3.0</td>\n",
       "      <td>3.0</td>\n",
       "      <td>2.0</td>\n",
       "      <td>3.0</td>\n",
       "      <td>1.0</td>\n",
       "      <td>4.0</td>\n",
       "      <td>45 - 54 Years</td>\n",
       "      <td>Some College</td>\n",
       "      <td>White</td>\n",
       "      <td>Female</td>\n",
       "      <td>&lt;= $75,000, Above Poverty</td>\n",
       "      <td>Married</td>\n",
       "      <td>Own</td>\n",
       "      <td>Employed</td>\n",
       "      <td>MSA, Not Principle  City</td>\n",
       "      <td>1.0</td>\n",
       "      <td>0.0</td>\n",
       "      <td>0</td>\n",
       "    </tr>\n",
       "    <tr>\n",
       "      <th>...</th>\n",
       "      <td>...</td>\n",
       "      <td>...</td>\n",
       "      <td>...</td>\n",
       "      <td>...</td>\n",
       "      <td>...</td>\n",
       "      <td>...</td>\n",
       "      <td>...</td>\n",
       "      <td>...</td>\n",
       "      <td>...</td>\n",
       "      <td>...</td>\n",
       "      <td>...</td>\n",
       "      <td>...</td>\n",
       "      <td>...</td>\n",
       "      <td>...</td>\n",
       "      <td>...</td>\n",
       "      <td>...</td>\n",
       "      <td>...</td>\n",
       "      <td>...</td>\n",
       "      <td>...</td>\n",
       "      <td>...</td>\n",
       "      <td>...</td>\n",
       "      <td>...</td>\n",
       "      <td>...</td>\n",
       "      <td>...</td>\n",
       "      <td>...</td>\n",
       "      <td>...</td>\n",
       "      <td>...</td>\n",
       "      <td>...</td>\n",
       "      <td>...</td>\n",
       "      <td>...</td>\n",
       "      <td>...</td>\n",
       "      <td>...</td>\n",
       "    </tr>\n",
       "    <tr>\n",
       "      <th>26702</th>\n",
       "      <td>2.0</td>\n",
       "      <td>0.0</td>\n",
       "      <td>0.0</td>\n",
       "      <td>1.0</td>\n",
       "      <td>0.0</td>\n",
       "      <td>0.0</td>\n",
       "      <td>0.0</td>\n",
       "      <td>1.0</td>\n",
       "      <td>0.0</td>\n",
       "      <td>0.0</td>\n",
       "      <td>0.0</td>\n",
       "      <td>0.0</td>\n",
       "      <td>0.0</td>\n",
       "      <td>0.0</td>\n",
       "      <td>3.0</td>\n",
       "      <td>1.0</td>\n",
       "      <td>1.0</td>\n",
       "      <td>5.0</td>\n",
       "      <td>2.0</td>\n",
       "      <td>2.0</td>\n",
       "      <td>65+ Years</td>\n",
       "      <td>Some College</td>\n",
       "      <td>White</td>\n",
       "      <td>Female</td>\n",
       "      <td>&lt;= $75,000, Above Poverty</td>\n",
       "      <td>Not Married</td>\n",
       "      <td>Own</td>\n",
       "      <td>Not in Labor Force</td>\n",
       "      <td>Non-MSA</td>\n",
       "      <td>0.0</td>\n",
       "      <td>0.0</td>\n",
       "      <td>0</td>\n",
       "    </tr>\n",
       "    <tr>\n",
       "      <th>26703</th>\n",
       "      <td>1.0</td>\n",
       "      <td>2.0</td>\n",
       "      <td>0.0</td>\n",
       "      <td>1.0</td>\n",
       "      <td>0.0</td>\n",
       "      <td>1.0</td>\n",
       "      <td>0.0</td>\n",
       "      <td>0.0</td>\n",
       "      <td>0.0</td>\n",
       "      <td>1.0</td>\n",
       "      <td>1.0</td>\n",
       "      <td>0.0</td>\n",
       "      <td>0.0</td>\n",
       "      <td>1.0</td>\n",
       "      <td>4.0</td>\n",
       "      <td>2.0</td>\n",
       "      <td>2.0</td>\n",
       "      <td>5.0</td>\n",
       "      <td>1.0</td>\n",
       "      <td>1.0</td>\n",
       "      <td>18 - 34 Years</td>\n",
       "      <td>College Graduate</td>\n",
       "      <td>White</td>\n",
       "      <td>Male</td>\n",
       "      <td>&lt;= $75,000, Above Poverty</td>\n",
       "      <td>Not Married</td>\n",
       "      <td>Rent</td>\n",
       "      <td>Employed</td>\n",
       "      <td>MSA, Principle City</td>\n",
       "      <td>1.0</td>\n",
       "      <td>0.0</td>\n",
       "      <td>0</td>\n",
       "    </tr>\n",
       "    <tr>\n",
       "      <th>26704</th>\n",
       "      <td>2.0</td>\n",
       "      <td>2.0</td>\n",
       "      <td>0.0</td>\n",
       "      <td>1.0</td>\n",
       "      <td>1.0</td>\n",
       "      <td>1.0</td>\n",
       "      <td>1.0</td>\n",
       "      <td>0.0</td>\n",
       "      <td>1.0</td>\n",
       "      <td>0.0</td>\n",
       "      <td>0.0</td>\n",
       "      <td>0.0</td>\n",
       "      <td>0.0</td>\n",
       "      <td>0.0</td>\n",
       "      <td>4.0</td>\n",
       "      <td>4.0</td>\n",
       "      <td>2.0</td>\n",
       "      <td>5.0</td>\n",
       "      <td>4.0</td>\n",
       "      <td>2.0</td>\n",
       "      <td>55 - 64 Years</td>\n",
       "      <td>Some College</td>\n",
       "      <td>White</td>\n",
       "      <td>Female</td>\n",
       "      <td>&lt;= $75,000, Above Poverty</td>\n",
       "      <td>Not Married</td>\n",
       "      <td>Own</td>\n",
       "      <td>Employed</td>\n",
       "      <td>MSA, Not Principle  City</td>\n",
       "      <td>0.0</td>\n",
       "      <td>0.0</td>\n",
       "      <td>0</td>\n",
       "    </tr>\n",
       "    <tr>\n",
       "      <th>26705</th>\n",
       "      <td>1.0</td>\n",
       "      <td>1.0</td>\n",
       "      <td>0.0</td>\n",
       "      <td>0.0</td>\n",
       "      <td>0.0</td>\n",
       "      <td>0.0</td>\n",
       "      <td>0.0</td>\n",
       "      <td>0.0</td>\n",
       "      <td>1.0</td>\n",
       "      <td>0.0</td>\n",
       "      <td>0.0</td>\n",
       "      <td>0.0</td>\n",
       "      <td>0.0</td>\n",
       "      <td>0.0</td>\n",
       "      <td>3.0</td>\n",
       "      <td>1.0</td>\n",
       "      <td>2.0</td>\n",
       "      <td>2.0</td>\n",
       "      <td>1.0</td>\n",
       "      <td>2.0</td>\n",
       "      <td>18 - 34 Years</td>\n",
       "      <td>Some College</td>\n",
       "      <td>Hispanic</td>\n",
       "      <td>Female</td>\n",
       "      <td>&lt;= $75,000, Above Poverty</td>\n",
       "      <td>Married</td>\n",
       "      <td>Rent</td>\n",
       "      <td>Employed</td>\n",
       "      <td>Non-MSA</td>\n",
       "      <td>1.0</td>\n",
       "      <td>0.0</td>\n",
       "      <td>0</td>\n",
       "    </tr>\n",
       "    <tr>\n",
       "      <th>26706</th>\n",
       "      <td>0.0</td>\n",
       "      <td>0.0</td>\n",
       "      <td>0.0</td>\n",
       "      <td>1.0</td>\n",
       "      <td>0.0</td>\n",
       "      <td>0.0</td>\n",
       "      <td>0.0</td>\n",
       "      <td>0.0</td>\n",
       "      <td>0.0</td>\n",
       "      <td>0.0</td>\n",
       "      <td>0.0</td>\n",
       "      <td>0.0</td>\n",
       "      <td>0.0</td>\n",
       "      <td>0.0</td>\n",
       "      <td>5.0</td>\n",
       "      <td>1.0</td>\n",
       "      <td>1.0</td>\n",
       "      <td>5.0</td>\n",
       "      <td>1.0</td>\n",
       "      <td>1.0</td>\n",
       "      <td>65+ Years</td>\n",
       "      <td>Some College</td>\n",
       "      <td>White</td>\n",
       "      <td>Male</td>\n",
       "      <td>&lt;= $75,000, Above Poverty</td>\n",
       "      <td>Married</td>\n",
       "      <td>Own</td>\n",
       "      <td>Not in Labor Force</td>\n",
       "      <td>MSA, Principle City</td>\n",
       "      <td>1.0</td>\n",
       "      <td>0.0</td>\n",
       "      <td>0</td>\n",
       "    </tr>\n",
       "  </tbody>\n",
       "</table>\n",
       "<p>26707 rows × 32 columns</p>\n",
       "</div>"
      ],
      "text/plain": [
       "       h1n1_worry  h1n1_awareness  antiviral_medication  contact_avoidance  \\\n",
       "0             1.0             0.0                   0.0                0.0   \n",
       "1             3.0             2.0                   0.0                1.0   \n",
       "2             1.0             1.0                   0.0                1.0   \n",
       "3             1.0             1.0                   0.0                1.0   \n",
       "4             2.0             1.0                   0.0                1.0   \n",
       "...           ...             ...                   ...                ...   \n",
       "26702         2.0             0.0                   0.0                1.0   \n",
       "26703         1.0             2.0                   0.0                1.0   \n",
       "26704         2.0             2.0                   0.0                1.0   \n",
       "26705         1.0             1.0                   0.0                0.0   \n",
       "26706         0.0             0.0                   0.0                1.0   \n",
       "\n",
       "       bought_face_mask  wash_hands_frequently  avoid_large_gatherings  \\\n",
       "0                   0.0                    0.0                     0.0   \n",
       "1                   0.0                    1.0                     0.0   \n",
       "2                   0.0                    0.0                     0.0   \n",
       "3                   0.0                    1.0                     1.0   \n",
       "4                   0.0                    1.0                     1.0   \n",
       "...                 ...                    ...                     ...   \n",
       "26702               0.0                    0.0                     0.0   \n",
       "26703               0.0                    1.0                     0.0   \n",
       "26704               1.0                    1.0                     1.0   \n",
       "26705               0.0                    0.0                     0.0   \n",
       "26706               0.0                    0.0                     0.0   \n",
       "\n",
       "       reduced_outside_home_cont  avoid_touch_face  dr_recc_h1n1_vacc  \\\n",
       "0                            1.0               1.0                0.0   \n",
       "1                            1.0               1.0                0.0   \n",
       "2                            0.0               0.0                0.0   \n",
       "3                            0.0               0.0                0.0   \n",
       "4                            0.0               1.0                0.0   \n",
       "...                          ...               ...                ...   \n",
       "26702                        1.0               0.0                0.0   \n",
       "26703                        0.0               0.0                1.0   \n",
       "26704                        0.0               1.0                0.0   \n",
       "26705                        0.0               1.0                0.0   \n",
       "26706                        0.0               0.0                0.0   \n",
       "\n",
       "       dr_recc_seasonal_vacc  chronic_medic_condition  \\\n",
       "0                        0.0                      0.0   \n",
       "1                        0.0                      0.0   \n",
       "2                        0.0                      1.0   \n",
       "3                        1.0                      1.0   \n",
       "4                        0.0                      0.0   \n",
       "...                      ...                      ...   \n",
       "26702                    0.0                      0.0   \n",
       "26703                    1.0                      0.0   \n",
       "26704                    0.0                      0.0   \n",
       "26705                    0.0                      0.0   \n",
       "26706                    0.0                      0.0   \n",
       "\n",
       "       cont_child_undr_6_mnths  is_health_worker  is_h1n1_vacc_effective  \\\n",
       "0                          0.0               0.0                     3.0   \n",
       "1                          0.0               0.0                     5.0   \n",
       "2                          0.0               0.0                     3.0   \n",
       "3                          0.0               0.0                     3.0   \n",
       "4                          0.0               0.0                     3.0   \n",
       "...                        ...               ...                     ...   \n",
       "26702                      0.0               0.0                     3.0   \n",
       "26703                      0.0               1.0                     4.0   \n",
       "26704                      0.0               0.0                     4.0   \n",
       "26705                      0.0               0.0                     3.0   \n",
       "26706                      0.0               0.0                     5.0   \n",
       "\n",
       "       is_h1n1_risky  sick_from_h1n1_vacc  is_seas_vacc_effective  \\\n",
       "0                1.0                  2.0                     2.0   \n",
       "1                4.0                  4.0                     4.0   \n",
       "2                1.0                  1.0                     4.0   \n",
       "3                3.0                  5.0                     5.0   \n",
       "4                3.0                  2.0                     3.0   \n",
       "...              ...                  ...                     ...   \n",
       "26702            1.0                  1.0                     5.0   \n",
       "26703            2.0                  2.0                     5.0   \n",
       "26704            4.0                  2.0                     5.0   \n",
       "26705            1.0                  2.0                     2.0   \n",
       "26706            1.0                  1.0                     5.0   \n",
       "\n",
       "       is_seas_risky  sick_from_seas_vacc    age_bracket     qualification  \\\n",
       "0                1.0                  2.0  55 - 64 Years        < 12 Years   \n",
       "1                2.0                  4.0  35 - 44 Years          12 Years   \n",
       "2                1.0                  2.0  18 - 34 Years  College Graduate   \n",
       "3                4.0                  1.0      65+ Years          12 Years   \n",
       "4                1.0                  4.0  45 - 54 Years      Some College   \n",
       "...              ...                  ...            ...               ...   \n",
       "26702            2.0                  2.0      65+ Years      Some College   \n",
       "26703            1.0                  1.0  18 - 34 Years  College Graduate   \n",
       "26704            4.0                  2.0  55 - 64 Years      Some College   \n",
       "26705            1.0                  2.0  18 - 34 Years      Some College   \n",
       "26706            1.0                  1.0      65+ Years      Some College   \n",
       "\n",
       "           race     sex               income_level marital_status  \\\n",
       "0         White  Female              Below Poverty    Not Married   \n",
       "1         White    Male              Below Poverty    Not Married   \n",
       "2         White    Male  <= $75,000, Above Poverty    Not Married   \n",
       "3         White  Female              Below Poverty    Not Married   \n",
       "4         White  Female  <= $75,000, Above Poverty        Married   \n",
       "...         ...     ...                        ...            ...   \n",
       "26702     White  Female  <= $75,000, Above Poverty    Not Married   \n",
       "26703     White    Male  <= $75,000, Above Poverty    Not Married   \n",
       "26704     White  Female  <= $75,000, Above Poverty    Not Married   \n",
       "26705  Hispanic  Female  <= $75,000, Above Poverty        Married   \n",
       "26706     White    Male  <= $75,000, Above Poverty        Married   \n",
       "\n",
       "      housing_status          employment                census_msa  \\\n",
       "0                Own  Not in Labor Force                   Non-MSA   \n",
       "1               Rent            Employed  MSA, Not Principle  City   \n",
       "2                Own            Employed  MSA, Not Principle  City   \n",
       "3               Rent  Not in Labor Force       MSA, Principle City   \n",
       "4                Own            Employed  MSA, Not Principle  City   \n",
       "...              ...                 ...                       ...   \n",
       "26702            Own  Not in Labor Force                   Non-MSA   \n",
       "26703           Rent            Employed       MSA, Principle City   \n",
       "26704            Own            Employed  MSA, Not Principle  City   \n",
       "26705           Rent            Employed                   Non-MSA   \n",
       "26706            Own  Not in Labor Force       MSA, Principle City   \n",
       "\n",
       "       no_of_adults  no_of_children  h1n1_vaccine  \n",
       "0               0.0             0.0             0  \n",
       "1               0.0             0.0             0  \n",
       "2               2.0             0.0             0  \n",
       "3               0.0             0.0             0  \n",
       "4               1.0             0.0             0  \n",
       "...             ...             ...           ...  \n",
       "26702           0.0             0.0             0  \n",
       "26703           1.0             0.0             0  \n",
       "26704           0.0             0.0             0  \n",
       "26705           1.0             0.0             0  \n",
       "26706           1.0             0.0             0  \n",
       "\n",
       "[26707 rows x 32 columns]"
      ]
     },
     "execution_count": 51,
     "metadata": {},
     "output_type": "execute_result"
    }
   ],
   "source": [
    "df"
   ]
  },
  {
   "cell_type": "code",
   "execution_count": 52,
   "id": "12dc4ecc",
   "metadata": {},
   "outputs": [
    {
     "data": {
      "image/png": "[encoded data removed]",
      "text/plain": [
       "<Figure size 640x480 with 1 Axes>"
      ]
     },
     "metadata": {},
     "output_type": "display_data"
    }
   ],
   "source": [
    "sns.barplot(x = 'h1n1_worry', y = 'h1n1_vaccine', data = df)\n",
    " \n",
    "# Show the plot\n",
    "plt.show()"
   ]
  },
  {
   "cell_type": "markdown",
   "id": "731856ac",
   "metadata": {},
   "source": [
    " 0=Not worried at all,\n",
    " \n",
    " 1=Not very worried, \n",
    " \n",
    " 2=Somewhat worried, \n",
    " \n",
    " 3=Very worried.\n"
   ]
  },
  {
   "cell_type": "code",
   "execution_count": 53,
   "id": "f82bb87d",
   "metadata": {},
   "outputs": [],
   "source": [
    "# here you can see that more worried people has taken h1n1 vaccine more then compared to other people "
   ]
  },
  {
   "cell_type": "code",
   "execution_count": 54,
   "id": "f8fd24df",
   "metadata": {},
   "outputs": [
    {
     "data": {
      "text/plain": [
       "Index(['h1n1_worry', 'h1n1_awareness', 'antiviral_medication',\n",
       "       'contact_avoidance', 'bought_face_mask', 'wash_hands_frequently',\n",
       "       'avoid_large_gatherings', 'reduced_outside_home_cont',\n",
       "       'avoid_touch_face', 'dr_recc_h1n1_vacc', 'dr_recc_seasonal_vacc',\n",
       "       'chronic_medic_condition', 'cont_child_undr_6_mnths',\n",
       "       'is_health_worker', 'is_h1n1_vacc_effective', 'is_h1n1_risky',\n",
       "       'sick_from_h1n1_vacc', 'is_seas_vacc_effective', 'is_seas_risky',\n",
       "       'sick_from_seas_vacc', 'age_bracket', 'qualification', 'race', 'sex',\n",
       "       'income_level', 'marital_status', 'housing_status', 'employment',\n",
       "       'census_msa', 'no_of_adults', 'no_of_children', 'h1n1_vaccine'],\n",
       "      dtype='object')"
      ]
     },
     "execution_count": 54,
     "metadata": {},
     "output_type": "execute_result"
    }
   ],
   "source": [
    "df.columns"
   ]
  },
  {
   "cell_type": "markdown",
   "id": "bcca134e",
   "metadata": {},
   "source": [
    "'h1n1_awareness', 'antiviral_medication',\n",
    "       'contact_avoidance', 'bought_face_mask', 'wash_hands_frequently',\n",
    "       'avoid_large_gatherings', 'reduced_outside_home_cont',\n",
    "       'avoid_touch_face', 'dr_recc_h1n1_vacc', 'dr_recc_seasonal_vacc',\n",
    "       'chronic_medic_condition', 'cont_child_undr_6_mnths',\n",
    "       'is_health_worker', 'is_h1n1_vacc_effective', 'is_h1n1_risky',\n",
    "       'sick_from_h1n1_vacc', 'is_seas_vacc_effective', 'is_seas_risky',\n",
    "       'sick_from_seas_vacc', 'age_bracket', 'qualification', 'race', 'sex',\n",
    "       'income_level', 'marital_status', 'housing_status', 'employment',\n",
    "       'census_msa', 'no_of_adults', 'no_of_children', 'h1n1_vaccine'"
   ]
  },
  {
   "cell_type": "code",
   "execution_count": 55,
   "id": "bf3af673",
   "metadata": {
    "scrolled": false
   },
   "outputs": [
    {
     "data": {
      "image/png": "[encoded data removed]",
      "text/plain": [
       "<Figure size 640x480 with 1 Axes>"
      ]
     },
     "metadata": {},
     "output_type": "display_data"
    }
   ],
   "source": [
    "sns.barplot(x = 'h1n1_awareness', y = 'h1n1_vaccine',hue = \"race\" ,data = df)\n",
    " \n",
    "# Show the plot\n",
    "plt.show()"
   ]
  },
  {
   "cell_type": "markdown",
   "id": "f0beef0c",
   "metadata": {},
   "source": [
    " 0=No knowledge,\n",
    " 1=little knowledge,\n",
    " 2=good knowledge\n",
    " \n",
    " Respondent's race\n"
   ]
  },
  {
   "cell_type": "code",
   "execution_count": 56,
   "id": "2d033bc0",
   "metadata": {},
   "outputs": [],
   "source": [
    "# here you can see that the whites and hispanics race people has good knowlegde about the vaccine and they are one who has taken vaccine more then compared to other races\n",
    "#and you can even see that black race people are less aware but still they are vaccinated  so it clearly shows they are less vaccinated then compared to other races "
   ]
  },
  {
   "cell_type": "code",
   "execution_count": 57,
   "id": "0f8a3ec9",
   "metadata": {
    "scrolled": false
   },
   "outputs": [
    {
     "data": {
      "image/png": "[encoded data removed]",
      "text/plain": [
       "<Figure size 640x480 with 1 Axes>"
      ]
     },
     "metadata": {},
     "output_type": "display_data"
    }
   ],
   "source": [
    "sns.barplot(x = 'antiviral_medication', y = 'h1n1_vaccine',hue = \"sex\",data = df)\n",
    " \n",
    "# Show the plot\n",
    "plt.show()"
   ]
  },
  {
   "cell_type": "markdown",
   "id": "b548a8c9",
   "metadata": {},
   "source": [
    "Has the respondent taken antiviral vaccination - (0,1)"
   ]
  },
  {
   "cell_type": "code",
   "execution_count": 58,
   "id": "8f7f5311",
   "metadata": {},
   "outputs": [],
   "source": [
    "# here you can see count of female are slightly high then compared to male who are vaccinated with antiviral vaccination \n",
    "# and contradictory same thing is for the people not vaccinated with antiviral vaccination "
   ]
  },
  {
   "cell_type": "code",
   "execution_count": 59,
   "id": "effb7d7b",
   "metadata": {
    "scrolled": false
   },
   "outputs": [
    {
     "data": {
      "image/png": "[encoded data removed]",
      "text/plain": [
       "<Figure size 640x480 with 1 Axes>"
      ]
     },
     "metadata": {},
     "output_type": "display_data"
    }
   ],
   "source": [
    "sns.barplot(x = 'contact_avoidance', y = 'h1n1_vaccine',hue=\"race\", data = df)\n",
    " \n",
    "# Show the plot\n",
    "plt.show()"
   ]
  },
  {
   "cell_type": "markdown",
   "id": "05a8b529",
   "metadata": {},
   "source": [
    "Has avoided any close contact with people who have flu-like symptoms - (0,1)"
   ]
  },
  {
   "cell_type": "code",
   "execution_count": 60,
   "id": "664ae8f3",
   "metadata": {},
   "outputs": [],
   "source": [
    "# here you can see that black people are less than compared to other races who avoided contact with people who have flu-like symptoms "
   ]
  },
  {
   "cell_type": "code",
   "execution_count": 61,
   "id": "66cece94",
   "metadata": {},
   "outputs": [
    {
     "data": {
      "image/png": "[encoded data removed]",
      "text/plain": [
       "<Figure size 640x480 with 1 Axes>"
      ]
     },
     "metadata": {},
     "output_type": "display_data"
    }
   ],
   "source": [
    "sns.barplot(x = 'bought_face_mask', y = 'h1n1_vaccine',hue = \"sex\",data = df)\n",
    " \n",
    "# Show the plot\n",
    "plt.show()"
   ]
  },
  {
   "cell_type": "code",
   "execution_count": 62,
   "id": "0c8400f9",
   "metadata": {},
   "outputs": [
    {
     "data": {
      "image/png": "[encoded data removed]",
      "text/plain": [
       "<Figure size 640x480 with 1 Axes>"
      ]
     },
     "metadata": {},
     "output_type": "display_data"
    }
   ],
   "source": [
    "sns.barplot(x = 'is_health_worker', y = 'h1n1_vaccine',hue = \"housing_status\",data = df)\n",
    " \n",
    "# Show the plot\n",
    "plt.show()"
   ]
  },
  {
   "cell_type": "code",
   "execution_count": 63,
   "id": "f248d02e",
   "metadata": {},
   "outputs": [
    {
     "data": {
      "image/png": "[encoded data removed]",
      "text/plain": [
       "<Figure size 640x480 with 1 Axes>"
      ]
     },
     "metadata": {},
     "output_type": "display_data"
    }
   ],
   "source": [
    "sns.barplot(x = 'income_level', y = 'h1n1_vaccine',hue = \"sex\",data = df)\n",
    " \n",
    "# Show the plot\n",
    "plt.show()"
   ]
  },
  {
   "cell_type": "code",
   "execution_count": 64,
   "id": "bae0afbf",
   "metadata": {},
   "outputs": [
    {
     "data": {
      "image/png": "[encoded data removed]",
      "text/plain": [
       "<Figure size 640x480 with 1 Axes>"
      ]
     },
     "metadata": {},
     "output_type": "display_data"
    }
   ],
   "source": [
    "sns.barplot(x = 'marital_status', y = 'h1n1_vaccine',hue = \"sex\",data = df)\n",
    " \n",
    "# Show the plot\n",
    "plt.show()"
   ]
  },
  {
   "cell_type": "code",
   "execution_count": 65,
   "id": "5b731f50",
   "metadata": {},
   "outputs": [
    {
     "data": {
      "image/png": "[encoded data removed]",
      "text/plain": [
       "<Figure size 640x480 with 1 Axes>"
      ]
     },
     "metadata": {},
     "output_type": "display_data"
    }
   ],
   "source": [
    "sns.barplot(x = 'employment', y = 'h1n1_vaccine',hue = \"sex\",data = df)\n",
    " \n",
    "# Show the plot\n",
    "plt.show()"
   ]
  },
  {
   "cell_type": "code",
   "execution_count": 66,
   "id": "263f8bf7",
   "metadata": {},
   "outputs": [
    {
     "data": {
      "image/png": "[encoded data removed]",
      "text/plain": [
       "<Figure size 640x480 with 1 Axes>"
      ]
     },
     "metadata": {},
     "output_type": "display_data"
    }
   ],
   "source": [
    "sns.barplot(x = 'housing_status', y = 'h1n1_vaccine',hue = \"sex\",data = df)\n",
    " \n",
    "# Show the plot\n",
    "plt.show()"
   ]
  },
  {
   "cell_type": "code",
   "execution_count": 67,
   "id": "a3303219",
   "metadata": {},
   "outputs": [
    {
     "data": {
      "image/png": "[encoded data removed]",
      "text/plain": [
       "<Figure size 640x480 with 1 Axes>"
      ]
     },
     "metadata": {},
     "output_type": "display_data"
    }
   ],
   "source": [
    "sns.barplot(x = 'qualification', y = 'h1n1_vaccine',hue = \"race\",data = df)\n",
    " \n",
    "# Show the plot\n",
    "plt.show()"
   ]
  },
  {
   "cell_type": "code",
   "execution_count": null,
   "id": "d25e5c6e",
   "metadata": {},
   "outputs": [],
   "source": [
    "qualification 5.27 % missing values\n",
    "\n",
    "housing_status 7.65 % missing values\n",
    "\n",
    "income_level 16.56 % missing values\n",
    "\n",
    "marital_status 5.27 % missing values\n",
    "\n",
    "employment 5.48 % missing values"
   ]
  },
  {
   "cell_type": "code",
   "execution_count": 92,
   "id": "3e8d413f",
   "metadata": {
    "scrolled": true
   },
   "outputs": [
    {
     "name": "stdout",
     "output_type": "stream",
     "text": [
      "contingency_table :\n",
      " h1n1_vaccine     0     1\n",
      "h1n1_worry              \n",
      "0.0           2849   447\n",
      "1.0           6756  1397\n",
      "2.0           8178  2489\n",
      "3.0           3250  1341\n"
     ]
    }
   ],
   "source": [
    "ct_table_ind=pd.crosstab(df[\"h1n1_worry\"],df[\"h1n1_vaccine\"])\n",
    "print('contingency_table :\\n',ct_table_ind)"
   ]
  },
  {
   "cell_type": "code",
   "execution_count": 93,
   "id": "c6f501b6",
   "metadata": {},
   "outputs": [
    {
     "name": "stdout",
     "output_type": "stream",
     "text": [
      "contingency_table :\n",
      " h1n1_vaccine     0     1\n",
      "h1n1_worry              \n",
      "0.0           2849   447\n",
      "1.0           6756  1397\n",
      "2.0           8178  2489\n",
      "3.0           3250  1341\n"
     ]
    }
   ],
   "source": [
    "ct_table_ind2=pd.crosstab(df[\"h1n1_awareness\"],df[\"h1n1_vaccine\"])\n",
    "print('contingency_table :\\n',ct_table_ind)"
   ]
  },
  {
   "cell_type": "code",
   "execution_count": 94,
   "id": "068f5407",
   "metadata": {},
   "outputs": [
    {
     "name": "stdout",
     "output_type": "stream",
     "text": [
      "contingency_table :\n",
      " h1n1_vaccine     0     1\n",
      "h1n1_worry              \n",
      "0.0           2849   447\n",
      "1.0           6756  1397\n",
      "2.0           8178  2489\n",
      "3.0           3250  1341\n"
     ]
    }
   ],
   "source": [
    "ct_table_ind3=pd.crosstab(df[\"antiviral_medication\"],df[\"h1n1_vaccine\"])\n",
    "print('contingency_table :\\n',ct_table_ind)"
   ]
  },
  {
   "cell_type": "code",
   "execution_count": 95,
   "id": "98f34500",
   "metadata": {},
   "outputs": [
    {
     "name": "stdout",
     "output_type": "stream",
     "text": [
      "contingency_table :\n",
      " h1n1_vaccine     0     1\n",
      "h1n1_worry              \n",
      "0.0           2849   447\n",
      "1.0           6756  1397\n",
      "2.0           8178  2489\n",
      "3.0           3250  1341\n"
     ]
    }
   ],
   "source": [
    "ct_table_ind4=pd.crosstab(df[\"contact_avoidance\"],df[\"h1n1_vaccine\"])\n",
    "print('contingency_table :\\n',ct_table_ind)"
   ]
  },
  {
   "cell_type": "code",
   "execution_count": 96,
   "id": "81072ec0",
   "metadata": {},
   "outputs": [
    {
     "name": "stdout",
     "output_type": "stream",
     "text": [
      "contingency_table :\n",
      " h1n1_vaccine     0     1\n",
      "h1n1_worry              \n",
      "0.0           2849   447\n",
      "1.0           6756  1397\n",
      "2.0           8178  2489\n",
      "3.0           3250  1341\n"
     ]
    }
   ],
   "source": [
    "ct_table_ind5=pd.crosstab(df[\"bought_face_mask\"],df[\"h1n1_vaccine\"])\n",
    "print('contingency_table :\\n',ct_table_ind)"
   ]
  },
  {
   "cell_type": "code",
   "execution_count": 97,
   "id": "c51518a1",
   "metadata": {},
   "outputs": [
    {
     "name": "stdout",
     "output_type": "stream",
     "text": [
      "contingency_table :\n",
      " h1n1_vaccine     0     1\n",
      "h1n1_worry              \n",
      "0.0           2849   447\n",
      "1.0           6756  1397\n",
      "2.0           8178  2489\n",
      "3.0           3250  1341\n"
     ]
    }
   ],
   "source": [
    "ct_table_ind6=pd.crosstab(df[\"wash_hands_frequently\"],df[\"h1n1_vaccine\"])\n",
    "print('contingency_table :\\n',ct_table_ind)"
   ]
  },
  {
   "cell_type": "code",
   "execution_count": 98,
   "id": "e05b4386",
   "metadata": {},
   "outputs": [
    {
     "name": "stdout",
     "output_type": "stream",
     "text": [
      "contingency_table :\n",
      " h1n1_vaccine     0     1\n",
      "h1n1_worry              \n",
      "0.0           2849   447\n",
      "1.0           6756  1397\n",
      "2.0           8178  2489\n",
      "3.0           3250  1341\n"
     ]
    }
   ],
   "source": [
    "ct_table_ind7=pd.crosstab(df[\"avoid_large_gatherings\"],df[\"h1n1_vaccine\"])\n",
    "print('contingency_table :\\n',ct_table_ind)"
   ]
  },
  {
   "cell_type": "code",
   "execution_count": 99,
   "id": "8d5197ad",
   "metadata": {},
   "outputs": [
    {
     "name": "stdout",
     "output_type": "stream",
     "text": [
      "contingency_table :\n",
      " h1n1_vaccine     0     1\n",
      "h1n1_worry              \n",
      "0.0           2849   447\n",
      "1.0           6756  1397\n",
      "2.0           8178  2489\n",
      "3.0           3250  1341\n"
     ]
    }
   ],
   "source": [
    "ct_table_ind8=pd.crosstab(df[\"reduced_outside_home_cont\"],df[\"h1n1_vaccine\"])\n",
    "print('contingency_table :\\n',ct_table_ind)"
   ]
  },
  {
   "cell_type": "code",
   "execution_count": 100,
   "id": "b158e998",
   "metadata": {},
   "outputs": [
    {
     "name": "stdout",
     "output_type": "stream",
     "text": [
      "contingency_table :\n",
      " h1n1_vaccine     0     1\n",
      "h1n1_worry              \n",
      "0.0           2849   447\n",
      "1.0           6756  1397\n",
      "2.0           8178  2489\n",
      "3.0           3250  1341\n"
     ]
    }
   ],
   "source": [
    "ct_table_ind9=pd.crosstab(df[\"avoid_touch_face\"],df[\"h1n1_vaccine\"])\n",
    "print('contingency_table :\\n',ct_table_ind)"
   ]
  },
  {
   "cell_type": "code",
   "execution_count": 101,
   "id": "7d8c5c47",
   "metadata": {},
   "outputs": [
    {
     "name": "stdout",
     "output_type": "stream",
     "text": [
      "contingency_table :\n",
      " h1n1_vaccine     0     1\n",
      "h1n1_worry              \n",
      "0.0           2849   447\n",
      "1.0           6756  1397\n",
      "2.0           8178  2489\n",
      "3.0           3250  1341\n"
     ]
    }
   ],
   "source": [
    "ct_table_ind10=pd.crosstab(df[\"dr_recc_h1n1_vacc\"],df[\"h1n1_vaccine\"])\n",
    "print('contingency_table :\\n',ct_table_ind)"
   ]
  },
  {
   "cell_type": "code",
   "execution_count": 102,
   "id": "15083ca7",
   "metadata": {},
   "outputs": [
    {
     "name": "stdout",
     "output_type": "stream",
     "text": [
      "contingency_table :\n",
      " h1n1_vaccine     0     1\n",
      "h1n1_worry              \n",
      "0.0           2849   447\n",
      "1.0           6756  1397\n",
      "2.0           8178  2489\n",
      "3.0           3250  1341\n"
     ]
    }
   ],
   "source": [
    "ct_table_ind11=pd.crosstab(df[\"dr_recc_seasonal_vacc\"],df[\"h1n1_vaccine\"])\n",
    "print('contingency_table :\\n',ct_table_ind)"
   ]
  },
  {
   "cell_type": "code",
   "execution_count": 103,
   "id": "fa767073",
   "metadata": {},
   "outputs": [
    {
     "name": "stdout",
     "output_type": "stream",
     "text": [
      "contingency_table :\n",
      " h1n1_vaccine     0     1\n",
      "h1n1_worry              \n",
      "0.0           2849   447\n",
      "1.0           6756  1397\n",
      "2.0           8178  2489\n",
      "3.0           3250  1341\n"
     ]
    }
   ],
   "source": [
    "ct_table_ind12=pd.crosstab(df[\"chronic_medic_condition\"],df[\"h1n1_vaccine\"])\n",
    "print('contingency_table :\\n',ct_table_ind)"
   ]
  },
  {
   "cell_type": "code",
   "execution_count": 104,
   "id": "63ccbb08",
   "metadata": {},
   "outputs": [
    {
     "data": {
      "text/plain": [
       "Index(['h1n1_worry', 'h1n1_awareness', 'antiviral_medication',\n",
       "       'contact_avoidance', 'bought_face_mask', 'wash_hands_frequently',\n",
       "       'avoid_large_gatherings', 'reduced_outside_home_cont',\n",
       "       'avoid_touch_face', 'dr_recc_h1n1_vacc', 'dr_recc_seasonal_vacc',\n",
       "       'chronic_medic_condition', 'cont_child_undr_6_mnths',\n",
       "       'is_health_worker', 'is_h1n1_vacc_effective', 'is_h1n1_risky',\n",
       "       'sick_from_h1n1_vacc', 'is_seas_vacc_effective', 'is_seas_risky',\n",
       "       'sick_from_seas_vacc', 'age_bracket', 'qualification', 'race', 'sex',\n",
       "       'income_level', 'marital_status', 'housing_status', 'employment',\n",
       "       'census_msa', 'no_of_adults', 'no_of_children', 'h1n1_vaccine'],\n",
       "      dtype='object')"
      ]
     },
     "execution_count": 104,
     "metadata": {},
     "output_type": "execute_result"
    }
   ],
   "source": [
    "df.columns"
   ]
  },
  {
   "cell_type": "code",
   "execution_count": 105,
   "id": "07c7d87c",
   "metadata": {},
   "outputs": [
    {
     "name": "stdout",
     "output_type": "stream",
     "text": [
      "contingency_table :\n",
      " h1n1_vaccine     0     1\n",
      "h1n1_worry              \n",
      "0.0           2849   447\n",
      "1.0           6756  1397\n",
      "2.0           8178  2489\n",
      "3.0           3250  1341\n"
     ]
    }
   ],
   "source": [
    "ct_table_ind13=pd.crosstab(df[\"cont_child_undr_6_mnths\"],df[\"h1n1_vaccine\"])\n",
    "print('contingency_table :\\n',ct_table_ind)"
   ]
  },
  {
   "cell_type": "code",
   "execution_count": 106,
   "id": "4924dd40",
   "metadata": {},
   "outputs": [
    {
     "name": "stdout",
     "output_type": "stream",
     "text": [
      "contingency_table :\n",
      " h1n1_vaccine     0     1\n",
      "h1n1_worry              \n",
      "0.0           2849   447\n",
      "1.0           6756  1397\n",
      "2.0           8178  2489\n",
      "3.0           3250  1341\n"
     ]
    }
   ],
   "source": [
    "ct_table_ind14=pd.crosstab(df[\"is_health_worker\"],df[\"h1n1_vaccine\"])\n",
    "print('contingency_table :\\n',ct_table_ind)"
   ]
  },
  {
   "cell_type": "code",
   "execution_count": 107,
   "id": "2fd32d55",
   "metadata": {},
   "outputs": [
    {
     "name": "stdout",
     "output_type": "stream",
     "text": [
      "contingency_table :\n",
      " h1n1_vaccine     0     1\n",
      "h1n1_worry              \n",
      "0.0           2849   447\n",
      "1.0           6756  1397\n",
      "2.0           8178  2489\n",
      "3.0           3250  1341\n"
     ]
    }
   ],
   "source": [
    "ct_table_ind15=pd.crosstab(df[\"is_h1n1_vacc_effective\"],df[\"h1n1_vaccine\"])\n",
    "print('contingency_table :\\n',ct_table_ind)"
   ]
  },
  {
   "cell_type": "code",
   "execution_count": 108,
   "id": "f69ca703",
   "metadata": {},
   "outputs": [
    {
     "name": "stdout",
     "output_type": "stream",
     "text": [
      "contingency_table :\n",
      " h1n1_vaccine     0     1\n",
      "h1n1_worry              \n",
      "0.0           2849   447\n",
      "1.0           6756  1397\n",
      "2.0           8178  2489\n",
      "3.0           3250  1341\n"
     ]
    }
   ],
   "source": [
    "ct_table_ind16=pd.crosstab(df[\"is_h1n1_risky\"],df[\"h1n1_vaccine\"])\n",
    "print('contingency_table :\\n',ct_table_ind)"
   ]
  },
  {
   "cell_type": "code",
   "execution_count": 109,
   "id": "802bec66",
   "metadata": {},
   "outputs": [
    {
     "name": "stdout",
     "output_type": "stream",
     "text": [
      "contingency_table :\n",
      " h1n1_vaccine     0     1\n",
      "h1n1_worry              \n",
      "0.0           2849   447\n",
      "1.0           6756  1397\n",
      "2.0           8178  2489\n",
      "3.0           3250  1341\n"
     ]
    }
   ],
   "source": [
    "ct_table_ind17=pd.crosstab(df[\"sick_from_h1n1_vacc\"],df[\"h1n1_vaccine\"])\n",
    "print('contingency_table :\\n',ct_table_ind)"
   ]
  },
  {
   "cell_type": "code",
   "execution_count": 110,
   "id": "5c196e4b",
   "metadata": {},
   "outputs": [
    {
     "name": "stdout",
     "output_type": "stream",
     "text": [
      "contingency_table :\n",
      " h1n1_vaccine     0     1\n",
      "h1n1_worry              \n",
      "0.0           2849   447\n",
      "1.0           6756  1397\n",
      "2.0           8178  2489\n",
      "3.0           3250  1341\n"
     ]
    }
   ],
   "source": [
    "ct_table_ind18=pd.crosstab(df[\"is_seas_vacc_effective\"],df[\"h1n1_vaccine\"])\n",
    "print('contingency_table :\\n',ct_table_ind)"
   ]
  },
  {
   "cell_type": "code",
   "execution_count": 111,
   "id": "2301dd37",
   "metadata": {},
   "outputs": [
    {
     "name": "stdout",
     "output_type": "stream",
     "text": [
      "contingency_table :\n",
      " h1n1_vaccine     0     1\n",
      "h1n1_worry              \n",
      "0.0           2849   447\n",
      "1.0           6756  1397\n",
      "2.0           8178  2489\n",
      "3.0           3250  1341\n"
     ]
    }
   ],
   "source": [
    "ct_table_ind19=pd.crosstab(df[\"is_seas_risky\"],df[\"h1n1_vaccine\"])\n",
    "print('contingency_table :\\n',ct_table_ind)"
   ]
  },
  {
   "cell_type": "code",
   "execution_count": 112,
   "id": "49218986",
   "metadata": {},
   "outputs": [
    {
     "name": "stdout",
     "output_type": "stream",
     "text": [
      "contingency_table :\n",
      " h1n1_vaccine     0     1\n",
      "h1n1_worry              \n",
      "0.0           2849   447\n",
      "1.0           6756  1397\n",
      "2.0           8178  2489\n",
      "3.0           3250  1341\n"
     ]
    }
   ],
   "source": [
    "ct_table_ind20=pd.crosstab(df[\"sick_from_seas_vacc\"],df[\"h1n1_vaccine\"])\n",
    "print('contingency_table :\\n',ct_table_ind)"
   ]
  },
  {
   "cell_type": "code",
   "execution_count": 113,
   "id": "8e7edca5",
   "metadata": {},
   "outputs": [
    {
     "name": "stdout",
     "output_type": "stream",
     "text": [
      "contingency_table :\n",
      " h1n1_vaccine     0     1\n",
      "h1n1_worry              \n",
      "0.0           2849   447\n",
      "1.0           6756  1397\n",
      "2.0           8178  2489\n",
      "3.0           3250  1341\n"
     ]
    }
   ],
   "source": [
    "ct_table_ind21=pd.crosstab(df[\"age_bracket\"],df[\"h1n1_vaccine\"])\n",
    "print('contingency_table :\\n',ct_table_ind)"
   ]
  },
  {
   "cell_type": "code",
   "execution_count": 114,
   "id": "02825f55",
   "metadata": {},
   "outputs": [
    {
     "name": "stdout",
     "output_type": "stream",
     "text": [
      "contingency_table :\n",
      " h1n1_vaccine     0     1\n",
      "h1n1_worry              \n",
      "0.0           2849   447\n",
      "1.0           6756  1397\n",
      "2.0           8178  2489\n",
      "3.0           3250  1341\n"
     ]
    }
   ],
   "source": [
    "ct_table_ind22=pd.crosstab(df[\"qualification\"],df[\"h1n1_vaccine\"])\n",
    "print('contingency_table :\\n',ct_table_ind)"
   ]
  },
  {
   "cell_type": "code",
   "execution_count": 115,
   "id": "e7b4827d",
   "metadata": {},
   "outputs": [
    {
     "name": "stdout",
     "output_type": "stream",
     "text": [
      "contingency_table :\n",
      " h1n1_vaccine     0     1\n",
      "h1n1_worry              \n",
      "0.0           2849   447\n",
      "1.0           6756  1397\n",
      "2.0           8178  2489\n",
      "3.0           3250  1341\n"
     ]
    }
   ],
   "source": [
    "ct_table_ind23=pd.crosstab(df[\"race\"],df[\"h1n1_vaccine\"])\n",
    "print('contingency_table :\\n',ct_table_ind)"
   ]
  },
  {
   "cell_type": "code",
   "execution_count": 116,
   "id": "b0239a79",
   "metadata": {},
   "outputs": [
    {
     "name": "stdout",
     "output_type": "stream",
     "text": [
      "contingency_table :\n",
      " h1n1_vaccine     0     1\n",
      "h1n1_worry              \n",
      "0.0           2849   447\n",
      "1.0           6756  1397\n",
      "2.0           8178  2489\n",
      "3.0           3250  1341\n"
     ]
    }
   ],
   "source": [
    "ct_table_ind24=pd.crosstab(df[\"sex\"],df[\"h1n1_vaccine\"])\n",
    "print('contingency_table :\\n',ct_table_ind)"
   ]
  },
  {
   "cell_type": "code",
   "execution_count": 117,
   "id": "96c6e707",
   "metadata": {},
   "outputs": [
    {
     "name": "stdout",
     "output_type": "stream",
     "text": [
      "contingency_table :\n",
      " h1n1_vaccine     0     1\n",
      "h1n1_worry              \n",
      "0.0           2849   447\n",
      "1.0           6756  1397\n",
      "2.0           8178  2489\n",
      "3.0           3250  1341\n"
     ]
    }
   ],
   "source": [
    "ct_table_ind25=pd.crosstab(df[\"income_level\"],df[\"h1n1_vaccine\"])\n",
    "print('contingency_table :\\n',ct_table_ind)"
   ]
  },
  {
   "cell_type": "code",
   "execution_count": 118,
   "id": "e1fa5ee2",
   "metadata": {},
   "outputs": [
    {
     "name": "stdout",
     "output_type": "stream",
     "text": [
      "contingency_table :\n",
      " h1n1_vaccine     0     1\n",
      "h1n1_worry              \n",
      "0.0           2849   447\n",
      "1.0           6756  1397\n",
      "2.0           8178  2489\n",
      "3.0           3250  1341\n"
     ]
    }
   ],
   "source": [
    "ct_table_ind26=pd.crosstab(df[\"marital_status\"],df[\"h1n1_vaccine\"])\n",
    "print('contingency_table :\\n',ct_table_ind)"
   ]
  },
  {
   "cell_type": "code",
   "execution_count": 119,
   "id": "26912159",
   "metadata": {},
   "outputs": [
    {
     "name": "stdout",
     "output_type": "stream",
     "text": [
      "contingency_table :\n",
      " h1n1_vaccine     0     1\n",
      "h1n1_worry              \n",
      "0.0           2849   447\n",
      "1.0           6756  1397\n",
      "2.0           8178  2489\n",
      "3.0           3250  1341\n"
     ]
    }
   ],
   "source": [
    "ct_table_ind27=pd.crosstab(df[\"housing_status\"],df[\"h1n1_vaccine\"])\n",
    "print('contingency_table :\\n',ct_table_ind)"
   ]
  },
  {
   "cell_type": "code",
   "execution_count": 120,
   "id": "4105b591",
   "metadata": {},
   "outputs": [
    {
     "name": "stdout",
     "output_type": "stream",
     "text": [
      "contingency_table :\n",
      " h1n1_vaccine     0     1\n",
      "h1n1_worry              \n",
      "0.0           2849   447\n",
      "1.0           6756  1397\n",
      "2.0           8178  2489\n",
      "3.0           3250  1341\n"
     ]
    }
   ],
   "source": [
    "ct_table_ind28=pd.crosstab(df[\"employment\"],df[\"h1n1_vaccine\"])\n",
    "print('contingency_table :\\n',ct_table_ind)"
   ]
  },
  {
   "cell_type": "code",
   "execution_count": 121,
   "id": "f175e781",
   "metadata": {},
   "outputs": [
    {
     "name": "stdout",
     "output_type": "stream",
     "text": [
      "contingency_table :\n",
      " h1n1_vaccine     0     1\n",
      "h1n1_worry              \n",
      "0.0           2849   447\n",
      "1.0           6756  1397\n",
      "2.0           8178  2489\n",
      "3.0           3250  1341\n"
     ]
    }
   ],
   "source": [
    "ct_table_ind29=pd.crosstab(df[\"census_msa\"],df[\"h1n1_vaccine\"])\n",
    "print('contingency_table :\\n',ct_table_ind)"
   ]
  },
  {
   "cell_type": "code",
   "execution_count": 122,
   "id": "4a2910fa",
   "metadata": {},
   "outputs": [
    {
     "name": "stdout",
     "output_type": "stream",
     "text": [
      "contingency_table :\n",
      " h1n1_vaccine     0     1\n",
      "h1n1_worry              \n",
      "0.0           2849   447\n",
      "1.0           6756  1397\n",
      "2.0           8178  2489\n",
      "3.0           3250  1341\n"
     ]
    }
   ],
   "source": [
    "ct_table_ind30=pd.crosstab(df[\"no_of_adults\"],df[\"h1n1_vaccine\"])\n",
    "print('contingency_table :\\n',ct_table_ind)"
   ]
  },
  {
   "cell_type": "code",
   "execution_count": 123,
   "id": "e8e72ff5",
   "metadata": {},
   "outputs": [
    {
     "name": "stdout",
     "output_type": "stream",
     "text": [
      "contingency_table :\n",
      " h1n1_vaccine     0     1\n",
      "h1n1_worry              \n",
      "0.0           2849   447\n",
      "1.0           6756  1397\n",
      "2.0           8178  2489\n",
      "3.0           3250  1341\n"
     ]
    }
   ],
   "source": [
    "ct_table_ind31=pd.crosstab(df[\"no_of_children\"],df[\"h1n1_vaccine\"])\n",
    "print('contingency_table :\\n',ct_table_ind)"
   ]
  },
  {
   "cell_type": "code",
   "execution_count": 124,
   "id": "27346333",
   "metadata": {},
   "outputs": [
    {
     "name": "stdout",
     "output_type": "stream",
     "text": [
      "chi2 statistic:     400.46\n",
      "p-value:            1.7582e-86\n",
      "degrees of freedom: 3\n",
      "expected frequencies:\n",
      " [[2595.752724    700.247276  ]\n",
      " [6420.86527877 1732.13472123]\n",
      " [8400.75676789 2266.24323211]\n",
      " [3615.62522934  975.37477066]]\n"
     ]
    }
   ],
   "source": [
    "chi2_stat, p, dof, expected = scipy.stats.chi2_contingency(ct_table_ind)\n",
    " \n",
    "print(f\"chi2 statistic:     {chi2_stat:.5g}\")\n",
    "print(f\"p-value:            {p:.5g}\")\n",
    "print(f\"degrees of freedom: {dof}\")\n",
    "print(\"expected frequencies:\\n\",expected)"
   ]
  },
  {
   "cell_type": "code",
   "execution_count": 125,
   "id": "7e0c19ef",
   "metadata": {},
   "outputs": [
    {
     "name": "stdout",
     "output_type": "stream",
     "text": [
      "chi2 statistic:     396.79\n",
      "p-value:            6.8778e-87\n",
      "degrees of freedom: 2\n",
      "expected frequencies:\n",
      " [[ 1973.59111843   532.40888157]\n",
      " [11587.95679035  3126.04320965]\n",
      " [ 7471.45209121  2015.54790879]]\n"
     ]
    }
   ],
   "source": [
    "chi2_stat, p, dof, expected = scipy.stats.chi2_contingency(ct_table_ind2)\n",
    " \n",
    "print(f\"chi2 statistic:     {chi2_stat:.5g}\")\n",
    "print(f\"p-value:            {p:.5g}\")\n",
    "print(f\"degrees of freedom: {dof}\")\n",
    "print(\"expected frequencies:\\n\",expected)"
   ]
  },
  {
   "cell_type": "code",
   "execution_count": 126,
   "id": "d5d15b0f",
   "metadata": {},
   "outputs": [
    {
     "name": "stdout",
     "output_type": "stream",
     "text": [
      "chi2 statistic:     42.759\n",
      "p-value:            6.1909e-11\n",
      "degrees of freedom: 1\n",
      "expected frequencies:\n",
      " [[20008.40221665  5397.59778335]\n",
      " [ 1024.59778335   276.40221665]]\n"
     ]
    }
   ],
   "source": [
    "chi2_stat, p, dof, expected = scipy.stats.chi2_contingency(ct_table_ind3)\n",
    " \n",
    "print(f\"chi2 statistic:     {chi2_stat:.5g}\")\n",
    "print(f\"p-value:            {p:.5g}\")\n",
    "print(f\"degrees of freedom: {dof}\")\n",
    "print(\"expected frequencies:\\n\",expected)"
   ]
  },
  {
   "cell_type": "code",
   "execution_count": 127,
   "id": "734ba894",
   "metadata": {},
   "outputs": [
    {
     "name": "stdout",
     "output_type": "stream",
     "text": [
      "chi2 statistic:     58.33\n",
      "p-value:            2.2161e-14\n",
      "degrees of freedom: 1\n",
      "expected frequencies:\n",
      " [[ 5726.24941027  1544.75058973]\n",
      " [15306.75058973  4129.24941027]]\n"
     ]
    }
   ],
   "source": [
    "chi2_stat, p, dof, expected = scipy.stats.chi2_contingency(ct_table_ind4)\n",
    " \n",
    "print(f\"chi2 statistic:     {chi2_stat:.5g}\")\n",
    "print(f\"p-value:            {p:.5g}\")\n",
    "print(f\"degrees of freedom: {dof}\")\n",
    "print(\"expected frequencies:\\n\",expected)"
   ]
  },
  {
   "cell_type": "code",
   "execution_count": 128,
   "id": "c7e33136",
   "metadata": {},
   "outputs": [
    {
     "name": "stdout",
     "output_type": "stream",
     "text": [
      "chi2 statistic:     131.73\n",
      "p-value:            1.7112e-30\n",
      "degrees of freedom: 1\n",
      "expected frequencies:\n",
      " [[19583.12719512  5282.87280488]\n",
      " [ 1449.87280488   391.12719512]]\n"
     ]
    }
   ],
   "source": [
    "chi2_stat, p, dof, expected = scipy.stats.chi2_contingency(ct_table_ind5)\n",
    " \n",
    "print(f\"chi2 statistic:     {chi2_stat:.5g}\")\n",
    "print(f\"p-value:            {p:.5g}\")\n",
    "print(f\"degrees of freedom: {dof}\")\n",
    "print(\"expected frequencies:\\n\",expected)"
   ]
  },
  {
   "cell_type": "code",
   "execution_count": 129,
   "id": "03aa3ce7",
   "metadata": {},
   "outputs": [
    {
     "name": "stdout",
     "output_type": "stream",
     "text": [
      "chi2 statistic:     148.03\n",
      "p-value:            4.6798e-34\n",
      "degrees of freedom: 1\n",
      "expected frequencies:\n",
      " [[ 3662.09046317   987.90953683]\n",
      " [17370.90953683  4686.09046317]]\n"
     ]
    }
   ],
   "source": [
    "chi2_stat, p, dof, expected = scipy.stats.chi2_contingency(ct_table_ind6)\n",
    " \n",
    "print(f\"chi2 statistic:     {chi2_stat:.5g}\")\n",
    "print(f\"p-value:            {p:.5g}\")\n",
    "print(f\"degrees of freedom: {dof}\")\n",
    "print(\"expected frequencies:\\n\",expected)"
   ]
  },
  {
   "cell_type": "code",
   "execution_count": 130,
   "id": "152f7885",
   "metadata": {},
   "outputs": [
    {
     "name": "stdout",
     "output_type": "stream",
     "text": [
      "chi2 statistic:     8.6466\n",
      "p-value:            0.0032767\n",
      "degrees of freedom: 1\n",
      "expected frequencies:\n",
      " [[13514.29512862  3645.70487138]\n",
      " [ 7518.70487138  2028.29512862]]\n"
     ]
    }
   ],
   "source": [
    "chi2_stat, p, dof, expected = scipy.stats.chi2_contingency(ct_table_ind7)\n",
    " \n",
    "print(f\"chi2 statistic:     {chi2_stat:.5g}\")\n",
    "print(f\"p-value:            {p:.5g}\")\n",
    "print(f\"degrees of freedom: {dof}\")\n",
    "print(\"expected frequencies:\\n\",expected)"
   ]
  },
  {
   "cell_type": "code",
   "execution_count": 131,
   "id": "e2511da8",
   "metadata": {},
   "outputs": [
    {
     "name": "stdout",
     "output_type": "stream",
     "text": [
      "chi2 statistic:     12.906\n",
      "p-value:            0.00032756\n",
      "degrees of freedom: 1\n",
      "expected frequencies:\n",
      " [[13960.04635489  3765.95364511]\n",
      " [ 7072.95364511  1908.04635489]]\n"
     ]
    }
   ],
   "source": [
    "chi2_stat, p, dof, expected = scipy.stats.chi2_contingency(ct_table_ind8)\n",
    " \n",
    "print(f\"chi2 statistic:     {chi2_stat:.5g}\")\n",
    "print(f\"p-value:            {p:.5g}\")\n",
    "print(f\"degrees of freedom: {dof}\")\n",
    "print(\"expected frequencies:\\n\",expected)"
   ]
  },
  {
   "cell_type": "code",
   "execution_count": 132,
   "id": "af733715",
   "metadata": {},
   "outputs": [
    {
     "name": "stdout",
     "output_type": "stream",
     "text": [
      "chi2 statistic:     133.71\n",
      "p-value:            6.3218e-31\n",
      "degrees of freedom: 1\n",
      "expected frequencies:\n",
      " [[ 6755.57247164  1822.42752836]\n",
      " [14277.42752836  3851.57247164]]\n"
     ]
    }
   ],
   "source": [
    "chi2_stat, p, dof, expected = scipy.stats.chi2_contingency(ct_table_ind9)\n",
    " \n",
    "print(f\"chi2 statistic:     {chi2_stat:.5g}\")\n",
    "print(f\"p-value:            {p:.5g}\")\n",
    "print(f\"degrees of freedom: {dof}\")\n",
    "print(\"expected frequencies:\\n\",expected)"
   ]
  },
  {
   "cell_type": "code",
   "execution_count": 133,
   "id": "f465e534",
   "metadata": {},
   "outputs": [
    {
     "name": "stdout",
     "output_type": "stream",
     "text": [
      "chi2 statistic:     4145.3\n",
      "p-value:            0\n",
      "degrees of freedom: 1\n",
      "expected frequencies:\n",
      " [[16773.94941401  4525.05058599]\n",
      " [ 4259.05058599  1148.94941401]]\n"
     ]
    }
   ],
   "source": [
    "chi2_stat, p, dof, expected = scipy.stats.chi2_contingency(ct_table_ind10)\n",
    " \n",
    "print(f\"chi2 statistic:     {chi2_stat:.5g}\")\n",
    "print(f\"p-value:            {p:.5g}\")\n",
    "print(f\"degrees of freedom: {dof}\")\n",
    "print(\"expected frequencies:\\n\",expected)"
   ]
  },
  {
   "cell_type": "code",
   "execution_count": 134,
   "id": "17722e60",
   "metadata": {},
   "outputs": [
    {
     "name": "stdout",
     "output_type": "stream",
     "text": [
      "chi2 statistic:     1279.4\n",
      "p-value:            3.3126e-280\n",
      "degrees of freedom: 1\n",
      "expected frequencies:\n",
      " [[14658.59995507  3954.40004493]\n",
      " [ 6374.40004493  1719.59995507]]\n"
     ]
    }
   ],
   "source": [
    "chi2_stat, p, dof, expected = scipy.stats.chi2_contingency(ct_table_ind11)\n",
    " \n",
    "print(f\"chi2 statistic:     {chi2_stat:.5g}\")\n",
    "print(f\"p-value:            {p:.5g}\")\n",
    "print(f\"degrees of freedom: {dof}\")\n",
    "print(\"expected frequencies:\\n\",expected)"
   ]
  },
  {
   "cell_type": "code",
   "execution_count": 135,
   "id": "3993fe3f",
   "metadata": {},
   "outputs": [
    {
     "name": "stdout",
     "output_type": "stream",
     "text": [
      "chi2 statistic:     237.28\n",
      "p-value:            1.5428e-53\n",
      "degrees of freedom: 1\n",
      "expected frequencies:\n",
      " [[15291.78720935  4125.21279065]\n",
      " [ 5741.21279065  1548.78720935]]\n"
     ]
    }
   ],
   "source": [
    "chi2_stat, p, dof, expected = scipy.stats.chi2_contingency(ct_table_ind12)\n",
    " \n",
    "print(f\"chi2 statistic:     {chi2_stat:.5g}\")\n",
    "print(f\"p-value:            {p:.5g}\")\n",
    "print(f\"degrees of freedom: {dof}\")\n",
    "print(\"expected frequencies:\\n\",expected)"
   ]
  },
  {
   "cell_type": "code",
   "execution_count": 136,
   "id": "a01cc15a",
   "metadata": {},
   "outputs": [
    {
     "name": "stdout",
     "output_type": "stream",
     "text": [
      "chi2 statistic:     118.26\n",
      "p-value:            1.5226e-27\n",
      "degrees of freedom: 1\n",
      "expected frequencies:\n",
      " [[19349.22593328  5219.77406672]\n",
      " [ 1683.77406672   454.22593328]]\n"
     ]
    }
   ],
   "source": [
    "chi2_stat, p, dof, expected = scipy.stats.chi2_contingency(ct_table_ind13)\n",
    " \n",
    "print(f\"chi2 statistic:     {chi2_stat:.5g}\")\n",
    "print(f\"p-value:            {p:.5g}\")\n",
    "print(f\"degrees of freedom: {dof}\")\n",
    "print(\"expected frequencies:\\n\",expected)"
   ]
  },
  {
   "cell_type": "code",
   "execution_count": 137,
   "id": "1826082d",
   "metadata": {},
   "outputs": [
    {
     "name": "stdout",
     "output_type": "stream",
     "text": [
      "chi2 statistic:     752.96\n",
      "p-value:            9.1123e-166\n",
      "degrees of freedom: 1\n",
      "expected frequencies:\n",
      " [[18749.90317145  5058.09682855]\n",
      " [ 2283.09682855   615.90317145]]\n"
     ]
    }
   ],
   "source": [
    "chi2_stat, p, dof, expected = scipy.stats.chi2_contingency(ct_table_ind14)\n",
    " \n",
    "print(f\"chi2 statistic:     {chi2_stat:.5g}\")\n",
    "print(f\"p-value:            {p:.5g}\")\n",
    "print(f\"degrees of freedom: {dof}\")\n",
    "print(\"expected frequencies:\\n\",expected)"
   ]
  },
  {
   "cell_type": "code",
   "execution_count": 138,
   "id": "8529d33f",
   "metadata": {},
   "outputs": [
    {
     "name": "stdout",
     "output_type": "stream",
     "text": [
      "chi2 statistic:     2431\n",
      "p-value:            0\n",
      "degrees of freedom: 4\n",
      "expected frequencies:\n",
      " [[ 697.76605384  188.23394616]\n",
      " [1463.2610926   394.7389074 ]\n",
      " [3719.58134571 1003.41865429]\n",
      " [9508.83446287 2565.16553713]\n",
      " [5643.55704497 1522.44295503]]\n"
     ]
    }
   ],
   "source": [
    "chi2_stat, p, dof, expected = scipy.stats.chi2_contingency(ct_table_ind15)\n",
    " \n",
    "print(f\"chi2 statistic:     {chi2_stat:.5g}\")\n",
    "print(f\"p-value:            {p:.5g}\")\n",
    "print(f\"degrees of freedom: {dof}\")\n",
    "print(\"expected frequencies:\\n\",expected)"
   ]
  },
  {
   "cell_type": "code",
   "execution_count": 139,
   "id": "7335bcf8",
   "metadata": {},
   "outputs": [
    {
     "name": "stdout",
     "output_type": "stream",
     "text": [
      "chi2 statistic:     2842.3\n",
      "p-value:            0\n",
      "degrees of freedom: 4\n",
      "expected frequencies:\n",
      " [[6409.83963006 1729.16036994]\n",
      " [8117.24008687 2189.75991313]\n",
      " [ 879.6892575   237.3107425 ]\n",
      " [4248.02493728 1145.97506272]\n",
      " [1378.20608829  371.79391171]]\n"
     ]
    }
   ],
   "source": [
    "chi2_stat, p, dof, expected = scipy.stats.chi2_contingency(ct_table_ind16)\n",
    " \n",
    "print(f\"chi2 statistic:     {chi2_stat:.5g}\")\n",
    "print(f\"p-value:            {p:.5g}\")\n",
    "print(f\"degrees of freedom: {dof}\")\n",
    "print(\"expected frequencies:\\n\",expected)"
   ]
  },
  {
   "cell_type": "code",
   "execution_count": 140,
   "id": "08c1009f",
   "metadata": {},
   "outputs": [
    {
     "name": "stdout",
     "output_type": "stream",
     "text": [
      "chi2 statistic:     254.59\n",
      "p-value:            6.6758e-54\n",
      "degrees of freedom: 4\n",
      "expected frequencies:\n",
      " [[7086.34193283 1911.65806717]\n",
      " [7500.59130565 2023.40869435]\n",
      " [ 116.55685775   31.44314225]\n",
      " [4607.14606657 1242.85393343]\n",
      " [1722.3638372   464.6361628 ]]\n"
     ]
    }
   ],
   "source": [
    "chi2_stat, p, dof, expected = scipy.stats.chi2_contingency(ct_table_ind17)\n",
    " \n",
    "print(f\"chi2 statistic:     {chi2_stat:.5g}\")\n",
    "print(f\"p-value:            {p:.5g}\")\n",
    "print(f\"degrees of freedom: {dof}\")\n",
    "print(\"expected frequencies:\\n\",expected)"
   ]
  },
  {
   "cell_type": "code",
   "execution_count": 141,
   "id": "bc7d92b5",
   "metadata": {},
   "outputs": [
    {
     "name": "stdout",
     "output_type": "stream",
     "text": [
      "chi2 statistic:     1015.2\n",
      "p-value:            1.7813e-218\n",
      "degrees of freedom: 4\n",
      "expected frequencies:\n",
      " [[ 961.59407646  259.40592354]\n",
      " [1737.32721758  468.67278242]\n",
      " [ 957.65634478  258.34365522]\n",
      " [9522.22275059 2568.77724941]\n",
      " [7854.19961059 2118.80038941]]\n"
     ]
    }
   ],
   "source": [
    "chi2_stat, p, dof, expected = scipy.stats.chi2_contingency(ct_table_ind18)\n",
    " \n",
    "print(f\"chi2 statistic:     {chi2_stat:.5g}\")\n",
    "print(f\"p-value:            {p:.5g}\")\n",
    "print(f\"degrees of freedom: {dof}\")\n",
    "print(\"expected frequencies:\\n\",expected)"
   ]
  },
  {
   "cell_type": "code",
   "execution_count": 142,
   "id": "ce5e2af5",
   "metadata": {},
   "outputs": [
    {
     "name": "stdout",
     "output_type": "stream",
     "text": [
      "chi2 statistic:     1757.3\n",
      "p-value:            0\n",
      "degrees of freedom: 4\n",
      "expected frequencies:\n",
      " [[4704.80181226 1269.19818774]\n",
      " [7456.48871082 2011.51128918]\n",
      " [ 533.16886958  143.83113042]\n",
      " [6008.97854495 1621.02145505]\n",
      " [2329.56206238  628.43793762]]\n"
     ]
    }
   ],
   "source": [
    "chi2_stat, p, dof, expected = scipy.stats.chi2_contingency(ct_table_ind19)\n",
    " \n",
    "print(f\"chi2 statistic:     {chi2_stat:.5g}\")\n",
    "print(f\"p-value:            {p:.5g}\")\n",
    "print(f\"degrees of freedom: {dof}\")\n",
    "print(\"expected frequencies:\\n\",expected)"
   ]
  },
  {
   "cell_type": "code",
   "execution_count": 143,
   "id": "9ad4cb71",
   "metadata": {},
   "outputs": [
    {
     "name": "stdout",
     "output_type": "stream",
     "text": [
      "chi2 statistic:     45.128\n",
      "p-value:            3.7405e-09\n",
      "degrees of freedom: 4\n",
      "expected frequencies:\n",
      " [[9771.08739282 2635.91260718]\n",
      " [6011.34118396 1621.65881604]\n",
      " [  74.0293556    19.9706444 ]\n",
      " [3821.17482308 1030.82517692]\n",
      " [1355.36724454  365.63275546]]\n"
     ]
    }
   ],
   "source": [
    "chi2_stat, p, dof, expected = scipy.stats.chi2_contingency(ct_table_ind20)\n",
    " \n",
    "print(f\"chi2 statistic:     {chi2_stat:.5g}\")\n",
    "print(f\"p-value:            {p:.5g}\")\n",
    "print(f\"degrees of freedom: {dof}\")\n",
    "print(\"expected frequencies:\\n\",expected)"
   ]
  },
  {
   "cell_type": "code",
   "execution_count": 144,
   "id": "4d511dcb",
   "metadata": {},
   "outputs": [
    {
     "name": "stdout",
     "output_type": "stream",
     "text": [
      "chi2 statistic:     69.446\n",
      "p-value:            2.9716e-14\n",
      "degrees of freedom: 4\n",
      "expected frequencies:\n",
      " [[4107.05414311 1107.94585689]\n",
      " [3030.47830157  817.52169843]\n",
      " [4125.16770884 1112.83229116]\n",
      " [4381.12026809 1181.87973191]\n",
      " [5389.17957839 1453.82042161]]\n"
     ]
    }
   ],
   "source": [
    "chi2_stat, p, dof, expected = scipy.stats.chi2_contingency(ct_table_ind21)\n",
    " \n",
    "print(f\"chi2 statistic:     {chi2_stat:.5g}\")\n",
    "print(f\"p-value:            {p:.5g}\")\n",
    "print(f\"degrees of freedom: {dof}\")\n",
    "print(\"expected frequencies:\\n\",expected)"
   ]
  },
  {
   "cell_type": "code",
   "execution_count": 145,
   "id": "a3cddeb7",
   "metadata": {},
   "outputs": [
    {
     "name": "stdout",
     "output_type": "stream",
     "text": [
      "chi2 statistic:     103.19\n",
      "p-value:            3.2098e-22\n",
      "degrees of freedom: 3\n",
      "expected frequencies:\n",
      " [[4565.40611076 1231.59388924]\n",
      " [1860.97199236  502.02800764]\n",
      " [9059.93305126 2444.06694874]\n",
      " [5546.68884562 1496.31115438]]\n"
     ]
    }
   ],
   "source": [
    "chi2_stat, p, dof, expected = scipy.stats.chi2_contingency(ct_table_ind22)\n",
    " \n",
    "print(f\"chi2 statistic:     {chi2_stat:.5g}\")\n",
    "print(f\"p-value:            {p:.5g}\")\n",
    "print(f\"degrees of freedom: {dof}\")\n",
    "print(\"expected frequencies:\\n\",expected)"
   ]
  },
  {
   "cell_type": "code",
   "execution_count": 146,
   "id": "8eeb8766",
   "metadata": {},
   "outputs": [
    {
     "name": "stdout",
     "output_type": "stream",
     "text": [
      "chi2 statistic:     57.011\n",
      "p-value:            2.5558e-12\n",
      "degrees of freedom: 3\n",
      "expected frequencies:\n",
      " [[ 1668.02314      449.97686   ]\n",
      " [ 1382.14381997   372.85618003]\n",
      " [ 1269.5246939    342.4753061 ]\n",
      " [16713.30834613  4508.69165387]]\n"
     ]
    }
   ],
   "source": [
    "chi2_stat, p, dof, expected = scipy.stats.chi2_contingency(ct_table_ind23)\n",
    " \n",
    "print(f\"chi2 statistic:     {chi2_stat:.5g}\")\n",
    "print(f\"p-value:            {p:.5g}\")\n",
    "print(f\"degrees of freedom: {dof}\")\n",
    "print(\"expected frequencies:\\n\",expected)"
   ]
  },
  {
   "cell_type": "code",
   "execution_count": 147,
   "id": "8e4d20b5",
   "metadata": {},
   "outputs": [
    {
     "name": "stdout",
     "output_type": "stream",
     "text": [
      "chi2 statistic:     11.31\n",
      "p-value:            0.00077092\n",
      "degrees of freedom: 1\n",
      "expected frequencies:\n",
      " [[12488.90979893  3369.09020107]\n",
      " [ 8544.09020107  2304.90979893]]\n"
     ]
    }
   ],
   "source": [
    "chi2_stat, p, dof, expected = scipy.stats.chi2_contingency(ct_table_ind24)\n",
    " \n",
    "print(f\"chi2 statistic:     {chi2_stat:.5g}\")\n",
    "print(f\"p-value:            {p:.5g}\")\n",
    "print(f\"degrees of freedom: {dof}\")\n",
    "print(\"expected frequencies:\\n\",expected)"
   ]
  },
  {
   "cell_type": "code",
   "execution_count": 148,
   "id": "fec1fe14",
   "metadata": {},
   "outputs": [
    {
     "name": "stdout",
     "output_type": "stream",
     "text": [
      "chi2 statistic:     90.84\n",
      "p-value:            1.8807e-20\n",
      "degrees of freedom: 2\n",
      "expected frequencies:\n",
      " [[13545.79698206  3654.20301794]\n",
      " [ 5363.19054929  1446.80945071]\n",
      " [ 2124.01246864   572.98753136]]\n"
     ]
    }
   ],
   "source": [
    "chi2_stat, p, dof, expected = scipy.stats.chi2_contingency(ct_table_ind25)\n",
    " \n",
    "print(f\"chi2 statistic:     {chi2_stat:.5g}\")\n",
    "print(f\"p-value:            {p:.5g}\")\n",
    "print(f\"degrees of freedom: {dof}\")\n",
    "print(\"expected frequencies:\\n\",expected)"
   ]
  },
  {
   "cell_type": "code",
   "execution_count": 149,
   "id": "22a6d707",
   "metadata": {},
   "outputs": [
    {
     "name": "stdout",
     "output_type": "stream",
     "text": [
      "chi2 statistic:     54.326\n",
      "p-value:            1.6986e-13\n",
      "degrees of freedom: 1\n",
      "expected frequencies:\n",
      " [[11784.05582806  3178.94417194]\n",
      " [ 9248.94417194  2495.05582806]]\n"
     ]
    }
   ],
   "source": [
    "chi2_stat, p, dof, expected = scipy.stats.chi2_contingency(ct_table_ind26)\n",
    " \n",
    "print(f\"chi2 statistic:     {chi2_stat:.5g}\")\n",
    "print(f\"p-value:            {p:.5g}\")\n",
    "print(f\"degrees of freedom: {dof}\")\n",
    "print(\"expected frequencies:\\n\",expected)"
   ]
  },
  {
   "cell_type": "code",
   "execution_count": 150,
   "id": "2512f052",
   "metadata": {},
   "outputs": [
    {
     "name": "stdout",
     "output_type": "stream",
     "text": [
      "chi2 statistic:     25.445\n",
      "p-value:            4.5507e-07\n",
      "degrees of freedom: 1\n",
      "expected frequencies:\n",
      " [[16363.63777287  4414.36222713]\n",
      " [ 4669.36222713  1259.63777287]]\n"
     ]
    }
   ],
   "source": [
    "chi2_stat, p, dof, expected = scipy.stats.chi2_contingency(ct_table_ind27)\n",
    " \n",
    "print(f\"chi2 statistic:     {chi2_stat:.5g}\")\n",
    "print(f\"p-value:            {p:.5g}\")\n",
    "print(f\"degrees of freedom: {dof}\")\n",
    "print(\"expected frequencies:\\n\",expected)"
   ]
  },
  {
   "cell_type": "code",
   "execution_count": 151,
   "id": "32ff461d",
   "metadata": {},
   "outputs": [
    {
     "name": "stdout",
     "output_type": "stream",
     "text": [
      "chi2 statistic:     23.958\n",
      "p-value:            6.2747e-06\n",
      "degrees of freedom: 2\n",
      "expected frequencies:\n",
      " [[11831.30860823  3191.69139177]\n",
      " [ 8057.38656532  2173.61343468]\n",
      " [ 1144.30482645   308.69517355]]\n"
     ]
    }
   ],
   "source": [
    "chi2_stat, p, dof, expected = scipy.stats.chi2_contingency(ct_table_ind28)\n",
    " \n",
    "print(f\"chi2 statistic:     {chi2_stat:.5g}\")\n",
    "print(f\"p-value:            {p:.5g}\")\n",
    "print(f\"degrees of freedom: {dof}\")\n",
    "print(\"expected frequencies:\\n\",expected)"
   ]
  },
  {
   "cell_type": "code",
   "execution_count": 152,
   "id": "47911530",
   "metadata": {},
   "outputs": [
    {
     "name": "stdout",
     "output_type": "stream",
     "text": [
      "chi2 statistic:     0.11411\n",
      "p-value:            0.94454\n",
      "degrees of freedom: 2\n",
      "expected frequencies:\n",
      " [[9170.97708466 2474.02291534]\n",
      " [6193.26438761 1670.73561239]\n",
      " [5668.75852773 1529.24147227]]\n"
     ]
    }
   ],
   "source": [
    "chi2_stat, p, dof, expected = scipy.stats.chi2_contingency(ct_table_ind29)\n",
    " \n",
    "print(f\"chi2 statistic:     {chi2_stat:.5g}\")\n",
    "print(f\"p-value:            {p:.5g}\")\n",
    "print(f\"degrees of freedom: {dof}\")\n",
    "print(\"expected frequencies:\\n\",expected)"
   ]
  },
  {
   "cell_type": "code",
   "execution_count": 153,
   "id": "dc8f50fd",
   "metadata": {},
   "outputs": [
    {
     "name": "stdout",
     "output_type": "stream",
     "text": [
      "chi2 statistic:     28.248\n",
      "p-value:            3.2214e-06\n",
      "degrees of freedom: 3\n",
      "expected frequencies:\n",
      " [[ 6344.47328416  1711.52671584]\n",
      " [11595.04470738  3127.95529262]\n",
      " [ 2207.49238027   595.50761973]\n",
      " [  885.98962819   239.01037181]]\n"
     ]
    }
   ],
   "source": [
    "chi2_stat, p, dof, expected = scipy.stats.chi2_contingency(ct_table_ind30)\n",
    " \n",
    "print(f\"chi2 statistic:     {chi2_stat:.5g}\")\n",
    "print(f\"p-value:            {p:.5g}\")\n",
    "print(f\"degrees of freedom: {dof}\")\n",
    "print(\"expected frequencies:\\n\",expected)"
   ]
  },
  {
   "cell_type": "code",
   "execution_count": 154,
   "id": "645c8c91",
   "metadata": {},
   "outputs": [
    {
     "name": "stdout",
     "output_type": "stream",
     "text": [
      "chi2 statistic:     2.5613\n",
      "p-value:            0.46432\n",
      "degrees of freedom: 3\n",
      "expected frequencies:\n",
      " [[14901.16422661  4019.83577339]\n",
      " [ 2500.45961733   674.54038267]\n",
      " [ 2255.53270678   608.46729322]\n",
      " [ 1375.84344928   371.15655072]]\n"
     ]
    }
   ],
   "source": [
    "chi2_stat, p, dof, expected = scipy.stats.chi2_contingency(ct_table_ind31)\n",
    " \n",
    "print(f\"chi2 statistic:     {chi2_stat:.5g}\")\n",
    "print(f\"p-value:            {p:.5g}\")\n",
    "print(f\"degrees of freedom: {dof}\")\n",
    "print(\"expected frequencies:\\n\",expected)"
   ]
  },
  {
   "cell_type": "code",
   "execution_count": 155,
   "id": "ad0f4b30",
   "metadata": {},
   "outputs": [],
   "source": [
    "df.drop(['census_msa'],axis=1,inplace=True)"
   ]
  },
  {
   "cell_type": "code",
   "execution_count": 156,
   "id": "91bc0b0d",
   "metadata": {},
   "outputs": [],
   "source": [
    "df.drop(['no_of_children'],axis=1,inplace=True)"
   ]
  },
  {
   "cell_type": "code",
   "execution_count": 157,
   "id": "5dcf5eb4",
   "metadata": {},
   "outputs": [
    {
     "data": {
      "text/plain": [
       "(26707, 30)"
      ]
     },
     "execution_count": 157,
     "metadata": {},
     "output_type": "execute_result"
    }
   ],
   "source": [
    "df.shape"
   ]
  },
  {
   "cell_type": "code",
   "execution_count": null,
   "id": "21b6b035",
   "metadata": {},
   "outputs": [],
   "source": []
  }
 ],
 "metadata": {
  "kernelspec": {
   "display_name": "Python 3 (ipykernel)",
   "language": "python",
   "name": "python3"
  },
  "language_info": {
   "codemirror_mode": {
    "name": "ipython",
    "version": 3
   },
   "file_extension": ".py",
   "mimetype": "text/x-python",
   "name": "python",
   "nbconvert_exporter": "python",
   "pygments_lexer": "ipython3",
   "version": "3.9.12"
  }
 },
 "nbformat": 4,
 "nbformat_minor": 5
}
