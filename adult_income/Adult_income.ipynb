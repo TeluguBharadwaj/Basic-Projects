{
 "cells": [
  {
   "cell_type": "code",
   "execution_count": 1,
   "id": "cd576a9d",
   "metadata": {},
   "outputs": [],
   "source": [
    "import os\n",
    "os.chdir('C:\\\\Users\\\\telug\\\\OneDrive\\\\Desktop\\\\WD_python')\n",
    "import pandas as pd  \n",
    "import numpy as np\n",
    "import matplotlib.pyplot as plt\n",
    "import seaborn as sns\n",
    "import scipy as stats\n",
    "import statsmodels.api as sm\n",
    "from statsmodels.formula.api import ols\n",
    "from statsmodels.stats.multicomp import pairwise_tukeyhsd"
   ]
  },
  {
   "cell_type": "code",
   "execution_count": 2,
   "id": "646673ac",
   "metadata": {},
   "outputs": [],
   "source": [
    "df=pd.read_csv('adult_income.csv')"
   ]
  },
  {
   "cell_type": "code",
   "execution_count": 3,
   "id": "8edf1828",
   "metadata": {},
   "outputs": [
    {
     "data": {
      "text/html": [
       "<div>\n",
       "<style scoped>\n",
       "    .dataframe tbody tr th:only-of-type {\n",
       "        vertical-align: middle;\n",
       "    }\n",
       "\n",
       "    .dataframe tbody tr th {\n",
       "        vertical-align: top;\n",
       "    }\n",
       "\n",
       "    .dataframe thead th {\n",
       "        text-align: right;\n",
       "    }\n",
       "</style>\n",
       "<table border=\"1\" class=\"dataframe\">\n",
       "  <thead>\n",
       "    <tr style=\"text-align: right;\">\n",
       "      <th></th>\n",
       "      <th>Unnamed: 0</th>\n",
       "      <th>Age</th>\n",
       "      <th>Workclass</th>\n",
       "      <th>fnlwgt</th>\n",
       "      <th>education</th>\n",
       "      <th>education-num</th>\n",
       "      <th>marital-status</th>\n",
       "      <th>occupation</th>\n",
       "      <th>relationship</th>\n",
       "      <th>race</th>\n",
       "      <th>sex</th>\n",
       "      <th>capital-gain</th>\n",
       "      <th>capital-loss</th>\n",
       "      <th>hours-per-week</th>\n",
       "      <th>native-country</th>\n",
       "      <th>income</th>\n",
       "    </tr>\n",
       "  </thead>\n",
       "  <tbody>\n",
       "    <tr>\n",
       "      <th>0</th>\n",
       "      <td>0</td>\n",
       "      <td>39</td>\n",
       "      <td>State-gov</td>\n",
       "      <td>77516</td>\n",
       "      <td>Bachelors</td>\n",
       "      <td>13</td>\n",
       "      <td>Never-married</td>\n",
       "      <td>Adm-clerical</td>\n",
       "      <td>Not-in-family</td>\n",
       "      <td>White</td>\n",
       "      <td>Male</td>\n",
       "      <td>2174</td>\n",
       "      <td>0</td>\n",
       "      <td>40</td>\n",
       "      <td>United-States</td>\n",
       "      <td>&lt;=50K</td>\n",
       "    </tr>\n",
       "    <tr>\n",
       "      <th>1</th>\n",
       "      <td>1</td>\n",
       "      <td>50</td>\n",
       "      <td>Self-emp-not-inc</td>\n",
       "      <td>83311</td>\n",
       "      <td>Bachelors</td>\n",
       "      <td>13</td>\n",
       "      <td>Married-civ-spouse</td>\n",
       "      <td>Exec-managerial</td>\n",
       "      <td>Husband</td>\n",
       "      <td>White</td>\n",
       "      <td>Male</td>\n",
       "      <td>0</td>\n",
       "      <td>0</td>\n",
       "      <td>13</td>\n",
       "      <td>United-States</td>\n",
       "      <td>&lt;=50K</td>\n",
       "    </tr>\n",
       "    <tr>\n",
       "      <th>2</th>\n",
       "      <td>2</td>\n",
       "      <td>38</td>\n",
       "      <td>Private</td>\n",
       "      <td>215646</td>\n",
       "      <td>HS-grad</td>\n",
       "      <td>9</td>\n",
       "      <td>Divorced</td>\n",
       "      <td>Handlers-cleaners</td>\n",
       "      <td>Not-in-family</td>\n",
       "      <td>White</td>\n",
       "      <td>Male</td>\n",
       "      <td>0</td>\n",
       "      <td>0</td>\n",
       "      <td>40</td>\n",
       "      <td>United-States</td>\n",
       "      <td>&lt;=50K</td>\n",
       "    </tr>\n",
       "    <tr>\n",
       "      <th>3</th>\n",
       "      <td>3</td>\n",
       "      <td>53</td>\n",
       "      <td>Private</td>\n",
       "      <td>234721</td>\n",
       "      <td>11th</td>\n",
       "      <td>7</td>\n",
       "      <td>Married-civ-spouse</td>\n",
       "      <td>Handlers-cleaners</td>\n",
       "      <td>Husband</td>\n",
       "      <td>Black</td>\n",
       "      <td>Male</td>\n",
       "      <td>0</td>\n",
       "      <td>0</td>\n",
       "      <td>40</td>\n",
       "      <td>United-States</td>\n",
       "      <td>&lt;=50K</td>\n",
       "    </tr>\n",
       "    <tr>\n",
       "      <th>4</th>\n",
       "      <td>4</td>\n",
       "      <td>28</td>\n",
       "      <td>Private</td>\n",
       "      <td>338409</td>\n",
       "      <td>Bachelors</td>\n",
       "      <td>13</td>\n",
       "      <td>Married-civ-spouse</td>\n",
       "      <td>Prof-specialty</td>\n",
       "      <td>Wife</td>\n",
       "      <td>Black</td>\n",
       "      <td>Female</td>\n",
       "      <td>0</td>\n",
       "      <td>0</td>\n",
       "      <td>40</td>\n",
       "      <td>Cuba</td>\n",
       "      <td>&lt;=50K</td>\n",
       "    </tr>\n",
       "    <tr>\n",
       "      <th>...</th>\n",
       "      <td>...</td>\n",
       "      <td>...</td>\n",
       "      <td>...</td>\n",
       "      <td>...</td>\n",
       "      <td>...</td>\n",
       "      <td>...</td>\n",
       "      <td>...</td>\n",
       "      <td>...</td>\n",
       "      <td>...</td>\n",
       "      <td>...</td>\n",
       "      <td>...</td>\n",
       "      <td>...</td>\n",
       "      <td>...</td>\n",
       "      <td>...</td>\n",
       "      <td>...</td>\n",
       "      <td>...</td>\n",
       "    </tr>\n",
       "    <tr>\n",
       "      <th>32556</th>\n",
       "      <td>32556</td>\n",
       "      <td>27</td>\n",
       "      <td>Private</td>\n",
       "      <td>257302</td>\n",
       "      <td>Assoc-acdm</td>\n",
       "      <td>12</td>\n",
       "      <td>Married-civ-spouse</td>\n",
       "      <td>Tech-support</td>\n",
       "      <td>Wife</td>\n",
       "      <td>White</td>\n",
       "      <td>Female</td>\n",
       "      <td>0</td>\n",
       "      <td>0</td>\n",
       "      <td>38</td>\n",
       "      <td>United-States</td>\n",
       "      <td>&lt;=50K</td>\n",
       "    </tr>\n",
       "    <tr>\n",
       "      <th>32557</th>\n",
       "      <td>32557</td>\n",
       "      <td>40</td>\n",
       "      <td>Private</td>\n",
       "      <td>154374</td>\n",
       "      <td>HS-grad</td>\n",
       "      <td>9</td>\n",
       "      <td>Married-civ-spouse</td>\n",
       "      <td>Machine-op-inspct</td>\n",
       "      <td>Husband</td>\n",
       "      <td>White</td>\n",
       "      <td>Male</td>\n",
       "      <td>0</td>\n",
       "      <td>0</td>\n",
       "      <td>40</td>\n",
       "      <td>United-States</td>\n",
       "      <td>&gt;50K</td>\n",
       "    </tr>\n",
       "    <tr>\n",
       "      <th>32558</th>\n",
       "      <td>32558</td>\n",
       "      <td>58</td>\n",
       "      <td>Private</td>\n",
       "      <td>151910</td>\n",
       "      <td>HS-grad</td>\n",
       "      <td>9</td>\n",
       "      <td>Widowed</td>\n",
       "      <td>Adm-clerical</td>\n",
       "      <td>Unmarried</td>\n",
       "      <td>White</td>\n",
       "      <td>Female</td>\n",
       "      <td>0</td>\n",
       "      <td>0</td>\n",
       "      <td>40</td>\n",
       "      <td>United-States</td>\n",
       "      <td>&lt;=50K</td>\n",
       "    </tr>\n",
       "    <tr>\n",
       "      <th>32559</th>\n",
       "      <td>32559</td>\n",
       "      <td>22</td>\n",
       "      <td>Private</td>\n",
       "      <td>201490</td>\n",
       "      <td>HS-grad</td>\n",
       "      <td>9</td>\n",
       "      <td>Never-married</td>\n",
       "      <td>Adm-clerical</td>\n",
       "      <td>Own-child</td>\n",
       "      <td>White</td>\n",
       "      <td>Male</td>\n",
       "      <td>0</td>\n",
       "      <td>0</td>\n",
       "      <td>20</td>\n",
       "      <td>United-States</td>\n",
       "      <td>&lt;=50K</td>\n",
       "    </tr>\n",
       "    <tr>\n",
       "      <th>32560</th>\n",
       "      <td>32560</td>\n",
       "      <td>52</td>\n",
       "      <td>Self-emp-inc</td>\n",
       "      <td>287927</td>\n",
       "      <td>HS-grad</td>\n",
       "      <td>9</td>\n",
       "      <td>Married-civ-spouse</td>\n",
       "      <td>Exec-managerial</td>\n",
       "      <td>Wife</td>\n",
       "      <td>White</td>\n",
       "      <td>Female</td>\n",
       "      <td>15024</td>\n",
       "      <td>0</td>\n",
       "      <td>40</td>\n",
       "      <td>United-States</td>\n",
       "      <td>&gt;50K</td>\n",
       "    </tr>\n",
       "  </tbody>\n",
       "</table>\n",
       "<p>32561 rows × 16 columns</p>\n",
       "</div>"
      ],
      "text/plain": [
       "       Unnamed: 0  Age          Workclass  fnlwgt    education  education-num  \\\n",
       "0               0   39          State-gov   77516    Bachelors             13   \n",
       "1               1   50   Self-emp-not-inc   83311    Bachelors             13   \n",
       "2               2   38            Private  215646      HS-grad              9   \n",
       "3               3   53            Private  234721         11th              7   \n",
       "4               4   28            Private  338409    Bachelors             13   \n",
       "...           ...  ...                ...     ...          ...            ...   \n",
       "32556       32556   27            Private  257302   Assoc-acdm             12   \n",
       "32557       32557   40            Private  154374      HS-grad              9   \n",
       "32558       32558   58            Private  151910      HS-grad              9   \n",
       "32559       32559   22            Private  201490      HS-grad              9   \n",
       "32560       32560   52       Self-emp-inc  287927      HS-grad              9   \n",
       "\n",
       "            marital-status          occupation    relationship    race  \\\n",
       "0            Never-married        Adm-clerical   Not-in-family   White   \n",
       "1       Married-civ-spouse     Exec-managerial         Husband   White   \n",
       "2                 Divorced   Handlers-cleaners   Not-in-family   White   \n",
       "3       Married-civ-spouse   Handlers-cleaners         Husband   Black   \n",
       "4       Married-civ-spouse      Prof-specialty            Wife   Black   \n",
       "...                    ...                 ...             ...     ...   \n",
       "32556   Married-civ-spouse        Tech-support            Wife   White   \n",
       "32557   Married-civ-spouse   Machine-op-inspct         Husband   White   \n",
       "32558              Widowed        Adm-clerical       Unmarried   White   \n",
       "32559        Never-married        Adm-clerical       Own-child   White   \n",
       "32560   Married-civ-spouse     Exec-managerial            Wife   White   \n",
       "\n",
       "           sex  capital-gain  capital-loss  hours-per-week  native-country  \\\n",
       "0         Male          2174             0              40   United-States   \n",
       "1         Male             0             0              13   United-States   \n",
       "2         Male             0             0              40   United-States   \n",
       "3         Male             0             0              40   United-States   \n",
       "4       Female             0             0              40            Cuba   \n",
       "...        ...           ...           ...             ...             ...   \n",
       "32556   Female             0             0              38   United-States   \n",
       "32557     Male             0             0              40   United-States   \n",
       "32558   Female             0             0              40   United-States   \n",
       "32559     Male             0             0              20   United-States   \n",
       "32560   Female         15024             0              40   United-States   \n",
       "\n",
       "       income  \n",
       "0       <=50K  \n",
       "1       <=50K  \n",
       "2       <=50K  \n",
       "3       <=50K  \n",
       "4       <=50K  \n",
       "...       ...  \n",
       "32556   <=50K  \n",
       "32557    >50K  \n",
       "32558   <=50K  \n",
       "32559   <=50K  \n",
       "32560    >50K  \n",
       "\n",
       "[32561 rows x 16 columns]"
      ]
     },
     "execution_count": 3,
     "metadata": {},
     "output_type": "execute_result"
    }
   ],
   "source": [
    "df\n"
   ]
  },
  {
   "cell_type": "code",
   "execution_count": 4,
   "id": "8fee53aa",
   "metadata": {},
   "outputs": [
    {
     "name": "stdout",
     "output_type": "stream",
     "text": [
      "<class 'pandas.core.frame.DataFrame'>\n",
      "RangeIndex: 32561 entries, 0 to 32560\n",
      "Data columns (total 16 columns):\n",
      " #   Column          Non-Null Count  Dtype \n",
      "---  ------          --------------  ----- \n",
      " 0   Unnamed: 0      32561 non-null  int64 \n",
      " 1   Age             32561 non-null  int64 \n",
      " 2   Workclass       32561 non-null  object\n",
      " 3   fnlwgt          32561 non-null  int64 \n",
      " 4   education       32561 non-null  object\n",
      " 5   education-num   32561 non-null  int64 \n",
      " 6   marital-status  32561 non-null  object\n",
      " 7   occupation      32561 non-null  object\n",
      " 8   relationship    32561 non-null  object\n",
      " 9   race            32561 non-null  object\n",
      " 10  sex             32561 non-null  object\n",
      " 11  capital-gain    32561 non-null  int64 \n",
      " 12  capital-loss    32561 non-null  int64 \n",
      " 13  hours-per-week  32561 non-null  int64 \n",
      " 14  native-country  32561 non-null  object\n",
      " 15  income          32561 non-null  object\n",
      "dtypes: int64(7), object(9)\n",
      "memory usage: 4.0+ MB\n"
     ]
    }
   ],
   "source": [
    "df.info()"
   ]
  },
  {
   "cell_type": "code",
   "execution_count": 5,
   "id": "a4e54253",
   "metadata": {},
   "outputs": [],
   "source": [
    "df.drop(['Unnamed: 0'],axis=1,inplace=True)"
   ]
  },
  {
   "cell_type": "code",
   "execution_count": 6,
   "id": "78f71ab2",
   "metadata": {},
   "outputs": [
    {
     "name": "stdout",
     "output_type": "stream",
     "text": [
      "<class 'pandas.core.frame.DataFrame'>\n",
      "RangeIndex: 32561 entries, 0 to 32560\n",
      "Data columns (total 15 columns):\n",
      " #   Column          Non-Null Count  Dtype \n",
      "---  ------          --------------  ----- \n",
      " 0   Age             32561 non-null  int64 \n",
      " 1   Workclass       32561 non-null  object\n",
      " 2   fnlwgt          32561 non-null  int64 \n",
      " 3   education       32561 non-null  object\n",
      " 4   education-num   32561 non-null  int64 \n",
      " 5   marital-status  32561 non-null  object\n",
      " 6   occupation      32561 non-null  object\n",
      " 7   relationship    32561 non-null  object\n",
      " 8   race            32561 non-null  object\n",
      " 9   sex             32561 non-null  object\n",
      " 10  capital-gain    32561 non-null  int64 \n",
      " 11  capital-loss    32561 non-null  int64 \n",
      " 12  hours-per-week  32561 non-null  int64 \n",
      " 13  native-country  32561 non-null  object\n",
      " 14  income          32561 non-null  object\n",
      "dtypes: int64(6), object(9)\n",
      "memory usage: 3.7+ MB\n"
     ]
    }
   ],
   "source": [
    "df.info()"
   ]
  },
  {
   "cell_type": "code",
   "execution_count": 7,
   "id": "27046b84",
   "metadata": {},
   "outputs": [
    {
     "data": {
      "text/plain": [
       "Age               0\n",
       "Workclass         0\n",
       "fnlwgt            0\n",
       "education         0\n",
       "education-num     0\n",
       "marital-status    0\n",
       "occupation        0\n",
       "relationship      0\n",
       "race              0\n",
       "sex               0\n",
       "capital-gain      0\n",
       "capital-loss      0\n",
       "hours-per-week    0\n",
       "native-country    0\n",
       "income            0\n",
       "dtype: int64"
      ]
     },
     "execution_count": 7,
     "metadata": {},
     "output_type": "execute_result"
    }
   ],
   "source": [
    "df.isnull().sum()"
   ]
  },
  {
   "cell_type": "code",
   "execution_count": 8,
   "id": "f9dc6ec7",
   "metadata": {},
   "outputs": [],
   "source": [
    "#income(Target variable)"
   ]
  },
  {
   "cell_type": "code",
   "execution_count": 9,
   "id": "9d6253f0",
   "metadata": {},
   "outputs": [
    {
     "data": {
      "text/plain": [
       " <=50K    24720\n",
       " >50K      7841\n",
       "Name: income, dtype: int64"
      ]
     },
     "execution_count": 9,
     "metadata": {},
     "output_type": "execute_result"
    }
   ],
   "source": [
    "df.income.value_counts()"
   ]
  },
  {
   "cell_type": "code",
   "execution_count": 10,
   "id": "fe9da7ed",
   "metadata": {},
   "outputs": [],
   "source": [
    "#income is in words(need to label it as 0 and 1)\n",
    "df['income']=df.get('income').replace(' <=50K',0)\n",
    "df['income']=df.get('income').replace(' >50K',1)"
   ]
  },
  {
   "cell_type": "code",
   "execution_count": 11,
   "id": "cb983110",
   "metadata": {},
   "outputs": [
    {
     "data": {
      "text/plain": [
       "0    24720\n",
       "1     7841\n",
       "Name: income, dtype: int64"
      ]
     },
     "execution_count": 11,
     "metadata": {},
     "output_type": "execute_result"
    }
   ],
   "source": [
    "df.income.value_counts()"
   ]
  },
  {
   "cell_type": "code",
   "execution_count": 12,
   "id": "a69750da",
   "metadata": {},
   "outputs": [
    {
     "name": "stderr",
     "output_type": "stream",
     "text": [
      "C:\\Users\\telug\\anaconda3\\lib\\site-packages\\seaborn\\_decorators.py:36: FutureWarning: Pass the following variable as a keyword arg: x. From version 0.12, the only valid positional argument will be `data`, and passing other arguments without an explicit keyword will result in an error or misinterpretation.\n",
      "  warnings.warn(\n"
     ]
    },
    {
     "data": {
      "text/plain": [
       "Text(0.5, 1.0, 'Histogram of income')"
      ]
     },
     "execution_count": 12,
     "metadata": {},
     "output_type": "execute_result"
    },
    {
     "data": {
      "image/png": "[encoded data removed]",
      "text/plain": [
       "<Figure size 432x432 with 1 Axes>"
      ]
     },
     "metadata": {},
     "output_type": "display_data"
    }
   ],
   "source": [
    "sns.set()\n",
    "plt.figure(figsize=(6,6))\n",
    "sns.countplot(df['income'])\n",
    "plt.show\n",
    "plt.xlabel('income')\n",
    "plt.ylabel('counts')\n",
    "plt.title('Histogram of income') "
   ]
  },
  {
   "cell_type": "code",
   "execution_count": 13,
   "id": "30e0fa22",
   "metadata": {},
   "outputs": [],
   "source": [
    "#Age"
   ]
  },
  {
   "cell_type": "code",
   "execution_count": 14,
   "id": "0a50baeb",
   "metadata": {},
   "outputs": [
    {
     "name": "stderr",
     "output_type": "stream",
     "text": [
      "C:\\Users\\telug\\anaconda3\\lib\\site-packages\\seaborn\\distributions.py:2619: FutureWarning: `distplot` is a deprecated function and will be removed in a future version. Please adapt your code to use either `displot` (a figure-level function with similar flexibility) or `histplot` (an axes-level function for histograms).\n",
      "  warnings.warn(msg, FutureWarning)\n"
     ]
    },
    {
     "data": {
      "text/plain": [
       "Text(0.5, 1.0, 'Histogram of Age')"
      ]
     },
     "execution_count": 14,
     "metadata": {},
     "output_type": "execute_result"
    },
    {
     "data": {
      "image/png": "[encoded data removed]",
      "text/plain": [
       "<Figure size 432x432 with 1 Axes>"
      ]
     },
     "metadata": {},
     "output_type": "display_data"
    }
   ],
   "source": [
    "sns.set()\n",
    "plt.figure(figsize=(6,6))\n",
    "sns.distplot(df['Age'])\n",
    "plt.show\n",
    "plt.xlabel('Age')\n",
    "plt.ylabel('counts')\n",
    "plt.title('Histogram of Age') "
   ]
  },
  {
   "cell_type": "code",
   "execution_count": 15,
   "id": "061e4f16",
   "metadata": {},
   "outputs": [
    {
     "data": {
      "text/plain": [
       "<AxesSubplot:>"
      ]
     },
     "execution_count": 15,
     "metadata": {},
     "output_type": "execute_result"
    },
    {
     "data": {
      "image/png": "[encoded data removed]",
      "text/plain": [
       "<Figure size 432x288 with 1 Axes>"
      ]
     },
     "metadata": {},
     "output_type": "display_data"
    }
   ],
   "source": [
    "Age=df['Age']\n",
    "props2= dict(boxes='blue',whiskers='black',medians='red',caps='black')\n",
    "Age.plot.box(color=props2,patch_artist=True,vert=True)"
   ]
  },
  {
   "cell_type": "code",
   "execution_count": 16,
   "id": "450a8a2e",
   "metadata": {},
   "outputs": [],
   "source": [
    "#Workclass(categorical(nominal))"
   ]
  },
  {
   "cell_type": "code",
   "execution_count": 17,
   "id": "d89ac6cd",
   "metadata": {},
   "outputs": [
    {
     "data": {
      "text/plain": [
       " Private             22696\n",
       " Self-emp-not-inc     2541\n",
       " Local-gov            2093\n",
       " ?                    1836\n",
       " State-gov            1298\n",
       " Self-emp-inc         1116\n",
       " Federal-gov           960\n",
       " Without-pay            14\n",
       " Never-worked            7\n",
       "Name: Workclass, dtype: int64"
      ]
     },
     "execution_count": 17,
     "metadata": {},
     "output_type": "execute_result"
    }
   ],
   "source": [
    "df.Workclass.value_counts()"
   ]
  },
  {
   "cell_type": "code",
   "execution_count": 18,
   "id": "061ebb4e",
   "metadata": {},
   "outputs": [],
   "source": [
    "df.drop(df.loc[df['Workclass']==' ?'].index, inplace=True)"
   ]
  },
  {
   "cell_type": "code",
   "execution_count": 19,
   "id": "15fdb259",
   "metadata": {},
   "outputs": [
    {
     "data": {
      "text/plain": [
       " Private             22696\n",
       " Self-emp-not-inc     2541\n",
       " Local-gov            2093\n",
       " State-gov            1298\n",
       " Self-emp-inc         1116\n",
       " Federal-gov           960\n",
       " Without-pay            14\n",
       " Never-worked            7\n",
       "Name: Workclass, dtype: int64"
      ]
     },
     "execution_count": 19,
     "metadata": {},
     "output_type": "execute_result"
    }
   ],
   "source": [
    "df.Workclass.value_counts()"
   ]
  },
  {
   "cell_type": "code",
   "execution_count": 20,
   "id": "c2195073",
   "metadata": {},
   "outputs": [
    {
     "name": "stderr",
     "output_type": "stream",
     "text": [
      "C:\\Users\\telug\\anaconda3\\lib\\site-packages\\seaborn\\_decorators.py:36: FutureWarning: Pass the following variable as a keyword arg: x. From version 0.12, the only valid positional argument will be `data`, and passing other arguments without an explicit keyword will result in an error or misinterpretation.\n",
      "  warnings.warn(\n"
     ]
    },
    {
     "data": {
      "text/plain": [
       "Text(0.5, 1.0, 'Histogram of Workclass')"
      ]
     },
     "execution_count": 20,
     "metadata": {},
     "output_type": "execute_result"
    },
    {
     "data": {
      "image/png": "[encoded data removed]",
      "text/plain": [
       "<Figure size 864x432 with 1 Axes>"
      ]
     },
     "metadata": {},
     "output_type": "display_data"
    }
   ],
   "source": [
    "sns.set()\n",
    "plt.figure(figsize=(12,6))\n",
    "sns.countplot(df['Workclass'])\n",
    "plt.show\n",
    "plt.xlabel('Workclass')\n",
    "plt.ylabel('counts')\n",
    "plt.title('Histogram of Workclass') "
   ]
  },
  {
   "cell_type": "code",
   "execution_count": 21,
   "id": "28cbbed5",
   "metadata": {},
   "outputs": [],
   "source": [
    "#fnlwgt(conti.)"
   ]
  },
  {
   "cell_type": "code",
   "execution_count": 22,
   "id": "9c4d07df",
   "metadata": {},
   "outputs": [
    {
     "name": "stderr",
     "output_type": "stream",
     "text": [
      "C:\\Users\\telug\\anaconda3\\lib\\site-packages\\seaborn\\distributions.py:2619: FutureWarning: `distplot` is a deprecated function and will be removed in a future version. Please adapt your code to use either `displot` (a figure-level function with similar flexibility) or `histplot` (an axes-level function for histograms).\n",
      "  warnings.warn(msg, FutureWarning)\n"
     ]
    },
    {
     "data": {
      "text/plain": [
       "Text(0.5, 1.0, 'Histogram of fnlwgt')"
      ]
     },
     "execution_count": 22,
     "metadata": {},
     "output_type": "execute_result"
    },
    {
     "data": {
      "image/png": "[encoded data removed]",
      "text/plain": [
       "<Figure size 432x432 with 1 Axes>"
      ]
     },
     "metadata": {},
     "output_type": "display_data"
    }
   ],
   "source": [
    "sns.set()\n",
    "plt.figure(figsize=(6,6))\n",
    "sns.distplot(df['fnlwgt'])\n",
    "plt.show\n",
    "plt.xlabel('fnlwgt')\n",
    "plt.ylabel('counts')\n",
    "plt.title('Histogram of fnlwgt') "
   ]
  },
  {
   "cell_type": "code",
   "execution_count": 23,
   "id": "17d293b8",
   "metadata": {},
   "outputs": [
    {
     "data": {
      "text/plain": [
       "<AxesSubplot:>"
      ]
     },
     "execution_count": 23,
     "metadata": {},
     "output_type": "execute_result"
    },
    {
     "data": {
      "image/png": "[encoded data removed]",
      "text/plain": [
       "<Figure size 432x288 with 1 Axes>"
      ]
     },
     "metadata": {},
     "output_type": "display_data"
    }
   ],
   "source": [
    "fnlwgt=df['fnlwgt']\n",
    "props2= dict(boxes='blue',whiskers='black',medians='red',caps='black')\n",
    "fnlwgt.plot.box(color=props2,patch_artist=True,vert=True)"
   ]
  },
  {
   "cell_type": "code",
   "execution_count": 24,
   "id": "e5dcca32",
   "metadata": {},
   "outputs": [],
   "source": [
    "#education"
   ]
  },
  {
   "cell_type": "code",
   "execution_count": 25,
   "id": "6cde7ac0",
   "metadata": {},
   "outputs": [
    {
     "data": {
      "text/plain": [
       " HS-grad         9969\n",
       " Some-college    6777\n",
       " Bachelors       5182\n",
       " Masters         1675\n",
       " Assoc-voc       1321\n",
       " 11th            1057\n",
       " Assoc-acdm      1020\n",
       " 10th             833\n",
       " 7th-8th          574\n",
       " Prof-school      558\n",
       " 9th              463\n",
       " Doctorate        398\n",
       " 12th             393\n",
       " 5th-6th          303\n",
       " 1st-4th          156\n",
       " Preschool         46\n",
       "Name: education, dtype: int64"
      ]
     },
     "execution_count": 25,
     "metadata": {},
     "output_type": "execute_result"
    }
   ],
   "source": [
    "df.education.value_counts()"
   ]
  },
  {
   "cell_type": "code",
   "execution_count": 26,
   "id": "95166b32",
   "metadata": {},
   "outputs": [
    {
     "name": "stderr",
     "output_type": "stream",
     "text": [
      "C:\\Users\\telug\\anaconda3\\lib\\site-packages\\seaborn\\_decorators.py:36: FutureWarning: Pass the following variable as a keyword arg: x. From version 0.12, the only valid positional argument will be `data`, and passing other arguments without an explicit keyword will result in an error or misinterpretation.\n",
      "  warnings.warn(\n"
     ]
    },
    {
     "data": {
      "text/plain": [
       "Text(0.5, 1.0, 'Histogram of education')"
      ]
     },
     "execution_count": 26,
     "metadata": {},
     "output_type": "execute_result"
    },
    {
     "data": {
      "image/png": "[encoded data removed]",
      "text/plain": [
       "<Figure size 1440x432 with 1 Axes>"
      ]
     },
     "metadata": {},
     "output_type": "display_data"
    }
   ],
   "source": [
    "sns.set()\n",
    "plt.figure(figsize=(20,6))\n",
    "sns.countplot(df['education'])\n",
    "plt.show\n",
    "plt.xlabel('education')\n",
    "plt.ylabel('counts')\n",
    "plt.title('Histogram of education') "
   ]
  },
  {
   "cell_type": "code",
   "execution_count": 27,
   "id": "f83f3155",
   "metadata": {},
   "outputs": [],
   "source": [
    "#education-num"
   ]
  },
  {
   "cell_type": "code",
   "execution_count": 28,
   "id": "55cbfc4f",
   "metadata": {},
   "outputs": [],
   "source": [
    "df = df.rename({'education-num':'education_num'}, axis=1)"
   ]
  },
  {
   "cell_type": "code",
   "execution_count": 29,
   "id": "3bda395e",
   "metadata": {},
   "outputs": [
    {
     "data": {
      "text/plain": [
       "9     9969\n",
       "10    6777\n",
       "13    5182\n",
       "14    1675\n",
       "11    1321\n",
       "7     1057\n",
       "12    1020\n",
       "6      833\n",
       "4      574\n",
       "15     558\n",
       "5      463\n",
       "16     398\n",
       "8      393\n",
       "3      303\n",
       "2      156\n",
       "1       46\n",
       "Name: education_num, dtype: int64"
      ]
     },
     "execution_count": 29,
     "metadata": {},
     "output_type": "execute_result"
    }
   ],
   "source": [
    "df.education_num.value_counts()"
   ]
  },
  {
   "cell_type": "code",
   "execution_count": 30,
   "id": "24ef98e8",
   "metadata": {},
   "outputs": [
    {
     "name": "stderr",
     "output_type": "stream",
     "text": [
      "C:\\Users\\telug\\anaconda3\\lib\\site-packages\\seaborn\\distributions.py:2619: FutureWarning: `distplot` is a deprecated function and will be removed in a future version. Please adapt your code to use either `displot` (a figure-level function with similar flexibility) or `histplot` (an axes-level function for histograms).\n",
      "  warnings.warn(msg, FutureWarning)\n"
     ]
    },
    {
     "data": {
      "text/plain": [
       "Text(0.5, 1.0, 'Histogram of education_num')"
      ]
     },
     "execution_count": 30,
     "metadata": {},
     "output_type": "execute_result"
    },
    {
     "data": {
      "image/png": "[encoded data removed]",
      "text/plain": [
       "<Figure size 432x432 with 1 Axes>"
      ]
     },
     "metadata": {},
     "output_type": "display_data"
    }
   ],
   "source": [
    "sns.set()\n",
    "plt.figure(figsize=(6,6))\n",
    "sns.distplot(df['education_num'])\n",
    "plt.show\n",
    "plt.xlabel('education_num')\n",
    "plt.ylabel('counts')\n",
    "plt.title('Histogram of education_num') "
   ]
  },
  {
   "cell_type": "code",
   "execution_count": 31,
   "id": "03be9a20",
   "metadata": {},
   "outputs": [
    {
     "data": {
      "text/plain": [
       "<AxesSubplot:>"
      ]
     },
     "execution_count": 31,
     "metadata": {},
     "output_type": "execute_result"
    },
    {
     "data": {
      "image/png": "[encoded data removed]",
      "text/plain": [
       "<Figure size 432x288 with 1 Axes>"
      ]
     },
     "metadata": {},
     "output_type": "display_data"
    }
   ],
   "source": [
    "education_num=df['education_num']\n",
    "props2= dict(boxes='blue',whiskers='black',medians='red',caps='black')\n",
    "education_num.plot.box(color=props2,patch_artist=True,vert=True)"
   ]
  },
  {
   "cell_type": "code",
   "execution_count": 32,
   "id": "4cb16a52",
   "metadata": {},
   "outputs": [],
   "source": [
    "#marital-status"
   ]
  },
  {
   "cell_type": "code",
   "execution_count": 33,
   "id": "5f6da9f9",
   "metadata": {},
   "outputs": [],
   "source": [
    "df = df.rename({'marital-status':'marital_status'}, axis=1)"
   ]
  },
  {
   "cell_type": "code",
   "execution_count": 34,
   "id": "624d292c",
   "metadata": {},
   "outputs": [
    {
     "data": {
      "text/plain": [
       " Married-civ-spouse       14340\n",
       " Never-married             9917\n",
       " Divorced                  4259\n",
       " Separated                  959\n",
       " Widowed                    840\n",
       " Married-spouse-absent      389\n",
       " Married-AF-spouse           21\n",
       "Name: marital_status, dtype: int64"
      ]
     },
     "execution_count": 34,
     "metadata": {},
     "output_type": "execute_result"
    }
   ],
   "source": [
    "df.marital_status.value_counts()"
   ]
  },
  {
   "cell_type": "code",
   "execution_count": 35,
   "id": "f0309c92",
   "metadata": {},
   "outputs": [
    {
     "name": "stderr",
     "output_type": "stream",
     "text": [
      "C:\\Users\\telug\\anaconda3\\lib\\site-packages\\seaborn\\_decorators.py:36: FutureWarning: Pass the following variable as a keyword arg: x. From version 0.12, the only valid positional argument will be `data`, and passing other arguments without an explicit keyword will result in an error or misinterpretation.\n",
      "  warnings.warn(\n"
     ]
    },
    {
     "data": {
      "text/plain": [
       "Text(0.5, 1.0, 'Histogram of marital_status')"
      ]
     },
     "execution_count": 35,
     "metadata": {},
     "output_type": "execute_result"
    },
    {
     "data": {
      "image/png": "[encoded data removed]",
      "text/plain": [
       "<Figure size 864x432 with 1 Axes>"
      ]
     },
     "metadata": {},
     "output_type": "display_data"
    }
   ],
   "source": [
    "sns.set()\n",
    "plt.figure(figsize=(12,6))\n",
    "sns.countplot(df['marital_status'])\n",
    "plt.show\n",
    "plt.xlabel('marital_status')\n",
    "plt.ylabel('counts')\n",
    "plt.title('Histogram of marital_status') "
   ]
  },
  {
   "cell_type": "code",
   "execution_count": 36,
   "id": "273fd755",
   "metadata": {},
   "outputs": [],
   "source": [
    "#occupation"
   ]
  },
  {
   "cell_type": "code",
   "execution_count": 37,
   "id": "d8fa3d2a",
   "metadata": {},
   "outputs": [
    {
     "data": {
      "text/plain": [
       " Prof-specialty       4140\n",
       " Craft-repair         4099\n",
       " Exec-managerial      4066\n",
       " Adm-clerical         3770\n",
       " Sales                3650\n",
       " Other-service        3295\n",
       " Machine-op-inspct    2002\n",
       " Transport-moving     1597\n",
       " Handlers-cleaners    1370\n",
       " Farming-fishing       994\n",
       " Tech-support          928\n",
       " Protective-serv       649\n",
       " Priv-house-serv       149\n",
       " Armed-Forces            9\n",
       " ?                       7\n",
       "Name: occupation, dtype: int64"
      ]
     },
     "execution_count": 37,
     "metadata": {},
     "output_type": "execute_result"
    }
   ],
   "source": [
    "df.occupation.value_counts()"
   ]
  },
  {
   "cell_type": "code",
   "execution_count": 38,
   "id": "375a987e",
   "metadata": {},
   "outputs": [],
   "source": [
    "df.drop(df.loc[df['occupation']==' ?'].index, inplace=True)"
   ]
  },
  {
   "cell_type": "code",
   "execution_count": 39,
   "id": "1a910bd2",
   "metadata": {},
   "outputs": [
    {
     "data": {
      "text/plain": [
       " Prof-specialty       4140\n",
       " Craft-repair         4099\n",
       " Exec-managerial      4066\n",
       " Adm-clerical         3770\n",
       " Sales                3650\n",
       " Other-service        3295\n",
       " Machine-op-inspct    2002\n",
       " Transport-moving     1597\n",
       " Handlers-cleaners    1370\n",
       " Farming-fishing       994\n",
       " Tech-support          928\n",
       " Protective-serv       649\n",
       " Priv-house-serv       149\n",
       " Armed-Forces            9\n",
       "Name: occupation, dtype: int64"
      ]
     },
     "execution_count": 39,
     "metadata": {},
     "output_type": "execute_result"
    }
   ],
   "source": [
    "df.occupation.value_counts()"
   ]
  },
  {
   "cell_type": "code",
   "execution_count": 40,
   "id": "d17516bc",
   "metadata": {},
   "outputs": [
    {
     "name": "stderr",
     "output_type": "stream",
     "text": [
      "C:\\Users\\telug\\anaconda3\\lib\\site-packages\\seaborn\\_decorators.py:36: FutureWarning: Pass the following variable as a keyword arg: x. From version 0.12, the only valid positional argument will be `data`, and passing other arguments without an explicit keyword will result in an error or misinterpretation.\n",
      "  warnings.warn(\n"
     ]
    },
    {
     "data": {
      "text/plain": [
       "Text(0.5, 1.0, 'Histogram of occupation')"
      ]
     },
     "execution_count": 40,
     "metadata": {},
     "output_type": "execute_result"
    },
    {
     "data": {
      "image/png": "[encoded data removed]",
      "text/plain": [
       "<Figure size 1440x432 with 1 Axes>"
      ]
     },
     "metadata": {},
     "output_type": "display_data"
    }
   ],
   "source": [
    "sns.set()\n",
    "plt.figure(figsize=(20,6))\n",
    "sns.countplot(df['occupation'])\n",
    "plt.show\n",
    "plt.xlabel('occupation')\n",
    "plt.ylabel('counts')\n",
    "plt.title('Histogram of occupation') "
   ]
  },
  {
   "cell_type": "code",
   "execution_count": 41,
   "id": "91a03b8a",
   "metadata": {},
   "outputs": [],
   "source": [
    "#relationship"
   ]
  },
  {
   "cell_type": "code",
   "execution_count": 42,
   "id": "e220f9ca",
   "metadata": {},
   "outputs": [
    {
     "data": {
      "text/plain": [
       " Husband           12704\n",
       " Not-in-family      7865\n",
       " Own-child          4525\n",
       " Unmarried          3271\n",
       " Wife               1435\n",
       " Other-relative      918\n",
       "Name: relationship, dtype: int64"
      ]
     },
     "execution_count": 42,
     "metadata": {},
     "output_type": "execute_result"
    }
   ],
   "source": [
    "df.relationship.value_counts()"
   ]
  },
  {
   "cell_type": "code",
   "execution_count": 43,
   "id": "91e90ea7",
   "metadata": {},
   "outputs": [
    {
     "name": "stderr",
     "output_type": "stream",
     "text": [
      "C:\\Users\\telug\\anaconda3\\lib\\site-packages\\seaborn\\_decorators.py:36: FutureWarning: Pass the following variable as a keyword arg: x. From version 0.12, the only valid positional argument will be `data`, and passing other arguments without an explicit keyword will result in an error or misinterpretation.\n",
      "  warnings.warn(\n"
     ]
    },
    {
     "data": {
      "text/plain": [
       "Text(0.5, 1.0, 'Histogram of relationship')"
      ]
     },
     "execution_count": 43,
     "metadata": {},
     "output_type": "execute_result"
    },
    {
     "data": {
      "image/png": "[encoded data removed]",
      "text/plain": [
       "<Figure size 432x432 with 1 Axes>"
      ]
     },
     "metadata": {},
     "output_type": "display_data"
    }
   ],
   "source": [
    "sns.set()\n",
    "plt.figure(figsize=(6,6))\n",
    "sns.countplot(df['relationship'])\n",
    "plt.show\n",
    "plt.xlabel('relationship')\n",
    "plt.ylabel('counts')\n",
    "plt.title('Histogram of relationship') "
   ]
  },
  {
   "cell_type": "code",
   "execution_count": 44,
   "id": "540aeb8f",
   "metadata": {},
   "outputs": [],
   "source": [
    "#race"
   ]
  },
  {
   "cell_type": "code",
   "execution_count": 45,
   "id": "0030f268",
   "metadata": {},
   "outputs": [
    {
     "data": {
      "text/plain": [
       " White                 26301\n",
       " Black                  2909\n",
       " Asian-Pac-Islander      974\n",
       " Amer-Indian-Eskimo      286\n",
       " Other                   248\n",
       "Name: race, dtype: int64"
      ]
     },
     "execution_count": 45,
     "metadata": {},
     "output_type": "execute_result"
    }
   ],
   "source": [
    "df.race.value_counts()"
   ]
  },
  {
   "cell_type": "code",
   "execution_count": 46,
   "id": "890230aa",
   "metadata": {},
   "outputs": [
    {
     "name": "stderr",
     "output_type": "stream",
     "text": [
      "C:\\Users\\telug\\anaconda3\\lib\\site-packages\\seaborn\\_decorators.py:36: FutureWarning: Pass the following variable as a keyword arg: x. From version 0.12, the only valid positional argument will be `data`, and passing other arguments without an explicit keyword will result in an error or misinterpretation.\n",
      "  warnings.warn(\n"
     ]
    },
    {
     "data": {
      "text/plain": [
       "Text(0.5, 1.0, 'Histogram of race')"
      ]
     },
     "execution_count": 46,
     "metadata": {},
     "output_type": "execute_result"
    },
    {
     "data": {
      "image/png": "[encoded data removed]",
      "text/plain": [
       "<Figure size 720x432 with 1 Axes>"
      ]
     },
     "metadata": {},
     "output_type": "display_data"
    }
   ],
   "source": [
    "sns.set()\n",
    "plt.figure(figsize=(10,6))\n",
    "sns.countplot(df['race'])\n",
    "plt.show\n",
    "plt.xlabel('race')\n",
    "plt.ylabel('counts')\n",
    "plt.title('Histogram of race') "
   ]
  },
  {
   "cell_type": "code",
   "execution_count": 47,
   "id": "4e6a178b",
   "metadata": {},
   "outputs": [],
   "source": [
    "#sex"
   ]
  },
  {
   "cell_type": "code",
   "execution_count": 48,
   "id": "38afc209",
   "metadata": {},
   "outputs": [
    {
     "data": {
      "text/plain": [
       " Male      20788\n",
       " Female     9930\n",
       "Name: sex, dtype: int64"
      ]
     },
     "execution_count": 48,
     "metadata": {},
     "output_type": "execute_result"
    }
   ],
   "source": [
    "df.sex.value_counts()"
   ]
  },
  {
   "cell_type": "code",
   "execution_count": 49,
   "id": "6454a3c9",
   "metadata": {},
   "outputs": [
    {
     "name": "stderr",
     "output_type": "stream",
     "text": [
      "C:\\Users\\telug\\anaconda3\\lib\\site-packages\\seaborn\\_decorators.py:36: FutureWarning: Pass the following variable as a keyword arg: x. From version 0.12, the only valid positional argument will be `data`, and passing other arguments without an explicit keyword will result in an error or misinterpretation.\n",
      "  warnings.warn(\n"
     ]
    },
    {
     "data": {
      "text/plain": [
       "Text(0.5, 1.0, 'Histogram of sex')"
      ]
     },
     "execution_count": 49,
     "metadata": {},
     "output_type": "execute_result"
    },
    {
     "data": {
      "image/png": "[encoded data removed]",
      "text/plain": [
       "<Figure size 720x432 with 1 Axes>"
      ]
     },
     "metadata": {},
     "output_type": "display_data"
    }
   ],
   "source": [
    "sns.set()\n",
    "plt.figure(figsize=(10,6))\n",
    "sns.countplot(df['sex'])\n",
    "plt.show\n",
    "plt.xlabel('sex')\n",
    "plt.ylabel('counts')\n",
    "plt.title('Histogram of sex') "
   ]
  },
  {
   "cell_type": "code",
   "execution_count": 50,
   "id": "4f744a76",
   "metadata": {},
   "outputs": [],
   "source": [
    "#capital-gain"
   ]
  },
  {
   "cell_type": "code",
   "execution_count": 51,
   "id": "96b635e4",
   "metadata": {},
   "outputs": [],
   "source": [
    "df = df.rename({'capital-gain':'capital_gain'}, axis=1)"
   ]
  },
  {
   "cell_type": "code",
   "execution_count": 52,
   "id": "faec5c56",
   "metadata": {},
   "outputs": [
    {
     "name": "stderr",
     "output_type": "stream",
     "text": [
      "C:\\Users\\telug\\anaconda3\\lib\\site-packages\\seaborn\\distributions.py:2619: FutureWarning: `distplot` is a deprecated function and will be removed in a future version. Please adapt your code to use either `displot` (a figure-level function with similar flexibility) or `histplot` (an axes-level function for histograms).\n",
      "  warnings.warn(msg, FutureWarning)\n"
     ]
    },
    {
     "data": {
      "text/plain": [
       "Text(0.5, 1.0, 'Histogram of capital_gain')"
      ]
     },
     "execution_count": 52,
     "metadata": {},
     "output_type": "execute_result"
    },
    {
     "data": {
      "image/png": "[encoded data removed]",
      "text/plain": [
       "<Figure size 432x432 with 1 Axes>"
      ]
     },
     "metadata": {},
     "output_type": "display_data"
    }
   ],
   "source": [
    "sns.set()\n",
    "plt.figure(figsize=(6,6))\n",
    "sns.distplot(df['capital_gain'])\n",
    "plt.show\n",
    "plt.xlabel('capital_gain')\n",
    "plt.ylabel('counts')\n",
    "plt.title('Histogram of capital_gain') "
   ]
  },
  {
   "cell_type": "code",
   "execution_count": 53,
   "id": "f966d15c",
   "metadata": {},
   "outputs": [
    {
     "data": {
      "text/plain": [
       "<AxesSubplot:>"
      ]
     },
     "execution_count": 53,
     "metadata": {},
     "output_type": "execute_result"
    },
    {
     "data": {
      "image/png": "[encoded data removed]",
      "text/plain": [
       "<Figure size 432x288 with 1 Axes>"
      ]
     },
     "metadata": {},
     "output_type": "display_data"
    }
   ],
   "source": [
    "capital_gain=df['capital_gain']\n",
    "props2= dict(boxes='blue',whiskers='black',medians='red',caps='black')\n",
    "capital_gain.plot.box(color=props2,patch_artist=True,vert=True)"
   ]
  },
  {
   "cell_type": "code",
   "execution_count": 54,
   "id": "9a3aa4de",
   "metadata": {},
   "outputs": [],
   "source": [
    "#capital-loss"
   ]
  },
  {
   "cell_type": "code",
   "execution_count": 55,
   "id": "8c970d39",
   "metadata": {},
   "outputs": [],
   "source": [
    "df = df.rename({'capital-loss':'capital_loss'}, axis=1)"
   ]
  },
  {
   "cell_type": "code",
   "execution_count": 56,
   "id": "0bafb0b9",
   "metadata": {},
   "outputs": [
    {
     "name": "stderr",
     "output_type": "stream",
     "text": [
      "C:\\Users\\telug\\anaconda3\\lib\\site-packages\\seaborn\\distributions.py:2619: FutureWarning: `distplot` is a deprecated function and will be removed in a future version. Please adapt your code to use either `displot` (a figure-level function with similar flexibility) or `histplot` (an axes-level function for histograms).\n",
      "  warnings.warn(msg, FutureWarning)\n"
     ]
    },
    {
     "data": {
      "text/plain": [
       "Text(0.5, 1.0, 'Histogram of capital_loss')"
      ]
     },
     "execution_count": 56,
     "metadata": {},
     "output_type": "execute_result"
    },
    {
     "data": {
      "image/png": "[encoded data removed]",
      "text/plain": [
       "<Figure size 432x432 with 1 Axes>"
      ]
     },
     "metadata": {},
     "output_type": "display_data"
    }
   ],
   "source": [
    "sns.set()\n",
    "plt.figure(figsize=(6,6))\n",
    "sns.distplot(df['capital_loss'])\n",
    "plt.show\n",
    "plt.xlabel('capital_loss')\n",
    "plt.ylabel('counts')\n",
    "plt.title('Histogram of capital_loss') "
   ]
  },
  {
   "cell_type": "code",
   "execution_count": 57,
   "id": "d8ffb330",
   "metadata": {},
   "outputs": [
    {
     "data": {
      "text/plain": [
       "<AxesSubplot:>"
      ]
     },
     "execution_count": 57,
     "metadata": {},
     "output_type": "execute_result"
    },
    {
     "data": {
      "image/png": "[encoded data removed]",
      "text/plain": [
       "<Figure size 432x288 with 1 Axes>"
      ]
     },
     "metadata": {},
     "output_type": "display_data"
    }
   ],
   "source": [
    "capital_loss=df['capital_loss']\n",
    "props2= dict(boxes='blue',whiskers='black',medians='red',caps='black')\n",
    "capital_loss.plot.box(color=props2,patch_artist=True,vert=True)"
   ]
  },
  {
   "cell_type": "code",
   "execution_count": 58,
   "id": "9b0a46db",
   "metadata": {},
   "outputs": [],
   "source": [
    "#hours-per-week"
   ]
  },
  {
   "cell_type": "code",
   "execution_count": 59,
   "id": "b96e128d",
   "metadata": {},
   "outputs": [],
   "source": [
    "df = df.rename({'hours-per-week':'hours_per_weeks'}, axis=1)"
   ]
  },
  {
   "cell_type": "code",
   "execution_count": 60,
   "id": "dee71cb9",
   "metadata": {},
   "outputs": [
    {
     "name": "stderr",
     "output_type": "stream",
     "text": [
      "C:\\Users\\telug\\anaconda3\\lib\\site-packages\\seaborn\\distributions.py:2619: FutureWarning: `distplot` is a deprecated function and will be removed in a future version. Please adapt your code to use either `displot` (a figure-level function with similar flexibility) or `histplot` (an axes-level function for histograms).\n",
      "  warnings.warn(msg, FutureWarning)\n"
     ]
    },
    {
     "data": {
      "text/plain": [
       "Text(0.5, 1.0, 'Histogram of hours_per_weeks')"
      ]
     },
     "execution_count": 60,
     "metadata": {},
     "output_type": "execute_result"
    },
    {
     "data": {
      "image/png": "[encoded data removed]",
      "text/plain": [
       "<Figure size 432x432 with 1 Axes>"
      ]
     },
     "metadata": {},
     "output_type": "display_data"
    }
   ],
   "source": [
    "sns.set()\n",
    "plt.figure(figsize=(6,6))\n",
    "sns.distplot(df['hours_per_weeks'])\n",
    "plt.show\n",
    "plt.xlabel('hours_per_weeks')\n",
    "plt.ylabel('counts')\n",
    "plt.title('Histogram of hours_per_weeks') "
   ]
  },
  {
   "cell_type": "code",
   "execution_count": 61,
   "id": "0469f9a4",
   "metadata": {},
   "outputs": [
    {
     "data": {
      "text/plain": [
       "<AxesSubplot:>"
      ]
     },
     "execution_count": 61,
     "metadata": {},
     "output_type": "execute_result"
    },
    {
     "data": {
      "image/png": "[encoded data removed]",
      "text/plain": [
       "<Figure size 432x288 with 1 Axes>"
      ]
     },
     "metadata": {},
     "output_type": "display_data"
    }
   ],
   "source": [
    "hours_per_weeks=df['hours_per_weeks']\n",
    "props2= dict(boxes='blue',whiskers='black',medians='red',caps='black')\n",
    "hours_per_weeks.plot.box(color=props2,patch_artist=True,vert=True)"
   ]
  },
  {
   "cell_type": "code",
   "execution_count": 62,
   "id": "d8292a29",
   "metadata": {},
   "outputs": [],
   "source": [
    "#native-country"
   ]
  },
  {
   "cell_type": "code",
   "execution_count": 63,
   "id": "754df1e7",
   "metadata": {},
   "outputs": [],
   "source": [
    "df = df.rename({'native-country':'native_country'}, axis=1)"
   ]
  },
  {
   "cell_type": "code",
   "execution_count": 64,
   "id": "678ccb16",
   "metadata": {},
   "outputs": [
    {
     "data": {
      "text/plain": [
       " United-States                 27504\n",
       " Mexico                          610\n",
       " ?                               556\n",
       " Philippines                     188\n",
       " Germany                         128\n",
       " Puerto-Rico                     109\n",
       " Canada                          107\n",
       " India                           100\n",
       " El-Salvador                     100\n",
       " Cuba                             92\n",
       " England                          86\n",
       " Jamaica                          80\n",
       " South                            71\n",
       " China                            68\n",
       " Italy                            68\n",
       " Dominican-Republic               67\n",
       " Vietnam                          64\n",
       " Guatemala                        63\n",
       " Japan                            59\n",
       " Poland                           56\n",
       " Columbia                         56\n",
       " Iran                             42\n",
       " Taiwan                           42\n",
       " Haiti                            42\n",
       " Portugal                         34\n",
       " Nicaragua                        33\n",
       " Peru                             30\n",
       " Greece                           29\n",
       " France                           27\n",
       " Ecuador                          27\n",
       " Ireland                          24\n",
       " Hong                             19\n",
       " Cambodia                         18\n",
       " Trinadad&Tobago                  18\n",
       " Thailand                         17\n",
       " Laos                             17\n",
       " Yugoslavia                       16\n",
       " Outlying-US(Guam-USVI-etc)       14\n",
       " Hungary                          13\n",
       " Honduras                         12\n",
       " Scotland                         11\n",
       " Holand-Netherlands                1\n",
       "Name: native_country, dtype: int64"
      ]
     },
     "execution_count": 64,
     "metadata": {},
     "output_type": "execute_result"
    }
   ],
   "source": [
    "df.native_country.value_counts()"
   ]
  },
  {
   "cell_type": "code",
   "execution_count": 65,
   "id": "e46c37db",
   "metadata": {},
   "outputs": [],
   "source": [
    "df.drop(df.loc[df['native_country']==' ?'].index, inplace=True)"
   ]
  },
  {
   "cell_type": "code",
   "execution_count": 66,
   "id": "dbc9d5d6",
   "metadata": {},
   "outputs": [
    {
     "name": "stderr",
     "output_type": "stream",
     "text": [
      "C:\\Users\\telug\\anaconda3\\lib\\site-packages\\seaborn\\_decorators.py:36: FutureWarning: Pass the following variable as a keyword arg: x. From version 0.12, the only valid positional argument will be `data`, and passing other arguments without an explicit keyword will result in an error or misinterpretation.\n",
      "  warnings.warn(\n"
     ]
    },
    {
     "data": {
      "text/plain": [
       "Text(0.5, 1.0, 'Histogram of native_country')"
      ]
     },
     "execution_count": 66,
     "metadata": {},
     "output_type": "execute_result"
    },
    {
     "data": {
      "image/png": "[encoded data removed]",
      "text/plain": [
       "<Figure size 1440x432 with 1 Axes>"
      ]
     },
     "metadata": {},
     "output_type": "display_data"
    }
   ],
   "source": [
    "sns.set()\n",
    "plt.figure(figsize=(20,6))\n",
    "sns.countplot(df['native_country'])\n",
    "plt.show\n",
    "plt.xlabel('native_country')\n",
    "plt.ylabel('counts')\n",
    "plt.title('Histogram of native_country')"
   ]
  },
  {
   "cell_type": "code",
   "execution_count": 67,
   "id": "629f1516",
   "metadata": {},
   "outputs": [],
   "source": [
    "#covert to csv\n",
    "df.to_csv('adult_income1.csv')"
   ]
  },
  {
   "cell_type": "code",
   "execution_count": 68,
   "id": "42d849dd",
   "metadata": {},
   "outputs": [],
   "source": [
    "df1=pd.read_csv('adult_income1.csv')\n",
    "            "
   ]
  },
  {
   "cell_type": "code",
   "execution_count": 69,
   "id": "fb5592ae",
   "metadata": {},
   "outputs": [
    {
     "data": {
      "text/html": [
       "<div>\n",
       "<style scoped>\n",
       "    .dataframe tbody tr th:only-of-type {\n",
       "        vertical-align: middle;\n",
       "    }\n",
       "\n",
       "    .dataframe tbody tr th {\n",
       "        vertical-align: top;\n",
       "    }\n",
       "\n",
       "    .dataframe thead th {\n",
       "        text-align: right;\n",
       "    }\n",
       "</style>\n",
       "<table border=\"1\" class=\"dataframe\">\n",
       "  <thead>\n",
       "    <tr style=\"text-align: right;\">\n",
       "      <th></th>\n",
       "      <th>Age</th>\n",
       "      <th>Workclass</th>\n",
       "      <th>fnlwgt</th>\n",
       "      <th>education</th>\n",
       "      <th>education_num</th>\n",
       "      <th>marital_status</th>\n",
       "      <th>occupation</th>\n",
       "      <th>relationship</th>\n",
       "      <th>race</th>\n",
       "      <th>sex</th>\n",
       "      <th>capital_gain</th>\n",
       "      <th>capital_loss</th>\n",
       "      <th>hours_per_weeks</th>\n",
       "      <th>native_country</th>\n",
       "      <th>income</th>\n",
       "    </tr>\n",
       "  </thead>\n",
       "  <tbody>\n",
       "    <tr>\n",
       "      <th>0</th>\n",
       "      <td>39</td>\n",
       "      <td>State-gov</td>\n",
       "      <td>77516</td>\n",
       "      <td>Bachelors</td>\n",
       "      <td>13</td>\n",
       "      <td>Never-married</td>\n",
       "      <td>Adm-clerical</td>\n",
       "      <td>Not-in-family</td>\n",
       "      <td>White</td>\n",
       "      <td>Male</td>\n",
       "      <td>2174</td>\n",
       "      <td>0</td>\n",
       "      <td>40</td>\n",
       "      <td>United-States</td>\n",
       "      <td>0</td>\n",
       "    </tr>\n",
       "    <tr>\n",
       "      <th>1</th>\n",
       "      <td>50</td>\n",
       "      <td>Self-emp-not-inc</td>\n",
       "      <td>83311</td>\n",
       "      <td>Bachelors</td>\n",
       "      <td>13</td>\n",
       "      <td>Married-civ-spouse</td>\n",
       "      <td>Exec-managerial</td>\n",
       "      <td>Husband</td>\n",
       "      <td>White</td>\n",
       "      <td>Male</td>\n",
       "      <td>0</td>\n",
       "      <td>0</td>\n",
       "      <td>13</td>\n",
       "      <td>United-States</td>\n",
       "      <td>0</td>\n",
       "    </tr>\n",
       "    <tr>\n",
       "      <th>2</th>\n",
       "      <td>38</td>\n",
       "      <td>Private</td>\n",
       "      <td>215646</td>\n",
       "      <td>HS-grad</td>\n",
       "      <td>9</td>\n",
       "      <td>Divorced</td>\n",
       "      <td>Handlers-cleaners</td>\n",
       "      <td>Not-in-family</td>\n",
       "      <td>White</td>\n",
       "      <td>Male</td>\n",
       "      <td>0</td>\n",
       "      <td>0</td>\n",
       "      <td>40</td>\n",
       "      <td>United-States</td>\n",
       "      <td>0</td>\n",
       "    </tr>\n",
       "    <tr>\n",
       "      <th>3</th>\n",
       "      <td>53</td>\n",
       "      <td>Private</td>\n",
       "      <td>234721</td>\n",
       "      <td>11th</td>\n",
       "      <td>7</td>\n",
       "      <td>Married-civ-spouse</td>\n",
       "      <td>Handlers-cleaners</td>\n",
       "      <td>Husband</td>\n",
       "      <td>Black</td>\n",
       "      <td>Male</td>\n",
       "      <td>0</td>\n",
       "      <td>0</td>\n",
       "      <td>40</td>\n",
       "      <td>United-States</td>\n",
       "      <td>0</td>\n",
       "    </tr>\n",
       "    <tr>\n",
       "      <th>4</th>\n",
       "      <td>28</td>\n",
       "      <td>Private</td>\n",
       "      <td>338409</td>\n",
       "      <td>Bachelors</td>\n",
       "      <td>13</td>\n",
       "      <td>Married-civ-spouse</td>\n",
       "      <td>Prof-specialty</td>\n",
       "      <td>Wife</td>\n",
       "      <td>Black</td>\n",
       "      <td>Female</td>\n",
       "      <td>0</td>\n",
       "      <td>0</td>\n",
       "      <td>40</td>\n",
       "      <td>Cuba</td>\n",
       "      <td>0</td>\n",
       "    </tr>\n",
       "    <tr>\n",
       "      <th>...</th>\n",
       "      <td>...</td>\n",
       "      <td>...</td>\n",
       "      <td>...</td>\n",
       "      <td>...</td>\n",
       "      <td>...</td>\n",
       "      <td>...</td>\n",
       "      <td>...</td>\n",
       "      <td>...</td>\n",
       "      <td>...</td>\n",
       "      <td>...</td>\n",
       "      <td>...</td>\n",
       "      <td>...</td>\n",
       "      <td>...</td>\n",
       "      <td>...</td>\n",
       "      <td>...</td>\n",
       "    </tr>\n",
       "    <tr>\n",
       "      <th>30157</th>\n",
       "      <td>27</td>\n",
       "      <td>Private</td>\n",
       "      <td>257302</td>\n",
       "      <td>Assoc-acdm</td>\n",
       "      <td>12</td>\n",
       "      <td>Married-civ-spouse</td>\n",
       "      <td>Tech-support</td>\n",
       "      <td>Wife</td>\n",
       "      <td>White</td>\n",
       "      <td>Female</td>\n",
       "      <td>0</td>\n",
       "      <td>0</td>\n",
       "      <td>38</td>\n",
       "      <td>United-States</td>\n",
       "      <td>0</td>\n",
       "    </tr>\n",
       "    <tr>\n",
       "      <th>30158</th>\n",
       "      <td>40</td>\n",
       "      <td>Private</td>\n",
       "      <td>154374</td>\n",
       "      <td>HS-grad</td>\n",
       "      <td>9</td>\n",
       "      <td>Married-civ-spouse</td>\n",
       "      <td>Machine-op-inspct</td>\n",
       "      <td>Husband</td>\n",
       "      <td>White</td>\n",
       "      <td>Male</td>\n",
       "      <td>0</td>\n",
       "      <td>0</td>\n",
       "      <td>40</td>\n",
       "      <td>United-States</td>\n",
       "      <td>1</td>\n",
       "    </tr>\n",
       "    <tr>\n",
       "      <th>30159</th>\n",
       "      <td>58</td>\n",
       "      <td>Private</td>\n",
       "      <td>151910</td>\n",
       "      <td>HS-grad</td>\n",
       "      <td>9</td>\n",
       "      <td>Widowed</td>\n",
       "      <td>Adm-clerical</td>\n",
       "      <td>Unmarried</td>\n",
       "      <td>White</td>\n",
       "      <td>Female</td>\n",
       "      <td>0</td>\n",
       "      <td>0</td>\n",
       "      <td>40</td>\n",
       "      <td>United-States</td>\n",
       "      <td>0</td>\n",
       "    </tr>\n",
       "    <tr>\n",
       "      <th>30160</th>\n",
       "      <td>22</td>\n",
       "      <td>Private</td>\n",
       "      <td>201490</td>\n",
       "      <td>HS-grad</td>\n",
       "      <td>9</td>\n",
       "      <td>Never-married</td>\n",
       "      <td>Adm-clerical</td>\n",
       "      <td>Own-child</td>\n",
       "      <td>White</td>\n",
       "      <td>Male</td>\n",
       "      <td>0</td>\n",
       "      <td>0</td>\n",
       "      <td>20</td>\n",
       "      <td>United-States</td>\n",
       "      <td>0</td>\n",
       "    </tr>\n",
       "    <tr>\n",
       "      <th>30161</th>\n",
       "      <td>52</td>\n",
       "      <td>Self-emp-inc</td>\n",
       "      <td>287927</td>\n",
       "      <td>HS-grad</td>\n",
       "      <td>9</td>\n",
       "      <td>Married-civ-spouse</td>\n",
       "      <td>Exec-managerial</td>\n",
       "      <td>Wife</td>\n",
       "      <td>White</td>\n",
       "      <td>Female</td>\n",
       "      <td>15024</td>\n",
       "      <td>0</td>\n",
       "      <td>40</td>\n",
       "      <td>United-States</td>\n",
       "      <td>1</td>\n",
       "    </tr>\n",
       "  </tbody>\n",
       "</table>\n",
       "<p>30162 rows × 15 columns</p>\n",
       "</div>"
      ],
      "text/plain": [
       "       Age          Workclass  fnlwgt    education  education_num  \\\n",
       "0       39          State-gov   77516    Bachelors             13   \n",
       "1       50   Self-emp-not-inc   83311    Bachelors             13   \n",
       "2       38            Private  215646      HS-grad              9   \n",
       "3       53            Private  234721         11th              7   \n",
       "4       28            Private  338409    Bachelors             13   \n",
       "...    ...                ...     ...          ...            ...   \n",
       "30157   27            Private  257302   Assoc-acdm             12   \n",
       "30158   40            Private  154374      HS-grad              9   \n",
       "30159   58            Private  151910      HS-grad              9   \n",
       "30160   22            Private  201490      HS-grad              9   \n",
       "30161   52       Self-emp-inc  287927      HS-grad              9   \n",
       "\n",
       "            marital_status          occupation    relationship    race  \\\n",
       "0            Never-married        Adm-clerical   Not-in-family   White   \n",
       "1       Married-civ-spouse     Exec-managerial         Husband   White   \n",
       "2                 Divorced   Handlers-cleaners   Not-in-family   White   \n",
       "3       Married-civ-spouse   Handlers-cleaners         Husband   Black   \n",
       "4       Married-civ-spouse      Prof-specialty            Wife   Black   \n",
       "...                    ...                 ...             ...     ...   \n",
       "30157   Married-civ-spouse        Tech-support            Wife   White   \n",
       "30158   Married-civ-spouse   Machine-op-inspct         Husband   White   \n",
       "30159              Widowed        Adm-clerical       Unmarried   White   \n",
       "30160        Never-married        Adm-clerical       Own-child   White   \n",
       "30161   Married-civ-spouse     Exec-managerial            Wife   White   \n",
       "\n",
       "           sex  capital_gain  capital_loss  hours_per_weeks  native_country  \\\n",
       "0         Male          2174             0               40   United-States   \n",
       "1         Male             0             0               13   United-States   \n",
       "2         Male             0             0               40   United-States   \n",
       "3         Male             0             0               40   United-States   \n",
       "4       Female             0             0               40            Cuba   \n",
       "...        ...           ...           ...              ...             ...   \n",
       "30157   Female             0             0               38   United-States   \n",
       "30158     Male             0             0               40   United-States   \n",
       "30159   Female             0             0               40   United-States   \n",
       "30160     Male             0             0               20   United-States   \n",
       "30161   Female         15024             0               40   United-States   \n",
       "\n",
       "       income  \n",
       "0           0  \n",
       "1           0  \n",
       "2           0  \n",
       "3           0  \n",
       "4           0  \n",
       "...       ...  \n",
       "30157       0  \n",
       "30158       1  \n",
       "30159       0  \n",
       "30160       0  \n",
       "30161       1  \n",
       "\n",
       "[30162 rows x 15 columns]"
      ]
     },
     "execution_count": 69,
     "metadata": {},
     "output_type": "execute_result"
    }
   ],
   "source": [
    "df1"
   ]
  },
  {
   "cell_type": "code",
   "execution_count": 70,
   "id": "2b3c0fb6",
   "metadata": {},
   "outputs": [
    {
     "name": "stdout",
     "output_type": "stream",
     "text": [
      "<class 'pandas.core.frame.DataFrame'>\n",
      "RangeIndex: 30162 entries, 0 to 30161\n",
      "Data columns (total 15 columns):\n",
      " #   Column           Non-Null Count  Dtype \n",
      "---  ------           --------------  ----- \n",
      " 0   Age              30162 non-null  int64 \n",
      " 1   Workclass        30162 non-null  object\n",
      " 2   fnlwgt           30162 non-null  int64 \n",
      " 3   education        30162 non-null  object\n",
      " 4   education_num    30162 non-null  int64 \n",
      " 5   marital_status   30162 non-null  object\n",
      " 6   occupation       30162 non-null  object\n",
      " 7   relationship     30162 non-null  object\n",
      " 8   race             30162 non-null  object\n",
      " 9   sex              30162 non-null  object\n",
      " 10  capital_gain     30162 non-null  int64 \n",
      " 11  capital_loss     30162 non-null  int64 \n",
      " 12  hours_per_weeks  30162 non-null  int64 \n",
      " 13  native_country   30162 non-null  object\n",
      " 14  income           30162 non-null  int64 \n",
      "dtypes: int64(7), object(8)\n",
      "memory usage: 3.5+ MB\n"
     ]
    }
   ],
   "source": [
    "df1.info()"
   ]
  },
  {
   "cell_type": "code",
   "execution_count": 71,
   "id": "87464a88",
   "metadata": {},
   "outputs": [],
   "source": [
    "#label encoding 'Workclass'\n",
    "from sklearn import preprocessing\n",
    "label_encoder = preprocessing.LabelEncoder()\n",
    "df1['Workclass']= label_encoder.fit_transform(df1['Workclass'])"
   ]
  },
  {
   "cell_type": "code",
   "execution_count": 72,
   "id": "cdeeb01b",
   "metadata": {},
   "outputs": [
    {
     "data": {
      "text/plain": [
       "2    22286\n",
       "4     2499\n",
       "1     2067\n",
       "5     1279\n",
       "3     1074\n",
       "0      943\n",
       "6       14\n",
       "Name: Workclass, dtype: int64"
      ]
     },
     "execution_count": 72,
     "metadata": {},
     "output_type": "execute_result"
    }
   ],
   "source": [
    "df1.Workclass.value_counts()"
   ]
  },
  {
   "cell_type": "code",
   "execution_count": 73,
   "id": "e3c085d9",
   "metadata": {
    "scrolled": true
   },
   "outputs": [
    {
     "data": {
      "text/plain": [
       " HS-grad         9840\n",
       " Some-college    6678\n",
       " Bachelors       5044\n",
       " Masters         1627\n",
       " Assoc-voc       1307\n",
       " 11th            1048\n",
       " Assoc-acdm      1008\n",
       " 10th             820\n",
       " 7th-8th          557\n",
       " Prof-school      542\n",
       " 9th              455\n",
       " 12th             377\n",
       " Doctorate        375\n",
       " 5th-6th          288\n",
       " 1st-4th          151\n",
       " Preschool         45\n",
       "Name: education, dtype: int64"
      ]
     },
     "execution_count": 73,
     "metadata": {},
     "output_type": "execute_result"
    }
   ],
   "source": [
    "df1.education.value_counts()"
   ]
  },
  {
   "cell_type": "code",
   "execution_count": 74,
   "id": "1fbb479a",
   "metadata": {},
   "outputs": [],
   "source": [
    "#encoding 'education' as it is ordinal\n",
    "df1['education']=df1.get('education').replace(' Preschool',0)\n",
    "df1['education']=df1.get('education').replace(' 1st-4th',1)\n",
    "df1['education']=df1.get('education').replace(' 5th-6th',2)\n",
    "df1['education']=df1.get('education').replace(' 7th-8th',3)\n",
    "df1['education']=df1.get('education').replace(' 9th',4)\n",
    "df1['education']=df1.get('education').replace(' 10th',5)\n",
    "df1['education']=df1.get('education').replace(' 11th',6)\n",
    "df1['education']=df1.get('education').replace(' 12th',7)\n",
    "df1['education']=df1.get('education').replace(' Prof-school',8)\n",
    "df1['education']=df1.get('education').replace(' Some-college',9)\n",
    "df1['education']=df1.get('education').replace(' HS-grad',10)\n",
    "df1['education']=df1.get('education').replace(' Bachelors',11)\n",
    "df1['education']=df1.get('education').replace(' Assoc-voc',12)\n",
    "df1['education']=df1.get('education').replace(' Assoc-acdm',13)\n",
    "df1['education']=df1.get('education').replace(' Masters',14)\n",
    "df1['education']=df1.get('education').replace(' Doctorate',15)"
   ]
  },
  {
   "cell_type": "code",
   "execution_count": 75,
   "id": "51d01edc",
   "metadata": {},
   "outputs": [
    {
     "data": {
      "text/plain": [
       "10    9840\n",
       "9     6678\n",
       "11    5044\n",
       "14    1627\n",
       "12    1307\n",
       "6     1048\n",
       "13    1008\n",
       "5      820\n",
       "3      557\n",
       "8      542\n",
       "4      455\n",
       "7      377\n",
       "15     375\n",
       "2      288\n",
       "1      151\n",
       "0       45\n",
       "Name: education, dtype: int64"
      ]
     },
     "execution_count": 75,
     "metadata": {},
     "output_type": "execute_result"
    }
   ],
   "source": [
    "df1.education.value_counts()"
   ]
  },
  {
   "cell_type": "code",
   "execution_count": 76,
   "id": "ed74f43e",
   "metadata": {},
   "outputs": [
    {
     "data": {
      "text/plain": [
       " Married-civ-spouse       14065\n",
       " Never-married             9726\n",
       " Divorced                  4214\n",
       " Separated                  939\n",
       " Widowed                    827\n",
       " Married-spouse-absent      370\n",
       " Married-AF-spouse           21\n",
       "Name: marital_status, dtype: int64"
      ]
     },
     "execution_count": 76,
     "metadata": {},
     "output_type": "execute_result"
    }
   ],
   "source": [
    "df1.marital_status.value_counts()"
   ]
  },
  {
   "cell_type": "code",
   "execution_count": 77,
   "id": "a5b9536b",
   "metadata": {},
   "outputs": [],
   "source": [
    "#label encoding 'marital_status'\n",
    "from sklearn import preprocessing\n",
    "label_encoder = preprocessing.LabelEncoder()\n",
    "df1['marital_status']= label_encoder.fit_transform(df1['marital_status'])"
   ]
  },
  {
   "cell_type": "code",
   "execution_count": 78,
   "id": "83ba3df0",
   "metadata": {},
   "outputs": [
    {
     "data": {
      "text/plain": [
       "2    14065\n",
       "4     9726\n",
       "0     4214\n",
       "5      939\n",
       "6      827\n",
       "3      370\n",
       "1       21\n",
       "Name: marital_status, dtype: int64"
      ]
     },
     "execution_count": 78,
     "metadata": {},
     "output_type": "execute_result"
    }
   ],
   "source": [
    "df1.marital_status.value_counts()"
   ]
  },
  {
   "cell_type": "code",
   "execution_count": 79,
   "id": "386c37fc",
   "metadata": {},
   "outputs": [
    {
     "data": {
      "text/plain": [
       " Prof-specialty       4038\n",
       " Craft-repair         4030\n",
       " Exec-managerial      3992\n",
       " Adm-clerical         3721\n",
       " Sales                3584\n",
       " Other-service        3212\n",
       " Machine-op-inspct    1966\n",
       " Transport-moving     1572\n",
       " Handlers-cleaners    1350\n",
       " Farming-fishing       989\n",
       " Tech-support          912\n",
       " Protective-serv       644\n",
       " Priv-house-serv       143\n",
       " Armed-Forces            9\n",
       "Name: occupation, dtype: int64"
      ]
     },
     "execution_count": 79,
     "metadata": {},
     "output_type": "execute_result"
    }
   ],
   "source": [
    "df1.occupation.value_counts()"
   ]
  },
  {
   "cell_type": "code",
   "execution_count": 80,
   "id": "08d7de0e",
   "metadata": {},
   "outputs": [],
   "source": [
    "#label encoding 'occupation'\n",
    "from sklearn import preprocessing\n",
    "label_encoder = preprocessing.LabelEncoder()\n",
    "df1['occupation']= label_encoder.fit_transform(df1['occupation'])"
   ]
  },
  {
   "cell_type": "code",
   "execution_count": 81,
   "id": "6e34f0c9",
   "metadata": {},
   "outputs": [
    {
     "data": {
      "text/plain": [
       "9     4038\n",
       "2     4030\n",
       "3     3992\n",
       "0     3721\n",
       "11    3584\n",
       "7     3212\n",
       "6     1966\n",
       "13    1572\n",
       "5     1350\n",
       "4      989\n",
       "12     912\n",
       "10     644\n",
       "8      143\n",
       "1        9\n",
       "Name: occupation, dtype: int64"
      ]
     },
     "execution_count": 81,
     "metadata": {},
     "output_type": "execute_result"
    }
   ],
   "source": [
    "df1.occupation.value_counts()"
   ]
  },
  {
   "cell_type": "code",
   "execution_count": 82,
   "id": "0e4b832c",
   "metadata": {},
   "outputs": [
    {
     "data": {
      "text/plain": [
       " Husband           12463\n",
       " Not-in-family      7726\n",
       " Own-child          4466\n",
       " Unmarried          3212\n",
       " Wife               1406\n",
       " Other-relative      889\n",
       "Name: relationship, dtype: int64"
      ]
     },
     "execution_count": 82,
     "metadata": {},
     "output_type": "execute_result"
    }
   ],
   "source": [
    "df1.relationship.value_counts()"
   ]
  },
  {
   "cell_type": "code",
   "execution_count": 83,
   "id": "c7f17e96",
   "metadata": {},
   "outputs": [],
   "source": [
    "#label encoding 'relationship'\n",
    "from sklearn import preprocessing\n",
    "label_encoder = preprocessing.LabelEncoder()\n",
    "df1['relationship']= label_encoder.fit_transform(df1['relationship'])"
   ]
  },
  {
   "cell_type": "code",
   "execution_count": 84,
   "id": "3f284a2c",
   "metadata": {},
   "outputs": [
    {
     "data": {
      "text/plain": [
       "0    12463\n",
       "1     7726\n",
       "3     4466\n",
       "4     3212\n",
       "5     1406\n",
       "2      889\n",
       "Name: relationship, dtype: int64"
      ]
     },
     "execution_count": 84,
     "metadata": {},
     "output_type": "execute_result"
    }
   ],
   "source": [
    "df1.relationship.value_counts()"
   ]
  },
  {
   "cell_type": "code",
   "execution_count": 85,
   "id": "0fae24d0",
   "metadata": {},
   "outputs": [
    {
     "data": {
      "text/plain": [
       " White                 25933\n",
       " Black                  2817\n",
       " Asian-Pac-Islander      895\n",
       " Amer-Indian-Eskimo      286\n",
       " Other                   231\n",
       "Name: race, dtype: int64"
      ]
     },
     "execution_count": 85,
     "metadata": {},
     "output_type": "execute_result"
    }
   ],
   "source": [
    "df1.race.value_counts()"
   ]
  },
  {
   "cell_type": "code",
   "execution_count": 86,
   "id": "c3052a6c",
   "metadata": {},
   "outputs": [],
   "source": [
    "#label encoding 'race'\n",
    "from sklearn import preprocessing\n",
    "label_encoder = preprocessing.LabelEncoder()\n",
    "df1['race']= label_encoder.fit_transform(df1['race'])"
   ]
  },
  {
   "cell_type": "code",
   "execution_count": 87,
   "id": "2cba39fe",
   "metadata": {},
   "outputs": [
    {
     "data": {
      "text/plain": [
       "4    25933\n",
       "2     2817\n",
       "1      895\n",
       "0      286\n",
       "3      231\n",
       "Name: race, dtype: int64"
      ]
     },
     "execution_count": 87,
     "metadata": {},
     "output_type": "execute_result"
    }
   ],
   "source": [
    "df1.race.value_counts()"
   ]
  },
  {
   "cell_type": "code",
   "execution_count": 88,
   "id": "aaf9b608",
   "metadata": {},
   "outputs": [
    {
     "data": {
      "text/plain": [
       " Male      20380\n",
       " Female     9782\n",
       "Name: sex, dtype: int64"
      ]
     },
     "execution_count": 88,
     "metadata": {},
     "output_type": "execute_result"
    }
   ],
   "source": [
    "df1.sex.value_counts()"
   ]
  },
  {
   "cell_type": "code",
   "execution_count": 89,
   "id": "48db4334",
   "metadata": {},
   "outputs": [],
   "source": [
    "#label encoding 'race'\n",
    "from sklearn import preprocessing\n",
    "label_encoder = preprocessing.LabelEncoder()\n",
    "df1['sex']= label_encoder.fit_transform(df1['sex'])"
   ]
  },
  {
   "cell_type": "code",
   "execution_count": 90,
   "id": "7cabd921",
   "metadata": {},
   "outputs": [
    {
     "data": {
      "text/plain": [
       "1    20380\n",
       "0     9782\n",
       "Name: sex, dtype: int64"
      ]
     },
     "execution_count": 90,
     "metadata": {},
     "output_type": "execute_result"
    }
   ],
   "source": [
    "df1.sex.value_counts()"
   ]
  },
  {
   "cell_type": "code",
   "execution_count": 91,
   "id": "35d5ba44",
   "metadata": {},
   "outputs": [],
   "source": [
    "#label encoding 'native_country'\n",
    "from sklearn import preprocessing\n",
    "label_encoder = preprocessing.LabelEncoder()\n",
    "df1['native_country']= label_encoder.fit_transform(df1['native_country'])"
   ]
  },
  {
   "cell_type": "code",
   "execution_count": 92,
   "id": "8cc2f0b6",
   "metadata": {},
   "outputs": [
    {
     "data": {
      "text/plain": [
       "38    27504\n",
       "25      610\n",
       "29      188\n",
       "10      128\n",
       "32      109\n",
       "1       107\n",
       "18      100\n",
       "7       100\n",
       "4        92\n",
       "8        86\n",
       "22       80\n",
       "34       71\n",
       "2        68\n",
       "21       68\n",
       "5        67\n",
       "39       64\n",
       "12       63\n",
       "23       59\n",
       "30       56\n",
       "3        56\n",
       "19       42\n",
       "35       42\n",
       "13       42\n",
       "31       34\n",
       "26       33\n",
       "28       30\n",
       "11       29\n",
       "9        27\n",
       "6        27\n",
       "20       24\n",
       "16       19\n",
       "0        18\n",
       "37       18\n",
       "36       17\n",
       "24       17\n",
       "40       16\n",
       "27       14\n",
       "17       13\n",
       "15       12\n",
       "33       11\n",
       "14        1\n",
       "Name: native_country, dtype: int64"
      ]
     },
     "execution_count": 92,
     "metadata": {},
     "output_type": "execute_result"
    }
   ],
   "source": [
    "df1.native_country.value_counts()"
   ]
  },
  {
   "cell_type": "code",
   "execution_count": 94,
   "id": "9cf45ab2",
   "metadata": {},
   "outputs": [
    {
     "data": {
      "text/plain": [
       "1    20380\n",
       "0     9782\n",
       "Name: sex, dtype: int64"
      ]
     },
     "execution_count": 94,
     "metadata": {},
     "output_type": "execute_result"
    }
   ],
   "source": [
    "df1.sex.value_counts()"
   ]
  },
  {
   "cell_type": "code",
   "execution_count": null,
   "id": "83c65333",
   "metadata": {},
   "outputs": [],
   "source": [
    "#SMOTE"
   ]
  },
  {
   "cell_type": "code",
   "execution_count": 96,
   "id": "298d23af",
   "metadata": {},
   "outputs": [],
   "source": [
    "less_than_50 = df1[df1.income == 0]\n",
    "more_than_50 = df1[df1.income == 1]"
   ]
  },
  {
   "cell_type": "code",
   "execution_count": 97,
   "id": "5735c70f",
   "metadata": {},
   "outputs": [],
   "source": [
    "from sklearn.utils import resample\n",
    "def_oversample = resample(more_than_50, replace = True,n_samples=len(less_than_50),random_state=27)"
   ]
  },
  {
   "cell_type": "code",
   "execution_count": 98,
   "id": "822554a6",
   "metadata": {},
   "outputs": [],
   "source": [
    "BCsmote = pd.concat([less_than_50, def_oversample])"
   ]
  },
  {
   "cell_type": "code",
   "execution_count": 99,
   "id": "59283ac8",
   "metadata": {},
   "outputs": [
    {
     "data": {
      "text/plain": [
       "0    22654\n",
       "1    22654\n",
       "Name: income, dtype: int64"
      ]
     },
     "execution_count": 99,
     "metadata": {},
     "output_type": "execute_result"
    }
   ],
   "source": [
    "BCsmote.income.value_counts()"
   ]
  },
  {
   "cell_type": "code",
   "execution_count": 130,
   "id": "18902c09",
   "metadata": {},
   "outputs": [],
   "source": [
    "#covert to csv\n",
    "BCsmote.to_csv('adult_income_smote.csv')"
   ]
  },
  {
   "cell_type": "code",
   "execution_count": 131,
   "id": "88f10ccb",
   "metadata": {},
   "outputs": [],
   "source": [
    "df2=pd.read_csv('adult_income_smote.csv')"
   ]
  },
  {
   "cell_type": "code",
   "execution_count": 132,
   "id": "06571d00",
   "metadata": {},
   "outputs": [
    {
     "data": {
      "text/html": [
       "<div>\n",
       "<style scoped>\n",
       "    .dataframe tbody tr th:only-of-type {\n",
       "        vertical-align: middle;\n",
       "    }\n",
       "\n",
       "    .dataframe tbody tr th {\n",
       "        vertical-align: top;\n",
       "    }\n",
       "\n",
       "    .dataframe thead th {\n",
       "        text-align: right;\n",
       "    }\n",
       "</style>\n",
       "<table border=\"1\" class=\"dataframe\">\n",
       "  <thead>\n",
       "    <tr style=\"text-align: right;\">\n",
       "      <th></th>\n",
       "      <th>Age</th>\n",
       "      <th>Workclass</th>\n",
       "      <th>fnlwgt</th>\n",
       "      <th>education</th>\n",
       "      <th>education_num</th>\n",
       "      <th>marital_status</th>\n",
       "      <th>occupation</th>\n",
       "      <th>relationship</th>\n",
       "      <th>race</th>\n",
       "      <th>sex</th>\n",
       "      <th>capital_gain</th>\n",
       "      <th>capital_loss</th>\n",
       "      <th>hours_per_weeks</th>\n",
       "      <th>native_country</th>\n",
       "      <th>income</th>\n",
       "    </tr>\n",
       "  </thead>\n",
       "  <tbody>\n",
       "    <tr>\n",
       "      <th>0</th>\n",
       "      <td>39</td>\n",
       "      <td>5</td>\n",
       "      <td>77516</td>\n",
       "      <td>11</td>\n",
       "      <td>13</td>\n",
       "      <td>4</td>\n",
       "      <td>0</td>\n",
       "      <td>1</td>\n",
       "      <td>4</td>\n",
       "      <td>1</td>\n",
       "      <td>2174</td>\n",
       "      <td>0</td>\n",
       "      <td>40</td>\n",
       "      <td>38</td>\n",
       "      <td>0</td>\n",
       "    </tr>\n",
       "    <tr>\n",
       "      <th>1</th>\n",
       "      <td>50</td>\n",
       "      <td>4</td>\n",
       "      <td>83311</td>\n",
       "      <td>11</td>\n",
       "      <td>13</td>\n",
       "      <td>2</td>\n",
       "      <td>3</td>\n",
       "      <td>0</td>\n",
       "      <td>4</td>\n",
       "      <td>1</td>\n",
       "      <td>0</td>\n",
       "      <td>0</td>\n",
       "      <td>13</td>\n",
       "      <td>38</td>\n",
       "      <td>0</td>\n",
       "    </tr>\n",
       "    <tr>\n",
       "      <th>2</th>\n",
       "      <td>38</td>\n",
       "      <td>2</td>\n",
       "      <td>215646</td>\n",
       "      <td>10</td>\n",
       "      <td>9</td>\n",
       "      <td>0</td>\n",
       "      <td>5</td>\n",
       "      <td>1</td>\n",
       "      <td>4</td>\n",
       "      <td>1</td>\n",
       "      <td>0</td>\n",
       "      <td>0</td>\n",
       "      <td>40</td>\n",
       "      <td>38</td>\n",
       "      <td>0</td>\n",
       "    </tr>\n",
       "    <tr>\n",
       "      <th>3</th>\n",
       "      <td>53</td>\n",
       "      <td>2</td>\n",
       "      <td>234721</td>\n",
       "      <td>6</td>\n",
       "      <td>7</td>\n",
       "      <td>2</td>\n",
       "      <td>5</td>\n",
       "      <td>0</td>\n",
       "      <td>2</td>\n",
       "      <td>1</td>\n",
       "      <td>0</td>\n",
       "      <td>0</td>\n",
       "      <td>40</td>\n",
       "      <td>38</td>\n",
       "      <td>0</td>\n",
       "    </tr>\n",
       "    <tr>\n",
       "      <th>4</th>\n",
       "      <td>28</td>\n",
       "      <td>2</td>\n",
       "      <td>338409</td>\n",
       "      <td>11</td>\n",
       "      <td>13</td>\n",
       "      <td>2</td>\n",
       "      <td>9</td>\n",
       "      <td>5</td>\n",
       "      <td>2</td>\n",
       "      <td>0</td>\n",
       "      <td>0</td>\n",
       "      <td>0</td>\n",
       "      <td>40</td>\n",
       "      <td>4</td>\n",
       "      <td>0</td>\n",
       "    </tr>\n",
       "    <tr>\n",
       "      <th>...</th>\n",
       "      <td>...</td>\n",
       "      <td>...</td>\n",
       "      <td>...</td>\n",
       "      <td>...</td>\n",
       "      <td>...</td>\n",
       "      <td>...</td>\n",
       "      <td>...</td>\n",
       "      <td>...</td>\n",
       "      <td>...</td>\n",
       "      <td>...</td>\n",
       "      <td>...</td>\n",
       "      <td>...</td>\n",
       "      <td>...</td>\n",
       "      <td>...</td>\n",
       "      <td>...</td>\n",
       "    </tr>\n",
       "    <tr>\n",
       "      <th>45303</th>\n",
       "      <td>47</td>\n",
       "      <td>3</td>\n",
       "      <td>192894</td>\n",
       "      <td>11</td>\n",
       "      <td>13</td>\n",
       "      <td>2</td>\n",
       "      <td>3</td>\n",
       "      <td>0</td>\n",
       "      <td>4</td>\n",
       "      <td>1</td>\n",
       "      <td>0</td>\n",
       "      <td>1902</td>\n",
       "      <td>45</td>\n",
       "      <td>38</td>\n",
       "      <td>1</td>\n",
       "    </tr>\n",
       "    <tr>\n",
       "      <th>45304</th>\n",
       "      <td>46</td>\n",
       "      <td>1</td>\n",
       "      <td>124071</td>\n",
       "      <td>14</td>\n",
       "      <td>14</td>\n",
       "      <td>0</td>\n",
       "      <td>3</td>\n",
       "      <td>4</td>\n",
       "      <td>4</td>\n",
       "      <td>0</td>\n",
       "      <td>0</td>\n",
       "      <td>0</td>\n",
       "      <td>65</td>\n",
       "      <td>38</td>\n",
       "      <td>1</td>\n",
       "    </tr>\n",
       "    <tr>\n",
       "      <th>45305</th>\n",
       "      <td>34</td>\n",
       "      <td>2</td>\n",
       "      <td>153614</td>\n",
       "      <td>10</td>\n",
       "      <td>9</td>\n",
       "      <td>2</td>\n",
       "      <td>11</td>\n",
       "      <td>0</td>\n",
       "      <td>4</td>\n",
       "      <td>1</td>\n",
       "      <td>0</td>\n",
       "      <td>0</td>\n",
       "      <td>45</td>\n",
       "      <td>38</td>\n",
       "      <td>1</td>\n",
       "    </tr>\n",
       "    <tr>\n",
       "      <th>45306</th>\n",
       "      <td>50</td>\n",
       "      <td>1</td>\n",
       "      <td>124963</td>\n",
       "      <td>10</td>\n",
       "      <td>9</td>\n",
       "      <td>2</td>\n",
       "      <td>2</td>\n",
       "      <td>0</td>\n",
       "      <td>4</td>\n",
       "      <td>1</td>\n",
       "      <td>0</td>\n",
       "      <td>1977</td>\n",
       "      <td>35</td>\n",
       "      <td>38</td>\n",
       "      <td>1</td>\n",
       "    </tr>\n",
       "    <tr>\n",
       "      <th>45307</th>\n",
       "      <td>42</td>\n",
       "      <td>5</td>\n",
       "      <td>293791</td>\n",
       "      <td>11</td>\n",
       "      <td>13</td>\n",
       "      <td>2</td>\n",
       "      <td>3</td>\n",
       "      <td>0</td>\n",
       "      <td>4</td>\n",
       "      <td>1</td>\n",
       "      <td>0</td>\n",
       "      <td>0</td>\n",
       "      <td>50</td>\n",
       "      <td>38</td>\n",
       "      <td>1</td>\n",
       "    </tr>\n",
       "  </tbody>\n",
       "</table>\n",
       "<p>45308 rows × 15 columns</p>\n",
       "</div>"
      ],
      "text/plain": [
       "       Age  Workclass  fnlwgt  education  education_num  marital_status  \\\n",
       "0       39          5   77516         11             13               4   \n",
       "1       50          4   83311         11             13               2   \n",
       "2       38          2  215646         10              9               0   \n",
       "3       53          2  234721          6              7               2   \n",
       "4       28          2  338409         11             13               2   \n",
       "...    ...        ...     ...        ...            ...             ...   \n",
       "45303   47          3  192894         11             13               2   \n",
       "45304   46          1  124071         14             14               0   \n",
       "45305   34          2  153614         10              9               2   \n",
       "45306   50          1  124963         10              9               2   \n",
       "45307   42          5  293791         11             13               2   \n",
       "\n",
       "       occupation  relationship  race  sex  capital_gain  capital_loss  \\\n",
       "0               0             1     4    1          2174             0   \n",
       "1               3             0     4    1             0             0   \n",
       "2               5             1     4    1             0             0   \n",
       "3               5             0     2    1             0             0   \n",
       "4               9             5     2    0             0             0   \n",
       "...           ...           ...   ...  ...           ...           ...   \n",
       "45303           3             0     4    1             0          1902   \n",
       "45304           3             4     4    0             0             0   \n",
       "45305          11             0     4    1             0             0   \n",
       "45306           2             0     4    1             0          1977   \n",
       "45307           3             0     4    1             0             0   \n",
       "\n",
       "       hours_per_weeks  native_country  income  \n",
       "0                   40              38       0  \n",
       "1                   13              38       0  \n",
       "2                   40              38       0  \n",
       "3                   40              38       0  \n",
       "4                   40               4       0  \n",
       "...                ...             ...     ...  \n",
       "45303               45              38       1  \n",
       "45304               65              38       1  \n",
       "45305               45              38       1  \n",
       "45306               35              38       1  \n",
       "45307               50              38       1  \n",
       "\n",
       "[45308 rows x 15 columns]"
      ]
     },
     "execution_count": 132,
     "metadata": {},
     "output_type": "execute_result"
    }
   ],
   "source": [
    "df2"
   ]
  },
  {
   "cell_type": "code",
   "execution_count": 133,
   "id": "eb6faa8b",
   "metadata": {},
   "outputs": [
    {
     "data": {
      "text/plain": [
       "0    22654\n",
       "1    22654\n",
       "Name: income, dtype: int64"
      ]
     },
     "execution_count": 133,
     "metadata": {},
     "output_type": "execute_result"
    }
   ],
   "source": [
    "df2.income.value_counts()"
   ]
  },
  {
   "cell_type": "markdown",
   "id": "5987a9a6",
   "metadata": {},
   "source": [
    "# BUILDING MODEl"
   ]
  },
  {
   "cell_type": "code",
   "execution_count": 134,
   "id": "9a6275a0",
   "metadata": {},
   "outputs": [],
   "source": [
    "#X and y\n",
    "X=df2.drop('income',axis=1)\n",
    "y=df2['income']"
   ]
  },
  {
   "cell_type": "code",
   "execution_count": 135,
   "id": "650289cf",
   "metadata": {},
   "outputs": [],
   "source": [
    "#train test\n",
    "from sklearn.model_selection import train_test_split\n",
    "X_train,X_test,y_train,y_test=train_test_split(X,y,test_size=0.20,random_state=45)"
   ]
  },
  {
   "cell_type": "code",
   "execution_count": 136,
   "id": "a38d8b7e",
   "metadata": {},
   "outputs": [],
   "source": [
    "from sklearn.tree import DecisionTreeClassifier\n",
    "from sklearn import tree\n",
    "from sklearn.metrics import mean_squared_error\n",
    "from statsmodels.stats.stattools import durbin_watson"
   ]
  },
  {
   "cell_type": "code",
   "execution_count": 137,
   "id": "6d9a6b5d",
   "metadata": {},
   "outputs": [],
   "source": [
    "from sklearn.model_selection import train_test_split\n",
    "from sklearn import tree\n",
    "from sklearn.tree import DecisionTreeClassifier\n",
    "from sklearn import metrics\n",
    "from sklearn.metrics import classification_report, confusion_matrix\n",
    "from sklearn.metrics import roc_curve, auc, roc_auc_score"
   ]
  },
  {
   "cell_type": "code",
   "execution_count": 138,
   "id": "06898c19",
   "metadata": {},
   "outputs": [],
   "source": [
    "# model \n",
    "dt = tree.DecisionTreeClassifier()\n",
    "dtmodel = dt.fit(X_train, y_train)"
   ]
  },
  {
   "cell_type": "code",
   "execution_count": 139,
   "id": "4f2cf2ed",
   "metadata": {},
   "outputs": [
    {
     "data": {
      "text/plain": [
       "[Text(0.6705745133841801, 0.9878048780487805, 'X[7] <= 0.5\\ngini = 0.5\\nsamples = 36246\\nvalue = [18128, 18118]'),\n",
       " Text(0.42895813361150453, 0.9634146341463414, 'X[4] <= 12.5\\ngini = 0.405\\nsamples = 19192\\nvalue = [5420, 13772]'),\n",
       " Text(0.30237598850687436, 0.9390243902439024, 'X[10] <= 5095.5\\ngini = 0.476\\nsamples = 11857\\nvalue = [4628, 7229]'),\n",
       " Text(0.10952735545573804, 0.9146341463414634, 'X[3] <= 6.5\\ngini = 0.49\\nsamples = 10778\\nvalue = [4621, 6157]'),\n",
       " Text(0.0195548724808046, 0.8902439024390244, 'X[0] <= 37.5\\ngini = 0.375\\nsamples = 1202\\nvalue = [902, 300]'),\n",
       " Text(0.004609468444947462, 0.8658536585365854, 'X[12] <= 44.0\\ngini = 0.19\\nsamples = 348\\nvalue = [311, 37]'),\n",
       " Text(0.002469358095507569, 0.8414634146341463, 'X[6] <= 11.5\\ngini = 0.116\\nsamples = 259\\nvalue = [243, 16]'),\n",
       " Text(0.0016462387303383791, 0.8170731707317073, 'X[6] <= 1.0\\ngini = 0.068\\nsamples = 227\\nvalue = [219, 8]'),\n",
       " Text(0.0009877432382030275, 0.7926829268292683, 'X[4] <= 6.5\\ngini = 0.5\\nsamples = 2\\nvalue = [1, 1]'),\n",
       " Text(0.0006584954921353517, 0.7682926829268293, 'gini = 0.0\\nsamples = 1\\nvalue = [1, 0]'),\n",
       " Text(0.0013169909842707034, 0.7682926829268293, 'gini = 0.0\\nsamples = 1\\nvalue = [0, 1]'),\n",
       " Text(0.002304734222473731, 0.7926829268292683, 'X[2] <= 161234.5\\ngini = 0.06\\nsamples = 225\\nvalue = [218, 7]'),\n",
       " Text(0.001975486476406055, 0.7682926829268293, 'X[2] <= 160785.0\\ngini = 0.182\\nsamples = 69\\nvalue = [62, 7]'),\n",
       " Text(0.0016462387303383791, 0.7439024390243902, 'X[0] <= 36.5\\ngini = 0.138\\nsamples = 67\\nvalue = [62, 5]'),\n",
       " Text(0.0009877432382030275, 0.7195121951219512, 'X[8] <= 2.5\\ngini = 0.064\\nsamples = 60\\nvalue = [58, 2]'),\n",
       " Text(0.0006584954921353517, 0.6951219512195121, 'X[6] <= 3.0\\ngini = 0.408\\nsamples = 7\\nvalue = [5, 2]'),\n",
       " Text(0.00032924774606767586, 0.6707317073170732, 'gini = 0.0\\nsamples = 2\\nvalue = [0, 2]'),\n",
       " Text(0.0009877432382030275, 0.6707317073170732, 'gini = 0.0\\nsamples = 5\\nvalue = [5, 0]'),\n",
       " Text(0.0013169909842707034, 0.6951219512195121, 'gini = 0.0\\nsamples = 53\\nvalue = [53, 0]'),\n",
       " Text(0.002304734222473731, 0.7195121951219512, 'X[2] <= 96340.5\\ngini = 0.49\\nsamples = 7\\nvalue = [4, 3]'),\n",
       " Text(0.001975486476406055, 0.6951219512195121, 'gini = 0.0\\nsamples = 2\\nvalue = [2, 0]'),\n",
       " Text(0.002633981968541407, 0.6951219512195121, 'X[2] <= 125605.5\\ngini = 0.48\\nsamples = 5\\nvalue = [2, 3]'),\n",
       " Text(0.002304734222473731, 0.6707317073170732, 'gini = 0.0\\nsamples = 3\\nvalue = [0, 3]'),\n",
       " Text(0.002963229714609083, 0.6707317073170732, 'gini = 0.0\\nsamples = 2\\nvalue = [2, 0]'),\n",
       " Text(0.002304734222473731, 0.7439024390243902, 'gini = 0.0\\nsamples = 2\\nvalue = [0, 2]'),\n",
       " Text(0.002633981968541407, 0.7682926829268293, 'gini = 0.0\\nsamples = 156\\nvalue = [156, 0]'),\n",
       " Text(0.0032924774606767583, 0.8170731707317073, 'X[2] <= 306323.5\\ngini = 0.375\\nsamples = 32\\nvalue = [24, 8]'),\n",
       " Text(0.002963229714609083, 0.7926829268292683, 'gini = 0.0\\nsamples = 23\\nvalue = [23, 0]'),\n",
       " Text(0.003621725206744434, 0.7926829268292683, 'X[3] <= 2.5\\ngini = 0.198\\nsamples = 9\\nvalue = [1, 8]'),\n",
       " Text(0.0032924774606767583, 0.7682926829268293, 'gini = 0.0\\nsamples = 1\\nvalue = [1, 0]'),\n",
       " Text(0.00395097295281211, 0.7682926829268293, 'gini = 0.0\\nsamples = 8\\nvalue = [0, 8]'),\n",
       " Text(0.0067495787943873545, 0.8414634146341463, 'X[2] <= 249305.5\\ngini = 0.361\\nsamples = 89\\nvalue = [68, 21]'),\n",
       " Text(0.006420331048319679, 0.8170731707317073, 'X[2] <= 247368.0\\ngini = 0.42\\nsamples = 70\\nvalue = [49, 21]'),\n",
       " Text(0.0060910833022520035, 0.7926829268292683, 'X[2] <= 149125.5\\ngini = 0.393\\nsamples = 67\\nvalue = [49, 18]'),\n",
       " Text(0.005267963937082814, 0.7682926829268293, 'X[2] <= 144506.0\\ngini = 0.478\\nsamples = 33\\nvalue = [20, 13]'),\n",
       " Text(0.004938716191015138, 0.7439024390243902, 'X[6] <= 10.0\\ngini = 0.355\\nsamples = 26\\nvalue = [20, 6]'),\n",
       " Text(0.004280220698879786, 0.7195121951219512, 'X[0] <= 28.5\\ngini = 0.188\\nsamples = 19\\nvalue = [17, 2]'),\n",
       " Text(0.00395097295281211, 0.6951219512195121, 'X[0] <= 27.5\\ngini = 0.444\\nsamples = 6\\nvalue = [4, 2]'),\n",
       " Text(0.003621725206744434, 0.6707317073170732, 'gini = 0.0\\nsamples = 4\\nvalue = [4, 0]'),\n",
       " Text(0.004280220698879786, 0.6707317073170732, 'gini = 0.0\\nsamples = 2\\nvalue = [0, 2]'),\n",
       " Text(0.004609468444947462, 0.6951219512195121, 'gini = 0.0\\nsamples = 13\\nvalue = [13, 0]'),\n",
       " Text(0.00559721168315049, 0.7195121951219512, 'X[12] <= 65.0\\ngini = 0.49\\nsamples = 7\\nvalue = [3, 4]'),\n",
       " Text(0.005267963937082814, 0.6951219512195121, 'gini = 0.0\\nsamples = 3\\nvalue = [3, 0]'),\n",
       " Text(0.005926459429218166, 0.6951219512195121, 'gini = 0.0\\nsamples = 4\\nvalue = [0, 4]'),\n",
       " Text(0.00559721168315049, 0.7439024390243902, 'gini = 0.0\\nsamples = 7\\nvalue = [0, 7]'),\n",
       " Text(0.0069142026674211925, 0.7682926829268293, 'X[0] <= 28.5\\ngini = 0.251\\nsamples = 34\\nvalue = [29, 5]'),\n",
       " Text(0.0065849549213535166, 0.7439024390243902, 'X[2] <= 208210.0\\ngini = 0.486\\nsamples = 12\\nvalue = [7, 5]'),\n",
       " Text(0.006255707175285841, 0.7195121951219512, 'gini = 0.0\\nsamples = 6\\nvalue = [6, 0]'),\n",
       " Text(0.0069142026674211925, 0.7195121951219512, 'X[2] <= 235482.5\\ngini = 0.278\\nsamples = 6\\nvalue = [1, 5]'),\n",
       " Text(0.0065849549213535166, 0.6951219512195121, 'gini = 0.0\\nsamples = 5\\nvalue = [0, 5]'),\n",
       " Text(0.007243450413488868, 0.6951219512195121, 'gini = 0.0\\nsamples = 1\\nvalue = [1, 0]'),\n",
       " Text(0.007243450413488868, 0.7439024390243902, 'gini = 0.0\\nsamples = 22\\nvalue = [22, 0]'),\n",
       " Text(0.0067495787943873545, 0.7926829268292683, 'gini = 0.0\\nsamples = 3\\nvalue = [0, 3]'),\n",
       " Text(0.00707882654045503, 0.8170731707317073, 'gini = 0.0\\nsamples = 19\\nvalue = [19, 0]'),\n",
       " Text(0.03450027651666174, 0.8658536585365854, 'X[0] <= 64.5\\ngini = 0.426\\nsamples = 854\\nvalue = [591, 263]'),\n",
       " Text(0.027926896711380912, 0.8414634146341463, 'X[6] <= 8.0\\ngini = 0.446\\nsamples = 777\\nvalue = [516, 261]'),\n",
       " Text(0.01997607809344977, 0.8170731707317073, 'X[12] <= 45.5\\ngini = 0.408\\nsamples = 557\\nvalue = [398, 159]'),\n",
       " Text(0.01468239167620542, 0.7926829268292683, 'X[3] <= 4.5\\ngini = 0.363\\nsamples = 441\\nvalue = [336, 105]'),\n",
       " Text(0.009825987421707202, 0.7682926829268293, 'X[1] <= 0.5\\ngini = 0.256\\nsamples = 239\\nvalue = [203, 36]'),\n",
       " Text(0.009496739675639526, 0.7439024390243902, 'gini = 0.0\\nsamples = 2\\nvalue = [0, 2]'),\n",
       " Text(0.010155235167774878, 0.7439024390243902, 'X[8] <= 2.5\\ngini = 0.246\\nsamples = 237\\nvalue = [203, 34]'),\n",
       " Text(0.008231193651691896, 0.7195121951219512, 'X[6] <= 3.0\\ngini = 0.437\\nsamples = 31\\nvalue = [21, 10]'),\n",
       " Text(0.00790194590562422, 0.6951219512195121, 'X[2] <= 170705.0\\ngini = 0.408\\nsamples = 14\\nvalue = [4, 10]'),\n",
       " Text(0.007572698159556544, 0.6707317073170732, 'gini = 0.0\\nsamples = 10\\nvalue = [0, 10]'),\n",
       " Text(0.008231193651691896, 0.6707317073170732, 'gini = 0.0\\nsamples = 4\\nvalue = [4, 0]'),\n",
       " Text(0.008560441397759572, 0.6951219512195121, 'gini = 0.0\\nsamples = 17\\nvalue = [17, 0]'),\n",
       " Text(0.012079276683857857, 0.7195121951219512, 'X[2] <= 236895.5\\ngini = 0.206\\nsamples = 206\\nvalue = [182, 24]'),\n",
       " Text(0.01024783609635641, 0.6951219512195121, 'X[12] <= 44.0\\ngini = 0.123\\nsamples = 137\\nvalue = [128, 9]'),\n",
       " Text(0.008889689143827248, 0.6707317073170732, 'X[1] <= 2.5\\ngini = 0.091\\nsamples = 126\\nvalue = [120, 6]'),\n",
       " Text(0.007655010096073464, 0.6463414634146342, 'X[2] <= 197327.5\\ngini = 0.02\\nsamples = 99\\nvalue = [98, 1]'),\n",
       " Text(0.007325762350005788, 0.6219512195121951, 'gini = 0.0\\nsamples = 71\\nvalue = [71, 0]'),\n",
       " Text(0.00798425784214114, 0.6219512195121951, 'X[2] <= 198541.0\\ngini = 0.069\\nsamples = 28\\nvalue = [27, 1]'),\n",
       " Text(0.007655010096073464, 0.5975609756097561, 'gini = 0.0\\nsamples = 1\\nvalue = [0, 1]'),\n",
       " Text(0.008313505588208816, 0.5975609756097561, 'gini = 0.0\\nsamples = 27\\nvalue = [27, 0]'),\n",
       " Text(0.010124368191581032, 0.6463414634146342, 'X[1] <= 3.5\\ngini = 0.302\\nsamples = 27\\nvalue = [22, 5]'),\n",
       " Text(0.009301248826411843, 0.6219512195121951, 'X[0] <= 56.5\\ngini = 0.375\\nsamples = 4\\nvalue = [1, 3]'),\n",
       " Text(0.008972001080344167, 0.5975609756097561, 'gini = 0.0\\nsamples = 3\\nvalue = [0, 3]'),\n",
       " Text(0.00963049657247952, 0.5975609756097561, 'gini = 0.0\\nsamples = 1\\nvalue = [1, 0]'),\n",
       " Text(0.010947487556750221, 0.6219512195121951, 'X[2] <= 46883.0\\ngini = 0.159\\nsamples = 23\\nvalue = [21, 2]'),\n",
       " Text(0.010288992064614871, 0.5975609756097561, 'X[2] <= 33892.0\\ngini = 0.5\\nsamples = 2\\nvalue = [1, 1]'),\n",
       " Text(0.009959744318547195, 0.573170731707317, 'gini = 0.0\\nsamples = 1\\nvalue = [1, 0]'),\n",
       " Text(0.010618239810682545, 0.573170731707317, 'gini = 0.0\\nsamples = 1\\nvalue = [0, 1]'),\n",
       " Text(0.011605983048885573, 0.5975609756097561, 'X[0] <= 40.5\\ngini = 0.091\\nsamples = 21\\nvalue = [20, 1]'),\n",
       " Text(0.011276735302817897, 0.573170731707317, 'X[2] <= 139598.0\\ngini = 0.5\\nsamples = 2\\nvalue = [1, 1]'),\n",
       " Text(0.010947487556750221, 0.5487804878048781, 'gini = 0.0\\nsamples = 1\\nvalue = [1, 0]'),\n",
       " Text(0.011605983048885573, 0.5487804878048781, 'gini = 0.0\\nsamples = 1\\nvalue = [0, 1]'),\n",
       " Text(0.011935230794953249, 0.573170731707317, 'gini = 0.0\\nsamples = 19\\nvalue = [19, 0]'),\n",
       " Text(0.011605983048885573, 0.6707317073170732, 'X[3] <= 3.5\\ngini = 0.397\\nsamples = 11\\nvalue = [8, 3]'),\n",
       " Text(0.011276735302817897, 0.6463414634146342, 'gini = 0.0\\nsamples = 5\\nvalue = [5, 0]'),\n",
       " Text(0.011935230794953249, 0.6463414634146342, 'X[6] <= 3.5\\ngini = 0.5\\nsamples = 6\\nvalue = [3, 3]'),\n",
       " Text(0.011605983048885573, 0.6219512195121951, 'gini = 0.0\\nsamples = 3\\nvalue = [0, 3]'),\n",
       " Text(0.012264478541020925, 0.6219512195121951, 'gini = 0.0\\nsamples = 3\\nvalue = [3, 0]'),\n",
       " Text(0.013910717271359304, 0.6951219512195121, 'X[2] <= 237838.0\\ngini = 0.34\\nsamples = 69\\nvalue = [54, 15]'),\n",
       " Text(0.013581469525291628, 0.6707317073170732, 'gini = 0.0\\nsamples = 6\\nvalue = [0, 6]'),\n",
       " Text(0.01423996501742698, 0.6707317073170732, 'X[0] <= 63.0\\ngini = 0.245\\nsamples = 63\\nvalue = [54, 9]'),\n",
       " Text(0.013910717271359304, 0.6463414634146342, 'X[2] <= 440312.5\\ngini = 0.203\\nsamples = 61\\nvalue = [54, 7]'),\n",
       " Text(0.013252221779223953, 0.6219512195121951, 'X[2] <= 286781.0\\ngini = 0.147\\nsamples = 50\\nvalue = [46, 4]'),\n",
       " Text(0.012922974033156277, 0.5975609756097561, 'X[2] <= 277801.0\\ngini = 0.298\\nsamples = 22\\nvalue = [18, 4]'),\n",
       " Text(0.0125937262870886, 0.573170731707317, 'gini = 0.0\\nsamples = 15\\nvalue = [15, 0]'),\n",
       " Text(0.013252221779223953, 0.573170731707317, 'X[6] <= 2.5\\ngini = 0.49\\nsamples = 7\\nvalue = [3, 4]'),\n",
       " Text(0.012922974033156277, 0.5487804878048781, 'gini = 0.0\\nsamples = 3\\nvalue = [3, 0]'),\n",
       " Text(0.013581469525291628, 0.5487804878048781, 'gini = 0.0\\nsamples = 4\\nvalue = [0, 4]'),\n",
       " Text(0.013581469525291628, 0.5975609756097561, 'gini = 0.0\\nsamples = 28\\nvalue = [28, 0]'),\n",
       " Text(0.014569212763494656, 0.6219512195121951, 'X[6] <= 5.5\\ngini = 0.397\\nsamples = 11\\nvalue = [8, 3]'),\n",
       " Text(0.01423996501742698, 0.5975609756097561, 'X[0] <= 59.5\\ngini = 0.198\\nsamples = 9\\nvalue = [8, 1]'),\n",
       " Text(0.013910717271359304, 0.573170731707317, 'gini = 0.0\\nsamples = 8\\nvalue = [8, 0]'),\n",
       " Text(0.014569212763494656, 0.573170731707317, 'gini = 0.0\\nsamples = 1\\nvalue = [0, 1]'),\n",
       " Text(0.014898460509562332, 0.5975609756097561, 'gini = 0.0\\nsamples = 2\\nvalue = [0, 2]'),\n",
       " Text(0.014569212763494656, 0.6463414634146342, 'gini = 0.0\\nsamples = 2\\nvalue = [0, 2]'),\n",
       " Text(0.019538795930703637, 0.7682926829268293, 'X[12] <= 39.0\\ngini = 0.45\\nsamples = 202\\nvalue = [133, 69]'),\n",
       " Text(0.01823209393849755, 0.7439024390243902, 'X[13] <= 5.5\\ngini = 0.105\\nsamples = 18\\nvalue = [17, 1]'),\n",
       " Text(0.017902846192429874, 0.7195121951219512, 'gini = 0.0\\nsamples = 1\\nvalue = [0, 1]'),\n",
       " Text(0.018561341684565226, 0.7195121951219512, 'gini = 0.0\\nsamples = 17\\nvalue = [17, 0]'),\n",
       " Text(0.020845497922909725, 0.7439024390243902, 'X[11] <= 1779.5\\ngini = 0.466\\nsamples = 184\\nvalue = [116, 68]'),\n",
       " Text(0.019219837176700578, 0.7195121951219512, 'X[6] <= 4.5\\ngini = 0.457\\nsamples = 178\\nvalue = [115, 63]'),\n",
       " Text(0.016956258922485305, 0.6951219512195121, 'X[2] <= 142002.5\\ngini = 0.493\\nsamples = 109\\nvalue = [61, 48]'),\n",
       " Text(0.015886203747765358, 0.6707317073170732, 'X[2] <= 137280.5\\ngini = 0.485\\nsamples = 41\\nvalue = [17, 24]'),\n",
       " Text(0.015556956001697684, 0.6463414634146342, 'X[0] <= 50.5\\ngini = 0.5\\nsamples = 33\\nvalue = [17, 16]'),\n",
       " Text(0.015227708255630008, 0.6219512195121951, 'gini = 0.0\\nsamples = 6\\nvalue = [6, 0]'),\n",
       " Text(0.015886203747765358, 0.6219512195121951, 'X[0] <= 51.5\\ngini = 0.483\\nsamples = 27\\nvalue = [11, 16]'),\n",
       " Text(0.015556956001697684, 0.5975609756097561, 'gini = 0.0\\nsamples = 9\\nvalue = [0, 9]'),\n",
       " Text(0.016215451493833036, 0.5975609756097561, 'X[2] <= 93896.0\\ngini = 0.475\\nsamples = 18\\nvalue = [11, 7]'),\n",
       " Text(0.015886203747765358, 0.573170731707317, 'gini = 0.0\\nsamples = 4\\nvalue = [4, 0]'),\n",
       " Text(0.01654469923990071, 0.573170731707317, 'X[2] <= 99253.0\\ngini = 0.5\\nsamples = 14\\nvalue = [7, 7]'),\n",
       " Text(0.016215451493833036, 0.5487804878048781, 'gini = 0.0\\nsamples = 4\\nvalue = [0, 4]'),\n",
       " Text(0.016873946985968388, 0.5487804878048781, 'X[8] <= 3.0\\ngini = 0.42\\nsamples = 10\\nvalue = [7, 3]'),\n",
       " Text(0.01654469923990071, 0.524390243902439, 'X[6] <= 1.0\\ngini = 0.375\\nsamples = 4\\nvalue = [1, 3]'),\n",
       " Text(0.016215451493833036, 0.5, 'gini = 0.0\\nsamples = 1\\nvalue = [1, 0]'),\n",
       " Text(0.016873946985968388, 0.5, 'gini = 0.0\\nsamples = 3\\nvalue = [0, 3]'),\n",
       " Text(0.017203194732036062, 0.524390243902439, 'gini = 0.0\\nsamples = 6\\nvalue = [6, 0]'),\n",
       " Text(0.016215451493833036, 0.6463414634146342, 'gini = 0.0\\nsamples = 8\\nvalue = [0, 8]'),\n",
       " Text(0.018026314097205252, 0.6707317073170732, 'X[12] <= 41.0\\ngini = 0.457\\nsamples = 68\\nvalue = [44, 24]'),\n",
       " Text(0.017697066351137578, 0.6463414634146342, 'X[2] <= 157351.5\\ngini = 0.49\\nsamples = 56\\nvalue = [32, 24]'),\n",
       " Text(0.0173678186050699, 0.6219512195121951, 'gini = 0.0\\nsamples = 9\\nvalue = [9, 0]'),\n",
       " Text(0.018026314097205252, 0.6219512195121951, 'X[2] <= 165158.5\\ngini = 0.5\\nsamples = 47\\nvalue = [23, 24]'),\n",
       " Text(0.017697066351137578, 0.5975609756097561, 'gini = 0.0\\nsamples = 8\\nvalue = [0, 8]'),\n",
       " Text(0.01835556184327293, 0.5975609756097561, 'X[2] <= 197715.0\\ngini = 0.484\\nsamples = 39\\nvalue = [23, 16]'),\n",
       " Text(0.018026314097205252, 0.573170731707317, 'gini = 0.0\\nsamples = 9\\nvalue = [9, 0]'),\n",
       " Text(0.018684809589340604, 0.573170731707317, 'X[2] <= 201319.0\\ngini = 0.498\\nsamples = 30\\nvalue = [14, 16]'),\n",
       " Text(0.01835556184327293, 0.5487804878048781, 'gini = 0.0\\nsamples = 5\\nvalue = [0, 5]'),\n",
       " Text(0.01901405733540828, 0.5487804878048781, 'X[0] <= 61.5\\ngini = 0.493\\nsamples = 25\\nvalue = [14, 11]'),\n",
       " Text(0.01819093797023909, 0.524390243902439, 'X[6] <= 1.0\\ngini = 0.432\\nsamples = 19\\nvalue = [13, 6]'),\n",
       " Text(0.01753244247810374, 0.5, 'X[2] <= 251783.5\\ngini = 0.32\\nsamples = 5\\nvalue = [1, 4]'),\n",
       " Text(0.017203194732036062, 0.47560975609756095, 'gini = 0.0\\nsamples = 1\\nvalue = [1, 0]'),\n",
       " Text(0.017861690224171414, 0.47560975609756095, 'gini = 0.0\\nsamples = 4\\nvalue = [0, 4]'),\n",
       " Text(0.018849433462374443, 0.5, 'X[2] <= 212988.5\\ngini = 0.245\\nsamples = 14\\nvalue = [12, 2]'),\n",
       " Text(0.018520185716306765, 0.47560975609756095, 'gini = 0.0\\nsamples = 1\\nvalue = [0, 1]'),\n",
       " Text(0.019178681208442117, 0.47560975609756095, 'X[10] <= 1551.5\\ngini = 0.142\\nsamples = 13\\nvalue = [12, 1]'),\n",
       " Text(0.018849433462374443, 0.45121951219512196, 'gini = 0.0\\nsamples = 12\\nvalue = [12, 0]'),\n",
       " Text(0.019507928954509795, 0.45121951219512196, 'gini = 0.0\\nsamples = 1\\nvalue = [0, 1]'),\n",
       " Text(0.01983717670057747, 0.524390243902439, 'X[6] <= 1.0\\ngini = 0.278\\nsamples = 6\\nvalue = [1, 5]'),\n",
       " Text(0.019507928954509795, 0.5, 'gini = 0.0\\nsamples = 1\\nvalue = [1, 0]'),\n",
       " Text(0.020166424446645147, 0.5, 'gini = 0.0\\nsamples = 5\\nvalue = [0, 5]'),\n",
       " Text(0.01835556184327293, 0.6463414634146342, 'gini = 0.0\\nsamples = 12\\nvalue = [12, 0]'),\n",
       " Text(0.02148341543091585, 0.6951219512195121, 'X[0] <= 47.5\\ngini = 0.34\\nsamples = 69\\nvalue = [54, 15]'),\n",
       " Text(0.020331048319678982, 0.6707317073170732, 'X[2] <= 168088.5\\ngini = 0.499\\nsamples = 25\\nvalue = [13, 12]'),\n",
       " Text(0.01967255282754363, 0.6463414634146342, 'X[2] <= 101580.5\\ngini = 0.32\\nsamples = 10\\nvalue = [8, 2]'),\n",
       " Text(0.019343305081475956, 0.6219512195121951, 'X[4] <= 6.5\\ngini = 0.444\\nsamples = 3\\nvalue = [1, 2]'),\n",
       " Text(0.01901405733540828, 0.5975609756097561, 'gini = 0.0\\nsamples = 2\\nvalue = [0, 2]'),\n",
       " Text(0.01967255282754363, 0.5975609756097561, 'gini = 0.0\\nsamples = 1\\nvalue = [1, 0]'),\n",
       " Text(0.020001800573611308, 0.6219512195121951, 'gini = 0.0\\nsamples = 7\\nvalue = [7, 0]'),\n",
       " Text(0.020989543811814334, 0.6463414634146342, 'X[2] <= 189422.0\\ngini = 0.444\\nsamples = 15\\nvalue = [5, 10]'),\n",
       " Text(0.02066029606574666, 0.6219512195121951, 'X[2] <= 172395.5\\ngini = 0.165\\nsamples = 11\\nvalue = [1, 10]'),\n",
       " Text(0.020331048319678982, 0.5975609756097561, 'gini = 0.0\\nsamples = 7\\nvalue = [0, 7]'),\n",
       " Text(0.020989543811814334, 0.5975609756097561, 'X[2] <= 179299.0\\ngini = 0.375\\nsamples = 4\\nvalue = [1, 3]'),\n",
       " Text(0.02066029606574666, 0.573170731707317, 'gini = 0.0\\nsamples = 1\\nvalue = [1, 0]'),\n",
       " Text(0.02131879155788201, 0.573170731707317, 'gini = 0.0\\nsamples = 3\\nvalue = [0, 3]'),\n",
       " Text(0.02131879155788201, 0.6219512195121951, 'gini = 0.0\\nsamples = 4\\nvalue = [4, 0]'),\n",
       " Text(0.022635782542152715, 0.6707317073170732, 'X[2] <= 82310.0\\ngini = 0.127\\nsamples = 44\\nvalue = [41, 3]'),\n",
       " Text(0.022306534796085038, 0.6463414634146342, 'X[2] <= 68059.0\\ngini = 0.49\\nsamples = 7\\nvalue = [4, 3]'),\n",
       " Text(0.021977287050017363, 0.6219512195121951, 'gini = 0.0\\nsamples = 4\\nvalue = [4, 0]'),\n",
       " Text(0.022635782542152715, 0.6219512195121951, 'gini = 0.0\\nsamples = 3\\nvalue = [0, 3]'),\n",
       " Text(0.02296503028822039, 0.6463414634146342, 'gini = 0.0\\nsamples = 37\\nvalue = [37, 0]'),\n",
       " Text(0.022471158669118876, 0.7195121951219512, 'X[2] <= 249164.0\\ngini = 0.278\\nsamples = 6\\nvalue = [1, 5]'),\n",
       " Text(0.022141910923051202, 0.6951219512195121, 'gini = 0.0\\nsamples = 5\\nvalue = [0, 5]'),\n",
       " Text(0.02280040641518655, 0.6951219512195121, 'gini = 0.0\\nsamples = 1\\nvalue = [1, 0]'),\n",
       " Text(0.025269764510694123, 0.7926829268292683, 'X[2] <= 147119.0\\ngini = 0.498\\nsamples = 116\\nvalue = [62, 54]'),\n",
       " Text(0.02378814965338958, 0.7682926829268293, 'X[6] <= 3.5\\ngini = 0.353\\nsamples = 35\\nvalue = [27, 8]'),\n",
       " Text(0.023458901907321902, 0.7439024390243902, 'X[2] <= 61526.0\\ngini = 0.498\\nsamples = 15\\nvalue = [7, 8]'),\n",
       " Text(0.023129654161254228, 0.7195121951219512, 'gini = 0.0\\nsamples = 5\\nvalue = [0, 5]'),\n",
       " Text(0.02378814965338958, 0.7195121951219512, 'X[3] <= 2.0\\ngini = 0.42\\nsamples = 10\\nvalue = [7, 3]'),\n",
       " Text(0.023458901907321902, 0.6951219512195121, 'gini = 0.0\\nsamples = 2\\nvalue = [0, 2]'),\n",
       " Text(0.024117397399457254, 0.6951219512195121, 'X[1] <= 3.0\\ngini = 0.219\\nsamples = 8\\nvalue = [7, 1]'),\n",
       " Text(0.02378814965338958, 0.6707317073170732, 'gini = 0.0\\nsamples = 5\\nvalue = [5, 0]'),\n",
       " Text(0.024446645145524932, 0.6707317073170732, 'X[4] <= 5.5\\ngini = 0.444\\nsamples = 3\\nvalue = [2, 1]'),\n",
       " Text(0.024117397399457254, 0.6463414634146342, 'gini = 0.0\\nsamples = 2\\nvalue = [2, 0]'),\n",
       " Text(0.024775892891592606, 0.6463414634146342, 'gini = 0.0\\nsamples = 1\\nvalue = [0, 1]'),\n",
       " Text(0.024117397399457254, 0.7439024390243902, 'gini = 0.0\\nsamples = 20\\nvalue = [20, 0]'),\n",
       " Text(0.02675137936799866, 0.7682926829268293, 'X[12] <= 68.5\\ngini = 0.491\\nsamples = 81\\nvalue = [35, 46]'),\n",
       " Text(0.026422131621930987, 0.7439024390243902, 'X[2] <= 163575.0\\ngini = 0.461\\nsamples = 72\\nvalue = [26, 46]'),\n",
       " Text(0.02609288387586331, 0.7195121951219512, 'gini = 0.0\\nsamples = 13\\nvalue = [0, 13]'),\n",
       " Text(0.02675137936799866, 0.7195121951219512, 'X[0] <= 53.5\\ngini = 0.493\\nsamples = 59\\nvalue = [26, 33]'),\n",
       " Text(0.02609288387586331, 0.6951219512195121, 'X[2] <= 376242.0\\ngini = 0.454\\nsamples = 46\\nvalue = [16, 30]'),\n",
       " Text(0.025763636129795636, 0.6707317073170732, 'X[12] <= 57.0\\ngini = 0.494\\nsamples = 36\\nvalue = [16, 20]'),\n",
       " Text(0.025434388383727958, 0.6463414634146342, 'X[2] <= 290751.5\\ngini = 0.444\\nsamples = 30\\nvalue = [10, 20]'),\n",
       " Text(0.025105140637660284, 0.6219512195121951, 'X[6] <= 6.5\\ngini = 0.384\\nsamples = 27\\nvalue = [7, 20]'),\n",
       " Text(0.024775892891592606, 0.5975609756097561, 'X[0] <= 44.5\\ngini = 0.32\\nsamples = 25\\nvalue = [5, 20]'),\n",
       " Text(0.024117397399457254, 0.573170731707317, 'X[2] <= 267975.0\\ngini = 0.5\\nsamples = 6\\nvalue = [3, 3]'),\n",
       " Text(0.02378814965338958, 0.5487804878048781, 'gini = 0.0\\nsamples = 3\\nvalue = [3, 0]'),\n",
       " Text(0.024446645145524932, 0.5487804878048781, 'gini = 0.0\\nsamples = 3\\nvalue = [0, 3]'),\n",
       " Text(0.025434388383727958, 0.573170731707317, 'X[2] <= 171159.0\\ngini = 0.188\\nsamples = 19\\nvalue = [2, 17]'),\n",
       " Text(0.025105140637660284, 0.5487804878048781, 'gini = 0.0\\nsamples = 1\\nvalue = [1, 0]'),\n",
       " Text(0.025763636129795636, 0.5487804878048781, 'X[8] <= 3.5\\ngini = 0.105\\nsamples = 18\\nvalue = [1, 17]'),\n",
       " Text(0.025434388383727958, 0.524390243902439, 'gini = 0.0\\nsamples = 1\\nvalue = [1, 0]'),\n",
       " Text(0.02609288387586331, 0.524390243902439, 'gini = 0.0\\nsamples = 17\\nvalue = [0, 17]'),\n",
       " Text(0.025434388383727958, 0.5975609756097561, 'gini = 0.0\\nsamples = 2\\nvalue = [2, 0]'),\n",
       " Text(0.025763636129795636, 0.6219512195121951, 'gini = 0.0\\nsamples = 3\\nvalue = [3, 0]'),\n",
       " Text(0.02609288387586331, 0.6463414634146342, 'gini = 0.0\\nsamples = 6\\nvalue = [6, 0]'),\n",
       " Text(0.026422131621930987, 0.6707317073170732, 'gini = 0.0\\nsamples = 10\\nvalue = [0, 10]'),\n",
       " Text(0.027409874860134013, 0.6951219512195121, 'X[6] <= 4.5\\ngini = 0.355\\nsamples = 13\\nvalue = [10, 3]'),\n",
       " Text(0.02708062711406634, 0.6707317073170732, 'gini = 0.0\\nsamples = 8\\nvalue = [8, 0]'),\n",
       " Text(0.02773912260620169, 0.6707317073170732, 'X[2] <= 256598.5\\ngini = 0.48\\nsamples = 5\\nvalue = [2, 3]'),\n",
       " Text(0.027409874860134013, 0.6463414634146342, 'gini = 0.0\\nsamples = 3\\nvalue = [0, 3]'),\n",
       " Text(0.028068370352269365, 0.6463414634146342, 'gini = 0.0\\nsamples = 2\\nvalue = [2, 0]'),\n",
       " Text(0.02708062711406634, 0.7439024390243902, 'gini = 0.0\\nsamples = 9\\nvalue = [9, 0]'),\n",
       " Text(0.035877715329312054, 0.8170731707317073, 'X[1] <= 2.5\\ngini = 0.497\\nsamples = 220\\nvalue = [118, 102]'),\n",
       " Text(0.03232801306701992, 0.7926829268292683, 'X[3] <= 4.5\\ngini = 0.476\\nsamples = 161\\nvalue = [98, 63]'),\n",
       " Text(0.030702352320810773, 0.7682926829268293, 'X[12] <= 54.0\\ngini = 0.334\\nsamples = 66\\nvalue = [52, 14]'),\n",
       " Text(0.03004385682867542, 0.7439024390243902, 'X[2] <= 137205.5\\ngini = 0.107\\nsamples = 53\\nvalue = [50, 3]'),\n",
       " Text(0.029714609082607746, 0.7195121951219512, 'X[2] <= 125820.5\\ngini = 0.278\\nsamples = 18\\nvalue = [15, 3]'),\n",
       " Text(0.02938536133654007, 0.6951219512195121, 'X[4] <= 3.5\\ngini = 0.117\\nsamples = 16\\nvalue = [15, 1]'),\n",
       " Text(0.029056113590472395, 0.6707317073170732, 'X[2] <= 78618.0\\ngini = 0.444\\nsamples = 3\\nvalue = [2, 1]'),\n",
       " Text(0.028726865844404717, 0.6463414634146342, 'gini = 0.0\\nsamples = 1\\nvalue = [0, 1]'),\n",
       " Text(0.02938536133654007, 0.6463414634146342, 'gini = 0.0\\nsamples = 2\\nvalue = [2, 0]'),\n",
       " Text(0.029714609082607746, 0.6707317073170732, 'gini = 0.0\\nsamples = 13\\nvalue = [13, 0]'),\n",
       " Text(0.03004385682867542, 0.6951219512195121, 'gini = 0.0\\nsamples = 2\\nvalue = [0, 2]'),\n",
       " Text(0.0303731045747431, 0.7195121951219512, 'gini = 0.0\\nsamples = 35\\nvalue = [35, 0]'),\n",
       " Text(0.031360847812946124, 0.7439024390243902, 'X[11] <= 836.0\\ngini = 0.26\\nsamples = 13\\nvalue = [2, 11]'),\n",
       " Text(0.031031600066878447, 0.7195121951219512, 'X[6] <= 10.5\\ngini = 0.153\\nsamples = 12\\nvalue = [1, 11]'),\n",
       " Text(0.030702352320810773, 0.6951219512195121, 'gini = 0.0\\nsamples = 1\\nvalue = [1, 0]'),\n",
       " Text(0.031360847812946124, 0.6951219512195121, 'gini = 0.0\\nsamples = 11\\nvalue = [0, 11]'),\n",
       " Text(0.0316900955590138, 0.7195121951219512, 'gini = 0.0\\nsamples = 1\\nvalue = [1, 0]'),\n",
       " Text(0.03395367381322907, 0.7682926829268293, 'X[0] <= 43.5\\ngini = 0.5\\nsamples = 95\\nvalue = [46, 49]'),\n",
       " Text(0.03267783879721683, 0.7439024390243902, 'X[8] <= 3.0\\ngini = 0.219\\nsamples = 16\\nvalue = [14, 2]'),\n",
       " Text(0.03234859105114915, 0.7195121951219512, 'gini = 0.0\\nsamples = 2\\nvalue = [0, 2]'),\n",
       " Text(0.033007086543284506, 0.7195121951219512, 'gini = 0.0\\nsamples = 14\\nvalue = [14, 0]'),\n",
       " Text(0.035229508829241314, 0.7439024390243902, 'X[2] <= 258630.0\\ngini = 0.482\\nsamples = 79\\nvalue = [32, 47]'),\n",
       " Text(0.033665582035419854, 0.7195121951219512, 'X[0] <= 51.5\\ngini = 0.437\\nsamples = 65\\nvalue = [21, 44]'),\n",
       " Text(0.03251321492418299, 0.6951219512195121, 'X[12] <= 72.5\\ngini = 0.252\\nsamples = 27\\nvalue = [4, 23]'),\n",
       " Text(0.032183967178115315, 0.6707317073170732, 'X[0] <= 48.5\\ngini = 0.204\\nsamples = 26\\nvalue = [3, 23]'),\n",
       " Text(0.03185471943204764, 0.6463414634146342, 'gini = 0.0\\nsamples = 9\\nvalue = [0, 9]'),\n",
       " Text(0.03251321492418299, 0.6463414634146342, 'X[2] <= 242585.0\\ngini = 0.291\\nsamples = 17\\nvalue = [3, 14]'),\n",
       " Text(0.032183967178115315, 0.6219512195121951, 'X[2] <= 174540.0\\ngini = 0.397\\nsamples = 11\\nvalue = [3, 8]'),\n",
       " Text(0.03185471943204764, 0.5975609756097561, 'X[3] <= 5.5\\ngini = 0.198\\nsamples = 9\\nvalue = [1, 8]'),\n",
       " Text(0.03152547168597996, 0.573170731707317, 'gini = 0.0\\nsamples = 1\\nvalue = [1, 0]'),\n",
       " Text(0.032183967178115315, 0.573170731707317, 'gini = 0.0\\nsamples = 8\\nvalue = [0, 8]'),\n",
       " Text(0.03251321492418299, 0.5975609756097561, 'gini = 0.0\\nsamples = 2\\nvalue = [2, 0]'),\n",
       " Text(0.03284246267025066, 0.6219512195121951, 'gini = 0.0\\nsamples = 6\\nvalue = [0, 6]'),\n",
       " Text(0.03284246267025066, 0.6707317073170732, 'gini = 0.0\\nsamples = 1\\nvalue = [1, 0]'),\n",
       " Text(0.03481794914665672, 0.6951219512195121, 'X[0] <= 58.5\\ngini = 0.494\\nsamples = 38\\nvalue = [17, 21]'),\n",
       " Text(0.03415945365452137, 0.6707317073170732, 'X[11] <= 943.5\\ngini = 0.298\\nsamples = 11\\nvalue = [9, 2]'),\n",
       " Text(0.033830205908453696, 0.6463414634146342, 'X[12] <= 35.0\\ngini = 0.18\\nsamples = 10\\nvalue = [9, 1]'),\n",
       " Text(0.03350095816238602, 0.6219512195121951, 'gini = 0.0\\nsamples = 1\\nvalue = [0, 1]'),\n",
       " Text(0.03415945365452137, 0.6219512195121951, 'gini = 0.0\\nsamples = 9\\nvalue = [9, 0]'),\n",
       " Text(0.034488701400589045, 0.6463414634146342, 'gini = 0.0\\nsamples = 1\\nvalue = [0, 1]'),\n",
       " Text(0.03547644463879207, 0.6707317073170732, 'X[12] <= 36.0\\ngini = 0.417\\nsamples = 27\\nvalue = [8, 19]'),\n",
       " Text(0.0351471968927244, 0.6463414634146342, 'gini = 0.0\\nsamples = 2\\nvalue = [2, 0]'),\n",
       " Text(0.03580569238485975, 0.6463414634146342, 'X[2] <= 182133.0\\ngini = 0.365\\nsamples = 25\\nvalue = [6, 19]'),\n",
       " Text(0.0351471968927244, 0.6219512195121951, 'X[0] <= 60.5\\ngini = 0.298\\nsamples = 22\\nvalue = [4, 18]'),\n",
       " Text(0.03481794914665672, 0.5975609756097561, 'gini = 0.0\\nsamples = 10\\nvalue = [0, 10]'),\n",
       " Text(0.03547644463879207, 0.5975609756097561, 'X[2] <= 127360.0\\ngini = 0.444\\nsamples = 12\\nvalue = [4, 8]'),\n",
       " Text(0.0351471968927244, 0.573170731707317, 'gini = 0.0\\nsamples = 2\\nvalue = [2, 0]'),\n",
       " Text(0.03580569238485975, 0.573170731707317, 'X[2] <= 177866.0\\ngini = 0.32\\nsamples = 10\\nvalue = [2, 8]'),\n",
       " Text(0.03547644463879207, 0.5487804878048781, 'X[2] <= 156702.0\\ngini = 0.48\\nsamples = 5\\nvalue = [2, 3]'),\n",
       " Text(0.0351471968927244, 0.524390243902439, 'gini = 0.0\\nsamples = 3\\nvalue = [0, 3]'),\n",
       " Text(0.03580569238485975, 0.524390243902439, 'gini = 0.0\\nsamples = 2\\nvalue = [2, 0]'),\n",
       " Text(0.036134940130927426, 0.5487804878048781, 'gini = 0.0\\nsamples = 5\\nvalue = [0, 5]'),\n",
       " Text(0.0364641878769951, 0.6219512195121951, 'X[2] <= 234920.0\\ngini = 0.444\\nsamples = 3\\nvalue = [2, 1]'),\n",
       " Text(0.036134940130927426, 0.5975609756097561, 'gini = 0.0\\nsamples = 2\\nvalue = [2, 0]'),\n",
       " Text(0.036793435623062774, 0.5975609756097561, 'gini = 0.0\\nsamples = 1\\nvalue = [0, 1]'),\n",
       " Text(0.036793435623062774, 0.7195121951219512, 'X[2] <= 367225.5\\ngini = 0.337\\nsamples = 14\\nvalue = [11, 3]'),\n",
       " Text(0.0364641878769951, 0.6951219512195121, 'gini = 0.0\\nsamples = 7\\nvalue = [7, 0]'),\n",
       " Text(0.03712268336913045, 0.6951219512195121, 'X[0] <= 56.0\\ngini = 0.49\\nsamples = 7\\nvalue = [4, 3]'),\n",
       " Text(0.036793435623062774, 0.6707317073170732, 'X[2] <= 373647.5\\ngini = 0.32\\nsamples = 5\\nvalue = [4, 1]'),\n",
       " Text(0.0364641878769951, 0.6463414634146342, 'gini = 0.0\\nsamples = 1\\nvalue = [0, 1]'),\n",
       " Text(0.03712268336913045, 0.6463414634146342, 'gini = 0.0\\nsamples = 4\\nvalue = [4, 0]'),\n",
       " Text(0.03745193111519813, 0.6707317073170732, 'gini = 0.0\\nsamples = 2\\nvalue = [0, 2]'),\n",
       " Text(0.03942741759160418, 0.7926829268292683, 'X[12] <= 59.0\\ngini = 0.448\\nsamples = 59\\nvalue = [20, 39]'),\n",
       " Text(0.039098169845536504, 0.7682926829268293, 'X[4] <= 2.5\\ngini = 0.375\\nsamples = 52\\nvalue = [13, 39]'),\n",
       " Text(0.03876892209946883, 0.7439024390243902, 'gini = 0.0\\nsamples = 3\\nvalue = [3, 0]'),\n",
       " Text(0.03942741759160418, 0.7439024390243902, 'X[1] <= 4.5\\ngini = 0.325\\nsamples = 49\\nvalue = [10, 39]'),\n",
       " Text(0.03876892209946883, 0.7195121951219512, 'X[2] <= 398907.0\\ngini = 0.214\\nsamples = 41\\nvalue = [5, 36]'),\n",
       " Text(0.038439674353401156, 0.6951219512195121, 'X[12] <= 7.5\\ngini = 0.18\\nsamples = 40\\nvalue = [4, 36]'),\n",
       " Text(0.03811042660733348, 0.6707317073170732, 'gini = 0.0\\nsamples = 1\\nvalue = [1, 0]'),\n",
       " Text(0.03876892209946883, 0.6707317073170732, 'X[10] <= 2032.0\\ngini = 0.142\\nsamples = 39\\nvalue = [3, 36]'),\n",
       " Text(0.038439674353401156, 0.6463414634146342, 'X[6] <= 12.0\\ngini = 0.1\\nsamples = 38\\nvalue = [2, 36]'),\n",
       " Text(0.03811042660733348, 0.6219512195121951, 'gini = 0.0\\nsamples = 26\\nvalue = [0, 26]'),\n",
       " Text(0.03876892209946883, 0.6219512195121951, 'X[2] <= 149108.0\\ngini = 0.278\\nsamples = 12\\nvalue = [2, 10]'),\n",
       " Text(0.038439674353401156, 0.5975609756097561, 'gini = 0.0\\nsamples = 10\\nvalue = [0, 10]'),\n",
       " Text(0.039098169845536504, 0.5975609756097561, 'gini = 0.0\\nsamples = 2\\nvalue = [2, 0]'),\n",
       " Text(0.039098169845536504, 0.6463414634146342, 'gini = 0.0\\nsamples = 1\\nvalue = [1, 0]'),\n",
       " Text(0.039098169845536504, 0.6951219512195121, 'gini = 0.0\\nsamples = 1\\nvalue = [1, 0]'),\n",
       " Text(0.04008591308373954, 0.7195121951219512, 'X[4] <= 5.5\\ngini = 0.469\\nsamples = 8\\nvalue = [5, 3]'),\n",
       " Text(0.03975666533767186, 0.6951219512195121, 'gini = 0.0\\nsamples = 4\\nvalue = [4, 0]'),\n",
       " Text(0.04041516082980721, 0.6951219512195121, 'X[0] <= 52.5\\ngini = 0.375\\nsamples = 4\\nvalue = [1, 3]'),\n",
       " Text(0.04008591308373954, 0.6707317073170732, 'gini = 0.0\\nsamples = 1\\nvalue = [1, 0]'),\n",
       " Text(0.040744408575874885, 0.6707317073170732, 'gini = 0.0\\nsamples = 3\\nvalue = [0, 3]'),\n",
       " Text(0.03975666533767186, 0.7682926829268293, 'gini = 0.0\\nsamples = 7\\nvalue = [7, 0]'),\n",
       " Text(0.04107365632194256, 0.8414634146341463, 'X[2] <= 29267.5\\ngini = 0.051\\nsamples = 77\\nvalue = [75, 2]'),\n",
       " Text(0.04041516082980721, 0.8170731707317073, 'X[6] <= 7.5\\ngini = 0.444\\nsamples = 3\\nvalue = [2, 1]'),\n",
       " Text(0.04008591308373954, 0.7926829268292683, 'gini = 0.0\\nsamples = 2\\nvalue = [2, 0]'),\n",
       " Text(0.040744408575874885, 0.7926829268292683, 'gini = 0.0\\nsamples = 1\\nvalue = [0, 1]'),\n",
       " Text(0.04173215181407791, 0.8170731707317073, 'X[2] <= 269044.0\\ngini = 0.027\\nsamples = 74\\nvalue = [73, 1]'),\n",
       " Text(0.04140290406801024, 0.7926829268292683, 'gini = 0.0\\nsamples = 70\\nvalue = [70, 0]'),\n",
       " Text(0.04206139956014559, 0.7926829268292683, 'X[1] <= 3.0\\ngini = 0.375\\nsamples = 4\\nvalue = [3, 1]'),\n",
       " Text(0.04173215181407791, 0.7682926829268293, 'gini = 0.0\\nsamples = 3\\nvalue = [3, 0]'),\n",
       " Text(0.04239064730621327, 0.7682926829268293, 'gini = 0.0\\nsamples = 1\\nvalue = [0, 1]'),\n",
       " Text(0.19949983843067148, 0.8902439024390244, 'X[0] <= 35.5\\ngini = 0.475\\nsamples = 9576\\nvalue = [3719, 5857]'),\n",
       " Text(0.09425200032474632, 0.8658536585365854, 'X[0] <= 27.5\\ngini = 0.494\\nsamples = 2583\\nvalue = [1438, 1145]'),\n",
       " Text(0.05565492649801294, 0.8414634146341463, 'X[12] <= 48.5\\ngini = 0.381\\nsamples = 589\\nvalue = [438, 151]'),\n",
       " Text(0.04537284734994148, 0.8170731707317073, 'X[0] <= 23.5\\ngini = 0.319\\nsamples = 431\\nvalue = [345, 86]'),\n",
       " Text(0.04337839054441629, 0.7926829268292683, 'X[12] <= 47.0\\ngini = 0.038\\nsamples = 102\\nvalue = [100, 2]'),\n",
       " Text(0.043049142798348615, 0.7682926829268293, 'gini = 0.0\\nsamples = 96\\nvalue = [96, 0]'),\n",
       " Text(0.04370763829048397, 0.7682926829268293, 'X[2] <= 389691.0\\ngini = 0.444\\nsamples = 6\\nvalue = [4, 2]'),\n",
       " Text(0.04337839054441629, 0.7439024390243902, 'gini = 0.0\\nsamples = 4\\nvalue = [4, 0]'),\n",
       " Text(0.04403688603655164, 0.7439024390243902, 'gini = 0.0\\nsamples = 2\\nvalue = [0, 2]'),\n",
       " Text(0.04736730415546667, 0.7926829268292683, 'X[8] <= 1.5\\ngini = 0.38\\nsamples = 329\\nvalue = [245, 84]'),\n",
       " Text(0.045024629274754674, 0.7682926829268293, 'X[1] <= 1.0\\ngini = 0.298\\nsamples = 11\\nvalue = [2, 9]'),\n",
       " Text(0.044695381528686996, 0.7439024390243902, 'gini = 0.0\\nsamples = 1\\nvalue = [1, 0]'),\n",
       " Text(0.045353877020822345, 0.7439024390243902, 'X[8] <= 0.5\\ngini = 0.18\\nsamples = 10\\nvalue = [1, 9]'),\n",
       " Text(0.045024629274754674, 0.7195121951219512, 'gini = 0.0\\nsamples = 1\\nvalue = [1, 0]'),\n",
       " Text(0.04568312476689002, 0.7195121951219512, 'gini = 0.0\\nsamples = 9\\nvalue = [0, 9]'),\n",
       " Text(0.049709979036178666, 0.7682926829268293, 'X[2] <= 29430.0\\ngini = 0.36\\nsamples = 318\\nvalue = [243, 75]'),\n",
       " Text(0.04667086800509305, 0.7439024390243902, 'X[3] <= 11.0\\ngini = 0.278\\nsamples = 6\\nvalue = [1, 5]'),\n",
       " Text(0.04634162025902538, 0.7195121951219512, 'gini = 0.0\\nsamples = 5\\nvalue = [0, 5]'),\n",
       " Text(0.047000115751160726, 0.7195121951219512, 'gini = 0.0\\nsamples = 1\\nvalue = [1, 0]'),\n",
       " Text(0.05274909006726428, 0.7439024390243902, 'X[2] <= 205938.5\\ngini = 0.348\\nsamples = 312\\nvalue = [242, 70]'),\n",
       " Text(0.04765861124329608, 0.7195121951219512, 'X[10] <= 2994.0\\ngini = 0.265\\nsamples = 172\\nvalue = [145, 27]'),\n",
       " Text(0.04657312258047921, 0.6951219512195121, 'X[3] <= 8.0\\ngini = 0.234\\nsamples = 163\\nvalue = [141, 22]'),\n",
       " Text(0.0453898884930485, 0.6707317073170732, 'X[0] <= 24.5\\ngini = 0.375\\nsamples = 4\\nvalue = [1, 3]'),\n",
       " Text(0.04506064074698082, 0.6463414634146342, 'gini = 0.0\\nsamples = 1\\nvalue = [1, 0]'),\n",
       " Text(0.04571913623911618, 0.6463414634146342, 'gini = 0.0\\nsamples = 3\\nvalue = [0, 3]'),\n",
       " Text(0.04775635666790992, 0.6707317073170732, 'X[6] <= 12.5\\ngini = 0.21\\nsamples = 159\\nvalue = [140, 19]'),\n",
       " Text(0.04637763173125153, 0.6463414634146342, 'X[4] <= 11.5\\ngini = 0.176\\nsamples = 144\\nvalue = [130, 14]'),\n",
       " Text(0.04543104446130696, 0.6219512195121951, 'X[2] <= 35474.5\\ngini = 0.158\\nsamples = 139\\nvalue = [127, 12]'),\n",
       " Text(0.04452561315962085, 0.5975609756097561, 'X[6] <= 4.0\\ngini = 0.48\\nsamples = 5\\nvalue = [3, 2]'),\n",
       " Text(0.04419636541355317, 0.573170731707317, 'gini = 0.0\\nsamples = 3\\nvalue = [3, 0]'),\n",
       " Text(0.04485486090568853, 0.573170731707317, 'gini = 0.0\\nsamples = 2\\nvalue = [0, 2]'),\n",
       " Text(0.046336475762993067, 0.5975609756097561, 'X[6] <= 2.5\\ngini = 0.138\\nsamples = 134\\nvalue = [124, 10]'),\n",
       " Text(0.045513356397823876, 0.573170731707317, 'X[2] <= 107516.5\\ngini = 0.266\\nsamples = 57\\nvalue = [48, 9]'),\n",
       " Text(0.045184108651756205, 0.5487804878048781, 'gini = 0.0\\nsamples = 16\\nvalue = [16, 0]'),\n",
       " Text(0.045842604143891554, 0.5487804878048781, 'X[2] <= 117409.0\\ngini = 0.343\\nsamples = 41\\nvalue = [32, 9]'),\n",
       " Text(0.045184108651756205, 0.524390243902439, 'X[12] <= 39.0\\ngini = 0.408\\nsamples = 7\\nvalue = [2, 5]'),\n",
       " Text(0.04485486090568853, 0.5, 'gini = 0.0\\nsamples = 1\\nvalue = [1, 0]'),\n",
       " Text(0.045513356397823876, 0.5, 'X[11] <= 1025.5\\ngini = 0.278\\nsamples = 6\\nvalue = [1, 5]'),\n",
       " Text(0.045184108651756205, 0.47560975609756095, 'gini = 0.0\\nsamples = 5\\nvalue = [0, 5]'),\n",
       " Text(0.045842604143891554, 0.47560975609756095, 'gini = 0.0\\nsamples = 1\\nvalue = [1, 0]'),\n",
       " Text(0.04650109963602691, 0.524390243902439, 'X[2] <= 173302.0\\ngini = 0.208\\nsamples = 34\\nvalue = [30, 4]'),\n",
       " Text(0.04617185188995923, 0.5, 'gini = 0.0\\nsamples = 16\\nvalue = [16, 0]'),\n",
       " Text(0.04683034738209458, 0.5, 'X[2] <= 179192.0\\ngini = 0.346\\nsamples = 18\\nvalue = [14, 4]'),\n",
       " Text(0.04650109963602691, 0.47560975609756095, 'X[0] <= 24.5\\ngini = 0.32\\nsamples = 5\\nvalue = [1, 4]'),\n",
       " Text(0.04617185188995923, 0.45121951219512196, 'gini = 0.0\\nsamples = 1\\nvalue = [1, 0]'),\n",
       " Text(0.04683034738209458, 0.45121951219512196, 'gini = 0.0\\nsamples = 4\\nvalue = [0, 4]'),\n",
       " Text(0.04715959512816226, 0.47560975609756095, 'gini = 0.0\\nsamples = 13\\nvalue = [13, 0]'),\n",
       " Text(0.04715959512816226, 0.573170731707317, 'X[2] <= 196262.5\\ngini = 0.026\\nsamples = 77\\nvalue = [76, 1]'),\n",
       " Text(0.04683034738209458, 0.5487804878048781, 'gini = 0.0\\nsamples = 69\\nvalue = [69, 0]'),\n",
       " Text(0.047488842874229935, 0.5487804878048781, 'X[2] <= 197888.0\\ngini = 0.219\\nsamples = 8\\nvalue = [7, 1]'),\n",
       " Text(0.04715959512816226, 0.524390243902439, 'gini = 0.0\\nsamples = 1\\nvalue = [0, 1]'),\n",
       " Text(0.04781809062029761, 0.524390243902439, 'gini = 0.0\\nsamples = 7\\nvalue = [7, 0]'),\n",
       " Text(0.04732421900119609, 0.6219512195121951, 'X[1] <= 1.5\\ngini = 0.48\\nsamples = 5\\nvalue = [3, 2]'),\n",
       " Text(0.04699497125512842, 0.5975609756097561, 'gini = 0.0\\nsamples = 2\\nvalue = [0, 2]'),\n",
       " Text(0.04765346674726377, 0.5975609756097561, 'gini = 0.0\\nsamples = 3\\nvalue = [3, 0]'),\n",
       " Text(0.04913508160456831, 0.6463414634146342, 'X[12] <= 44.5\\ngini = 0.444\\nsamples = 15\\nvalue = [10, 5]'),\n",
       " Text(0.04880583385850064, 0.6219512195121951, 'X[12] <= 39.0\\ngini = 0.496\\nsamples = 11\\nvalue = [6, 5]'),\n",
       " Text(0.04847658611243296, 0.5975609756097561, 'gini = 0.0\\nsamples = 2\\nvalue = [2, 0]'),\n",
       " Text(0.04913508160456831, 0.5975609756097561, 'X[2] <= 152641.0\\ngini = 0.494\\nsamples = 9\\nvalue = [4, 5]'),\n",
       " Text(0.04847658611243296, 0.573170731707317, 'X[8] <= 3.0\\ngini = 0.32\\nsamples = 5\\nvalue = [1, 4]'),\n",
       " Text(0.04814733836636528, 0.5487804878048781, 'gini = 0.0\\nsamples = 1\\nvalue = [1, 0]'),\n",
       " Text(0.04880583385850064, 0.5487804878048781, 'gini = 0.0\\nsamples = 4\\nvalue = [0, 4]'),\n",
       " Text(0.049793577096703664, 0.573170731707317, 'X[2] <= 180780.0\\ngini = 0.375\\nsamples = 4\\nvalue = [3, 1]'),\n",
       " Text(0.04946432935063599, 0.5487804878048781, 'gini = 0.0\\nsamples = 3\\nvalue = [3, 0]'),\n",
       " Text(0.05012282484277134, 0.5487804878048781, 'gini = 0.0\\nsamples = 1\\nvalue = [0, 1]'),\n",
       " Text(0.04946432935063599, 0.6219512195121951, 'gini = 0.0\\nsamples = 4\\nvalue = [4, 0]'),\n",
       " Text(0.04874409990611295, 0.6951219512195121, 'X[0] <= 26.5\\ngini = 0.494\\nsamples = 9\\nvalue = [4, 5]'),\n",
       " Text(0.04841485216004527, 0.6707317073170732, 'gini = 0.0\\nsamples = 5\\nvalue = [0, 5]'),\n",
       " Text(0.049073347652180625, 0.6707317073170732, 'gini = 0.0\\nsamples = 4\\nvalue = [4, 0]'),\n",
       " Text(0.05783956889123249, 0.7195121951219512, 'X[2] <= 305999.5\\ngini = 0.426\\nsamples = 140\\nvalue = [97, 43]'),\n",
       " Text(0.056008128303731045, 0.6951219512195121, 'X[0] <= 26.5\\ngini = 0.476\\nsamples = 105\\nvalue = [64, 41]'),\n",
       " Text(0.05432073360513421, 0.6707317073170732, 'X[2] <= 254765.0\\ngini = 0.436\\nsamples = 81\\nvalue = [55, 26]'),\n",
       " Text(0.05399148585906653, 0.6463414634146342, 'X[2] <= 232606.5\\ngini = 0.496\\nsamples = 57\\nvalue = [31, 26]'),\n",
       " Text(0.05193368744614356, 0.6219512195121951, 'X[0] <= 25.5\\ngini = 0.43\\nsamples = 32\\nvalue = [22, 10]'),\n",
       " Text(0.05078132033490669, 0.5975609756097561, 'X[6] <= 10.0\\ngini = 0.219\\nsamples = 16\\nvalue = [14, 2]'),\n",
       " Text(0.05045207258883901, 0.573170731707317, 'gini = 0.0\\nsamples = 12\\nvalue = [12, 0]'),\n",
       " Text(0.05111056808097437, 0.573170731707317, 'X[2] <= 212286.0\\ngini = 0.5\\nsamples = 4\\nvalue = [2, 2]'),\n",
       " Text(0.05078132033490669, 0.5487804878048781, 'gini = 0.0\\nsamples = 2\\nvalue = [2, 0]'),\n",
       " Text(0.051439815827042046, 0.5487804878048781, 'gini = 0.0\\nsamples = 2\\nvalue = [0, 2]'),\n",
       " Text(0.05308605455738042, 0.5975609756097561, 'X[2] <= 211460.5\\ngini = 0.5\\nsamples = 16\\nvalue = [8, 8]'),\n",
       " Text(0.05242755906524507, 0.573170731707317, 'X[12] <= 42.5\\ngini = 0.278\\nsamples = 6\\nvalue = [1, 5]'),\n",
       " Text(0.052098311319177394, 0.5487804878048781, 'gini = 0.0\\nsamples = 5\\nvalue = [0, 5]'),\n",
       " Text(0.05275680681131275, 0.5487804878048781, 'gini = 0.0\\nsamples = 1\\nvalue = [1, 0]'),\n",
       " Text(0.053744550049515775, 0.573170731707317, 'X[3] <= 9.5\\ngini = 0.42\\nsamples = 10\\nvalue = [7, 3]'),\n",
       " Text(0.0534153023034481, 0.5487804878048781, 'X[2] <= 217018.0\\ngini = 0.48\\nsamples = 5\\nvalue = [2, 3]'),\n",
       " Text(0.05308605455738042, 0.524390243902439, 'gini = 0.0\\nsamples = 1\\nvalue = [1, 0]'),\n",
       " Text(0.053744550049515775, 0.524390243902439, 'X[2] <= 223450.0\\ngini = 0.375\\nsamples = 4\\nvalue = [1, 3]'),\n",
       " Text(0.0534153023034481, 0.5, 'gini = 0.0\\nsamples = 3\\nvalue = [0, 3]'),\n",
       " Text(0.05407379779558345, 0.5, 'gini = 0.0\\nsamples = 1\\nvalue = [1, 0]'),\n",
       " Text(0.05407379779558345, 0.5487804878048781, 'gini = 0.0\\nsamples = 5\\nvalue = [5, 0]'),\n",
       " Text(0.056049284271989505, 0.6219512195121951, 'X[6] <= 4.0\\ngini = 0.461\\nsamples = 25\\nvalue = [9, 16]'),\n",
       " Text(0.05539078877985416, 0.5975609756097561, 'X[3] <= 9.5\\ngini = 0.444\\nsamples = 12\\nvalue = [8, 4]'),\n",
       " Text(0.05506154103378648, 0.573170731707317, 'X[12] <= 25.5\\ngini = 0.32\\nsamples = 5\\nvalue = [1, 4]'),\n",
       " Text(0.0547322932877188, 0.5487804878048781, 'gini = 0.0\\nsamples = 1\\nvalue = [1, 0]'),\n",
       " Text(0.05539078877985416, 0.5487804878048781, 'gini = 0.0\\nsamples = 4\\nvalue = [0, 4]'),\n",
       " Text(0.05572003652592183, 0.573170731707317, 'gini = 0.0\\nsamples = 7\\nvalue = [7, 0]'),\n",
       " Text(0.056707779764124853, 0.5975609756097561, 'X[2] <= 247374.0\\ngini = 0.142\\nsamples = 13\\nvalue = [1, 12]'),\n",
       " Text(0.05637853201805718, 0.573170731707317, 'gini = 0.0\\nsamples = 12\\nvalue = [0, 12]'),\n",
       " Text(0.05703702751019253, 0.573170731707317, 'gini = 0.0\\nsamples = 1\\nvalue = [1, 0]'),\n",
       " Text(0.05464998135120188, 0.6463414634146342, 'gini = 0.0\\nsamples = 24\\nvalue = [24, 0]'),\n",
       " Text(0.057695523002327886, 0.6707317073170732, 'X[2] <= 256488.0\\ngini = 0.469\\nsamples = 24\\nvalue = [9, 15]'),\n",
       " Text(0.05703702751019253, 0.6463414634146342, 'X[2] <= 213623.0\\ngini = 0.444\\nsamples = 12\\nvalue = [8, 4]'),\n",
       " Text(0.056707779764124853, 0.6219512195121951, 'gini = 0.0\\nsamples = 4\\nvalue = [0, 4]'),\n",
       " Text(0.05736627525626021, 0.6219512195121951, 'gini = 0.0\\nsamples = 8\\nvalue = [8, 0]'),\n",
       " Text(0.058354018494463235, 0.6463414634146342, 'X[4] <= 9.5\\ngini = 0.153\\nsamples = 12\\nvalue = [1, 11]'),\n",
       " Text(0.05802477074839556, 0.6219512195121951, 'X[12] <= 42.5\\ngini = 0.375\\nsamples = 4\\nvalue = [1, 3]'),\n",
       " Text(0.057695523002327886, 0.5975609756097561, 'gini = 0.0\\nsamples = 1\\nvalue = [1, 0]'),\n",
       " Text(0.058354018494463235, 0.5975609756097561, 'gini = 0.0\\nsamples = 3\\nvalue = [0, 3]'),\n",
       " Text(0.05868326624053091, 0.6219512195121951, 'gini = 0.0\\nsamples = 8\\nvalue = [0, 8]'),\n",
       " Text(0.05967100947873394, 0.6951219512195121, 'X[1] <= 1.5\\ngini = 0.108\\nsamples = 35\\nvalue = [33, 2]'),\n",
       " Text(0.05934176173266626, 0.6707317073170732, 'X[0] <= 24.5\\ngini = 0.444\\nsamples = 3\\nvalue = [1, 2]'),\n",
       " Text(0.05901251398659859, 0.6463414634146342, 'gini = 0.0\\nsamples = 1\\nvalue = [1, 0]'),\n",
       " Text(0.05967100947873394, 0.6463414634146342, 'gini = 0.0\\nsamples = 2\\nvalue = [0, 2]'),\n",
       " Text(0.060000257224801616, 0.6707317073170732, 'gini = 0.0\\nsamples = 32\\nvalue = [32, 0]'),\n",
       " Text(0.0659370056460844, 0.8170731707317073, 'X[1] <= 1.5\\ngini = 0.484\\nsamples = 158\\nvalue = [93, 65]'),\n",
       " Text(0.06271655112985994, 0.7926829268292683, 'X[12] <= 52.5\\ngini = 0.298\\nsamples = 11\\nvalue = [2, 9]'),\n",
       " Text(0.06238730338379227, 0.7682926829268293, 'gini = 0.0\\nsamples = 1\\nvalue = [1, 0]'),\n",
       " Text(0.06304579887592762, 0.7682926829268293, 'X[2] <= 62375.0\\ngini = 0.18\\nsamples = 10\\nvalue = [1, 9]'),\n",
       " Text(0.06271655112985994, 0.7439024390243902, 'gini = 0.0\\nsamples = 1\\nvalue = [1, 0]'),\n",
       " Text(0.06337504662199529, 0.7439024390243902, 'gini = 0.0\\nsamples = 9\\nvalue = [0, 9]'),\n",
       " Text(0.06915746016230885, 0.7926829268292683, 'X[10] <= 2994.0\\ngini = 0.472\\nsamples = 147\\nvalue = [91, 56]'),\n",
       " Text(0.06712023973351511, 0.7682926829268293, 'X[6] <= 11.5\\ngini = 0.458\\nsamples = 138\\nvalue = [89, 49]'),\n",
       " Text(0.06403354211413065, 0.7439024390243902, 'X[0] <= 24.5\\ngini = 0.418\\nsamples = 111\\nvalue = [78, 33]'),\n",
       " Text(0.06164649595514, 0.7195121951219512, 'X[2] <= 70004.0\\ngini = 0.219\\nsamples = 32\\nvalue = [28, 4]'),\n",
       " Text(0.06098800046300464, 0.6951219512195121, 'X[12] <= 52.5\\ngini = 0.444\\nsamples = 3\\nvalue = [1, 2]'),\n",
       " Text(0.060658752716936964, 0.6707317073170732, 'gini = 0.0\\nsamples = 1\\nvalue = [1, 0]'),\n",
       " Text(0.06131724820907232, 0.6707317073170732, 'gini = 0.0\\nsamples = 2\\nvalue = [0, 2]'),\n",
       " Text(0.062304991447275346, 0.6951219512195121, 'X[13] <= 31.5\\ngini = 0.128\\nsamples = 29\\nvalue = [27, 2]'),\n",
       " Text(0.06197574370120767, 0.6707317073170732, 'gini = 0.0\\nsamples = 1\\nvalue = [0, 1]'),\n",
       " Text(0.06263423919334302, 0.6707317073170732, 'X[2] <= 449672.0\\ngini = 0.069\\nsamples = 28\\nvalue = [27, 1]'),\n",
       " Text(0.062304991447275346, 0.6463414634146342, 'gini = 0.0\\nsamples = 25\\nvalue = [25, 0]'),\n",
       " Text(0.0629634869394107, 0.6463414634146342, 'X[2] <= 485113.0\\ngini = 0.444\\nsamples = 3\\nvalue = [2, 1]'),\n",
       " Text(0.06263423919334302, 0.6219512195121951, 'gini = 0.0\\nsamples = 1\\nvalue = [0, 1]'),\n",
       " Text(0.06329273468547837, 0.6219512195121951, 'gini = 0.0\\nsamples = 2\\nvalue = [2, 0]'),\n",
       " Text(0.06642058827312129, 0.7195121951219512, 'X[2] <= 110970.0\\ngini = 0.465\\nsamples = 79\\nvalue = [50, 29]'),\n",
       " Text(0.06609134052705362, 0.6951219512195121, 'gini = 0.0\\nsamples = 15\\nvalue = [15, 0]'),\n",
       " Text(0.06674983601918898, 0.6951219512195121, 'X[2] <= 190424.0\\ngini = 0.496\\nsamples = 64\\nvalue = [35, 29]'),\n",
       " Text(0.06526822116188442, 0.6707317073170732, 'X[6] <= 5.5\\ngini = 0.478\\nsamples = 33\\nvalue = [13, 20]'),\n",
       " Text(0.0642804779236814, 0.6463414634146342, 'X[2] <= 113618.5\\ngini = 0.48\\nsamples = 15\\nvalue = [9, 6]'),\n",
       " Text(0.06395123017761373, 0.6219512195121951, 'gini = 0.0\\nsamples = 3\\nvalue = [0, 3]'),\n",
       " Text(0.06460972566974908, 0.6219512195121951, 'X[0] <= 25.5\\ngini = 0.375\\nsamples = 12\\nvalue = [9, 3]'),\n",
       " Text(0.0642804779236814, 0.5975609756097561, 'X[3] <= 9.5\\ngini = 0.375\\nsamples = 4\\nvalue = [1, 3]'),\n",
       " Text(0.06395123017761373, 0.573170731707317, 'gini = 0.0\\nsamples = 1\\nvalue = [1, 0]'),\n",
       " Text(0.06460972566974908, 0.573170731707317, 'gini = 0.0\\nsamples = 3\\nvalue = [0, 3]'),\n",
       " Text(0.06493897341581675, 0.5975609756097561, 'gini = 0.0\\nsamples = 8\\nvalue = [8, 0]'),\n",
       " Text(0.06625596440008745, 0.6463414634146342, 'X[12] <= 51.0\\ngini = 0.346\\nsamples = 18\\nvalue = [4, 14]'),\n",
       " Text(0.06592671665401978, 0.6219512195121951, 'X[2] <= 152514.0\\ngini = 0.124\\nsamples = 15\\nvalue = [1, 14]'),\n",
       " Text(0.06559746890795211, 0.5975609756097561, 'gini = 0.0\\nsamples = 1\\nvalue = [1, 0]'),\n",
       " Text(0.06625596440008745, 0.5975609756097561, 'gini = 0.0\\nsamples = 14\\nvalue = [0, 14]'),\n",
       " Text(0.06658521214615513, 0.6219512195121951, 'gini = 0.0\\nsamples = 3\\nvalue = [3, 0]'),\n",
       " Text(0.06823145087649352, 0.6707317073170732, 'X[8] <= 2.5\\ngini = 0.412\\nsamples = 31\\nvalue = [22, 9]'),\n",
       " Text(0.06757295538435816, 0.6463414634146342, 'X[2] <= 375748.5\\ngini = 0.245\\nsamples = 7\\nvalue = [1, 6]'),\n",
       " Text(0.06724370763829049, 0.6219512195121951, 'gini = 0.0\\nsamples = 6\\nvalue = [0, 6]'),\n",
       " Text(0.06790220313042583, 0.6219512195121951, 'gini = 0.0\\nsamples = 1\\nvalue = [1, 0]'),\n",
       " Text(0.06888994636862886, 0.6463414634146342, 'X[2] <= 432931.0\\ngini = 0.219\\nsamples = 24\\nvalue = [21, 3]'),\n",
       " Text(0.06856069862256119, 0.6219512195121951, 'X[0] <= 25.5\\ngini = 0.159\\nsamples = 23\\nvalue = [21, 2]'),\n",
       " Text(0.06823145087649352, 0.5975609756097561, 'X[6] <= 3.0\\ngini = 0.444\\nsamples = 6\\nvalue = [4, 2]'),\n",
       " Text(0.06790220313042583, 0.573170731707317, 'gini = 0.0\\nsamples = 2\\nvalue = [0, 2]'),\n",
       " Text(0.06856069862256119, 0.573170731707317, 'gini = 0.0\\nsamples = 4\\nvalue = [4, 0]'),\n",
       " Text(0.06888994636862886, 0.5975609756097561, 'gini = 0.0\\nsamples = 17\\nvalue = [17, 0]'),\n",
       " Text(0.06921919411469654, 0.6219512195121951, 'gini = 0.0\\nsamples = 1\\nvalue = [0, 1]'),\n",
       " Text(0.07020693735289957, 0.7439024390243902, 'X[12] <= 56.0\\ngini = 0.483\\nsamples = 27\\nvalue = [11, 16]'),\n",
       " Text(0.06954844186076421, 0.7195121951219512, 'X[0] <= 26.5\\ngini = 0.245\\nsamples = 14\\nvalue = [2, 12]'),\n",
       " Text(0.06921919411469654, 0.6951219512195121, 'X[2] <= 152355.0\\ngini = 0.142\\nsamples = 13\\nvalue = [1, 12]'),\n",
       " Text(0.06888994636862886, 0.6707317073170732, 'gini = 0.0\\nsamples = 1\\nvalue = [1, 0]'),\n",
       " Text(0.06954844186076421, 0.6707317073170732, 'gini = 0.0\\nsamples = 12\\nvalue = [0, 12]'),\n",
       " Text(0.0698776896068319, 0.6951219512195121, 'gini = 0.0\\nsamples = 1\\nvalue = [1, 0]'),\n",
       " Text(0.07086543284503492, 0.7195121951219512, 'X[2] <= 97078.0\\ngini = 0.426\\nsamples = 13\\nvalue = [9, 4]'),\n",
       " Text(0.07053618509896724, 0.6951219512195121, 'X[4] <= 9.5\\ngini = 0.32\\nsamples = 5\\nvalue = [1, 4]'),\n",
       " Text(0.07020693735289957, 0.6707317073170732, 'gini = 0.0\\nsamples = 1\\nvalue = [1, 0]'),\n",
       " Text(0.07086543284503492, 0.6707317073170732, 'gini = 0.0\\nsamples = 4\\nvalue = [0, 4]'),\n",
       " Text(0.0711946805911026, 0.6951219512195121, 'gini = 0.0\\nsamples = 8\\nvalue = [8, 0]'),\n",
       " Text(0.0711946805911026, 0.7682926829268293, 'X[3] <= 9.5\\ngini = 0.346\\nsamples = 9\\nvalue = [2, 7]'),\n",
       " Text(0.07086543284503492, 0.7439024390243902, 'gini = 0.0\\nsamples = 7\\nvalue = [0, 7]'),\n",
       " Text(0.07152392833717026, 0.7439024390243902, 'gini = 0.0\\nsamples = 2\\nvalue = [2, 0]'),\n",
       " Text(0.13284907415147967, 0.8414634146341463, 'X[11] <= 1794.0\\ngini = 0.5\\nsamples = 1994\\nvalue = [1000, 994]'),\n",
       " Text(0.11778552756806811, 0.8170731707317073, 'X[4] <= 9.5\\ngini = 0.499\\nsamples = 1895\\nvalue = [986, 909]'),\n",
       " Text(0.10013030043856828, 0.7926829268292683, 'X[12] <= 52.5\\ngini = 0.486\\nsamples = 1017\\nvalue = [595, 422]'),\n",
       " Text(0.08416475891605468, 0.7682926829268293, 'X[8] <= 3.5\\ngini = 0.471\\nsamples = 847\\nvalue = [526, 321]'),\n",
       " Text(0.07218242382930562, 0.7439024390243902, 'X[2] <= 22421.0\\ngini = 0.193\\nsamples = 74\\nvalue = [66, 8]'),\n",
       " Text(0.07185317608323795, 0.7195121951219512, 'gini = 0.0\\nsamples = 4\\nvalue = [0, 4]'),\n",
       " Text(0.0725116715753733, 0.7195121951219512, 'X[2] <= 163582.0\\ngini = 0.108\\nsamples = 70\\nvalue = [66, 4]'),\n",
       " Text(0.07218242382930562, 0.6951219512195121, 'X[2] <= 156671.5\\ngini = 0.287\\nsamples = 23\\nvalue = [19, 4]'),\n",
       " Text(0.07185317608323795, 0.6707317073170732, 'gini = 0.0\\nsamples = 19\\nvalue = [19, 0]'),\n",
       " Text(0.0725116715753733, 0.6707317073170732, 'gini = 0.0\\nsamples = 4\\nvalue = [0, 4]'),\n",
       " Text(0.07284091932144098, 0.6951219512195121, 'gini = 0.0\\nsamples = 47\\nvalue = [47, 0]'),\n",
       " Text(0.09614709400280375, 0.7439024390243902, 'X[6] <= 8.0\\ngini = 0.482\\nsamples = 773\\nvalue = [460, 313]'),\n",
       " Text(0.08290676887065451, 0.7195121951219512, 'X[2] <= 94138.0\\ngini = 0.459\\nsamples = 540\\nvalue = [347, 193]'),\n",
       " Text(0.07349941481357633, 0.6951219512195121, 'X[0] <= 28.5\\ngini = 0.2\\nsamples = 71\\nvalue = [63, 8]'),\n",
       " Text(0.07317016706750865, 0.6707317073170732, 'X[12] <= 44.0\\ngini = 0.498\\nsamples = 15\\nvalue = [7, 8]'),\n",
       " Text(0.07284091932144098, 0.6463414634146342, 'X[2] <= 63806.5\\ngini = 0.346\\nsamples = 9\\nvalue = [7, 2]'),\n",
       " Text(0.0725116715753733, 0.6219512195121951, 'gini = 0.0\\nsamples = 4\\nvalue = [4, 0]'),\n",
       " Text(0.07317016706750865, 0.6219512195121951, 'X[2] <= 65775.5\\ngini = 0.48\\nsamples = 5\\nvalue = [3, 2]'),\n",
       " Text(0.07284091932144098, 0.5975609756097561, 'gini = 0.0\\nsamples = 2\\nvalue = [0, 2]'),\n",
       " Text(0.07349941481357633, 0.5975609756097561, 'gini = 0.0\\nsamples = 3\\nvalue = [3, 0]'),\n",
       " Text(0.07349941481357633, 0.6463414634146342, 'gini = 0.0\\nsamples = 6\\nvalue = [0, 6]'),\n",
       " Text(0.073828662559644, 0.6707317073170732, 'gini = 0.0\\nsamples = 56\\nvalue = [56, 0]'),\n",
       " Text(0.0923141229277327, 0.6951219512195121, 'X[2] <= 272189.5\\ngini = 0.478\\nsamples = 469\\nvalue = [284, 185]'),\n",
       " Text(0.08627062621377954, 0.6707317073170732, 'X[2] <= 225674.5\\ngini = 0.489\\nsamples = 394\\nvalue = [226, 168]'),\n",
       " Text(0.07821691767520224, 0.6463414634146342, 'X[0] <= 28.5\\ngini = 0.476\\nsamples = 335\\nvalue = [204, 131]'),\n",
       " Text(0.07481640579784703, 0.6219512195121951, 'X[13] <= 30.5\\ngini = 0.225\\nsamples = 31\\nvalue = [27, 4]'),\n",
       " Text(0.07415791030571167, 0.5975609756097561, 'X[2] <= 174397.5\\ngini = 0.444\\nsamples = 3\\nvalue = [1, 2]'),\n",
       " Text(0.073828662559644, 0.573170731707317, 'gini = 0.0\\nsamples = 2\\nvalue = [0, 2]'),\n",
       " Text(0.07448715805177936, 0.573170731707317, 'gini = 0.0\\nsamples = 1\\nvalue = [1, 0]'),\n",
       " Text(0.07547490128998238, 0.5975609756097561, 'X[2] <= 134835.5\\ngini = 0.133\\nsamples = 28\\nvalue = [26, 2]'),\n",
       " Text(0.0751456535439147, 0.573170731707317, 'X[2] <= 126239.5\\ngini = 0.5\\nsamples = 4\\nvalue = [2, 2]'),\n",
       " Text(0.07481640579784703, 0.5487804878048781, 'gini = 0.0\\nsamples = 2\\nvalue = [2, 0]'),\n",
       " Text(0.07547490128998238, 0.5487804878048781, 'gini = 0.0\\nsamples = 2\\nvalue = [0, 2]'),\n",
       " Text(0.07580414903605005, 0.573170731707317, 'gini = 0.0\\nsamples = 24\\nvalue = [24, 0]'),\n",
       " Text(0.08161742955255746, 0.6219512195121951, 'X[2] <= 150603.5\\ngini = 0.486\\nsamples = 304\\nvalue = [177, 127]'),\n",
       " Text(0.07736807582987151, 0.5975609756097561, 'X[0] <= 30.5\\ngini = 0.44\\nsamples = 92\\nvalue = [62, 30]'),\n",
       " Text(0.07703882808380384, 0.573170731707317, 'gini = 0.0\\nsamples = 13\\nvalue = [13, 0]'),\n",
       " Text(0.0776973235759392, 0.573170731707317, 'X[0] <= 33.5\\ngini = 0.471\\nsamples = 79\\nvalue = [49, 30]'),\n",
       " Text(0.07613339678211774, 0.5487804878048781, 'X[1] <= 2.5\\ngini = 0.5\\nsamples = 51\\nvalue = [26, 25]'),\n",
       " Text(0.07498102967088087, 0.524390243902439, 'X[1] <= 1.5\\ngini = 0.475\\nsamples = 36\\nvalue = [22, 14]'),\n",
       " Text(0.07465178192481318, 0.5, 'gini = 0.0\\nsamples = 3\\nvalue = [0, 3]'),\n",
       " Text(0.07531027741694854, 0.5, 'X[2] <= 115684.0\\ngini = 0.444\\nsamples = 33\\nvalue = [22, 11]'),\n",
       " Text(0.07465178192481318, 0.47560975609756095, 'X[12] <= 42.5\\ngini = 0.498\\nsamples = 15\\nvalue = [7, 8]'),\n",
       " Text(0.07432253417874551, 0.45121951219512196, 'X[11] <= 836.0\\ngini = 0.32\\nsamples = 10\\nvalue = [2, 8]'),\n",
       " Text(0.07399328643267784, 0.4268292682926829, 'X[0] <= 31.5\\ngini = 0.198\\nsamples = 9\\nvalue = [1, 8]'),\n",
       " Text(0.07366403868661016, 0.4024390243902439, 'gini = 0.0\\nsamples = 6\\nvalue = [0, 6]'),\n",
       " Text(0.07432253417874551, 0.4024390243902439, 'X[2] <= 101245.5\\ngini = 0.444\\nsamples = 3\\nvalue = [1, 2]'),\n",
       " Text(0.07399328643267784, 0.3780487804878049, 'gini = 0.0\\nsamples = 2\\nvalue = [0, 2]'),\n",
       " Text(0.07465178192481318, 0.3780487804878049, 'gini = 0.0\\nsamples = 1\\nvalue = [1, 0]'),\n",
       " Text(0.07465178192481318, 0.4268292682926829, 'gini = 0.0\\nsamples = 1\\nvalue = [1, 0]'),\n",
       " Text(0.07498102967088087, 0.45121951219512196, 'gini = 0.0\\nsamples = 5\\nvalue = [5, 0]'),\n",
       " Text(0.0759687729090839, 0.47560975609756095, 'X[2] <= 137047.5\\ngini = 0.278\\nsamples = 18\\nvalue = [15, 3]'),\n",
       " Text(0.07563952516301622, 0.45121951219512196, 'gini = 0.0\\nsamples = 13\\nvalue = [13, 0]'),\n",
       " Text(0.07629802065515157, 0.45121951219512196, 'X[2] <= 141160.0\\ngini = 0.48\\nsamples = 5\\nvalue = [2, 3]'),\n",
       " Text(0.0759687729090839, 0.4268292682926829, 'gini = 0.0\\nsamples = 2\\nvalue = [0, 2]'),\n",
       " Text(0.07662726840121925, 0.4268292682926829, 'X[12] <= 44.0\\ngini = 0.444\\nsamples = 3\\nvalue = [2, 1]'),\n",
       " Text(0.07629802065515157, 0.4024390243902439, 'gini = 0.0\\nsamples = 2\\nvalue = [2, 0]'),\n",
       " Text(0.07695651614728692, 0.4024390243902439, 'gini = 0.0\\nsamples = 1\\nvalue = [0, 1]'),\n",
       " Text(0.07728576389335459, 0.524390243902439, 'X[2] <= 133664.0\\ngini = 0.391\\nsamples = 15\\nvalue = [4, 11]'),\n",
       " Text(0.07695651614728692, 0.5, 'X[0] <= 31.5\\ngini = 0.153\\nsamples = 12\\nvalue = [1, 11]'),\n",
       " Text(0.07662726840121925, 0.47560975609756095, 'gini = 0.0\\nsamples = 1\\nvalue = [1, 0]'),\n",
       " Text(0.07728576389335459, 0.47560975609756095, 'gini = 0.0\\nsamples = 11\\nvalue = [0, 11]'),\n",
       " Text(0.07761501163942228, 0.5, 'gini = 0.0\\nsamples = 3\\nvalue = [3, 0]'),\n",
       " Text(0.07926125036976066, 0.5487804878048781, 'X[2] <= 101042.0\\ngini = 0.293\\nsamples = 28\\nvalue = [23, 5]'),\n",
       " Text(0.0786027548776253, 0.524390243902439, 'X[0] <= 34.5\\ngini = 0.375\\nsamples = 4\\nvalue = [1, 3]'),\n",
       " Text(0.07827350713155762, 0.5, 'gini = 0.0\\nsamples = 1\\nvalue = [1, 0]'),\n",
       " Text(0.07893200262369297, 0.5, 'gini = 0.0\\nsamples = 3\\nvalue = [0, 3]'),\n",
       " Text(0.079919745861896, 0.524390243902439, 'X[13] <= 24.0\\ngini = 0.153\\nsamples = 24\\nvalue = [22, 2]'),\n",
       " Text(0.07959049811582833, 0.5, 'gini = 0.0\\nsamples = 1\\nvalue = [0, 1]'),\n",
       " Text(0.08024899360796368, 0.5, 'X[2] <= 120090.0\\ngini = 0.083\\nsamples = 23\\nvalue = [22, 1]'),\n",
       " Text(0.079919745861896, 0.47560975609756095, 'gini = 0.0\\nsamples = 13\\nvalue = [13, 0]'),\n",
       " Text(0.08057824135403135, 0.47560975609756095, 'X[0] <= 34.5\\ngini = 0.18\\nsamples = 10\\nvalue = [9, 1]'),\n",
       " Text(0.08024899360796368, 0.45121951219512196, 'gini = 0.0\\nsamples = 1\\nvalue = [0, 1]'),\n",
       " Text(0.08090748910009903, 0.45121951219512196, 'gini = 0.0\\nsamples = 9\\nvalue = [9, 0]'),\n",
       " Text(0.0858667832752434, 0.5975609756097561, 'X[2] <= 164566.5\\ngini = 0.496\\nsamples = 212\\nvalue = [115, 97]'),\n",
       " Text(0.08222448008436974, 0.573170731707317, 'X[1] <= 3.5\\ngini = 0.482\\nsamples = 52\\nvalue = [21, 31]'),\n",
       " Text(0.08189523233830207, 0.5487804878048781, 'X[13] <= 25.0\\ngini = 0.465\\nsamples = 49\\nvalue = [18, 31]'),\n",
       " Text(0.08156598459223438, 0.524390243902439, 'gini = 0.0\\nsamples = 2\\nvalue = [2, 0]'),\n",
       " Text(0.08222448008436974, 0.524390243902439, 'X[6] <= 5.5\\ngini = 0.449\\nsamples = 47\\nvalue = [16, 31]'),\n",
       " Text(0.08156598459223438, 0.5, 'X[0] <= 30.5\\ngini = 0.375\\nsamples = 32\\nvalue = [8, 24]'),\n",
       " Text(0.08123673684616671, 0.47560975609756095, 'gini = 0.0\\nsamples = 13\\nvalue = [0, 13]'),\n",
       " Text(0.08189523233830207, 0.47560975609756095, 'X[2] <= 159110.0\\ngini = 0.488\\nsamples = 19\\nvalue = [8, 11]'),\n",
       " Text(0.08156598459223438, 0.45121951219512196, 'X[0] <= 34.5\\ngini = 0.43\\nsamples = 16\\nvalue = [5, 11]'),\n",
       " Text(0.08123673684616671, 0.4268292682926829, 'X[1] <= 1.5\\ngini = 0.391\\nsamples = 15\\nvalue = [4, 11]'),\n",
       " Text(0.08090748910009903, 0.4024390243902439, 'gini = 0.0\\nsamples = 1\\nvalue = [1, 0]'),\n",
       " Text(0.08156598459223438, 0.4024390243902439, 'X[1] <= 2.5\\ngini = 0.337\\nsamples = 14\\nvalue = [3, 11]'),\n",
       " Text(0.08123673684616671, 0.3780487804878049, 'X[2] <= 153191.5\\ngini = 0.26\\nsamples = 13\\nvalue = [2, 11]'),\n",
       " Text(0.08090748910009903, 0.35365853658536583, 'X[2] <= 151581.0\\ngini = 0.5\\nsamples = 4\\nvalue = [2, 2]'),\n",
       " Text(0.08057824135403135, 0.32926829268292684, 'gini = 0.0\\nsamples = 2\\nvalue = [0, 2]'),\n",
       " Text(0.08123673684616671, 0.32926829268292684, 'gini = 0.0\\nsamples = 2\\nvalue = [2, 0]'),\n",
       " Text(0.08156598459223438, 0.35365853658536583, 'gini = 0.0\\nsamples = 9\\nvalue = [0, 9]'),\n",
       " Text(0.08189523233830207, 0.3780487804878049, 'gini = 0.0\\nsamples = 1\\nvalue = [1, 0]'),\n",
       " Text(0.08189523233830207, 0.4268292682926829, 'gini = 0.0\\nsamples = 1\\nvalue = [1, 0]'),\n",
       " Text(0.08222448008436974, 0.45121951219512196, 'gini = 0.0\\nsamples = 3\\nvalue = [3, 0]'),\n",
       " Text(0.08288297557650509, 0.5, 'X[0] <= 33.5\\ngini = 0.498\\nsamples = 15\\nvalue = [8, 7]'),\n",
       " Text(0.0825537278304374, 0.47560975609756095, 'gini = 0.0\\nsamples = 7\\nvalue = [7, 0]'),\n",
       " Text(0.08321222332257276, 0.47560975609756095, 'X[12] <= 42.0\\ngini = 0.219\\nsamples = 8\\nvalue = [1, 7]'),\n",
       " Text(0.08288297557650509, 0.45121951219512196, 'X[13] <= 39.0\\ngini = 0.375\\nsamples = 4\\nvalue = [1, 3]'),\n",
       " Text(0.0825537278304374, 0.4268292682926829, 'gini = 0.0\\nsamples = 1\\nvalue = [1, 0]'),\n",
       " Text(0.08321222332257276, 0.4268292682926829, 'gini = 0.0\\nsamples = 3\\nvalue = [0, 3]'),\n",
       " Text(0.08354147106864043, 0.45121951219512196, 'gini = 0.0\\nsamples = 4\\nvalue = [0, 4]'),\n",
       " Text(0.0825537278304374, 0.5487804878048781, 'gini = 0.0\\nsamples = 3\\nvalue = [3, 0]'),\n",
       " Text(0.08950908646611706, 0.573170731707317, 'X[2] <= 199076.0\\ngini = 0.485\\nsamples = 160\\nvalue = [94, 66]'),\n",
       " Text(0.08691626046583412, 0.5487804878048781, 'X[2] <= 186371.0\\ngini = 0.44\\nsamples = 92\\nvalue = [62, 30]'),\n",
       " Text(0.08601082916414801, 0.524390243902439, 'X[2] <= 181543.5\\ngini = 0.49\\nsamples = 58\\nvalue = [33, 25]'),\n",
       " Text(0.08518770979897881, 0.5, 'X[6] <= 0.5\\ngini = 0.368\\nsamples = 37\\nvalue = [28, 9]'),\n",
       " Text(0.08452921430684347, 0.47560975609756095, 'X[0] <= 34.5\\ngini = 0.245\\nsamples = 7\\nvalue = [1, 6]'),\n",
       " Text(0.08419996656077579, 0.45121951219512196, 'gini = 0.0\\nsamples = 6\\nvalue = [0, 6]'),\n",
       " Text(0.08485846205291114, 0.45121951219512196, 'gini = 0.0\\nsamples = 1\\nvalue = [1, 0]'),\n",
       " Text(0.08584620529111417, 0.47560975609756095, 'X[6] <= 5.5\\ngini = 0.18\\nsamples = 30\\nvalue = [27, 3]'),\n",
       " Text(0.0855169575450465, 0.45121951219512196, 'gini = 0.0\\nsamples = 22\\nvalue = [22, 0]'),\n",
       " Text(0.08617545303718184, 0.45121951219512196, 'X[2] <= 175139.0\\ngini = 0.469\\nsamples = 8\\nvalue = [5, 3]'),\n",
       " Text(0.08584620529111417, 0.4268292682926829, 'gini = 0.0\\nsamples = 4\\nvalue = [4, 0]'),\n",
       " Text(0.08650470078324952, 0.4268292682926829, 'X[2] <= 179346.5\\ngini = 0.375\\nsamples = 4\\nvalue = [1, 3]'),\n",
       " Text(0.08617545303718184, 0.4024390243902439, 'gini = 0.0\\nsamples = 3\\nvalue = [0, 3]'),\n",
       " Text(0.0868339485293172, 0.4024390243902439, 'gini = 0.0\\nsamples = 1\\nvalue = [1, 0]'),\n",
       " Text(0.0868339485293172, 0.5, 'X[0] <= 32.5\\ngini = 0.363\\nsamples = 21\\nvalue = [5, 16]'),\n",
       " Text(0.08650470078324952, 0.47560975609756095, 'gini = 0.0\\nsamples = 3\\nvalue = [3, 0]'),\n",
       " Text(0.08716319627538487, 0.47560975609756095, 'X[6] <= 1.0\\ngini = 0.198\\nsamples = 18\\nvalue = [2, 16]'),\n",
       " Text(0.0868339485293172, 0.45121951219512196, 'gini = 0.0\\nsamples = 1\\nvalue = [1, 0]'),\n",
       " Text(0.08749244402145255, 0.45121951219512196, 'X[2] <= 183695.0\\ngini = 0.111\\nsamples = 17\\nvalue = [1, 16]'),\n",
       " Text(0.08716319627538487, 0.4268292682926829, 'gini = 0.0\\nsamples = 10\\nvalue = [0, 10]'),\n",
       " Text(0.08782169176752022, 0.4268292682926829, 'X[2] <= 184218.5\\ngini = 0.245\\nsamples = 7\\nvalue = [1, 6]'),\n",
       " Text(0.08749244402145255, 0.4024390243902439, 'gini = 0.0\\nsamples = 1\\nvalue = [1, 0]'),\n",
       " Text(0.0881509395135879, 0.4024390243902439, 'gini = 0.0\\nsamples = 6\\nvalue = [0, 6]'),\n",
       " Text(0.08782169176752022, 0.524390243902439, 'X[2] <= 190259.0\\ngini = 0.251\\nsamples = 34\\nvalue = [29, 5]'),\n",
       " Text(0.08749244402145255, 0.5, 'gini = 0.0\\nsamples = 13\\nvalue = [13, 0]'),\n",
       " Text(0.0881509395135879, 0.5, 'X[2] <= 190703.0\\ngini = 0.363\\nsamples = 21\\nvalue = [16, 5]'),\n",
       " Text(0.08782169176752022, 0.47560975609756095, 'gini = 0.0\\nsamples = 4\\nvalue = [0, 4]'),\n",
       " Text(0.08848018725965558, 0.47560975609756095, 'X[2] <= 196222.0\\ngini = 0.111\\nsamples = 17\\nvalue = [16, 1]'),\n",
       " Text(0.0881509395135879, 0.45121951219512196, 'gini = 0.0\\nsamples = 11\\nvalue = [11, 0]'),\n",
       " Text(0.08880943500572325, 0.45121951219512196, 'X[2] <= 196815.5\\ngini = 0.278\\nsamples = 6\\nvalue = [5, 1]'),\n",
       " Text(0.08848018725965558, 0.4268292682926829, 'gini = 0.0\\nsamples = 1\\nvalue = [0, 1]'),\n",
       " Text(0.08913868275179093, 0.4268292682926829, 'gini = 0.0\\nsamples = 5\\nvalue = [5, 0]'),\n",
       " Text(0.09210191246640001, 0.5487804878048781, 'X[2] <= 205245.0\\ngini = 0.498\\nsamples = 68\\nvalue = [32, 36]'),\n",
       " Text(0.09078492148212931, 0.524390243902439, 'X[6] <= 4.0\\ngini = 0.365\\nsamples = 25\\nvalue = [6, 19]'),\n",
       " Text(0.09012642598999396, 0.5, 'X[12] <= 49.0\\ngini = 0.245\\nsamples = 21\\nvalue = [3, 18]'),\n",
       " Text(0.08979717824392627, 0.47560975609756095, 'X[6] <= 1.0\\ngini = 0.18\\nsamples = 20\\nvalue = [2, 18]'),\n",
       " Text(0.0894679304978586, 0.45121951219512196, 'gini = 0.0\\nsamples = 1\\nvalue = [1, 0]'),\n",
       " Text(0.09012642598999396, 0.45121951219512196, 'X[12] <= 42.0\\ngini = 0.1\\nsamples = 19\\nvalue = [1, 18]'),\n",
       " Text(0.08979717824392627, 0.4268292682926829, 'gini = 0.0\\nsamples = 16\\nvalue = [0, 16]'),\n",
       " Text(0.09045567373606163, 0.4268292682926829, 'X[0] <= 33.0\\ngini = 0.444\\nsamples = 3\\nvalue = [1, 2]'),\n",
       " Text(0.09012642598999396, 0.4024390243902439, 'gini = 0.0\\nsamples = 1\\nvalue = [1, 0]'),\n",
       " Text(0.09078492148212931, 0.4024390243902439, 'gini = 0.0\\nsamples = 2\\nvalue = [0, 2]'),\n",
       " Text(0.09045567373606163, 0.47560975609756095, 'gini = 0.0\\nsamples = 1\\nvalue = [1, 0]'),\n",
       " Text(0.09144341697426465, 0.5, 'X[6] <= 5.5\\ngini = 0.375\\nsamples = 4\\nvalue = [3, 1]'),\n",
       " Text(0.09111416922819698, 0.47560975609756095, 'gini = 0.0\\nsamples = 2\\nvalue = [2, 0]'),\n",
       " Text(0.09177266472033234, 0.47560975609756095, 'X[6] <= 6.5\\ngini = 0.5\\nsamples = 2\\nvalue = [1, 1]'),\n",
       " Text(0.09144341697426465, 0.45121951219512196, 'gini = 0.0\\nsamples = 1\\nvalue = [0, 1]'),\n",
       " Text(0.09210191246640001, 0.45121951219512196, 'gini = 0.0\\nsamples = 1\\nvalue = [1, 0]'),\n",
       " Text(0.09341890345067072, 0.524390243902439, 'X[12] <= 42.5\\ngini = 0.478\\nsamples = 43\\nvalue = [26, 17]'),\n",
       " Text(0.09308965570460304, 0.5, 'X[2] <= 206557.5\\ngini = 0.498\\nsamples = 36\\nvalue = [19, 17]'),\n",
       " Text(0.09276040795853537, 0.47560975609756095, 'gini = 0.0\\nsamples = 4\\nvalue = [4, 0]'),\n",
       " Text(0.09341890345067072, 0.47560975609756095, 'X[2] <= 220052.0\\ngini = 0.498\\nsamples = 32\\nvalue = [15, 17]'),\n",
       " Text(0.09276040795853537, 0.45121951219512196, 'X[0] <= 34.5\\ngini = 0.473\\nsamples = 26\\nvalue = [10, 16]'),\n",
       " Text(0.09243116021246768, 0.4268292682926829, 'X[0] <= 31.5\\ngini = 0.5\\nsamples = 20\\nvalue = [10, 10]'),\n",
       " Text(0.09210191246640001, 0.4024390243902439, 'X[0] <= 30.5\\ngini = 0.444\\nsamples = 15\\nvalue = [5, 10]'),\n",
       " Text(0.09177266472033234, 0.3780487804878049, 'X[2] <= 208781.0\\ngini = 0.494\\nsamples = 9\\nvalue = [5, 4]'),\n",
       " Text(0.09144341697426465, 0.35365853658536583, 'X[6] <= 4.0\\ngini = 0.32\\nsamples = 5\\nvalue = [1, 4]'),\n",
       " Text(0.09111416922819698, 0.32926829268292684, 'gini = 0.0\\nsamples = 4\\nvalue = [0, 4]'),\n",
       " Text(0.09177266472033234, 0.32926829268292684, 'gini = 0.0\\nsamples = 1\\nvalue = [1, 0]'),\n",
       " Text(0.09210191246640001, 0.35365853658536583, 'gini = 0.0\\nsamples = 4\\nvalue = [4, 0]'),\n",
       " Text(0.09243116021246768, 0.3780487804878049, 'gini = 0.0\\nsamples = 6\\nvalue = [0, 6]'),\n",
       " Text(0.09276040795853537, 0.4024390243902439, 'gini = 0.0\\nsamples = 5\\nvalue = [5, 0]'),\n",
       " Text(0.09308965570460304, 0.4268292682926829, 'gini = 0.0\\nsamples = 6\\nvalue = [0, 6]'),\n",
       " Text(0.09407739894280606, 0.45121951219512196, 'X[0] <= 32.0\\ngini = 0.278\\nsamples = 6\\nvalue = [5, 1]'),\n",
       " Text(0.09374815119673839, 0.4268292682926829, 'X[12] <= 37.5\\ngini = 0.5\\nsamples = 2\\nvalue = [1, 1]'),\n",
       " Text(0.09341890345067072, 0.4024390243902439, 'gini = 0.0\\nsamples = 1\\nvalue = [1, 0]'),\n",
       " Text(0.09407739894280606, 0.4024390243902439, 'gini = 0.0\\nsamples = 1\\nvalue = [0, 1]'),\n",
       " Text(0.09440664668887375, 0.4268292682926829, 'gini = 0.0\\nsamples = 4\\nvalue = [4, 0]'),\n",
       " Text(0.09374815119673839, 0.5, 'gini = 0.0\\nsamples = 7\\nvalue = [7, 0]'),\n",
       " Text(0.09432433475235683, 0.6463414634146342, 'X[13] <= 31.5\\ngini = 0.468\\nsamples = 59\\nvalue = [22, 37]'),\n",
       " Text(0.09341890345067072, 0.6219512195121951, 'X[1] <= 1.5\\ngini = 0.32\\nsamples = 5\\nvalue = [4, 1]'),\n",
       " Text(0.09308965570460304, 0.5975609756097561, 'gini = 0.0\\nsamples = 1\\nvalue = [0, 1]'),\n",
       " Text(0.09374815119673839, 0.5975609756097561, 'gini = 0.0\\nsamples = 4\\nvalue = [4, 0]'),\n",
       " Text(0.09522976605404293, 0.6219512195121951, 'X[2] <= 232570.5\\ngini = 0.444\\nsamples = 54\\nvalue = [18, 36]'),\n",
       " Text(0.09440664668887375, 0.5975609756097561, 'X[0] <= 31.0\\ngini = 0.133\\nsamples = 14\\nvalue = [1, 13]'),\n",
       " Text(0.09407739894280606, 0.573170731707317, 'gini = 0.0\\nsamples = 1\\nvalue = [1, 0]'),\n",
       " Text(0.09473589443494142, 0.573170731707317, 'gini = 0.0\\nsamples = 13\\nvalue = [0, 13]'),\n",
       " Text(0.09605288541921211, 0.5975609756097561, 'X[6] <= 3.5\\ngini = 0.489\\nsamples = 40\\nvalue = [17, 23]'),\n",
       " Text(0.09539438992707677, 0.573170731707317, 'X[2] <= 239825.0\\ngini = 0.412\\nsamples = 31\\nvalue = [9, 22]'),\n",
       " Text(0.09506514218100909, 0.5487804878048781, 'gini = 0.0\\nsamples = 3\\nvalue = [3, 0]'),\n",
       " Text(0.09572363767314444, 0.5487804878048781, 'X[12] <= 47.5\\ngini = 0.337\\nsamples = 28\\nvalue = [6, 22]'),\n",
       " Text(0.09539438992707677, 0.524390243902439, 'X[2] <= 242581.5\\ngini = 0.26\\nsamples = 26\\nvalue = [4, 22]'),\n",
       " Text(0.09506514218100909, 0.5, 'gini = 0.0\\nsamples = 11\\nvalue = [0, 11]'),\n",
       " Text(0.09572363767314444, 0.5, 'X[2] <= 253520.5\\ngini = 0.391\\nsamples = 15\\nvalue = [4, 11]'),\n",
       " Text(0.09539438992707677, 0.47560975609756095, 'gini = 0.0\\nsamples = 2\\nvalue = [2, 0]'),\n",
       " Text(0.09605288541921211, 0.47560975609756095, 'X[0] <= 32.5\\ngini = 0.26\\nsamples = 13\\nvalue = [2, 11]'),\n",
       " Text(0.09539438992707677, 0.45121951219512196, 'X[2] <= 267226.0\\ngini = 0.165\\nsamples = 11\\nvalue = [1, 10]'),\n",
       " Text(0.09506514218100909, 0.4268292682926829, 'gini = 0.0\\nsamples = 7\\nvalue = [0, 7]'),\n",
       " Text(0.09572363767314444, 0.4268292682926829, 'X[0] <= 28.5\\ngini = 0.375\\nsamples = 4\\nvalue = [1, 3]'),\n",
       " Text(0.09539438992707677, 0.4024390243902439, 'gini = 0.0\\nsamples = 3\\nvalue = [0, 3]'),\n",
       " Text(0.09605288541921211, 0.4024390243902439, 'gini = 0.0\\nsamples = 1\\nvalue = [1, 0]'),\n",
       " Text(0.09671138091134747, 0.45121951219512196, 'X[1] <= 2.5\\ngini = 0.5\\nsamples = 2\\nvalue = [1, 1]'),\n",
       " Text(0.0963821331652798, 0.4268292682926829, 'gini = 0.0\\nsamples = 1\\nvalue = [1, 0]'),\n",
       " Text(0.09704062865741515, 0.4268292682926829, 'gini = 0.0\\nsamples = 1\\nvalue = [0, 1]'),\n",
       " Text(0.09605288541921211, 0.524390243902439, 'gini = 0.0\\nsamples = 2\\nvalue = [2, 0]'),\n",
       " Text(0.09671138091134747, 0.573170731707317, 'X[2] <= 263402.0\\ngini = 0.198\\nsamples = 9\\nvalue = [8, 1]'),\n",
       " Text(0.0963821331652798, 0.5487804878048781, 'gini = 0.0\\nsamples = 8\\nvalue = [8, 0]'),\n",
       " Text(0.09704062865741515, 0.5487804878048781, 'gini = 0.0\\nsamples = 1\\nvalue = [0, 1]'),\n",
       " Text(0.09835761964168585, 0.6707317073170732, 'X[2] <= 304780.5\\ngini = 0.351\\nsamples = 75\\nvalue = [58, 17]'),\n",
       " Text(0.09802837189561818, 0.6463414634146342, 'gini = 0.0\\nsamples = 20\\nvalue = [20, 0]'),\n",
       " Text(0.09868686738775352, 0.6463414634146342, 'X[2] <= 309147.5\\ngini = 0.427\\nsamples = 55\\nvalue = [38, 17]'),\n",
       " Text(0.09835761964168585, 0.6219512195121951, 'gini = 0.0\\nsamples = 4\\nvalue = [0, 4]'),\n",
       " Text(0.0990161151338212, 0.6219512195121951, 'X[2] <= 331069.0\\ngini = 0.38\\nsamples = 51\\nvalue = [38, 13]'),\n",
       " Text(0.09868686738775352, 0.5975609756097561, 'gini = 0.0\\nsamples = 10\\nvalue = [10, 0]'),\n",
       " Text(0.09934536287988888, 0.5975609756097561, 'X[2] <= 349886.0\\ngini = 0.433\\nsamples = 41\\nvalue = [28, 13]'),\n",
       " Text(0.09802837189561818, 0.573170731707317, 'X[2] <= 349088.0\\ngini = 0.5\\nsamples = 14\\nvalue = [7, 7]'),\n",
       " Text(0.0976991241495505, 0.5487804878048781, 'X[6] <= 2.5\\ngini = 0.463\\nsamples = 11\\nvalue = [7, 4]'),\n",
       " Text(0.09704062865741515, 0.524390243902439, 'X[1] <= 3.5\\ngini = 0.245\\nsamples = 7\\nvalue = [6, 1]'),\n",
       " Text(0.09671138091134747, 0.5, 'gini = 0.0\\nsamples = 6\\nvalue = [6, 0]'),\n",
       " Text(0.09736987640348282, 0.5, 'gini = 0.0\\nsamples = 1\\nvalue = [0, 1]'),\n",
       " Text(0.09835761964168585, 0.524390243902439, 'X[12] <= 42.0\\ngini = 0.375\\nsamples = 4\\nvalue = [1, 3]'),\n",
       " Text(0.09802837189561818, 0.5, 'gini = 0.0\\nsamples = 3\\nvalue = [0, 3]'),\n",
       " Text(0.09868686738775352, 0.5, 'gini = 0.0\\nsamples = 1\\nvalue = [1, 0]'),\n",
       " Text(0.09835761964168585, 0.5487804878048781, 'gini = 0.0\\nsamples = 3\\nvalue = [0, 3]'),\n",
       " Text(0.10066235386415959, 0.573170731707317, 'X[12] <= 47.5\\ngini = 0.346\\nsamples = 27\\nvalue = [21, 6]'),\n",
       " Text(0.1003331061180919, 0.5487804878048781, 'X[2] <= 447261.0\\ngini = 0.311\\nsamples = 26\\nvalue = [21, 5]'),\n",
       " Text(0.09967461062595656, 0.524390243902439, 'X[0] <= 33.5\\ngini = 0.188\\nsamples = 19\\nvalue = [17, 2]'),\n",
       " Text(0.09934536287988888, 0.5, 'gini = 0.0\\nsamples = 13\\nvalue = [13, 0]'),\n",
       " Text(0.10000385837202423, 0.5, 'X[13] <= 31.5\\ngini = 0.444\\nsamples = 6\\nvalue = [4, 2]'),\n",
       " Text(0.09967461062595656, 0.47560975609756095, 'gini = 0.0\\nsamples = 3\\nvalue = [3, 0]'),\n",
       " Text(0.1003331061180919, 0.47560975609756095, 'X[6] <= 2.5\\ngini = 0.444\\nsamples = 3\\nvalue = [1, 2]'),\n",
       " Text(0.10000385837202423, 0.45121951219512196, 'gini = 0.0\\nsamples = 1\\nvalue = [1, 0]'),\n",
       " Text(0.10066235386415959, 0.45121951219512196, 'gini = 0.0\\nsamples = 2\\nvalue = [0, 2]'),\n",
       " Text(0.10099160161022726, 0.524390243902439, 'X[2] <= 464560.5\\ngini = 0.49\\nsamples = 7\\nvalue = [4, 3]'),\n",
       " Text(0.10066235386415959, 0.5, 'gini = 0.0\\nsamples = 3\\nvalue = [0, 3]'),\n",
       " Text(0.10132084935629493, 0.5, 'gini = 0.0\\nsamples = 4\\nvalue = [4, 0]'),\n",
       " Text(0.10099160161022726, 0.5487804878048781, 'gini = 0.0\\nsamples = 1\\nvalue = [0, 1]'),\n",
       " Text(0.10938741913495299, 0.7195121951219512, 'X[6] <= 12.5\\ngini = 0.5\\nsamples = 233\\nvalue = [113, 120]'),\n",
       " Text(0.10708268491247926, 0.6951219512195121, 'X[12] <= 32.5\\ngini = 0.482\\nsamples = 153\\nvalue = [62, 91]'),\n",
       " Text(0.10675343716641159, 0.6707317073170732, 'gini = 0.0\\nsamples = 4\\nvalue = [4, 0]'),\n",
       " Text(0.10741193265854694, 0.6707317073170732, 'X[2] <= 323406.5\\ngini = 0.475\\nsamples = 149\\nvalue = [58, 91]'),\n",
       " Text(0.10675343716641159, 0.6463414634146342, 'X[2] <= 256585.5\\ngini = 0.463\\nsamples = 140\\nvalue = [51, 89]'),\n",
       " Text(0.10642418942034391, 0.6219512195121951, 'X[2] <= 209537.5\\ngini = 0.477\\nsamples = 130\\nvalue = [51, 79]'),\n",
       " Text(0.10494257456303936, 0.5975609756097561, 'X[0] <= 32.5\\ngini = 0.452\\nsamples = 113\\nvalue = [39, 74]'),\n",
       " Text(0.103296335832701, 0.573170731707317, 'X[0] <= 31.5\\ngini = 0.488\\nsamples = 64\\nvalue = [27, 37]'),\n",
       " Text(0.10296708808663331, 0.5487804878048781, 'X[2] <= 187593.5\\ngini = 0.422\\nsamples = 53\\nvalue = [16, 37]'),\n",
       " Text(0.10230859259449795, 0.524390243902439, 'X[12] <= 41.0\\ngini = 0.478\\nsamples = 38\\nvalue = [15, 23]'),\n",
       " Text(0.10197934484843028, 0.5, 'X[0] <= 30.5\\ngini = 0.422\\nsamples = 33\\nvalue = [10, 23]'),\n",
       " Text(0.10165009710236261, 0.47560975609756095, 'X[2] <= 179385.0\\ngini = 0.358\\nsamples = 30\\nvalue = [7, 23]'),\n",
       " Text(0.10132084935629493, 0.45121951219512196, 'X[0] <= 28.5\\ngini = 0.293\\nsamples = 28\\nvalue = [5, 23]'),\n",
       " Text(0.10099160161022726, 0.4268292682926829, 'gini = 0.0\\nsamples = 1\\nvalue = [1, 0]'),\n",
       " Text(0.10165009710236261, 0.4268292682926829, 'X[6] <= 11.5\\ngini = 0.252\\nsamples = 27\\nvalue = [4, 23]'),\n",
       " Text(0.10132084935629493, 0.4024390243902439, 'X[6] <= 10.5\\ngini = 0.346\\nsamples = 18\\nvalue = [4, 14]'),\n",
       " Text(0.10099160161022726, 0.3780487804878049, 'X[2] <= 103344.0\\ngini = 0.219\\nsamples = 16\\nvalue = [2, 14]'),\n",
       " Text(0.10066235386415959, 0.35365853658536583, 'X[2] <= 33152.0\\ngini = 0.444\\nsamples = 6\\nvalue = [2, 4]'),\n",
       " Text(0.1003331061180919, 0.32926829268292684, 'gini = 0.0\\nsamples = 4\\nvalue = [0, 4]'),\n",
       " Text(0.10099160161022726, 0.32926829268292684, 'gini = 0.0\\nsamples = 2\\nvalue = [2, 0]'),\n",
       " Text(0.10132084935629493, 0.35365853658536583, 'gini = 0.0\\nsamples = 10\\nvalue = [0, 10]'),\n",
       " Text(0.10165009710236261, 0.3780487804878049, 'gini = 0.0\\nsamples = 2\\nvalue = [2, 0]'),\n",
       " Text(0.10197934484843028, 0.4024390243902439, 'gini = 0.0\\nsamples = 9\\nvalue = [0, 9]'),\n",
       " Text(0.10197934484843028, 0.45121951219512196, 'gini = 0.0\\nsamples = 2\\nvalue = [2, 0]'),\n",
       " Text(0.10230859259449795, 0.47560975609756095, 'gini = 0.0\\nsamples = 3\\nvalue = [3, 0]'),\n",
       " Text(0.10263784034056564, 0.5, 'gini = 0.0\\nsamples = 5\\nvalue = [5, 0]'),\n",
       " Text(0.10362558357876867, 0.524390243902439, 'X[2] <= 197706.0\\ngini = 0.124\\nsamples = 15\\nvalue = [1, 14]'),\n",
       " Text(0.103296335832701, 0.5, 'gini = 0.0\\nsamples = 8\\nvalue = [0, 8]'),\n",
       " Text(0.10395483132483634, 0.5, 'X[2] <= 203560.0\\ngini = 0.245\\nsamples = 7\\nvalue = [1, 6]'),\n",
       " Text(0.10362558357876867, 0.47560975609756095, 'gini = 0.0\\nsamples = 1\\nvalue = [1, 0]'),\n",
       " Text(0.10428407907090402, 0.47560975609756095, 'gini = 0.0\\nsamples = 6\\nvalue = [0, 6]'),\n",
       " Text(0.10362558357876867, 0.5487804878048781, 'gini = 0.0\\nsamples = 11\\nvalue = [11, 0]'),\n",
       " Text(0.10658881329337774, 0.573170731707317, 'X[2] <= 173498.0\\ngini = 0.37\\nsamples = 49\\nvalue = [12, 37]'),\n",
       " Text(0.1059303178012424, 0.5487804878048781, 'X[0] <= 34.5\\ngini = 0.26\\nsamples = 39\\nvalue = [6, 33]'),\n",
       " Text(0.10560107005517472, 0.524390243902439, 'X[2] <= 123939.0\\ngini = 0.153\\nsamples = 36\\nvalue = [3, 33]'),\n",
       " Text(0.10527182230910705, 0.5, 'X[2] <= 115089.5\\ngini = 0.32\\nsamples = 15\\nvalue = [3, 12]'),\n",
       " Text(0.10494257456303936, 0.47560975609756095, 'X[1] <= 4.5\\ngini = 0.142\\nsamples = 13\\nvalue = [1, 12]'),\n",
       " Text(0.10461332681697169, 0.45121951219512196, 'gini = 0.0\\nsamples = 12\\nvalue = [0, 12]'),\n",
       " Text(0.10527182230910705, 0.45121951219512196, 'gini = 0.0\\nsamples = 1\\nvalue = [1, 0]'),\n",
       " Text(0.10560107005517472, 0.47560975609756095, 'gini = 0.0\\nsamples = 2\\nvalue = [2, 0]'),\n",
       " Text(0.1059303178012424, 0.5, 'gini = 0.0\\nsamples = 21\\nvalue = [0, 21]'),\n",
       " Text(0.10625956554731007, 0.524390243902439, 'gini = 0.0\\nsamples = 3\\nvalue = [3, 0]'),\n",
       " Text(0.1072473087855131, 0.5487804878048781, 'X[0] <= 34.5\\ngini = 0.48\\nsamples = 10\\nvalue = [6, 4]'),\n",
       " Text(0.10691806103944543, 0.524390243902439, 'gini = 0.0\\nsamples = 5\\nvalue = [5, 0]'),\n",
       " Text(0.10757655653158077, 0.524390243902439, 'X[2] <= 193040.0\\ngini = 0.32\\nsamples = 5\\nvalue = [1, 4]'),\n",
       " Text(0.1072473087855131, 0.5, 'gini = 0.0\\nsamples = 4\\nvalue = [0, 4]'),\n",
       " Text(0.10790580427764845, 0.5, 'gini = 0.0\\nsamples = 1\\nvalue = [1, 0]'),\n",
       " Text(0.10790580427764845, 0.5975609756097561, 'X[2] <= 236282.0\\ngini = 0.415\\nsamples = 17\\nvalue = [12, 5]'),\n",
       " Text(0.10757655653158077, 0.573170731707317, 'gini = 0.0\\nsamples = 8\\nvalue = [8, 0]'),\n",
       " Text(0.10823505202371612, 0.573170731707317, 'X[6] <= 10.5\\ngini = 0.494\\nsamples = 9\\nvalue = [4, 5]'),\n",
       " Text(0.10790580427764845, 0.5487804878048781, 'gini = 0.0\\nsamples = 5\\nvalue = [0, 5]'),\n",
       " Text(0.10856429976978381, 0.5487804878048781, 'gini = 0.0\\nsamples = 4\\nvalue = [4, 0]'),\n",
       " Text(0.10708268491247926, 0.6219512195121951, 'gini = 0.0\\nsamples = 10\\nvalue = [0, 10]'),\n",
       " Text(0.10807042815068228, 0.6463414634146342, 'X[4] <= 8.5\\ngini = 0.346\\nsamples = 9\\nvalue = [7, 2]'),\n",
       " Text(0.10774118040461461, 0.6219512195121951, 'gini = 0.0\\nsamples = 2\\nvalue = [0, 2]'),\n",
       " Text(0.10839967589674997, 0.6219512195121951, 'gini = 0.0\\nsamples = 7\\nvalue = [7, 0]'),\n",
       " Text(0.11169215335742673, 0.6951219512195121, 'X[12] <= 49.0\\ngini = 0.462\\nsamples = 80\\nvalue = [51, 29]'),\n",
       " Text(0.11053978624618986, 0.6707317073170732, 'X[1] <= 4.5\\ngini = 0.371\\nsamples = 57\\nvalue = [43, 14]'),\n",
       " Text(0.11021053850012218, 0.6463414634146342, 'X[12] <= 25.0\\ngini = 0.265\\nsamples = 51\\nvalue = [43, 8]'),\n",
       " Text(0.1098812907540545, 0.6219512195121951, 'gini = 0.0\\nsamples = 2\\nvalue = [0, 2]'),\n",
       " Text(0.11053978624618986, 0.6219512195121951, 'X[2] <= 137341.0\\ngini = 0.215\\nsamples = 49\\nvalue = [43, 6]'),\n",
       " Text(0.1098812907540545, 0.5975609756097561, 'X[2] <= 133548.5\\ngini = 0.332\\nsamples = 19\\nvalue = [15, 4]'),\n",
       " Text(0.10955204300798684, 0.573170731707317, 'X[0] <= 33.5\\ngini = 0.208\\nsamples = 17\\nvalue = [15, 2]'),\n",
       " Text(0.10922279526191915, 0.5487804878048781, 'gini = 0.0\\nsamples = 10\\nvalue = [10, 0]'),\n",
       " Text(0.1098812907540545, 0.5487804878048781, 'X[2] <= 103488.5\\ngini = 0.408\\nsamples = 7\\nvalue = [5, 2]'),\n",
       " Text(0.10955204300798684, 0.524390243902439, 'X[2] <= 75688.5\\ngini = 0.5\\nsamples = 4\\nvalue = [2, 2]'),\n",
       " Text(0.10922279526191915, 0.5, 'gini = 0.0\\nsamples = 2\\nvalue = [2, 0]'),\n",
       " Text(0.1098812907540545, 0.5, 'gini = 0.0\\nsamples = 2\\nvalue = [0, 2]'),\n",
       " Text(0.11021053850012218, 0.524390243902439, 'gini = 0.0\\nsamples = 3\\nvalue = [3, 0]'),\n",
       " Text(0.11021053850012218, 0.573170731707317, 'gini = 0.0\\nsamples = 2\\nvalue = [0, 2]'),\n",
       " Text(0.1111982817383252, 0.5975609756097561, 'X[12] <= 42.5\\ngini = 0.124\\nsamples = 30\\nvalue = [28, 2]'),\n",
       " Text(0.11086903399225753, 0.573170731707317, 'gini = 0.0\\nsamples = 20\\nvalue = [20, 0]'),\n",
       " Text(0.11152752948439289, 0.573170731707317, 'X[0] <= 31.5\\ngini = 0.32\\nsamples = 10\\nvalue = [8, 2]'),\n",
       " Text(0.1111982817383252, 0.5487804878048781, 'X[12] <= 46.5\\ngini = 0.444\\nsamples = 3\\nvalue = [1, 2]'),\n",
       " Text(0.11086903399225753, 0.524390243902439, 'gini = 0.0\\nsamples = 2\\nvalue = [0, 2]'),\n",
       " Text(0.11152752948439289, 0.524390243902439, 'gini = 0.0\\nsamples = 1\\nvalue = [1, 0]'),\n",
       " Text(0.11185677723046056, 0.5487804878048781, 'gini = 0.0\\nsamples = 7\\nvalue = [7, 0]'),\n",
       " Text(0.11086903399225753, 0.6463414634146342, 'gini = 0.0\\nsamples = 6\\nvalue = [0, 6]'),\n",
       " Text(0.11284452046866358, 0.6707317073170732, 'X[2] <= 94577.0\\ngini = 0.454\\nsamples = 23\\nvalue = [8, 15]'),\n",
       " Text(0.11251527272259591, 0.6463414634146342, 'gini = 0.0\\nsamples = 8\\nvalue = [0, 8]'),\n",
       " Text(0.11317376821473127, 0.6463414634146342, 'X[2] <= 313453.0\\ngini = 0.498\\nsamples = 15\\nvalue = [8, 7]'),\n",
       " Text(0.11284452046866358, 0.6219512195121951, 'X[2] <= 182573.0\\ngini = 0.397\\nsamples = 11\\nvalue = [8, 3]'),\n",
       " Text(0.11251527272259591, 0.5975609756097561, 'X[2] <= 169283.5\\ngini = 0.48\\nsamples = 5\\nvalue = [2, 3]'),\n",
       " Text(0.11218602497652824, 0.573170731707317, 'gini = 0.0\\nsamples = 2\\nvalue = [2, 0]'),\n",
       " Text(0.11284452046866358, 0.573170731707317, 'gini = 0.0\\nsamples = 3\\nvalue = [0, 3]'),\n",
       " Text(0.11317376821473127, 0.5975609756097561, 'gini = 0.0\\nsamples = 6\\nvalue = [6, 0]'),\n",
       " Text(0.11350301596079894, 0.6219512195121951, 'gini = 0.0\\nsamples = 4\\nvalue = [0, 4]'),\n",
       " Text(0.11609584196108189, 0.7682926829268293, 'X[1] <= 1.5\\ngini = 0.482\\nsamples = 170\\nvalue = [69, 101]'),\n",
       " Text(0.11576659421501422, 0.7439024390243902, 'gini = 0.0\\nsamples = 13\\nvalue = [0, 13]'),\n",
       " Text(0.11642508970714956, 0.7439024390243902, 'X[12] <= 87.0\\ngini = 0.493\\nsamples = 157\\nvalue = [69, 88]'),\n",
       " Text(0.11609584196108189, 0.7195121951219512, 'X[13] <= 36.5\\ngini = 0.486\\nsamples = 151\\nvalue = [63, 88]'),\n",
       " Text(0.11502578678636194, 0.6951219512195121, 'X[13] <= 14.5\\ngini = 0.142\\nsamples = 13\\nvalue = [1, 12]'),\n",
       " Text(0.11469653904029427, 0.6707317073170732, 'gini = 0.0\\nsamples = 1\\nvalue = [1, 0]'),\n",
       " Text(0.11535503453242962, 0.6707317073170732, 'gini = 0.0\\nsamples = 12\\nvalue = [0, 12]'),\n",
       " Text(0.11716589713580183, 0.6951219512195121, 'X[2] <= 272602.5\\ngini = 0.495\\nsamples = 138\\nvalue = [62, 76]'),\n",
       " Text(0.11601353002456496, 0.6707317073170732, 'X[12] <= 65.5\\ngini = 0.48\\nsamples = 120\\nvalue = [48, 72]'),\n",
       " Text(0.11535503453242962, 0.6463414634146342, 'X[2] <= 262363.5\\ngini = 0.465\\nsamples = 109\\nvalue = [40, 69]'),\n",
       " Text(0.11502578678636194, 0.6219512195121951, 'X[2] <= 222371.0\\ngini = 0.477\\nsamples = 102\\nvalue = [40, 62]'),\n",
       " Text(0.11469653904029427, 0.5975609756097561, 'X[0] <= 29.5\\ngini = 0.461\\nsamples = 97\\nvalue = [35, 62]'),\n",
       " Text(0.11350301596079894, 0.573170731707317, 'X[6] <= 6.5\\ngini = 0.484\\nsamples = 17\\nvalue = [10, 7]'),\n",
       " Text(0.11317376821473127, 0.5487804878048781, 'gini = 0.0\\nsamples = 5\\nvalue = [5, 0]'),\n",
       " Text(0.11383226370686661, 0.5487804878048781, 'X[6] <= 12.0\\ngini = 0.486\\nsamples = 12\\nvalue = [5, 7]'),\n",
       " Text(0.11350301596079894, 0.524390243902439, 'gini = 0.0\\nsamples = 7\\nvalue = [0, 7]'),\n",
       " Text(0.1141615114529343, 0.524390243902439, 'gini = 0.0\\nsamples = 5\\nvalue = [5, 0]'),\n",
       " Text(0.1158900621197896, 0.573170731707317, 'X[2] <= 40769.5\\ngini = 0.43\\nsamples = 80\\nvalue = [25, 55]'),\n",
       " Text(0.11556081437372191, 0.5487804878048781, 'gini = 0.0\\nsamples = 9\\nvalue = [0, 9]'),\n",
       " Text(0.11621930986585727, 0.5487804878048781, 'X[2] <= 139173.5\\ngini = 0.456\\nsamples = 71\\nvalue = [25, 46]'),\n",
       " Text(0.11482000694506965, 0.524390243902439, 'X[2] <= 116880.0\\ngini = 0.488\\nsamples = 19\\nvalue = [11, 8]'),\n",
       " Text(0.11449075919900197, 0.5, 'X[12] <= 57.5\\ngini = 0.498\\nsamples = 15\\nvalue = [7, 8]'),\n",
       " Text(0.1141615114529343, 0.47560975609756095, 'gini = 0.0\\nsamples = 4\\nvalue = [4, 0]'),\n",
       " Text(0.11482000694506965, 0.47560975609756095, 'X[6] <= 3.5\\ngini = 0.397\\nsamples = 11\\nvalue = [3, 8]'),\n",
       " Text(0.11449075919900197, 0.45121951219512196, 'gini = 0.0\\nsamples = 2\\nvalue = [2, 0]'),\n",
       " Text(0.11514925469113732, 0.45121951219512196, 'X[0] <= 32.5\\ngini = 0.198\\nsamples = 9\\nvalue = [1, 8]'),\n",
       " Text(0.11482000694506965, 0.4268292682926829, 'gini = 0.0\\nsamples = 6\\nvalue = [0, 6]'),\n",
       " Text(0.11547850243720499, 0.4268292682926829, 'X[0] <= 33.5\\ngini = 0.444\\nsamples = 3\\nvalue = [1, 2]'),\n",
       " Text(0.11514925469113732, 0.4024390243902439, 'gini = 0.0\\nsamples = 1\\nvalue = [1, 0]'),\n",
       " Text(0.11580775018327268, 0.4024390243902439, 'gini = 0.0\\nsamples = 2\\nvalue = [0, 2]'),\n",
       " Text(0.11514925469113732, 0.5, 'gini = 0.0\\nsamples = 4\\nvalue = [4, 0]'),\n",
       " Text(0.11761861278664489, 0.524390243902439, 'X[12] <= 61.0\\ngini = 0.393\\nsamples = 52\\nvalue = [14, 38]'),\n",
       " Text(0.1167954934214757, 0.5, 'X[6] <= 5.5\\ngini = 0.303\\nsamples = 43\\nvalue = [8, 35]'),\n",
       " Text(0.11613699792934035, 0.47560975609756095, 'X[2] <= 153521.0\\ngini = 0.49\\nsamples = 14\\nvalue = [6, 8]'),\n",
       " Text(0.11580775018327268, 0.45121951219512196, 'gini = 0.0\\nsamples = 6\\nvalue = [0, 6]'),\n",
       " Text(0.11646624567540802, 0.45121951219512196, 'X[0] <= 33.5\\ngini = 0.375\\nsamples = 8\\nvalue = [6, 2]'),\n",
       " Text(0.11613699792934035, 0.4268292682926829, 'gini = 0.0\\nsamples = 4\\nvalue = [4, 0]'),\n",
       " Text(0.1167954934214757, 0.4268292682926829, 'X[12] <= 57.5\\ngini = 0.5\\nsamples = 4\\nvalue = [2, 2]'),\n",
       " Text(0.11646624567540802, 0.4024390243902439, 'gini = 0.0\\nsamples = 2\\nvalue = [0, 2]'),\n",
       " Text(0.11712474116754337, 0.4024390243902439, 'gini = 0.0\\nsamples = 2\\nvalue = [2, 0]'),\n",
       " Text(0.11745398891361106, 0.47560975609756095, 'X[12] <= 54.5\\ngini = 0.128\\nsamples = 29\\nvalue = [2, 27]'),\n",
       " Text(0.11712474116754337, 0.45121951219512196, 'gini = 0.0\\nsamples = 1\\nvalue = [1, 0]'),\n",
       " Text(0.11778323665967873, 0.45121951219512196, 'X[1] <= 3.0\\ngini = 0.069\\nsamples = 28\\nvalue = [1, 27]'),\n",
       " Text(0.11745398891361106, 0.4268292682926829, 'gini = 0.0\\nsamples = 27\\nvalue = [0, 27]'),\n",
       " Text(0.1181124844057464, 0.4268292682926829, 'gini = 0.0\\nsamples = 1\\nvalue = [1, 0]'),\n",
       " Text(0.11844173215181408, 0.5, 'X[0] <= 34.5\\ngini = 0.444\\nsamples = 9\\nvalue = [6, 3]'),\n",
       " Text(0.1181124844057464, 0.47560975609756095, 'gini = 0.0\\nsamples = 5\\nvalue = [5, 0]'),\n",
       " Text(0.11877097989788175, 0.47560975609756095, 'X[12] <= 63.5\\ngini = 0.375\\nsamples = 4\\nvalue = [1, 3]'),\n",
       " Text(0.11844173215181408, 0.45121951219512196, 'gini = 0.0\\nsamples = 1\\nvalue = [1, 0]'),\n",
       " Text(0.11910022764394942, 0.45121951219512196, 'gini = 0.0\\nsamples = 3\\nvalue = [0, 3]'),\n",
       " Text(0.11535503453242962, 0.5975609756097561, 'gini = 0.0\\nsamples = 5\\nvalue = [5, 0]'),\n",
       " Text(0.1156842822784973, 0.6219512195121951, 'gini = 0.0\\nsamples = 7\\nvalue = [0, 7]'),\n",
       " Text(0.11667202551670032, 0.6463414634146342, 'X[6] <= 3.5\\ngini = 0.397\\nsamples = 11\\nvalue = [8, 3]'),\n",
       " Text(0.11634277777063265, 0.6219512195121951, 'gini = 0.0\\nsamples = 5\\nvalue = [5, 0]'),\n",
       " Text(0.11700127326276799, 0.6219512195121951, 'X[2] <= 127429.5\\ngini = 0.5\\nsamples = 6\\nvalue = [3, 3]'),\n",
       " Text(0.11667202551670032, 0.5975609756097561, 'gini = 0.0\\nsamples = 2\\nvalue = [0, 2]'),\n",
       " Text(0.11733052100883568, 0.5975609756097561, 'X[12] <= 75.0\\ngini = 0.375\\nsamples = 4\\nvalue = [3, 1]'),\n",
       " Text(0.11700127326276799, 0.573170731707317, 'gini = 0.0\\nsamples = 3\\nvalue = [3, 0]'),\n",
       " Text(0.11765976875490335, 0.573170731707317, 'gini = 0.0\\nsamples = 1\\nvalue = [0, 1]'),\n",
       " Text(0.1183182642470387, 0.6707317073170732, 'X[6] <= 12.0\\ngini = 0.346\\nsamples = 18\\nvalue = [14, 4]'),\n",
       " Text(0.11798901650097102, 0.6463414634146342, 'X[2] <= 413150.5\\ngini = 0.219\\nsamples = 16\\nvalue = [14, 2]'),\n",
       " Text(0.11765976875490335, 0.6219512195121951, 'gini = 0.0\\nsamples = 13\\nvalue = [13, 0]'),\n",
       " Text(0.1183182642470387, 0.6219512195121951, 'X[0] <= 33.5\\ngini = 0.444\\nsamples = 3\\nvalue = [1, 2]'),\n",
       " Text(0.11798901650097102, 0.5975609756097561, 'gini = 0.0\\nsamples = 2\\nvalue = [0, 2]'),\n",
       " Text(0.11864751199310637, 0.5975609756097561, 'gini = 0.0\\nsamples = 1\\nvalue = [1, 0]'),\n",
       " Text(0.11864751199310637, 0.6463414634146342, 'gini = 0.0\\nsamples = 2\\nvalue = [0, 2]'),\n",
       " Text(0.11675433745321724, 0.7195121951219512, 'gini = 0.0\\nsamples = 6\\nvalue = [6, 0]'),\n",
       " Text(0.13544075469756794, 0.7926829268292683, 'X[2] <= 113453.5\\ngini = 0.494\\nsamples = 878\\nvalue = [391, 487]'),\n",
       " Text(0.12428587964451532, 0.7682926829268293, 'X[2] <= 108919.0\\ngini = 0.481\\nsamples = 194\\nvalue = [116, 78]'),\n",
       " Text(0.12395663189844765, 0.7439024390243902, 'X[13] <= 26.0\\ngini = 0.492\\nsamples = 178\\nvalue = [100, 78]'),\n",
       " Text(0.12177536558074929, 0.7195121951219512, 'X[0] <= 33.5\\ngini = 0.18\\nsamples = 10\\nvalue = [1, 9]'),\n",
       " Text(0.12144611783468162, 0.6951219512195121, 'gini = 0.0\\nsamples = 9\\nvalue = [0, 9]'),\n",
       " Text(0.12210461332681698, 0.6951219512195121, 'gini = 0.0\\nsamples = 1\\nvalue = [1, 0]'),\n",
       " Text(0.126137898216146, 0.7195121951219512, 'X[2] <= 83691.5\\ngini = 0.484\\nsamples = 168\\nvalue = [99, 69]'),\n",
       " Text(0.12276310881895232, 0.6951219512195121, 'X[2] <= 34710.0\\ngini = 0.448\\nsamples = 118\\nvalue = [78, 40]'),\n",
       " Text(0.12062299846951242, 0.6707317073170732, 'X[2] <= 34443.0\\ngini = 0.498\\nsamples = 36\\nvalue = [17, 19]'),\n",
       " Text(0.11996450297737708, 0.6463414634146342, 'X[12] <= 77.0\\ngini = 0.49\\nsamples = 28\\nvalue = [16, 12]'),\n",
       " Text(0.1196352552313094, 0.6219512195121951, 'X[1] <= 1.5\\ngini = 0.444\\nsamples = 24\\nvalue = [16, 8]'),\n",
       " Text(0.11930600748524173, 0.5975609756097561, 'gini = 0.0\\nsamples = 3\\nvalue = [0, 3]'),\n",
       " Text(0.11996450297737708, 0.5975609756097561, 'X[12] <= 45.0\\ngini = 0.363\\nsamples = 21\\nvalue = [16, 5]'),\n",
       " Text(0.1196352552313094, 0.573170731707317, 'gini = 0.0\\nsamples = 9\\nvalue = [9, 0]'),\n",
       " Text(0.12029375072344475, 0.573170731707317, 'X[12] <= 57.5\\ngini = 0.486\\nsamples = 12\\nvalue = [7, 5]'),\n",
       " Text(0.11996450297737708, 0.5487804878048781, 'X[0] <= 31.5\\ngini = 0.469\\nsamples = 8\\nvalue = [3, 5]'),\n",
       " Text(0.1196352552313094, 0.524390243902439, 'gini = 0.0\\nsamples = 3\\nvalue = [3, 0]'),\n",
       " Text(0.12029375072344475, 0.524390243902439, 'gini = 0.0\\nsamples = 5\\nvalue = [0, 5]'),\n",
       " Text(0.12062299846951242, 0.5487804878048781, 'gini = 0.0\\nsamples = 4\\nvalue = [4, 0]'),\n",
       " Text(0.12029375072344475, 0.6219512195121951, 'gini = 0.0\\nsamples = 4\\nvalue = [0, 4]'),\n",
       " Text(0.12128149396164778, 0.6463414634146342, 'X[6] <= 4.0\\ngini = 0.219\\nsamples = 8\\nvalue = [1, 7]'),\n",
       " Text(0.12095224621558011, 0.6219512195121951, 'gini = 0.0\\nsamples = 7\\nvalue = [0, 7]'),\n",
       " Text(0.12161074170771546, 0.6219512195121951, 'gini = 0.0\\nsamples = 1\\nvalue = [1, 0]'),\n",
       " Text(0.12490321916839221, 0.6707317073170732, 'X[0] <= 33.5\\ngini = 0.381\\nsamples = 82\\nvalue = [61, 21]'),\n",
       " Text(0.12259848494591849, 0.6463414634146342, 'X[6] <= 6.5\\ngini = 0.293\\nsamples = 56\\nvalue = [46, 10]'),\n",
       " Text(0.1222692371998508, 0.6219512195121951, 'X[3] <= 10.5\\ngini = 0.381\\nsamples = 39\\nvalue = [29, 10]'),\n",
       " Text(0.12161074170771546, 0.5975609756097561, 'X[1] <= 1.0\\ngini = 0.227\\nsamples = 23\\nvalue = [20, 3]'),\n",
       " Text(0.12128149396164778, 0.573170731707317, 'gini = 0.0\\nsamples = 1\\nvalue = [0, 1]'),\n",
       " Text(0.12193998945378313, 0.573170731707317, 'X[2] <= 74189.0\\ngini = 0.165\\nsamples = 22\\nvalue = [20, 2]'),\n",
       " Text(0.12161074170771546, 0.5487804878048781, 'gini = 0.0\\nsamples = 17\\nvalue = [17, 0]'),\n",
       " Text(0.1222692371998508, 0.5487804878048781, 'X[2] <= 75407.5\\ngini = 0.48\\nsamples = 5\\nvalue = [3, 2]'),\n",
       " Text(0.12193998945378313, 0.524390243902439, 'gini = 0.0\\nsamples = 2\\nvalue = [0, 2]'),\n",
       " Text(0.12259848494591849, 0.524390243902439, 'gini = 0.0\\nsamples = 3\\nvalue = [3, 0]'),\n",
       " Text(0.12292773269198616, 0.5975609756097561, 'X[2] <= 37388.0\\ngini = 0.492\\nsamples = 16\\nvalue = [9, 7]'),\n",
       " Text(0.12259848494591849, 0.573170731707317, 'gini = 0.0\\nsamples = 2\\nvalue = [0, 2]'),\n",
       " Text(0.12325698043805383, 0.573170731707317, 'X[2] <= 51068.0\\ngini = 0.459\\nsamples = 14\\nvalue = [9, 5]'),\n",
       " Text(0.12292773269198616, 0.5487804878048781, 'gini = 0.0\\nsamples = 4\\nvalue = [4, 0]'),\n",
       " Text(0.12358622818412152, 0.5487804878048781, 'X[2] <= 53538.0\\ngini = 0.5\\nsamples = 10\\nvalue = [5, 5]'),\n",
       " Text(0.12325698043805383, 0.524390243902439, 'gini = 0.0\\nsamples = 3\\nvalue = [0, 3]'),\n",
       " Text(0.12391547593018919, 0.524390243902439, 'X[2] <= 74982.5\\ngini = 0.408\\nsamples = 7\\nvalue = [5, 2]'),\n",
       " Text(0.12358622818412152, 0.5, 'gini = 0.0\\nsamples = 4\\nvalue = [4, 0]'),\n",
       " Text(0.12424472367625687, 0.5, 'X[12] <= 50.0\\ngini = 0.444\\nsamples = 3\\nvalue = [1, 2]'),\n",
       " Text(0.12391547593018919, 0.47560975609756095, 'gini = 0.0\\nsamples = 2\\nvalue = [0, 2]'),\n",
       " Text(0.12457397142232454, 0.47560975609756095, 'gini = 0.0\\nsamples = 1\\nvalue = [1, 0]'),\n",
       " Text(0.12292773269198616, 0.6219512195121951, 'gini = 0.0\\nsamples = 17\\nvalue = [17, 0]'),\n",
       " Text(0.12720795339086594, 0.6463414634146342, 'X[3] <= 10.5\\ngini = 0.488\\nsamples = 26\\nvalue = [15, 11]'),\n",
       " Text(0.12687870564479828, 0.6219512195121951, 'X[2] <= 65960.0\\ngini = 0.488\\nsamples = 19\\nvalue = [8, 11]'),\n",
       " Text(0.1265494578987306, 0.5975609756097561, 'X[6] <= 9.5\\ngini = 0.43\\nsamples = 16\\nvalue = [5, 11]'),\n",
       " Text(0.12589096240659525, 0.573170731707317, 'X[1] <= 3.5\\ngini = 0.298\\nsamples = 11\\nvalue = [2, 9]'),\n",
       " Text(0.12556171466052757, 0.5487804878048781, 'X[0] <= 34.5\\ngini = 0.18\\nsamples = 10\\nvalue = [1, 9]'),\n",
       " Text(0.12523246691445988, 0.524390243902439, 'X[12] <= 42.5\\ngini = 0.444\\nsamples = 3\\nvalue = [1, 2]'),\n",
       " Text(0.12490321916839221, 0.5, 'gini = 0.0\\nsamples = 2\\nvalue = [0, 2]'),\n",
       " Text(0.12556171466052757, 0.5, 'gini = 0.0\\nsamples = 1\\nvalue = [1, 0]'),\n",
       " Text(0.12589096240659525, 0.524390243902439, 'gini = 0.0\\nsamples = 7\\nvalue = [0, 7]'),\n",
       " Text(0.1262202101526629, 0.5487804878048781, 'gini = 0.0\\nsamples = 1\\nvalue = [1, 0]'),\n",
       " Text(0.12720795339086594, 0.573170731707317, 'X[6] <= 11.5\\ngini = 0.48\\nsamples = 5\\nvalue = [3, 2]'),\n",
       " Text(0.12687870564479828, 0.5487804878048781, 'gini = 0.0\\nsamples = 2\\nvalue = [2, 0]'),\n",
       " Text(0.12753720113693362, 0.5487804878048781, 'X[2] <= 45012.0\\ngini = 0.444\\nsamples = 3\\nvalue = [1, 2]'),\n",
       " Text(0.12720795339086594, 0.524390243902439, 'gini = 0.0\\nsamples = 1\\nvalue = [1, 0]'),\n",
       " Text(0.1278664488830013, 0.524390243902439, 'gini = 0.0\\nsamples = 2\\nvalue = [0, 2]'),\n",
       " Text(0.12720795339086594, 0.5975609756097561, 'gini = 0.0\\nsamples = 3\\nvalue = [3, 0]'),\n",
       " Text(0.12753720113693362, 0.6219512195121951, 'gini = 0.0\\nsamples = 7\\nvalue = [7, 0]'),\n",
       " Text(0.12951268761333967, 0.6951219512195121, 'X[2] <= 87328.5\\ngini = 0.487\\nsamples = 50\\nvalue = [21, 29]'),\n",
       " Text(0.12918343986727202, 0.6707317073170732, 'gini = 0.0\\nsamples = 10\\nvalue = [0, 10]'),\n",
       " Text(0.12984193535940736, 0.6707317073170732, 'X[6] <= 8.0\\ngini = 0.499\\nsamples = 40\\nvalue = [21, 19]'),\n",
       " Text(0.12852494437513665, 0.6463414634146342, 'X[0] <= 33.5\\ngini = 0.423\\nsamples = 23\\nvalue = [16, 7]'),\n",
       " Text(0.12819569662906896, 0.6219512195121951, 'gini = 0.0\\nsamples = 11\\nvalue = [11, 0]'),\n",
       " Text(0.12885419212120433, 0.6219512195121951, 'X[2] <= 99032.0\\ngini = 0.486\\nsamples = 12\\nvalue = [5, 7]'),\n",
       " Text(0.12852494437513665, 0.5975609756097561, 'gini = 0.0\\nsamples = 2\\nvalue = [2, 0]'),\n",
       " Text(0.12918343986727202, 0.5975609756097561, 'X[2] <= 106172.0\\ngini = 0.42\\nsamples = 10\\nvalue = [3, 7]'),\n",
       " Text(0.12885419212120433, 0.573170731707317, 'gini = 0.0\\nsamples = 4\\nvalue = [0, 4]'),\n",
       " Text(0.12951268761333967, 0.573170731707317, 'X[2] <= 108645.5\\ngini = 0.5\\nsamples = 6\\nvalue = [3, 3]'),\n",
       " Text(0.12918343986727202, 0.5487804878048781, 'gini = 0.0\\nsamples = 3\\nvalue = [3, 0]'),\n",
       " Text(0.12984193535940736, 0.5487804878048781, 'gini = 0.0\\nsamples = 3\\nvalue = [0, 3]'),\n",
       " Text(0.13115892634367807, 0.6463414634146342, 'X[3] <= 12.5\\ngini = 0.415\\nsamples = 17\\nvalue = [5, 12]'),\n",
       " Text(0.13082967859761038, 0.6219512195121951, 'X[1] <= 1.5\\ngini = 0.32\\nsamples = 15\\nvalue = [3, 12]'),\n",
       " Text(0.1305004308515427, 0.5975609756097561, 'gini = 0.0\\nsamples = 1\\nvalue = [1, 0]'),\n",
       " Text(0.13115892634367807, 0.5975609756097561, 'X[11] <= 742.5\\ngini = 0.245\\nsamples = 14\\nvalue = [2, 12]'),\n",
       " Text(0.13082967859761038, 0.573170731707317, 'X[0] <= 29.5\\ngini = 0.142\\nsamples = 13\\nvalue = [1, 12]'),\n",
       " Text(0.1305004308515427, 0.5487804878048781, 'gini = 0.0\\nsamples = 1\\nvalue = [1, 0]'),\n",
       " Text(0.13115892634367807, 0.5487804878048781, 'gini = 0.0\\nsamples = 12\\nvalue = [0, 12]'),\n",
       " Text(0.13148817408974572, 0.573170731707317, 'gini = 0.0\\nsamples = 1\\nvalue = [1, 0]'),\n",
       " Text(0.13148817408974572, 0.6219512195121951, 'gini = 0.0\\nsamples = 2\\nvalue = [2, 0]'),\n",
       " Text(0.124615127390583, 0.7439024390243902, 'gini = 0.0\\nsamples = 16\\nvalue = [16, 0]'),\n",
       " Text(0.14659562975062054, 0.7682926829268293, 'X[11] <= 1532.0\\ngini = 0.481\\nsamples = 684\\nvalue = [275, 409]'),\n",
       " Text(0.1462663820045529, 0.7439024390243902, 'X[12] <= 39.5\\ngini = 0.478\\nsamples = 676\\nvalue = [267, 409]'),\n",
       " Text(0.13432793589957945, 0.7195121951219512, 'X[2] <= 208316.5\\ngini = 0.444\\nsamples = 30\\nvalue = [20, 10]'),\n",
       " Text(0.13350481653441024, 0.6951219512195121, 'X[2] <= 156364.0\\ngini = 0.48\\nsamples = 15\\nvalue = [6, 9]'),\n",
       " Text(0.1328463210422749, 0.6707317073170732, 'X[0] <= 31.5\\ngini = 0.32\\nsamples = 5\\nvalue = [4, 1]'),\n",
       " Text(0.1325170732962072, 0.6463414634146342, 'gini = 0.0\\nsamples = 3\\nvalue = [3, 0]'),\n",
       " Text(0.13317556878834258, 0.6463414634146342, 'X[2] <= 141200.5\\ngini = 0.5\\nsamples = 2\\nvalue = [1, 1]'),\n",
       " Text(0.1328463210422749, 0.6219512195121951, 'gini = 0.0\\nsamples = 1\\nvalue = [0, 1]'),\n",
       " Text(0.13350481653441024, 0.6219512195121951, 'gini = 0.0\\nsamples = 1\\nvalue = [1, 0]'),\n",
       " Text(0.1341633120265456, 0.6707317073170732, 'X[6] <= 10.0\\ngini = 0.32\\nsamples = 10\\nvalue = [2, 8]'),\n",
       " Text(0.13383406428047792, 0.6463414634146342, 'gini = 0.0\\nsamples = 8\\nvalue = [0, 8]'),\n",
       " Text(0.13449255977261326, 0.6463414634146342, 'gini = 0.0\\nsamples = 2\\nvalue = [2, 0]'),\n",
       " Text(0.13515105526474863, 0.6951219512195121, 'X[2] <= 497094.0\\ngini = 0.124\\nsamples = 15\\nvalue = [14, 1]'),\n",
       " Text(0.13482180751868095, 0.6707317073170732, 'gini = 0.0\\nsamples = 13\\nvalue = [13, 0]'),\n",
       " Text(0.13548030301081632, 0.6707317073170732, 'X[2] <= 517010.0\\ngini = 0.5\\nsamples = 2\\nvalue = [1, 1]'),\n",
       " Text(0.13515105526474863, 0.6463414634146342, 'gini = 0.0\\nsamples = 1\\nvalue = [0, 1]'),\n",
       " Text(0.13580955075688397, 0.6463414634146342, 'gini = 0.0\\nsamples = 1\\nvalue = [1, 0]'),\n",
       " Text(0.15820482810952632, 0.7195121951219512, 'X[2] <= 336123.5\\ngini = 0.472\\nsamples = 646\\nvalue = [247, 399]'),\n",
       " Text(0.147222615204558, 0.6951219512195121, 'X[2] <= 319284.0\\ngini = 0.483\\nsamples = 526\\nvalue = [215, 311]'),\n",
       " Text(0.14689336745849035, 0.6707317073170732, 'X[0] <= 30.5\\ngini = 0.479\\nsamples = 517\\nvalue = [206, 311]'),\n",
       " Text(0.13646804624901934, 0.6463414634146342, 'X[2] <= 188476.5\\ngini = 0.499\\nsamples = 131\\nvalue = [69, 62]'),\n",
       " Text(0.13469833961390557, 0.6219512195121951, 'X[2] <= 158706.0\\ngini = 0.456\\nsamples = 54\\nvalue = [35, 19]'),\n",
       " Text(0.13362828443918562, 0.5975609756097561, 'X[6] <= 2.5\\ngini = 0.5\\nsamples = 34\\nvalue = [17, 17]'),\n",
       " Text(0.13247591732794875, 0.573170731707317, 'X[2] <= 140624.5\\ngini = 0.355\\nsamples = 13\\nvalue = [3, 10]'),\n",
       " Text(0.1318174218358134, 0.5487804878048781, 'X[2] <= 124858.5\\ngini = 0.444\\nsamples = 3\\nvalue = [2, 1]'),\n",
       " Text(0.13148817408974572, 0.524390243902439, 'gini = 0.0\\nsamples = 1\\nvalue = [0, 1]'),\n",
       " Text(0.1321466695818811, 0.524390243902439, 'gini = 0.0\\nsamples = 2\\nvalue = [2, 0]'),\n",
       " Text(0.13313441282008412, 0.5487804878048781, 'X[0] <= 28.5\\ngini = 0.18\\nsamples = 10\\nvalue = [1, 9]'),\n",
       " Text(0.13280516507401643, 0.524390243902439, 'X[12] <= 50.0\\ngini = 0.375\\nsamples = 4\\nvalue = [1, 3]'),\n",
       " Text(0.13247591732794875, 0.5, 'gini = 0.0\\nsamples = 1\\nvalue = [1, 0]'),\n",
       " Text(0.13313441282008412, 0.5, 'gini = 0.0\\nsamples = 3\\nvalue = [0, 3]'),\n",
       " Text(0.13346366056615178, 0.524390243902439, 'gini = 0.0\\nsamples = 6\\nvalue = [0, 6]'),\n",
       " Text(0.1347806515504225, 0.573170731707317, 'X[12] <= 42.5\\ngini = 0.444\\nsamples = 21\\nvalue = [14, 7]'),\n",
       " Text(0.1344514038043548, 0.5487804878048781, 'X[2] <= 122373.0\\ngini = 0.498\\nsamples = 15\\nvalue = [8, 7]'),\n",
       " Text(0.13412215605828715, 0.524390243902439, 'gini = 0.0\\nsamples = 2\\nvalue = [2, 0]'),\n",
       " Text(0.1347806515504225, 0.524390243902439, 'X[2] <= 136774.5\\ngini = 0.497\\nsamples = 13\\nvalue = [6, 7]'),\n",
       " Text(0.13412215605828715, 0.5, 'X[2] <= 131887.0\\ngini = 0.32\\nsamples = 5\\nvalue = [1, 4]'),\n",
       " Text(0.13379290831221946, 0.47560975609756095, 'X[12] <= 41.0\\ngini = 0.5\\nsamples = 2\\nvalue = [1, 1]'),\n",
       " Text(0.13346366056615178, 0.45121951219512196, 'gini = 0.0\\nsamples = 1\\nvalue = [1, 0]'),\n",
       " Text(0.13412215605828715, 0.45121951219512196, 'gini = 0.0\\nsamples = 1\\nvalue = [0, 1]'),\n",
       " Text(0.1344514038043548, 0.47560975609756095, 'gini = 0.0\\nsamples = 3\\nvalue = [0, 3]'),\n",
       " Text(0.13543914704255786, 0.5, 'X[2] <= 150780.0\\ngini = 0.469\\nsamples = 8\\nvalue = [5, 3]'),\n",
       " Text(0.13510989929649017, 0.47560975609756095, 'gini = 0.0\\nsamples = 4\\nvalue = [4, 0]'),\n",
       " Text(0.1357683947886255, 0.47560975609756095, 'X[8] <= 2.5\\ngini = 0.375\\nsamples = 4\\nvalue = [1, 3]'),\n",
       " Text(0.13543914704255786, 0.45121951219512196, 'gini = 0.0\\nsamples = 1\\nvalue = [1, 0]'),\n",
       " Text(0.1360976425346932, 0.45121951219512196, 'gini = 0.0\\nsamples = 3\\nvalue = [0, 3]'),\n",
       " Text(0.13510989929649017, 0.5487804878048781, 'gini = 0.0\\nsamples = 6\\nvalue = [6, 0]'),\n",
       " Text(0.1357683947886255, 0.5975609756097561, 'X[6] <= 11.5\\ngini = 0.18\\nsamples = 20\\nvalue = [18, 2]'),\n",
       " Text(0.13543914704255786, 0.573170731707317, 'gini = 0.0\\nsamples = 16\\nvalue = [16, 0]'),\n",
       " Text(0.1360976425346932, 0.573170731707317, 'X[6] <= 12.5\\ngini = 0.5\\nsamples = 4\\nvalue = [2, 2]'),\n",
       " Text(0.1357683947886255, 0.5487804878048781, 'gini = 0.0\\nsamples = 2\\nvalue = [0, 2]'),\n",
       " ...]"
      ]
     },
     "execution_count": 139,
     "metadata": {},
     "output_type": "execute_result"
    },
    {
     "data": {
      "image/png": "[encoded data removed]",
      "text/plain": [
       "<Figure size 432x288 with 1 Axes>"
      ]
     },
     "metadata": {},
     "output_type": "display_data"
    }
   ],
   "source": [
    "# tree plot\n",
    "tree.plot_tree(dtmodel)"
   ]
  },
  {
   "cell_type": "code",
   "execution_count": 140,
   "id": "0cc6570f",
   "metadata": {},
   "outputs": [],
   "source": [
    "y_predict = dtmodel.predict(X_test)"
   ]
  },
  {
   "cell_type": "code",
   "execution_count": 141,
   "id": "1ce2f601",
   "metadata": {},
   "outputs": [
    {
     "data": {
      "text/plain": [
       "array([[3907,  619],\n",
       "       [ 171, 4365]], dtype=int64)"
      ]
     },
     "execution_count": 141,
     "metadata": {},
     "output_type": "execute_result"
    }
   ],
   "source": [
    "# classification matrix\n",
    "confusion_matrix(y_test, y_predict)"
   ]
  },
  {
   "cell_type": "code",
   "execution_count": 142,
   "id": "379ff017",
   "metadata": {},
   "outputs": [
    {
     "name": "stdout",
     "output_type": "stream",
     "text": [
      "              precision    recall  f1-score   support\n",
      "\n",
      "           0       0.96      0.86      0.91      4526\n",
      "           1       0.88      0.96      0.92      4536\n",
      "\n",
      "    accuracy                           0.91      9062\n",
      "   macro avg       0.92      0.91      0.91      9062\n",
      "weighted avg       0.92      0.91      0.91      9062\n",
      "\n"
     ]
    }
   ],
   "source": [
    "print(classification_report(y_test, y_predict))"
   ]
  },
  {
   "cell_type": "code",
   "execution_count": 143,
   "id": "7a09693f",
   "metadata": {},
   "outputs": [
    {
     "name": "stdout",
     "output_type": "stream",
     "text": [
      "0.9127681157895475\n"
     ]
    }
   ],
   "source": [
    "y_pred_prob = dtmodel.predict_proba(X_test)\n",
    "fpr, tpr, thresholds =roc_curve(y_test, y_pred_prob[:,1])\n",
    "roc_auc = auc(fpr, tpr) \n",
    "print(roc_auc) "
   ]
  },
  {
   "cell_type": "code",
   "execution_count": 144,
   "id": "22a5b930",
   "metadata": {},
   "outputs": [
    {
     "data": {
      "image/png": "[encoded data removed]",
      "text/plain": [
       "<Figure size 432x288 with 1 Axes>"
      ]
     },
     "metadata": {},
     "output_type": "display_data"
    }
   ],
   "source": [
    "#ROC Curve\n",
    "plt.title('ROC Curve for Decision Tree')\n",
    "plt.xlabel('False Positive Rate (1-Specificity)')\n",
    "plt.ylabel('True Positive Rate (Sensitivity)')\n",
    "plt.plot([0, 1], [0, 1],'r--')\n",
    "plt.xlim([0, 1])\n",
    "plt.ylim([0, 1])\n",
    "plt.plot(fpr, tpr, label = 'AUC =' +str(roc_auc))\n",
    "plt.legend(loc=4) #Location of label\n",
    "plt.show()"
   ]
  },
  {
   "cell_type": "code",
   "execution_count": 145,
   "id": "ba96e504",
   "metadata": {},
   "outputs": [],
   "source": [
    "#oaa\n",
    "from sklearn.metrics import accuracy_score"
   ]
  },
  {
   "cell_type": "code",
   "execution_count": 146,
   "id": "912cac8a",
   "metadata": {},
   "outputs": [],
   "source": [
    "y_train_pred=dt.predict(X_train)\n",
    "y_test_pred=dt.predict(X_test)"
   ]
  },
  {
   "cell_type": "code",
   "execution_count": 147,
   "id": "0af1f0ef",
   "metadata": {},
   "outputs": [
    {
     "name": "stdout",
     "output_type": "stream",
     "text": [
      "1.0\n",
      "0.91\n"
     ]
    }
   ],
   "source": [
    "print(round(accuracy_score(y_train,y_train_pred),2))\n",
    "print(round(accuracy_score(y_test,y_test_pred),2))"
   ]
  },
  {
   "cell_type": "code",
   "execution_count": 148,
   "id": "a0a39d2d",
   "metadata": {},
   "outputs": [],
   "source": [
    "#find optinum no of depth\n",
    "depth=[1,2,3,4,5,6,7,8,9]\n",
    "accuracy_train,accuracy_test=[],[]\n",
    "for i in depth:\n",
    "        tree=DecisionTreeClassifier(max_depth=i)\n",
    "        dt.fit(X_train,y_train)\n",
    "        y_train_pred1=dt.predict(X_train)\n",
    "        y_test_pred1=dt.predict(X_test)\n",
    "        \n",
    "        accuracy_train.append(accuracy_score(y_train,y_train_pred1))\n",
    "        accuracy_test.append(accuracy_score(y_test,y_test_pred1))"
   ]
  },
  {
   "cell_type": "code",
   "execution_count": 149,
   "id": "2b2dd79d",
   "metadata": {},
   "outputs": [
    {
     "data": {
      "image/png": "[encoded data removed]",
      "text/plain": [
       "<Figure size 1008x504 with 1 Axes>"
      ]
     },
     "metadata": {},
     "output_type": "display_data"
    }
   ],
   "source": [
    "#plot\n",
    "plt.figure(figsize=(14,7))\n",
    "sns.lineplot(y=accuracy_train,x=depth,label='TrainAccuracy')\n",
    "sns.lineplot(y=accuracy_test,x=depth,label='TestAccuracy')\n",
    "plt.title('Max Depth:Classification')\n",
    "plt.show()"
   ]
  },
  {
   "cell_type": "code",
   "execution_count": 150,
   "id": "ac608ed1",
   "metadata": {},
   "outputs": [],
   "source": [
    "#Building a tree with depth 4\n",
    "tree2=DecisionTreeClassifier(random_state=40,max_depth=4)\n",
    "tree2.fit(X_train,y_train)\n",
    "y_train_pred2=tree2.predict(X_train)\n",
    "y_test_pred2=tree2.predict(X_test)\n"
   ]
  },
  {
   "cell_type": "code",
   "execution_count": 151,
   "id": "dd43f12f",
   "metadata": {},
   "outputs": [
    {
     "name": "stdout",
     "output_type": "stream",
     "text": [
      "0.8\n",
      "0.8\n"
     ]
    }
   ],
   "source": [
    "print(round(accuracy_score(y_train,y_train_pred2),2))\n",
    "print(round(accuracy_score(y_test,y_test_pred2),2))"
   ]
  },
  {
   "cell_type": "code",
   "execution_count": null,
   "id": "e7cd7ccf",
   "metadata": {},
   "outputs": [],
   "source": []
  }
 ],
 "metadata": {
  "kernelspec": {
   "display_name": "Python 3 (ipykernel)",
   "language": "python",
   "name": "python3"
  },
  "language_info": {
   "codemirror_mode": {
    "name": "ipython",
    "version": 3
   },
   "file_extension": ".py",
   "mimetype": "text/x-python",
   "name": "python",
   "nbconvert_exporter": "python",
   "pygments_lexer": "ipython3",
   "version": "3.9.12"
  }
 },
 "nbformat": 4,
 "nbformat_minor": 5
}
