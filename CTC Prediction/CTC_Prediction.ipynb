{
 "cells": [
  {
   "cell_type": "code",
   "execution_count": 1,
   "id": "77fd368a",
   "metadata": {},
   "outputs": [],
   "source": [
    "import os\n",
    "os.chdir('C:\\\\Users\\\\telug\\\\OneDrive\\\\Desktop\\\\WD_python')\n",
    "import pandas as pd  \n",
    "import numpy as np\n",
    "import matplotlib.pyplot as plt\n",
    "import seaborn as sns\n",
    "import scipy as stats\n",
    "import statsmodels.api as sm\n",
    "from statsmodels.formula.api import ols\n",
    "from statsmodels.stats.multicomp import pairwise_tukeyhsd\n",
    "import pandas as pd"
   ]
  },
  {
   "cell_type": "code",
   "execution_count": 2,
   "id": "b654bb81",
   "metadata": {},
   "outputs": [],
   "source": [
    "#read_file = pd.read_excel (\"Data_File.xlsx\")"
   ]
  },
  {
   "cell_type": "code",
   "execution_count": 3,
   "id": "53a7beed",
   "metadata": {},
   "outputs": [],
   "source": [
    "#read_file.to_csv (\"Data_files3.csv\",index = None,header=None)\n"
   ]
  },
  {
   "cell_type": "code",
   "execution_count": 4,
   "id": "5e38e2e2",
   "metadata": {},
   "outputs": [],
   "source": [
    "df=pd.read_csv('Data_files3.csv')"
   ]
  },
  {
   "cell_type": "code",
   "execution_count": 5,
   "id": "2a14c526",
   "metadata": {},
   "outputs": [
    {
     "data": {
      "text/html": [
       "<div>\n",
       "<style scoped>\n",
       "    .dataframe tbody tr th:only-of-type {\n",
       "        vertical-align: middle;\n",
       "    }\n",
       "\n",
       "    .dataframe tbody tr th {\n",
       "        vertical-align: top;\n",
       "    }\n",
       "\n",
       "    .dataframe thead th {\n",
       "        text-align: right;\n",
       "    }\n",
       "</style>\n",
       "<table border=\"1\" class=\"dataframe\">\n",
       "  <thead>\n",
       "    <tr style=\"text-align: right;\">\n",
       "      <th></th>\n",
       "      <th>S.No.</th>\n",
       "      <th>College</th>\n",
       "      <th>Role</th>\n",
       "      <th>City type</th>\n",
       "      <th>Previous CTC</th>\n",
       "      <th>Previous job changes</th>\n",
       "      <th>Graduation marks</th>\n",
       "      <th>Exp (Months)</th>\n",
       "      <th>CTC</th>\n",
       "    </tr>\n",
       "  </thead>\n",
       "  <tbody>\n",
       "    <tr>\n",
       "      <th>0</th>\n",
       "      <td>1</td>\n",
       "      <td>Tier 1</td>\n",
       "      <td>Manager</td>\n",
       "      <td>Non-Metro</td>\n",
       "      <td>55523</td>\n",
       "      <td>3</td>\n",
       "      <td>66</td>\n",
       "      <td>19</td>\n",
       "      <td>71406.57653</td>\n",
       "    </tr>\n",
       "    <tr>\n",
       "      <th>1</th>\n",
       "      <td>2</td>\n",
       "      <td>Tier 2</td>\n",
       "      <td>Executive</td>\n",
       "      <td>Metro</td>\n",
       "      <td>57081</td>\n",
       "      <td>1</td>\n",
       "      <td>84</td>\n",
       "      <td>18</td>\n",
       "      <td>68005.87063</td>\n",
       "    </tr>\n",
       "    <tr>\n",
       "      <th>2</th>\n",
       "      <td>3</td>\n",
       "      <td>Tier 2</td>\n",
       "      <td>Executive</td>\n",
       "      <td>Metro</td>\n",
       "      <td>60347</td>\n",
       "      <td>2</td>\n",
       "      <td>52</td>\n",
       "      <td>28</td>\n",
       "      <td>76764.02028</td>\n",
       "    </tr>\n",
       "    <tr>\n",
       "      <th>3</th>\n",
       "      <td>4</td>\n",
       "      <td>Tier 3</td>\n",
       "      <td>Executive</td>\n",
       "      <td>Metro</td>\n",
       "      <td>49010</td>\n",
       "      <td>2</td>\n",
       "      <td>81</td>\n",
       "      <td>33</td>\n",
       "      <td>82092.38688</td>\n",
       "    </tr>\n",
       "    <tr>\n",
       "      <th>4</th>\n",
       "      <td>5</td>\n",
       "      <td>Tier 3</td>\n",
       "      <td>Executive</td>\n",
       "      <td>Metro</td>\n",
       "      <td>57879</td>\n",
       "      <td>4</td>\n",
       "      <td>74</td>\n",
       "      <td>32</td>\n",
       "      <td>73878.09773</td>\n",
       "    </tr>\n",
       "    <tr>\n",
       "      <th>...</th>\n",
       "      <td>...</td>\n",
       "      <td>...</td>\n",
       "      <td>...</td>\n",
       "      <td>...</td>\n",
       "      <td>...</td>\n",
       "      <td>...</td>\n",
       "      <td>...</td>\n",
       "      <td>...</td>\n",
       "      <td>...</td>\n",
       "    </tr>\n",
       "    <tr>\n",
       "      <th>1333</th>\n",
       "      <td>1334</td>\n",
       "      <td>Tier 3</td>\n",
       "      <td>Executive</td>\n",
       "      <td>Metro</td>\n",
       "      <td>59661</td>\n",
       "      <td>4</td>\n",
       "      <td>68</td>\n",
       "      <td>50</td>\n",
       "      <td>69712.40366</td>\n",
       "    </tr>\n",
       "    <tr>\n",
       "      <th>1334</th>\n",
       "      <td>1335</td>\n",
       "      <td>Tier 1</td>\n",
       "      <td>Executive</td>\n",
       "      <td>Non-Metro</td>\n",
       "      <td>53714</td>\n",
       "      <td>1</td>\n",
       "      <td>67</td>\n",
       "      <td>18</td>\n",
       "      <td>69298.75010</td>\n",
       "    </tr>\n",
       "    <tr>\n",
       "      <th>1335</th>\n",
       "      <td>1336</td>\n",
       "      <td>Tier 2</td>\n",
       "      <td>Executive</td>\n",
       "      <td>Non-Metro</td>\n",
       "      <td>61957</td>\n",
       "      <td>1</td>\n",
       "      <td>47</td>\n",
       "      <td>18</td>\n",
       "      <td>66397.77069</td>\n",
       "    </tr>\n",
       "    <tr>\n",
       "      <th>1336</th>\n",
       "      <td>1337</td>\n",
       "      <td>Tier 1</td>\n",
       "      <td>Executive</td>\n",
       "      <td>Non-Metro</td>\n",
       "      <td>53203</td>\n",
       "      <td>3</td>\n",
       "      <td>69</td>\n",
       "      <td>21</td>\n",
       "      <td>64044.38295</td>\n",
       "    </tr>\n",
       "    <tr>\n",
       "      <th>1337</th>\n",
       "      <td>1338</td>\n",
       "      <td>Tier 3</td>\n",
       "      <td>Manager</td>\n",
       "      <td>Non-Metro</td>\n",
       "      <td>51820</td>\n",
       "      <td>1</td>\n",
       "      <td>47</td>\n",
       "      <td>61</td>\n",
       "      <td>83346.06096</td>\n",
       "    </tr>\n",
       "  </tbody>\n",
       "</table>\n",
       "<p>1338 rows × 9 columns</p>\n",
       "</div>"
      ],
      "text/plain": [
       "      S.No. College       Role  City type  Previous CTC  Previous job changes  \\\n",
       "0         1  Tier 1    Manager  Non-Metro         55523                     3   \n",
       "1         2  Tier 2  Executive      Metro         57081                     1   \n",
       "2         3  Tier 2  Executive      Metro         60347                     2   \n",
       "3         4  Tier 3  Executive      Metro         49010                     2   \n",
       "4         5  Tier 3  Executive      Metro         57879                     4   \n",
       "...     ...     ...        ...        ...           ...                   ...   \n",
       "1333   1334  Tier 3  Executive      Metro         59661                     4   \n",
       "1334   1335  Tier 1  Executive  Non-Metro         53714                     1   \n",
       "1335   1336  Tier 2  Executive  Non-Metro         61957                     1   \n",
       "1336   1337  Tier 1  Executive  Non-Metro         53203                     3   \n",
       "1337   1338  Tier 3    Manager  Non-Metro         51820                     1   \n",
       "\n",
       "      Graduation marks  Exp (Months)          CTC  \n",
       "0                   66            19  71406.57653  \n",
       "1                   84            18  68005.87063  \n",
       "2                   52            28  76764.02028  \n",
       "3                   81            33  82092.38688  \n",
       "4                   74            32  73878.09773  \n",
       "...                ...           ...          ...  \n",
       "1333                68            50  69712.40366  \n",
       "1334                67            18  69298.75010  \n",
       "1335                47            18  66397.77069  \n",
       "1336                69            21  64044.38295  \n",
       "1337                47            61  83346.06096  \n",
       "\n",
       "[1338 rows x 9 columns]"
      ]
     },
     "execution_count": 5,
     "metadata": {},
     "output_type": "execute_result"
    }
   ],
   "source": [
    "df"
   ]
  },
  {
   "cell_type": "code",
   "execution_count": 6,
   "id": "de042119",
   "metadata": {},
   "outputs": [
    {
     "name": "stdout",
     "output_type": "stream",
     "text": [
      "<class 'pandas.core.frame.DataFrame'>\n",
      "RangeIndex: 1338 entries, 0 to 1337\n",
      "Data columns (total 9 columns):\n",
      " #   Column                Non-Null Count  Dtype  \n",
      "---  ------                --------------  -----  \n",
      " 0   S.No.                 1338 non-null   int64  \n",
      " 1   College               1338 non-null   object \n",
      " 2   Role                  1338 non-null   object \n",
      " 3   City type             1338 non-null   object \n",
      " 4   Previous CTC          1338 non-null   int64  \n",
      " 5   Previous job changes  1338 non-null   int64  \n",
      " 6   Graduation marks      1338 non-null   int64  \n",
      " 7   Exp (Months)          1338 non-null   int64  \n",
      " 8   CTC                   1338 non-null   float64\n",
      "dtypes: float64(1), int64(5), object(3)\n",
      "memory usage: 94.2+ KB\n"
     ]
    }
   ],
   "source": [
    "df.info()"
   ]
  },
  {
   "cell_type": "code",
   "execution_count": 7,
   "id": "883a6b99",
   "metadata": {},
   "outputs": [],
   "source": [
    "df.drop(['S.No.'],axis=1,inplace=True)"
   ]
  },
  {
   "cell_type": "code",
   "execution_count": 8,
   "id": "d2b4a371",
   "metadata": {},
   "outputs": [
    {
     "name": "stdout",
     "output_type": "stream",
     "text": [
      "<class 'pandas.core.frame.DataFrame'>\n",
      "RangeIndex: 1338 entries, 0 to 1337\n",
      "Data columns (total 8 columns):\n",
      " #   Column                Non-Null Count  Dtype  \n",
      "---  ------                --------------  -----  \n",
      " 0   College               1338 non-null   object \n",
      " 1   Role                  1338 non-null   object \n",
      " 2   City type             1338 non-null   object \n",
      " 3   Previous CTC          1338 non-null   int64  \n",
      " 4   Previous job changes  1338 non-null   int64  \n",
      " 5   Graduation marks      1338 non-null   int64  \n",
      " 6   Exp (Months)          1338 non-null   int64  \n",
      " 7   CTC                   1338 non-null   float64\n",
      "dtypes: float64(1), int64(4), object(3)\n",
      "memory usage: 83.8+ KB\n"
     ]
    }
   ],
   "source": [
    "df.info()"
   ]
  },
  {
   "cell_type": "code",
   "execution_count": 9,
   "id": "d7e39858",
   "metadata": {},
   "outputs": [
    {
     "data": {
      "text/plain": [
       "College                 0\n",
       "Role                    0\n",
       "City type               0\n",
       "Previous CTC            0\n",
       "Previous job changes    0\n",
       "Graduation marks        0\n",
       "Exp (Months)            0\n",
       "CTC                     0\n",
       "dtype: int64"
      ]
     },
     "execution_count": 9,
     "metadata": {},
     "output_type": "execute_result"
    }
   ],
   "source": [
    "df.isnull().sum()"
   ]
  },
  {
   "cell_type": "code",
   "execution_count": 10,
   "id": "6b3c2723",
   "metadata": {},
   "outputs": [],
   "source": [
    "#CTC(Target Variable)"
   ]
  },
  {
   "cell_type": "code",
   "execution_count": 11,
   "id": "8f0f35cf",
   "metadata": {},
   "outputs": [
    {
     "name": "stderr",
     "output_type": "stream",
     "text": [
      "C:\\Users\\telug\\anaconda3\\lib\\site-packages\\seaborn\\distributions.py:2619: FutureWarning: `distplot` is a deprecated function and will be removed in a future version. Please adapt your code to use either `displot` (a figure-level function with similar flexibility) or `histplot` (an axes-level function for histograms).\n",
      "  warnings.warn(msg, FutureWarning)\n"
     ]
    },
    {
     "data": {
      "text/plain": [
       "Text(0.5, 1.0, 'Histogram of CTC')"
      ]
     },
     "execution_count": 11,
     "metadata": {},
     "output_type": "execute_result"
    },
    {
     "data": {
      "image/png": "[encoded data removed]",
      "text/plain": [
       "<Figure size 432x432 with 1 Axes>"
      ]
     },
     "metadata": {},
     "output_type": "display_data"
    }
   ],
   "source": [
    "sns.set()\n",
    "plt.figure(figsize=(6,6))\n",
    "sns.distplot(df['CTC'])\n",
    "plt.show\n",
    "plt.xlabel('CTC')\n",
    "plt.ylabel('counts')\n",
    "plt.title('Histogram of CTC') "
   ]
  },
  {
   "cell_type": "code",
   "execution_count": 12,
   "id": "e17ebfbb",
   "metadata": {},
   "outputs": [
    {
     "data": {
      "text/plain": [
       "<AxesSubplot:>"
      ]
     },
     "execution_count": 12,
     "metadata": {},
     "output_type": "execute_result"
    },
    {
     "data": {
      "image/png": "[encoded data removed]",
      "text/plain": [
       "<Figure size 432x288 with 1 Axes>"
      ]
     },
     "metadata": {},
     "output_type": "display_data"
    }
   ],
   "source": [
    "CTC=df['CTC']\n",
    "props2= dict(boxes='blue',whiskers='black',medians='red',caps='black')\n",
    "CTC.plot.box(color=props2,patch_artist=True,vert=True)"
   ]
  },
  {
   "cell_type": "code",
   "execution_count": 13,
   "id": "c5f1d928",
   "metadata": {},
   "outputs": [],
   "source": [
    "#College(Categorical)"
   ]
  },
  {
   "cell_type": "code",
   "execution_count": 14,
   "id": "408572fe",
   "metadata": {},
   "outputs": [
    {
     "data": {
      "text/plain": [
       "Tier 1    649\n",
       "Tier 2    364\n",
       "Tier 3    325\n",
       "Name: College, dtype: int64"
      ]
     },
     "execution_count": 14,
     "metadata": {},
     "output_type": "execute_result"
    }
   ],
   "source": [
    "df.College.value_counts()"
   ]
  },
  {
   "cell_type": "code",
   "execution_count": 15,
   "id": "84afc47c",
   "metadata": {},
   "outputs": [
    {
     "name": "stderr",
     "output_type": "stream",
     "text": [
      "C:\\Users\\telug\\anaconda3\\lib\\site-packages\\seaborn\\_decorators.py:36: FutureWarning: Pass the following variable as a keyword arg: x. From version 0.12, the only valid positional argument will be `data`, and passing other arguments without an explicit keyword will result in an error or misinterpretation.\n",
      "  warnings.warn(\n"
     ]
    },
    {
     "data": {
      "text/plain": [
       "Text(0.5, 1.0, 'Histogram of College')"
      ]
     },
     "execution_count": 15,
     "metadata": {},
     "output_type": "execute_result"
    },
    {
     "data": {
      "image/png": "[encoded data removed]",
      "text/plain": [
       "<Figure size 432x432 with 1 Axes>"
      ]
     },
     "metadata": {},
     "output_type": "display_data"
    }
   ],
   "source": [
    "sns.set()\n",
    "plt.figure(figsize=(6,6))\n",
    "sns.countplot(df['College'])\n",
    "plt.show\n",
    "plt.xlabel('College')\n",
    "plt.ylabel('counts')\n",
    "plt.title('Histogram of College')"
   ]
  },
  {
   "cell_type": "code",
   "execution_count": 16,
   "id": "19441761",
   "metadata": {},
   "outputs": [
    {
     "name": "stdout",
     "output_type": "stream",
     "text": [
      "                sum_sq      df         F  PR(>F)\n",
      "College   6.779293e+09     2.0  22.19916     0.0\n",
      "Residual  2.038445e+11  1335.0       NaN     NaN\n"
     ]
    }
   ],
   "source": [
    "from statsmodels.formula.api import ols\n",
    "import statsmodels.api as sm\n",
    "annova=ols('CTC ~ College',data=df).fit()\n",
    "an=sm.stats.anova_lm(annova,typ=2)\n",
    "print(an.round(decimals=5))#Good Predictor"
   ]
  },
  {
   "cell_type": "code",
   "execution_count": 17,
   "id": "6ffd68f6",
   "metadata": {},
   "outputs": [],
   "source": [
    "#Role(categorical)"
   ]
  },
  {
   "cell_type": "code",
   "execution_count": 18,
   "id": "f586a265",
   "metadata": {},
   "outputs": [
    {
     "data": {
      "text/plain": [
       "Executive    1064\n",
       "Manager       274\n",
       "Name: Role, dtype: int64"
      ]
     },
     "execution_count": 18,
     "metadata": {},
     "output_type": "execute_result"
    }
   ],
   "source": [
    "df.Role.value_counts()"
   ]
  },
  {
   "cell_type": "code",
   "execution_count": 19,
   "id": "0a0664c5",
   "metadata": {},
   "outputs": [
    {
     "name": "stderr",
     "output_type": "stream",
     "text": [
      "C:\\Users\\telug\\anaconda3\\lib\\site-packages\\seaborn\\_decorators.py:36: FutureWarning: Pass the following variable as a keyword arg: x. From version 0.12, the only valid positional argument will be `data`, and passing other arguments without an explicit keyword will result in an error or misinterpretation.\n",
      "  warnings.warn(\n"
     ]
    },
    {
     "data": {
      "text/plain": [
       "Text(0.5, 1.0, 'Histogram of Role')"
      ]
     },
     "execution_count": 19,
     "metadata": {},
     "output_type": "execute_result"
    },
    {
     "data": {
      "image/png": "[encoded data removed]",
      "text/plain": [
       "<Figure size 432x432 with 1 Axes>"
      ]
     },
     "metadata": {},
     "output_type": "display_data"
    }
   ],
   "source": [
    "sns.set()\n",
    "plt.figure(figsize=(6,6))\n",
    "sns.countplot(df['Role'])\n",
    "plt.show\n",
    "plt.xlabel('Role')\n",
    "plt.ylabel('counts')\n",
    "plt.title('Histogram of Role')"
   ]
  },
  {
   "cell_type": "code",
   "execution_count": 20,
   "id": "49d9002c",
   "metadata": {},
   "outputs": [
    {
     "name": "stdout",
     "output_type": "stream",
     "text": [
      "                sum_sq      df        F  PR(>F)\n",
      "Role      8.238949e+10     1.0  858.369     0.0\n",
      "Residual  1.282343e+11  1336.0      NaN     NaN\n"
     ]
    }
   ],
   "source": [
    "annova=ols('CTC ~ Role',data=df).fit()\n",
    "an=sm.stats.anova_lm(annova,typ=2)\n",
    "print(an.round(decimals=5))#Good Predictor"
   ]
  },
  {
   "cell_type": "code",
   "execution_count": 21,
   "id": "e9abfe94",
   "metadata": {},
   "outputs": [],
   "source": [
    "#City type\n"
   ]
  },
  {
   "cell_type": "code",
   "execution_count": 22,
   "id": "4deaf21c",
   "metadata": {},
   "outputs": [],
   "source": [
    "df=df.rename({'City type':'City_type'},axis=1)"
   ]
  },
  {
   "cell_type": "code",
   "execution_count": 23,
   "id": "81357e4b",
   "metadata": {},
   "outputs": [
    {
     "data": {
      "text/plain": [
       "Metro        676\n",
       "Non-Metro    662\n",
       "Name: City_type, dtype: int64"
      ]
     },
     "execution_count": 23,
     "metadata": {},
     "output_type": "execute_result"
    }
   ],
   "source": [
    "df.City_type.value_counts()"
   ]
  },
  {
   "cell_type": "code",
   "execution_count": 24,
   "id": "f16d346f",
   "metadata": {},
   "outputs": [
    {
     "name": "stderr",
     "output_type": "stream",
     "text": [
      "C:\\Users\\telug\\anaconda3\\lib\\site-packages\\seaborn\\_decorators.py:36: FutureWarning: Pass the following variable as a keyword arg: x. From version 0.12, the only valid positional argument will be `data`, and passing other arguments without an explicit keyword will result in an error or misinterpretation.\n",
      "  warnings.warn(\n"
     ]
    },
    {
     "data": {
      "text/plain": [
       "Text(0.5, 1.0, 'Histogram of City_type')"
      ]
     },
     "execution_count": 24,
     "metadata": {},
     "output_type": "execute_result"
    },
    {
     "data": {
      "image/png": "[encoded data removed]",
      "text/plain": [
       "<Figure size 432x432 with 1 Axes>"
      ]
     },
     "metadata": {},
     "output_type": "display_data"
    }
   ],
   "source": [
    "sns.set()\n",
    "plt.figure(figsize=(6,6))\n",
    "sns.countplot(df['City_type'])\n",
    "plt.show\n",
    "plt.xlabel('City_type')\n",
    "plt.ylabel('counts')\n",
    "plt.title('Histogram of City_type')"
   ]
  },
  {
   "cell_type": "code",
   "execution_count": 25,
   "id": "99fb3929",
   "metadata": {},
   "outputs": [
    {
     "name": "stdout",
     "output_type": "stream",
     "text": [
      "                 sum_sq      df         F  PR(>F)\n",
      "City_type  9.400103e+09     1.0  62.41083     0.0\n",
      "Residual   2.012237e+11  1336.0       NaN     NaN\n"
     ]
    }
   ],
   "source": [
    "annova=ols('CTC ~ City_type',data=df).fit()\n",
    "an=sm.stats.anova_lm(annova,typ=2)\n",
    "print(an.round(decimals=5))#Good Predictor"
   ]
  },
  {
   "cell_type": "code",
   "execution_count": 26,
   "id": "cde9a923",
   "metadata": {},
   "outputs": [],
   "source": [
    "#Previous CTC(conti.)\n"
   ]
  },
  {
   "cell_type": "code",
   "execution_count": 27,
   "id": "4fc76cdd",
   "metadata": {},
   "outputs": [],
   "source": [
    "df=df.rename({'Previous CTC':'Previous_CTC'},axis=1)"
   ]
  },
  {
   "cell_type": "code",
   "execution_count": 28,
   "id": "d8984660",
   "metadata": {},
   "outputs": [
    {
     "name": "stderr",
     "output_type": "stream",
     "text": [
      "C:\\Users\\telug\\anaconda3\\lib\\site-packages\\seaborn\\distributions.py:2619: FutureWarning: `distplot` is a deprecated function and will be removed in a future version. Please adapt your code to use either `displot` (a figure-level function with similar flexibility) or `histplot` (an axes-level function for histograms).\n",
      "  warnings.warn(msg, FutureWarning)\n"
     ]
    },
    {
     "data": {
      "text/plain": [
       "Text(0.5, 1.0, 'Histogram of Previous_CTC')"
      ]
     },
     "execution_count": 28,
     "metadata": {},
     "output_type": "execute_result"
    },
    {
     "data": {
      "image/png": "[encoded data removed]",
      "text/plain": [
       "<Figure size 432x432 with 1 Axes>"
      ]
     },
     "metadata": {},
     "output_type": "display_data"
    }
   ],
   "source": [
    "sns.set()\n",
    "plt.figure(figsize=(6,6))\n",
    "sns.distplot(df['Previous_CTC'])\n",
    "plt.show\n",
    "plt.xlabel('Previous CTC')\n",
    "plt.ylabel('counts')\n",
    "plt.title('Histogram of Previous_CTC')"
   ]
  },
  {
   "cell_type": "code",
   "execution_count": 29,
   "id": "5910b3da",
   "metadata": {},
   "outputs": [
    {
     "data": {
      "text/plain": [
       "<AxesSubplot:>"
      ]
     },
     "execution_count": 29,
     "metadata": {},
     "output_type": "execute_result"
    },
    {
     "data": {
      "image/png": "[encoded data removed]",
      "text/plain": [
       "<Figure size 432x288 with 1 Axes>"
      ]
     },
     "metadata": {},
     "output_type": "display_data"
    }
   ],
   "source": [
    "Previous_CTC=df['Previous_CTC']\n",
    "props2= dict(boxes='blue',whiskers='black',medians='red',caps='black')\n",
    "Previous_CTC.plot.box(color=props2,patch_artist=True,vert=True)"
   ]
  },
  {
   "cell_type": "code",
   "execution_count": 30,
   "id": "a0b5eaac",
   "metadata": {},
   "outputs": [],
   "source": [
    "def find_boundaries(df,feature):\n",
    "    Q1=df[feature].quantile(.25)\n",
    "    Q3=df[feature].quantile(.75)\n",
    "    IQR=Q3-Q1\n",
    "    lower_boundary=Q1-1.5*IQR\n",
    "    upper_boundary=Q3+1.5*IQR\n",
    "    \n",
    "    return lower_boundary,upper_boundary"
   ]
  },
  {
   "cell_type": "code",
   "execution_count": 31,
   "id": "29187b58",
   "metadata": {},
   "outputs": [
    {
     "name": "stdout",
     "output_type": "stream",
     "text": [
      "36141.75 74555.75\n"
     ]
    }
   ],
   "source": [
    "lower_Previous_CTC,upper_Previous_CTC=find_boundaries(df,'Previous_CTC')\n",
    "print(lower_Previous_CTC,upper_Previous_CTC)"
   ]
  },
  {
   "cell_type": "code",
   "execution_count": 32,
   "id": "580b6bbf",
   "metadata": {},
   "outputs": [],
   "source": [
    "df['Previous_CTC']=np.where(df['Previous_CTC']>upper_Previous_CTC,upper_Previous_CTC,\n",
    "                         np.where(df['Previous_CTC']<lower_Previous_CTC,lower_Previous_CTC,df['Previous_CTC']))"
   ]
  },
  {
   "cell_type": "code",
   "execution_count": 33,
   "id": "780422d2",
   "metadata": {},
   "outputs": [
    {
     "data": {
      "text/plain": [
       "<AxesSubplot:>"
      ]
     },
     "execution_count": 33,
     "metadata": {},
     "output_type": "execute_result"
    },
    {
     "data": {
      "image/png": "[encoded data removed]",
      "text/plain": [
       "<Figure size 432x288 with 1 Axes>"
      ]
     },
     "metadata": {},
     "output_type": "display_data"
    }
   ],
   "source": [
    "Previous_CTC=df['Previous_CTC']\n",
    "props2= dict(boxes='blue',whiskers='black',medians='red',caps='black')\n",
    "Previous_CTC.plot.box(color=props2,patch_artist=True,vert=True)"
   ]
  },
  {
   "cell_type": "code",
   "execution_count": 34,
   "id": "64eb72aa",
   "metadata": {},
   "outputs": [],
   "source": [
    "#Previous job changes(categorical)\n"
   ]
  },
  {
   "cell_type": "code",
   "execution_count": 35,
   "id": "97fbf85e",
   "metadata": {},
   "outputs": [],
   "source": [
    "df=df.rename({'Previous job changes':'Previous_job_changes'},axis=1)"
   ]
  },
  {
   "cell_type": "code",
   "execution_count": 36,
   "id": "975628f7",
   "metadata": {},
   "outputs": [
    {
     "data": {
      "text/plain": [
       "3    348\n",
       "4    344\n",
       "1    333\n",
       "2    313\n",
       "Name: Previous_job_changes, dtype: int64"
      ]
     },
     "execution_count": 36,
     "metadata": {},
     "output_type": "execute_result"
    }
   ],
   "source": [
    "df.Previous_job_changes.value_counts()"
   ]
  },
  {
   "cell_type": "code",
   "execution_count": 37,
   "id": "5b0f0aaa",
   "metadata": {},
   "outputs": [
    {
     "name": "stderr",
     "output_type": "stream",
     "text": [
      "C:\\Users\\telug\\anaconda3\\lib\\site-packages\\seaborn\\_decorators.py:36: FutureWarning: Pass the following variable as a keyword arg: x. From version 0.12, the only valid positional argument will be `data`, and passing other arguments without an explicit keyword will result in an error or misinterpretation.\n",
      "  warnings.warn(\n"
     ]
    },
    {
     "data": {
      "text/plain": [
       "Text(0.5, 1.0, 'Histogram of Previous_job_changes')"
      ]
     },
     "execution_count": 37,
     "metadata": {},
     "output_type": "execute_result"
    },
    {
     "data": {
      "image/png": "[encoded data removed]",
      "text/plain": [
       "<Figure size 432x432 with 1 Axes>"
      ]
     },
     "metadata": {},
     "output_type": "display_data"
    }
   ],
   "source": [
    "sns.set()\n",
    "plt.figure(figsize=(6,6))\n",
    "sns.countplot(df['Previous_job_changes'])\n",
    "plt.show\n",
    "plt.xlabel('Previous_job_changes')\n",
    "plt.ylabel('counts')\n",
    "plt.title('Histogram of Previous_job_changes')"
   ]
  },
  {
   "cell_type": "code",
   "execution_count": 38,
   "id": "ba59f369",
   "metadata": {},
   "outputs": [
    {
     "name": "stdout",
     "output_type": "stream",
     "text": [
      "                            sum_sq      df        F   PR(>F)\n",
      "Previous_job_changes  1.190530e+07     1.0  0.07552  0.78351\n",
      "Residual              2.106119e+11  1336.0      NaN      NaN\n"
     ]
    }
   ],
   "source": [
    "annova=ols('CTC ~ Previous_job_changes',data=df).fit()\n",
    "an=sm.stats.anova_lm(annova,typ=2)\n",
    "print(an.round(decimals=5))#Bad Predictor"
   ]
  },
  {
   "cell_type": "code",
   "execution_count": 39,
   "id": "6cbfa40a",
   "metadata": {},
   "outputs": [],
   "source": [
    "df.drop(['Previous_job_changes'],axis=1,inplace=True)"
   ]
  },
  {
   "cell_type": "code",
   "execution_count": 40,
   "id": "f3fb1b2c",
   "metadata": {},
   "outputs": [],
   "source": [
    "#Graduation marks\n"
   ]
  },
  {
   "cell_type": "code",
   "execution_count": 41,
   "id": "b30e7c46",
   "metadata": {},
   "outputs": [],
   "source": [
    "df=df.rename({'Graduation marks':'Graduation_marks'},axis=1)"
   ]
  },
  {
   "cell_type": "code",
   "execution_count": 42,
   "id": "67fa7d2c",
   "metadata": {},
   "outputs": [
    {
     "name": "stderr",
     "output_type": "stream",
     "text": [
      "C:\\Users\\telug\\anaconda3\\lib\\site-packages\\seaborn\\distributions.py:2619: FutureWarning: `distplot` is a deprecated function and will be removed in a future version. Please adapt your code to use either `displot` (a figure-level function with similar flexibility) or `histplot` (an axes-level function for histograms).\n",
      "  warnings.warn(msg, FutureWarning)\n"
     ]
    },
    {
     "data": {
      "text/plain": [
       "Text(0.5, 1.0, 'Histogram of Graduation_marks')"
      ]
     },
     "execution_count": 42,
     "metadata": {},
     "output_type": "execute_result"
    },
    {
     "data": {
      "image/png": "[encoded data removed]",
      "text/plain": [
       "<Figure size 432x432 with 1 Axes>"
      ]
     },
     "metadata": {},
     "output_type": "display_data"
    }
   ],
   "source": [
    "sns.set()\n",
    "plt.figure(figsize=(6,6))\n",
    "sns.distplot(df['Graduation_marks'])\n",
    "plt.show\n",
    "plt.xlabel('Graduation_marks')\n",
    "plt.ylabel('counts')\n",
    "plt.title('Histogram of Graduation_marks')"
   ]
  },
  {
   "cell_type": "code",
   "execution_count": 43,
   "id": "87903159",
   "metadata": {},
   "outputs": [
    {
     "data": {
      "text/plain": [
       "<AxesSubplot:>"
      ]
     },
     "execution_count": 43,
     "metadata": {},
     "output_type": "execute_result"
    },
    {
     "data": {
      "image/png": "[encoded data removed]",
      "text/plain": [
       "<Figure size 432x288 with 1 Axes>"
      ]
     },
     "metadata": {},
     "output_type": "display_data"
    }
   ],
   "source": [
    "Graduation_marks=df['Graduation_marks']\n",
    "props2= dict(boxes='blue',whiskers='black',medians='red',caps='black')\n",
    "Graduation_marks.plot.box(color=props2,patch_artist=True,vert=True)"
   ]
  },
  {
   "cell_type": "code",
   "execution_count": 44,
   "id": "40b5904f",
   "metadata": {},
   "outputs": [],
   "source": [
    "#Exp (Months)"
   ]
  },
  {
   "cell_type": "code",
   "execution_count": 45,
   "id": "b265d983",
   "metadata": {},
   "outputs": [],
   "source": [
    "df=df.rename({'Exp (Months)':'Exp_in_Months'},axis=1)"
   ]
  },
  {
   "cell_type": "code",
   "execution_count": 46,
   "id": "5b989eec",
   "metadata": {},
   "outputs": [
    {
     "name": "stderr",
     "output_type": "stream",
     "text": [
      "C:\\Users\\telug\\anaconda3\\lib\\site-packages\\seaborn\\distributions.py:2619: FutureWarning: `distplot` is a deprecated function and will be removed in a future version. Please adapt your code to use either `displot` (a figure-level function with similar flexibility) or `histplot` (an axes-level function for histograms).\n",
      "  warnings.warn(msg, FutureWarning)\n"
     ]
    },
    {
     "data": {
      "text/plain": [
       "Text(0.5, 1.0, 'Histogram of Exp_in_Months')"
      ]
     },
     "execution_count": 46,
     "metadata": {},
     "output_type": "execute_result"
    },
    {
     "data": {
      "image/png": "[encoded data removed]",
      "text/plain": [
       "<Figure size 432x432 with 1 Axes>"
      ]
     },
     "metadata": {},
     "output_type": "display_data"
    }
   ],
   "source": [
    "sns.set()\n",
    "plt.figure(figsize=(6,6))\n",
    "sns.distplot(df['Exp_in_Months'])\n",
    "plt.show\n",
    "plt.xlabel('Exp_in_Months')\n",
    "plt.ylabel('counts')\n",
    "plt.title('Histogram of Exp_in_Months')"
   ]
  },
  {
   "cell_type": "code",
   "execution_count": 47,
   "id": "8996fb77",
   "metadata": {},
   "outputs": [
    {
     "data": {
      "text/plain": [
       "<AxesSubplot:>"
      ]
     },
     "execution_count": 47,
     "metadata": {},
     "output_type": "execute_result"
    },
    {
     "data": {
      "image/png": "[encoded data removed]",
      "text/plain": [
       "<Figure size 432x288 with 1 Axes>"
      ]
     },
     "metadata": {},
     "output_type": "display_data"
    }
   ],
   "source": [
    "Exp_in_Months=df['Exp_in_Months']\n",
    "props2= dict(boxes='blue',whiskers='black',medians='red',caps='black')\n",
    "Exp_in_Months.plot.box(color=props2,patch_artist=True,vert=True)"
   ]
  },
  {
   "cell_type": "code",
   "execution_count": 48,
   "id": "daac337e",
   "metadata": {},
   "outputs": [
    {
     "name": "stdout",
     "output_type": "stream",
     "text": [
      "<class 'pandas.core.frame.DataFrame'>\n",
      "RangeIndex: 1338 entries, 0 to 1337\n",
      "Data columns (total 7 columns):\n",
      " #   Column            Non-Null Count  Dtype  \n",
      "---  ------            --------------  -----  \n",
      " 0   College           1338 non-null   object \n",
      " 1   Role              1338 non-null   object \n",
      " 2   City_type         1338 non-null   object \n",
      " 3   Previous_CTC      1338 non-null   float64\n",
      " 4   Graduation_marks  1338 non-null   int64  \n",
      " 5   Exp_in_Months     1338 non-null   int64  \n",
      " 6   CTC               1338 non-null   float64\n",
      "dtypes: float64(2), int64(2), object(3)\n",
      "memory usage: 73.3+ KB\n"
     ]
    }
   ],
   "source": [
    "df.info()"
   ]
  },
  {
   "cell_type": "code",
   "execution_count": 49,
   "id": "022b1dc4",
   "metadata": {},
   "outputs": [],
   "source": [
    "cols = ['College', 'Role', 'City_type']"
   ]
  },
  {
   "cell_type": "code",
   "execution_count": 50,
   "id": "111078d0",
   "metadata": {},
   "outputs": [],
   "source": [
    "for col in cols:\n",
    "    one = pd.get_dummies(df[col],prefix=col)\n",
    "    df = pd.concat([df,one],axis=1).drop(col,axis=1)"
   ]
  },
  {
   "cell_type": "code",
   "execution_count": 51,
   "id": "22669b7d",
   "metadata": {},
   "outputs": [
    {
     "data": {
      "text/html": [
       "<div>\n",
       "<style scoped>\n",
       "    .dataframe tbody tr th:only-of-type {\n",
       "        vertical-align: middle;\n",
       "    }\n",
       "\n",
       "    .dataframe tbody tr th {\n",
       "        vertical-align: top;\n",
       "    }\n",
       "\n",
       "    .dataframe thead th {\n",
       "        text-align: right;\n",
       "    }\n",
       "</style>\n",
       "<table border=\"1\" class=\"dataframe\">\n",
       "  <thead>\n",
       "    <tr style=\"text-align: right;\">\n",
       "      <th></th>\n",
       "      <th>Previous_CTC</th>\n",
       "      <th>Graduation_marks</th>\n",
       "      <th>Exp_in_Months</th>\n",
       "      <th>CTC</th>\n",
       "      <th>College_Tier 1</th>\n",
       "      <th>College_Tier 2</th>\n",
       "      <th>College_Tier 3</th>\n",
       "      <th>Role_Executive</th>\n",
       "      <th>Role_Manager</th>\n",
       "      <th>City_type_Metro</th>\n",
       "      <th>City_type_Non-Metro</th>\n",
       "    </tr>\n",
       "  </thead>\n",
       "  <tbody>\n",
       "    <tr>\n",
       "      <th>0</th>\n",
       "      <td>55523.0</td>\n",
       "      <td>66</td>\n",
       "      <td>19</td>\n",
       "      <td>71406.57653</td>\n",
       "      <td>1</td>\n",
       "      <td>0</td>\n",
       "      <td>0</td>\n",
       "      <td>0</td>\n",
       "      <td>1</td>\n",
       "      <td>0</td>\n",
       "      <td>1</td>\n",
       "    </tr>\n",
       "    <tr>\n",
       "      <th>1</th>\n",
       "      <td>57081.0</td>\n",
       "      <td>84</td>\n",
       "      <td>18</td>\n",
       "      <td>68005.87063</td>\n",
       "      <td>0</td>\n",
       "      <td>1</td>\n",
       "      <td>0</td>\n",
       "      <td>1</td>\n",
       "      <td>0</td>\n",
       "      <td>1</td>\n",
       "      <td>0</td>\n",
       "    </tr>\n",
       "    <tr>\n",
       "      <th>2</th>\n",
       "      <td>60347.0</td>\n",
       "      <td>52</td>\n",
       "      <td>28</td>\n",
       "      <td>76764.02028</td>\n",
       "      <td>0</td>\n",
       "      <td>1</td>\n",
       "      <td>0</td>\n",
       "      <td>1</td>\n",
       "      <td>0</td>\n",
       "      <td>1</td>\n",
       "      <td>0</td>\n",
       "    </tr>\n",
       "    <tr>\n",
       "      <th>3</th>\n",
       "      <td>49010.0</td>\n",
       "      <td>81</td>\n",
       "      <td>33</td>\n",
       "      <td>82092.38688</td>\n",
       "      <td>0</td>\n",
       "      <td>0</td>\n",
       "      <td>1</td>\n",
       "      <td>1</td>\n",
       "      <td>0</td>\n",
       "      <td>1</td>\n",
       "      <td>0</td>\n",
       "    </tr>\n",
       "    <tr>\n",
       "      <th>4</th>\n",
       "      <td>57879.0</td>\n",
       "      <td>74</td>\n",
       "      <td>32</td>\n",
       "      <td>73878.09773</td>\n",
       "      <td>0</td>\n",
       "      <td>0</td>\n",
       "      <td>1</td>\n",
       "      <td>1</td>\n",
       "      <td>0</td>\n",
       "      <td>1</td>\n",
       "      <td>0</td>\n",
       "    </tr>\n",
       "    <tr>\n",
       "      <th>...</th>\n",
       "      <td>...</td>\n",
       "      <td>...</td>\n",
       "      <td>...</td>\n",
       "      <td>...</td>\n",
       "      <td>...</td>\n",
       "      <td>...</td>\n",
       "      <td>...</td>\n",
       "      <td>...</td>\n",
       "      <td>...</td>\n",
       "      <td>...</td>\n",
       "      <td>...</td>\n",
       "    </tr>\n",
       "    <tr>\n",
       "      <th>1333</th>\n",
       "      <td>59661.0</td>\n",
       "      <td>68</td>\n",
       "      <td>50</td>\n",
       "      <td>69712.40366</td>\n",
       "      <td>0</td>\n",
       "      <td>0</td>\n",
       "      <td>1</td>\n",
       "      <td>1</td>\n",
       "      <td>0</td>\n",
       "      <td>1</td>\n",
       "      <td>0</td>\n",
       "    </tr>\n",
       "    <tr>\n",
       "      <th>1334</th>\n",
       "      <td>53714.0</td>\n",
       "      <td>67</td>\n",
       "      <td>18</td>\n",
       "      <td>69298.75010</td>\n",
       "      <td>1</td>\n",
       "      <td>0</td>\n",
       "      <td>0</td>\n",
       "      <td>1</td>\n",
       "      <td>0</td>\n",
       "      <td>0</td>\n",
       "      <td>1</td>\n",
       "    </tr>\n",
       "    <tr>\n",
       "      <th>1335</th>\n",
       "      <td>61957.0</td>\n",
       "      <td>47</td>\n",
       "      <td>18</td>\n",
       "      <td>66397.77069</td>\n",
       "      <td>0</td>\n",
       "      <td>1</td>\n",
       "      <td>0</td>\n",
       "      <td>1</td>\n",
       "      <td>0</td>\n",
       "      <td>0</td>\n",
       "      <td>1</td>\n",
       "    </tr>\n",
       "    <tr>\n",
       "      <th>1336</th>\n",
       "      <td>53203.0</td>\n",
       "      <td>69</td>\n",
       "      <td>21</td>\n",
       "      <td>64044.38295</td>\n",
       "      <td>1</td>\n",
       "      <td>0</td>\n",
       "      <td>0</td>\n",
       "      <td>1</td>\n",
       "      <td>0</td>\n",
       "      <td>0</td>\n",
       "      <td>1</td>\n",
       "    </tr>\n",
       "    <tr>\n",
       "      <th>1337</th>\n",
       "      <td>51820.0</td>\n",
       "      <td>47</td>\n",
       "      <td>61</td>\n",
       "      <td>83346.06096</td>\n",
       "      <td>0</td>\n",
       "      <td>0</td>\n",
       "      <td>1</td>\n",
       "      <td>0</td>\n",
       "      <td>1</td>\n",
       "      <td>0</td>\n",
       "      <td>1</td>\n",
       "    </tr>\n",
       "  </tbody>\n",
       "</table>\n",
       "<p>1338 rows × 11 columns</p>\n",
       "</div>"
      ],
      "text/plain": [
       "      Previous_CTC  Graduation_marks  Exp_in_Months          CTC  \\\n",
       "0          55523.0                66             19  71406.57653   \n",
       "1          57081.0                84             18  68005.87063   \n",
       "2          60347.0                52             28  76764.02028   \n",
       "3          49010.0                81             33  82092.38688   \n",
       "4          57879.0                74             32  73878.09773   \n",
       "...            ...               ...            ...          ...   \n",
       "1333       59661.0                68             50  69712.40366   \n",
       "1334       53714.0                67             18  69298.75010   \n",
       "1335       61957.0                47             18  66397.77069   \n",
       "1336       53203.0                69             21  64044.38295   \n",
       "1337       51820.0                47             61  83346.06096   \n",
       "\n",
       "      College_Tier 1  College_Tier 2  College_Tier 3  Role_Executive  \\\n",
       "0                  1               0               0               0   \n",
       "1                  0               1               0               1   \n",
       "2                  0               1               0               1   \n",
       "3                  0               0               1               1   \n",
       "4                  0               0               1               1   \n",
       "...              ...             ...             ...             ...   \n",
       "1333               0               0               1               1   \n",
       "1334               1               0               0               1   \n",
       "1335               0               1               0               1   \n",
       "1336               1               0               0               1   \n",
       "1337               0               0               1               0   \n",
       "\n",
       "      Role_Manager  City_type_Metro  City_type_Non-Metro  \n",
       "0                1                0                    1  \n",
       "1                0                1                    0  \n",
       "2                0                1                    0  \n",
       "3                0                1                    0  \n",
       "4                0                1                    0  \n",
       "...            ...              ...                  ...  \n",
       "1333             0                1                    0  \n",
       "1334             0                0                    1  \n",
       "1335             0                0                    1  \n",
       "1336             0                0                    1  \n",
       "1337             1                0                    1  \n",
       "\n",
       "[1338 rows x 11 columns]"
      ]
     },
     "execution_count": 51,
     "metadata": {},
     "output_type": "execute_result"
    }
   ],
   "source": [
    "df"
   ]
  },
  {
   "cell_type": "code",
   "execution_count": 52,
   "id": "01d0b72f",
   "metadata": {},
   "outputs": [
    {
     "name": "stdout",
     "output_type": "stream",
     "text": [
      "<class 'pandas.core.frame.DataFrame'>\n",
      "RangeIndex: 1338 entries, 0 to 1337\n",
      "Data columns (total 11 columns):\n",
      " #   Column               Non-Null Count  Dtype  \n",
      "---  ------               --------------  -----  \n",
      " 0   Previous_CTC         1338 non-null   float64\n",
      " 1   Graduation_marks     1338 non-null   int64  \n",
      " 2   Exp_in_Months        1338 non-null   int64  \n",
      " 3   CTC                  1338 non-null   float64\n",
      " 4   College_Tier 1       1338 non-null   uint8  \n",
      " 5   College_Tier 2       1338 non-null   uint8  \n",
      " 6   College_Tier 3       1338 non-null   uint8  \n",
      " 7   Role_Executive       1338 non-null   uint8  \n",
      " 8   Role_Manager         1338 non-null   uint8  \n",
      " 9   City_type_Metro      1338 non-null   uint8  \n",
      " 10  City_type_Non-Metro  1338 non-null   uint8  \n",
      "dtypes: float64(2), int64(2), uint8(7)\n",
      "memory usage: 51.1 KB\n"
     ]
    }
   ],
   "source": [
    "df.info()"
   ]
  },
  {
   "cell_type": "code",
   "execution_count": 53,
   "id": "10ba8ac0",
   "metadata": {},
   "outputs": [],
   "source": [
    "#MODEL BUILDING"
   ]
  },
  {
   "cell_type": "code",
   "execution_count": 54,
   "id": "024bd5ac",
   "metadata": {},
   "outputs": [],
   "source": [
    "X= df.drop('CTC', axis=1)\n",
    "y = df['CTC']"
   ]
  },
  {
   "cell_type": "code",
   "execution_count": 58,
   "id": "4b444c5c",
   "metadata": {},
   "outputs": [],
   "source": [
    "#train test\n",
    "from sklearn.model_selection import train_test_split\n",
    "X_train,X_test,y_train,y_test=train_test_split(X,y,test_size=0.20,random_state=45)"
   ]
  },
  {
   "cell_type": "code",
   "execution_count": 55,
   "id": "3af835d8",
   "metadata": {},
   "outputs": [],
   "source": [
    "from sklearn.linear_model import LinearRegression"
   ]
  },
  {
   "cell_type": "code",
   "execution_count": 56,
   "id": "0d71dc05",
   "metadata": {},
   "outputs": [],
   "source": [
    "lr = LinearRegression()"
   ]
  },
  {
   "cell_type": "code",
   "execution_count": 59,
   "id": "b3da3168",
   "metadata": {},
   "outputs": [
    {
     "data": {
      "text/plain": [
       "LinearRegression()"
      ]
     },
     "execution_count": 59,
     "metadata": {},
     "output_type": "execute_result"
    }
   ],
   "source": [
    "lr.fit(X_train,y_train)"
   ]
  },
  {
   "cell_type": "code",
   "execution_count": null,
   "id": "691969e0",
   "metadata": {},
   "outputs": [],
   "source": []
  },
  {
   "cell_type": "code",
   "execution_count": null,
   "id": "c2297c6b",
   "metadata": {},
   "outputs": [],
   "source": []
  },
  {
   "cell_type": "code",
   "execution_count": null,
   "id": "bf3bac61",
   "metadata": {},
   "outputs": [],
   "source": []
  },
  {
   "cell_type": "code",
   "execution_count": 65,
   "id": "19e241a0",
   "metadata": {},
   "outputs": [],
   "source": [
    "y_pred=lr.predict(X_test)"
   ]
  },
  {
   "cell_type": "code",
   "execution_count": 62,
   "id": "058923cf",
   "metadata": {},
   "outputs": [
    {
     "data": {
      "text/plain": [
       "array([ 67073.52927109,  68553.91778706,  96324.88153199,  66722.02300192,\n",
       "        70354.87877204,  79107.1142028 ,  65638.37519304,  85720.93050149,\n",
       "        68500.69602348,  86071.38949205,  65581.45445178,  75247.72034101,\n",
       "        67372.60130893,  71355.46561297,  77718.43314826,  74505.32943798,\n",
       "        61998.25820001,  72305.33605045,  74766.38854463,  76731.87492838,\n",
       "        72815.54852058,  90638.86924301,  79890.95010189,  85991.66612764,\n",
       "        80614.8678112 ,  80917.48666439,  88237.02048214,  74361.44624897,\n",
       "        70943.80886065,  76964.96792036,  66207.47206765,  76519.54912133,\n",
       "        65979.6739894 ,  63584.90634584,  70658.03693567,  68929.678465  ,\n",
       "        66817.42751403,  82334.42854056,  94455.96987326,  68482.89297346,\n",
       "        95155.83471129,  62166.35550125,  74349.17663013,  66417.13027721,\n",
       "        69247.03814847,  76353.0454182 ,  72745.94879164,  78247.02338083,\n",
       "        77598.56965497,  77788.27856919,  64228.65099966,  98338.38146762,\n",
       "        75098.41453236,  80986.1995141 ,  79906.01572813,  83661.60241083,\n",
       "        84402.26712487,  73874.82692078,  72155.81392007,  74066.80779071,\n",
       "        59306.61483155,  84141.59795347,  71453.00008998,  73276.60368183,\n",
       "        84598.38717567,  76925.57533587,  90388.42498314,  74806.9751648 ,\n",
       "        64254.53598041,  90803.74385265,  68810.14827426,  76469.59460364,\n",
       "       103782.11846084,  63837.78908794,  86084.89923285,  95135.67963528,\n",
       "        63936.3099695 ,  92277.83321346,  68541.78640762,  72724.03887865,\n",
       "        74507.14640811,  70732.43313594,  62624.89525987,  65020.76739801,\n",
       "        71805.50013239,  73150.6103843 ,  97047.14687614,  66156.07806247,\n",
       "       100006.48599011,  68454.80513242,  68943.8802104 ,  86035.97583019,\n",
       "        80924.19467938,  69377.6340358 ,  74582.12803699,  76931.617526  ,\n",
       "        71157.88352916,  72002.93203515,  79595.15253034,  69358.15006845,\n",
       "        65155.06047149,  68069.99873332,  68533.56108196,  70019.04441467,\n",
       "        66917.09188739,  78882.43982654,  91694.45168748,  69011.51847363,\n",
       "        75793.9770512 ,  79996.52915995,  70674.62193563,  92296.82588842,\n",
       "        70494.00823031,  75576.88917848,  88644.07068315,  72562.40397868,\n",
       "        74758.94887863,  76686.74420849,  74866.27919034,  88300.93381959,\n",
       "        83783.55601914,  77876.43693092,  75938.95541709,  92036.55884868,\n",
       "        84346.13338336,  76033.62322528,  83939.3408023 ,  71176.3395875 ,\n",
       "        72544.21601455,  66405.57073015,  96449.27807004,  81033.41056696,\n",
       "        82010.54637475,  74326.59900791,  81274.16443237,  74504.6326808 ,\n",
       "        87967.45094329,  68772.9955123 ,  85531.68393396,  74202.96808937,\n",
       "        75203.66085398,  71583.92717599,  92436.94557693,  72089.56825849,\n",
       "        74468.54224963,  82344.32539369,  68431.01289702,  74731.22387979,\n",
       "        83576.23367271,  67612.26523184,  64139.92939895,  73962.31695749,\n",
       "        73760.22590608,  60829.02129876,  66957.67979373,  67038.73739554,\n",
       "        66209.2471083 ,  78933.93167808,  78775.28061176,  88910.27105104,\n",
       "        70184.92472556,  67523.36451614,  86057.25020715,  74682.890543  ,\n",
       "        63827.77896999,  85213.12508269,  69641.39945877,  77346.41292491,\n",
       "        94842.87067082,  87680.24352977,  66328.1403257 ,  71254.10909001,\n",
       "        74146.83890939,  73710.4324618 ,  78757.8849851 ,  68482.38419904,\n",
       "        77063.07931589,  91620.14977023,  68945.28799643,  80749.33199451,\n",
       "        74796.93076698,  72042.11882084,  67872.54431647,  68322.09542517,\n",
       "        64350.19712187,  98733.17397748,  79924.63174884,  73943.99866753,\n",
       "        72710.92918242,  97908.66581616,  98598.56177523,  82692.02551426,\n",
       "        86264.99814273,  76562.16487772,  86853.42024823,  71456.89943772,\n",
       "        97897.16395076,  84061.609282  ,  73710.6298442 ,  68574.41771545,\n",
       "        67095.82366695,  69540.09066209,  95563.86476909,  73301.78453672,\n",
       "        92263.34006715,  65716.61264981,  71335.74066699,  88170.5291847 ,\n",
       "        76208.20995017,  72710.88541893,  72388.55742245,  91122.4006114 ,\n",
       "        88213.52820815,  89795.53423496,  63608.5777855 ,  72046.17248006,\n",
       "        74259.78503835,  76763.8900428 ,  67263.67433063,  74800.1357076 ,\n",
       "        75623.02442273,  73250.54453789,  64161.68547537,  73578.54997696,\n",
       "        75459.22557963,  89379.1687962 ,  70046.00547461,  67166.38097296,\n",
       "        64885.94597653,  68863.14308217,  68546.15423847,  77509.24150674,\n",
       "        72693.12902033,  68460.90723466,  65466.0809399 ,  61111.87006696,\n",
       "        74329.33610136, 100482.08701977,  72353.34132167,  74570.2645338 ,\n",
       "        74489.11541971,  84133.98155825,  71051.16764567,  80549.80909572,\n",
       "        78205.45043083,  71522.2348633 ,  67884.41246263,  68803.29323417,\n",
       "        71072.11553946,  69281.60404404,  68051.01358573,  76291.88839447,\n",
       "        78739.50041437,  79515.79965016,  69798.24719905,  76124.7821557 ,\n",
       "        76220.90775745,  77316.27532512,  85943.33791627,  67115.04637527,\n",
       "        75316.81597748,  84123.66342404,  70631.90154173,  62818.51961068,\n",
       "        67478.57118675,  69456.34961946,  67437.58316863,  76876.19134187])"
      ]
     },
     "execution_count": 62,
     "metadata": {},
     "output_type": "execute_result"
    }
   ],
   "source": [
    "pred_1"
   ]
  },
  {
   "cell_type": "code",
   "execution_count": 66,
   "id": "7c641809",
   "metadata": {},
   "outputs": [
    {
     "name": "stdout",
     "output_type": "stream",
     "text": [
      "MAE 6236.950214441767\n",
      "MSE 62015255.26515927\n",
      "R2 score 0.5815343331264343\n"
     ]
    }
   ],
   "source": [
    "from sklearn.metrics import mean_absolute_error,mean_squared_error,r2_score\n",
    "print(\"MAE\",mean_absolute_error(y_test,y_pred))\n",
    "print(\"MSE\",mean_squared_error(y_test,y_pred))\n",
    "print(\"R2 score\",r2_score(y_test,y_pred))"
   ]
  },
  {
   "cell_type": "code",
   "execution_count": null,
   "id": "4282a699",
   "metadata": {},
   "outputs": [],
   "source": []
  },
  {
   "cell_type": "code",
   "execution_count": null,
   "id": "d83432c0",
   "metadata": {},
   "outputs": [],
   "source": []
  },
  {
   "cell_type": "code",
   "execution_count": 67,
   "id": "99c0cb35",
   "metadata": {},
   "outputs": [
    {
     "data": {
      "text/plain": [
       "<matplotlib.legend.Legend at 0x2132aa9c610>"
      ]
     },
     "execution_count": 67,
     "metadata": {},
     "output_type": "execute_result"
    },
    {
     "data": {
      "image/png": "[encoded data removed]",
      "text/plain": [
       "<Figure size 432x288 with 1 Axes>"
      ]
     },
     "metadata": {},
     "output_type": "display_data"
    }
   ],
   "source": [
    "obsno=np.arange(0,268,1)\n",
    "fig,ax=plt.subplots()\n",
    "ax.plot(obsno,y_test,'o',label='data')\n",
    "ax.plot(obsno,y_pred,'r',label='predicted')\n",
    "ax.legend(loc='best')"
   ]
  },
  {
   "cell_type": "code",
   "execution_count": 69,
   "id": "dc08a905",
   "metadata": {},
   "outputs": [],
   "source": [
    "from sklearn.model_selection import train_test_split"
   ]
  },
  {
   "cell_type": "code",
   "execution_count": 70,
   "id": "a841d5ac",
   "metadata": {},
   "outputs": [],
   "source": [
    "train,test= train_test_split(df, test_size=0.2, random_state=42)"
   ]
  },
  {
   "cell_type": "code",
   "execution_count": 71,
   "id": "3ec34ef1",
   "metadata": {},
   "outputs": [],
   "source": [
    "from sklearn.linear_model import LinearRegression"
   ]
  },
  {
   "cell_type": "code",
   "execution_count": 72,
   "id": "40bfaa64",
   "metadata": {},
   "outputs": [],
   "source": [
    "lr = LinearRegression()"
   ]
  },
  {
   "cell_type": "code",
   "execution_count": 73,
   "id": "35d9ea78",
   "metadata": {},
   "outputs": [
    {
     "data": {
      "text/plain": [
       "LinearRegression()"
      ]
     },
     "execution_count": 73,
     "metadata": {},
     "output_type": "execute_result"
    }
   ],
   "source": [
    "lr.fit(X_train,y_train)"
   ]
  },
  {
   "cell_type": "code",
   "execution_count": 74,
   "id": "0ed3f127",
   "metadata": {},
   "outputs": [],
   "source": [
    "x_test=test.loc[:,test.columns != 'CTC']\n",
    "y_test=test.loc[:,test.columns == 'CTC']"
   ]
  },
  {
   "cell_type": "code",
   "execution_count": 76,
   "id": "ceaea503",
   "metadata": {},
   "outputs": [],
   "source": [
    "pred_1=lr.predict(x_test)"
   ]
  },
  {
   "cell_type": "code",
   "execution_count": 77,
   "id": "56a148c4",
   "metadata": {},
   "outputs": [
    {
     "data": {
      "text/plain": [
       "array([ 73218.38639021,  66124.83206809,  89448.3170708 ,  69488.84507117,\n",
       "        84476.59898378,  78882.43982654,  56772.28215012,  80479.35650193,\n",
       "        63263.96016407,  72957.63116719,  88213.52820815,  71813.08197715,\n",
       "        65949.97933568,  98733.17397748,  99153.42483104,  94939.16642571,\n",
       "        74014.04255583,  90768.73911222,  66844.40920941,  87806.37053779,\n",
       "        67705.63572812,  77130.04129399,  72450.92832312,  71786.08043796,\n",
       "        70192.2915373 ,  78591.72212613,  81089.78618236,  64274.39036555,\n",
       "        72564.87368023,  66953.85963933,  72562.40397868,  71006.34077801,\n",
       "        64350.19712187,  62181.4547316 ,  72353.34132167,  83661.60241083,\n",
       "        67166.38097296,  70431.62264233,  87494.10400111,  91777.15450875,\n",
       "        64228.65099966,  65603.49788869,  77964.19472627,  73895.17456146,\n",
       "        72565.80869891,  79689.93171362,  65109.58666034,  63389.25496045,\n",
       "        93657.94654511,  73974.14548607,  73879.30412009,  63259.93688182,\n",
       "        70674.62193563,  69301.71609953,  75984.40408568,  80514.09677259,\n",
       "        72204.98580188,  88850.75942009,  77002.27925373,  77316.27532512,\n",
       "        79339.94022524,  71103.33838328,  83861.12167946,  64559.07830312,\n",
       "        76302.28921529,  63591.93284776,  87655.06430196,  70732.43313594,\n",
       "        60523.1674536 ,  75203.66085398,  80825.39521292,  76124.7821557 ,\n",
       "        71808.45324562,  71254.10909001,  76128.75303574,  65844.10026433,\n",
       "        75513.38607284,  67517.05264975,  65554.35498263,  71816.38307872,\n",
       "        65843.13068415, 101351.50427195,  68260.8027683 ,  88471.52936605,\n",
       "        93674.54557086,  96580.09152096,  69870.44291056,  76519.54912133,\n",
       "        66350.00067654,  83686.4741005 ,  79924.63174884,  89381.56679214,\n",
       "        90638.86924301,  74645.48285132,  93194.81750242,  76562.16487772,\n",
       "        88841.81506547,  63976.00553059,  79907.59490913,  65581.45445178,\n",
       "        65716.61264981,  64502.50917784,  76615.69446461,  84346.13338336,\n",
       "        77790.69949014,  69492.89397909,  71456.89943772,  89795.53423496,\n",
       "        68322.09542517,  85632.61214779,  74486.9789048 ,  73250.54453789,\n",
       "        79133.41304202,  89187.13092792,  73911.20768079,  71469.00899022,\n",
       "        78247.02338083,  89375.26573078,  67884.41246263,  63584.90634584,\n",
       "        71708.84616295,  73088.18392396,  78880.97523798,  70540.9935155 ,\n",
       "        62054.63573264,  67194.92250233,  67872.54431647,  78152.92490837,\n",
       "        74570.2645338 ,  73244.71472797,  63486.91198081,  69921.17538792,\n",
       "        69456.34961946,  78847.6323295 ,  75054.87714225,  82432.54909054,\n",
       "        76671.87265607,  94026.99183587,  90898.90853511,  91804.84995111,\n",
       "        65437.1243438 ,  78330.88011738,  71775.44096789,  74468.54224963,\n",
       "        65409.08086911,  97897.16395076,  68254.70292829,  67511.05882844,\n",
       "        72046.17248006,  74505.32943798,  93704.07724682,  63461.34245432,\n",
       "        71170.96494185,  95242.56249196,  73044.1761852 ,  76410.83973264,\n",
       "        83543.02681487,  68953.77130162,  84133.98155825,  95563.86476909,\n",
       "        78510.56855882,  61847.37196844,  80162.96559239,  70549.47676881,\n",
       "        71429.77958116,  74504.6326808 ,  98805.21835475,  91203.63828205,\n",
       "        96559.86121309,  69037.95648179,  72267.84377384,  71355.46561297,\n",
       "        83551.57155797,  65686.67063626,  65242.72594294,  90388.42498314,\n",
       "        88300.93381959,  82197.83998666,  78990.25661335,  69358.15006845,\n",
       "        94438.65941979,  59315.55182285,  70247.70283548,  73144.99493013,\n",
       "        67808.48910538,  63182.12988456,  71433.6580426 ,  66646.40147663,\n",
       "        75982.9577731 ,  75122.51494236,  73448.35176051,  64799.20014992,\n",
       "        66117.08412453,  97889.78067733,  79553.65606696,  69024.63364379,\n",
       "        58764.82538062,  74582.12803699,  64004.77675626,  72286.04601753,\n",
       "        58613.0015555 ,  92436.94557693,  74178.78884307,  63401.5854498 ,\n",
       "        80579.84651437,  78915.17647194,  74525.51055751,  60750.00099886,\n",
       "        78543.15264025,  66405.57073015,  77594.27569508,  66994.82474033,\n",
       "        79515.79965016,  83008.62526132,  70278.7325768 ,  67437.58316863,\n",
       "        62361.60583462,  71140.11499564,  67765.29201805,  65475.69083238,\n",
       "        64752.72050571,  77084.87362648,  75704.89365079,  94176.19923243,\n",
       "        67637.06474302,  89456.36973878,  64660.86448289,  65155.06047149,\n",
       "        74675.09002108,  72602.16475953,  66817.42751403,  65197.70056287,\n",
       "        68795.30459897,  95520.60681478,  65268.70390911,  74604.68240791,\n",
       "        66156.07806247,  80401.78943254,  89031.42440044,  66085.58615841,\n",
       "        69641.39945877,  96394.354576  ,  65068.2472474 ,  62624.89525987,\n",
       "        64786.26578049,  70013.5924619 ,  68562.2658425 ,  74488.0094952 ,\n",
       "        75267.71138887,  59075.18038153,  65926.82887786,  76686.74420849,\n",
       "        65497.49809449,  73817.49894494,  60900.72655515,  61690.69288032,\n",
       "        79364.6756989 ,  68074.72277711,  73201.01438868,  68592.60596658,\n",
       "        67267.72423138,  68500.69602348,  88625.93471451,  97678.53306091,\n",
       "        72163.6499209 ,  76809.93772873,  97591.52085872,  78332.77606138])"
      ]
     },
     "execution_count": 77,
     "metadata": {},
     "output_type": "execute_result"
    }
   ],
   "source": [
    "pred_1"
   ]
  },
  {
   "cell_type": "code",
   "execution_count": 78,
   "id": "aee85713",
   "metadata": {},
   "outputs": [],
   "source": [
    "y_test_series=y_test.iloc[:,0] "
   ]
  },
  {
   "cell_type": "code",
   "execution_count": 79,
   "id": "fd3dd277",
   "metadata": {},
   "outputs": [],
   "source": [
    "resd_1=y_test_series-pred_1"
   ]
  },
  {
   "cell_type": "code",
   "execution_count": 80,
   "id": "213e3b41",
   "metadata": {},
   "outputs": [
    {
     "data": {
      "text/plain": [
       "764     -3498.034360\n",
       "887     -2114.673458\n",
       "890     -9427.511001\n",
       "1293    -1417.474381\n",
       "259     12674.778536\n",
       "            ...     \n",
       "109      5626.762839\n",
       "575     -3605.866501\n",
       "535     -8179.082499\n",
       "543     23771.208841\n",
       "846      7777.150859\n",
       "Name: CTC, Length: 268, dtype: float64"
      ]
     },
     "execution_count": 80,
     "metadata": {},
     "output_type": "execute_result"
    }
   ],
   "source": [
    "resd_1"
   ]
  },
  {
   "cell_type": "code",
   "execution_count": 81,
   "id": "7bc3faba",
   "metadata": {},
   "outputs": [],
   "source": [
    "#Square of errors\n",
    "se_1=resd_1.pow(2)"
   ]
  },
  {
   "cell_type": "code",
   "execution_count": 82,
   "id": "662ebb68",
   "metadata": {},
   "outputs": [
    {
     "data": {
      "text/plain": [
       "764     1.223624e+07\n",
       "887     4.471844e+06\n",
       "890     8.887796e+07\n",
       "1293    2.009234e+06\n",
       "259     1.606500e+08\n",
       "            ...     \n",
       "109     3.166046e+07\n",
       "575     1.300227e+07\n",
       "535     6.689739e+07\n",
       "543     5.650704e+08\n",
       "846     6.048408e+07\n",
       "Name: CTC, Length: 268, dtype: float64"
      ]
     },
     "execution_count": 82,
     "metadata": {},
     "output_type": "execute_result"
    }
   ],
   "source": [
    "se_1"
   ]
  },
  {
   "cell_type": "code",
   "execution_count": 83,
   "id": "d95f8794",
   "metadata": {},
   "outputs": [],
   "source": [
    "#Sum of Squared errors/residuals\n",
    "sse_1=se_1.sum()"
   ]
  },
  {
   "cell_type": "code",
   "execution_count": 84,
   "id": "f1e10659",
   "metadata": {},
   "outputs": [
    {
     "data": {
      "text/plain": [
       "17588937923.205193"
      ]
     },
     "execution_count": 84,
     "metadata": {},
     "output_type": "execute_result"
    }
   ],
   "source": [
    "sse_1"
   ]
  },
  {
   "cell_type": "code",
   "execution_count": 85,
   "id": "ea180f18",
   "metadata": {},
   "outputs": [],
   "source": [
    "#Mean sum squared errors\n",
    "msse_1=sse_1/len(se_1)"
   ]
  },
  {
   "cell_type": "code",
   "execution_count": 86,
   "id": "113f06c4",
   "metadata": {},
   "outputs": [
    {
     "data": {
      "text/plain": [
       "65630365.385094"
      ]
     },
     "execution_count": 86,
     "metadata": {},
     "output_type": "execute_result"
    }
   ],
   "source": [
    "msse_1"
   ]
  },
  {
   "cell_type": "code",
   "execution_count": 87,
   "id": "9ff58861",
   "metadata": {},
   "outputs": [],
   "source": [
    "import math"
   ]
  },
  {
   "cell_type": "code",
   "execution_count": 88,
   "id": "66563095",
   "metadata": {},
   "outputs": [
    {
     "data": {
      "text/plain": [
       "8101.2570249988985"
      ]
     },
     "execution_count": 88,
     "metadata": {},
     "output_type": "execute_result"
    }
   ],
   "source": [
    "#sqr root of mean sum squared errors\n",
    "math.sqrt(msse_1)"
   ]
  },
  {
   "cell_type": "code",
   "execution_count": null,
   "id": "2847e960",
   "metadata": {},
   "outputs": [],
   "source": []
  }
 ],
 "metadata": {
  "kernelspec": {
   "display_name": "Python 3 (ipykernel)",
   "language": "python",
   "name": "python3"
  },
  "language_info": {
   "codemirror_mode": {
    "name": "ipython",
    "version": 3
   },
   "file_extension": ".py",
   "mimetype": "text/x-python",
   "name": "python",
   "nbconvert_exporter": "python",
   "pygments_lexer": "ipython3",
   "version": "3.9.12"
  }
 },
 "nbformat": 4,
 "nbformat_minor": 5
}
