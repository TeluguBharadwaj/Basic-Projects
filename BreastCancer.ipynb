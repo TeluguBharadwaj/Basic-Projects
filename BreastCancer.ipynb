{
 "cells": [
  {
   "cell_type": "code",
   "execution_count": 71,
   "id": "434f03be",
   "metadata": {},
   "outputs": [],
   "source": [
    "import os\n",
    "os.chdir(\"C:\\\\Users\\\\telug\\\\OneDrive\\\\Desktop\\\\WD_Python\")\n",
    "import pandas as pd\n",
    "import numpy as np\n",
    "import seaborn as sns\n",
    "import matplotlib.pyplot as plt"
   ]
  },
  {
   "cell_type": "code",
   "execution_count": 72,
   "id": "360e0ff4",
   "metadata": {},
   "outputs": [],
   "source": [
    "import sklearn\n",
    "from sklearn import tree\n",
    "from sklearn import metrics\n",
    "from sklearn.tree import DecisionTreeRegressor\n",
    "from sklearn.model_selection import train_test_split\n",
    "from sklearn.ensemble import RandomForestRegressor"
   ]
  },
  {
   "cell_type": "code",
   "execution_count": 73,
   "id": "22ff87e4",
   "metadata": {},
   "outputs": [
    {
     "name": "stdout",
     "output_type": "stream",
     "text": [
      "<class 'pandas.core.frame.DataFrame'>\n",
      "RangeIndex: 699 entries, 0 to 698\n",
      "Data columns (total 12 columns):\n",
      " #   Column           Non-Null Count  Dtype  \n",
      "---  ------           --------------  -----  \n",
      " 0   Unnamed: 0       699 non-null    int64  \n",
      " 1   Id               699 non-null    int64  \n",
      " 2   Cl.thickness     699 non-null    int64  \n",
      " 3   Cell.size        699 non-null    int64  \n",
      " 4   Cell.shape       699 non-null    int64  \n",
      " 5   Marg.adhesion    699 non-null    int64  \n",
      " 6   Epith.c.size     699 non-null    int64  \n",
      " 7   Bare.nuclei      683 non-null    float64\n",
      " 8   Bl.cromatin      699 non-null    int64  \n",
      " 9   Normal.nucleoli  699 non-null    int64  \n",
      " 10  Mitoses          699 non-null    int64  \n",
      " 11  Class            699 non-null    object \n",
      "dtypes: float64(1), int64(10), object(1)\n",
      "memory usage: 65.7+ KB\n"
     ]
    }
   ],
   "source": [
    "df= pd.read_csv(\"BreastCancer.csv\")\n",
    "df.info()"
   ]
  },
  {
   "cell_type": "code",
   "execution_count": 74,
   "id": "0e8bb136",
   "metadata": {},
   "outputs": [],
   "source": [
    "df.drop(['Unnamed: 0'],axis=1,inplace=True)"
   ]
  },
  {
   "cell_type": "code",
   "execution_count": 75,
   "id": "aebfa3a9",
   "metadata": {},
   "outputs": [
    {
     "data": {
      "text/html": [
       "<div>\n",
       "<style scoped>\n",
       "    .dataframe tbody tr th:only-of-type {\n",
       "        vertical-align: middle;\n",
       "    }\n",
       "\n",
       "    .dataframe tbody tr th {\n",
       "        vertical-align: top;\n",
       "    }\n",
       "\n",
       "    .dataframe thead th {\n",
       "        text-align: right;\n",
       "    }\n",
       "</style>\n",
       "<table border=\"1\" class=\"dataframe\">\n",
       "  <thead>\n",
       "    <tr style=\"text-align: right;\">\n",
       "      <th></th>\n",
       "      <th>Id</th>\n",
       "      <th>Cl.thickness</th>\n",
       "      <th>Cell.size</th>\n",
       "      <th>Cell.shape</th>\n",
       "      <th>Marg.adhesion</th>\n",
       "      <th>Epith.c.size</th>\n",
       "      <th>Bare.nuclei</th>\n",
       "      <th>Bl.cromatin</th>\n",
       "      <th>Normal.nucleoli</th>\n",
       "      <th>Mitoses</th>\n",
       "      <th>Class</th>\n",
       "    </tr>\n",
       "  </thead>\n",
       "  <tbody>\n",
       "    <tr>\n",
       "      <th>0</th>\n",
       "      <td>1000025</td>\n",
       "      <td>5</td>\n",
       "      <td>1</td>\n",
       "      <td>1</td>\n",
       "      <td>1</td>\n",
       "      <td>2</td>\n",
       "      <td>1.0</td>\n",
       "      <td>3</td>\n",
       "      <td>1</td>\n",
       "      <td>1</td>\n",
       "      <td>benign</td>\n",
       "    </tr>\n",
       "    <tr>\n",
       "      <th>1</th>\n",
       "      <td>1002945</td>\n",
       "      <td>5</td>\n",
       "      <td>4</td>\n",
       "      <td>4</td>\n",
       "      <td>5</td>\n",
       "      <td>7</td>\n",
       "      <td>10.0</td>\n",
       "      <td>3</td>\n",
       "      <td>2</td>\n",
       "      <td>1</td>\n",
       "      <td>benign</td>\n",
       "    </tr>\n",
       "    <tr>\n",
       "      <th>2</th>\n",
       "      <td>1015425</td>\n",
       "      <td>3</td>\n",
       "      <td>1</td>\n",
       "      <td>1</td>\n",
       "      <td>1</td>\n",
       "      <td>2</td>\n",
       "      <td>2.0</td>\n",
       "      <td>3</td>\n",
       "      <td>1</td>\n",
       "      <td>1</td>\n",
       "      <td>benign</td>\n",
       "    </tr>\n",
       "    <tr>\n",
       "      <th>3</th>\n",
       "      <td>1016277</td>\n",
       "      <td>6</td>\n",
       "      <td>8</td>\n",
       "      <td>8</td>\n",
       "      <td>1</td>\n",
       "      <td>3</td>\n",
       "      <td>4.0</td>\n",
       "      <td>3</td>\n",
       "      <td>7</td>\n",
       "      <td>1</td>\n",
       "      <td>benign</td>\n",
       "    </tr>\n",
       "    <tr>\n",
       "      <th>4</th>\n",
       "      <td>1017023</td>\n",
       "      <td>4</td>\n",
       "      <td>1</td>\n",
       "      <td>1</td>\n",
       "      <td>3</td>\n",
       "      <td>2</td>\n",
       "      <td>1.0</td>\n",
       "      <td>3</td>\n",
       "      <td>1</td>\n",
       "      <td>1</td>\n",
       "      <td>benign</td>\n",
       "    </tr>\n",
       "    <tr>\n",
       "      <th>...</th>\n",
       "      <td>...</td>\n",
       "      <td>...</td>\n",
       "      <td>...</td>\n",
       "      <td>...</td>\n",
       "      <td>...</td>\n",
       "      <td>...</td>\n",
       "      <td>...</td>\n",
       "      <td>...</td>\n",
       "      <td>...</td>\n",
       "      <td>...</td>\n",
       "      <td>...</td>\n",
       "    </tr>\n",
       "    <tr>\n",
       "      <th>694</th>\n",
       "      <td>776715</td>\n",
       "      <td>3</td>\n",
       "      <td>1</td>\n",
       "      <td>1</td>\n",
       "      <td>1</td>\n",
       "      <td>3</td>\n",
       "      <td>2.0</td>\n",
       "      <td>1</td>\n",
       "      <td>1</td>\n",
       "      <td>1</td>\n",
       "      <td>benign</td>\n",
       "    </tr>\n",
       "    <tr>\n",
       "      <th>695</th>\n",
       "      <td>841769</td>\n",
       "      <td>2</td>\n",
       "      <td>1</td>\n",
       "      <td>1</td>\n",
       "      <td>1</td>\n",
       "      <td>2</td>\n",
       "      <td>1.0</td>\n",
       "      <td>1</td>\n",
       "      <td>1</td>\n",
       "      <td>1</td>\n",
       "      <td>benign</td>\n",
       "    </tr>\n",
       "    <tr>\n",
       "      <th>696</th>\n",
       "      <td>888820</td>\n",
       "      <td>5</td>\n",
       "      <td>10</td>\n",
       "      <td>10</td>\n",
       "      <td>3</td>\n",
       "      <td>7</td>\n",
       "      <td>3.0</td>\n",
       "      <td>8</td>\n",
       "      <td>10</td>\n",
       "      <td>2</td>\n",
       "      <td>malignant</td>\n",
       "    </tr>\n",
       "    <tr>\n",
       "      <th>697</th>\n",
       "      <td>897471</td>\n",
       "      <td>4</td>\n",
       "      <td>8</td>\n",
       "      <td>6</td>\n",
       "      <td>4</td>\n",
       "      <td>3</td>\n",
       "      <td>4.0</td>\n",
       "      <td>10</td>\n",
       "      <td>6</td>\n",
       "      <td>1</td>\n",
       "      <td>malignant</td>\n",
       "    </tr>\n",
       "    <tr>\n",
       "      <th>698</th>\n",
       "      <td>897471</td>\n",
       "      <td>4</td>\n",
       "      <td>8</td>\n",
       "      <td>8</td>\n",
       "      <td>5</td>\n",
       "      <td>4</td>\n",
       "      <td>5.0</td>\n",
       "      <td>10</td>\n",
       "      <td>4</td>\n",
       "      <td>1</td>\n",
       "      <td>malignant</td>\n",
       "    </tr>\n",
       "  </tbody>\n",
       "</table>\n",
       "<p>699 rows × 11 columns</p>\n",
       "</div>"
      ],
      "text/plain": [
       "          Id  Cl.thickness  Cell.size  Cell.shape  Marg.adhesion  \\\n",
       "0    1000025             5          1           1              1   \n",
       "1    1002945             5          4           4              5   \n",
       "2    1015425             3          1           1              1   \n",
       "3    1016277             6          8           8              1   \n",
       "4    1017023             4          1           1              3   \n",
       "..       ...           ...        ...         ...            ...   \n",
       "694   776715             3          1           1              1   \n",
       "695   841769             2          1           1              1   \n",
       "696   888820             5         10          10              3   \n",
       "697   897471             4          8           6              4   \n",
       "698   897471             4          8           8              5   \n",
       "\n",
       "     Epith.c.size  Bare.nuclei  Bl.cromatin  Normal.nucleoli  Mitoses  \\\n",
       "0               2          1.0            3                1        1   \n",
       "1               7         10.0            3                2        1   \n",
       "2               2          2.0            3                1        1   \n",
       "3               3          4.0            3                7        1   \n",
       "4               2          1.0            3                1        1   \n",
       "..            ...          ...          ...              ...      ...   \n",
       "694             3          2.0            1                1        1   \n",
       "695             2          1.0            1                1        1   \n",
       "696             7          3.0            8               10        2   \n",
       "697             3          4.0           10                6        1   \n",
       "698             4          5.0           10                4        1   \n",
       "\n",
       "         Class  \n",
       "0       benign  \n",
       "1       benign  \n",
       "2       benign  \n",
       "3       benign  \n",
       "4       benign  \n",
       "..         ...  \n",
       "694     benign  \n",
       "695     benign  \n",
       "696  malignant  \n",
       "697  malignant  \n",
       "698  malignant  \n",
       "\n",
       "[699 rows x 11 columns]"
      ]
     },
     "execution_count": 75,
     "metadata": {},
     "output_type": "execute_result"
    }
   ],
   "source": [
    "df"
   ]
  },
  {
   "cell_type": "code",
   "execution_count": 76,
   "id": "91088048",
   "metadata": {},
   "outputs": [
    {
     "data": {
      "text/plain": [
       "Id                  0\n",
       "Cl.thickness        0\n",
       "Cell.size           0\n",
       "Cell.shape          0\n",
       "Marg.adhesion       0\n",
       "Epith.c.size        0\n",
       "Bare.nuclei        16\n",
       "Bl.cromatin         0\n",
       "Normal.nucleoli     0\n",
       "Mitoses             0\n",
       "Class               0\n",
       "dtype: int64"
      ]
     },
     "execution_count": 76,
     "metadata": {},
     "output_type": "execute_result"
    }
   ],
   "source": [
    "df.isnull().sum()"
   ]
  },
  {
   "cell_type": "code",
   "execution_count": 77,
   "id": "cb4939b2",
   "metadata": {},
   "outputs": [],
   "source": [
    "df.dropna(axis=0, how='any', thresh=None, subset=None, inplace=True)"
   ]
  },
  {
   "cell_type": "code",
   "execution_count": 78,
   "id": "dbeec147",
   "metadata": {},
   "outputs": [
    {
     "data": {
      "text/plain": [
       "Id                 0\n",
       "Cl.thickness       0\n",
       "Cell.size          0\n",
       "Cell.shape         0\n",
       "Marg.adhesion      0\n",
       "Epith.c.size       0\n",
       "Bare.nuclei        0\n",
       "Bl.cromatin        0\n",
       "Normal.nucleoli    0\n",
       "Mitoses            0\n",
       "Class              0\n",
       "dtype: int64"
      ]
     },
     "execution_count": 78,
     "metadata": {},
     "output_type": "execute_result"
    }
   ],
   "source": [
    "df.isnull().sum()"
   ]
  },
  {
   "cell_type": "code",
   "execution_count": 79,
   "id": "39893b2e",
   "metadata": {},
   "outputs": [
    {
     "name": "stdout",
     "output_type": "stream",
     "text": [
      "<class 'pandas.core.frame.DataFrame'>\n",
      "Int64Index: 683 entries, 0 to 698\n",
      "Data columns (total 11 columns):\n",
      " #   Column           Non-Null Count  Dtype  \n",
      "---  ------           --------------  -----  \n",
      " 0   Id               683 non-null    int64  \n",
      " 1   Cl.thickness     683 non-null    int64  \n",
      " 2   Cell.size        683 non-null    int64  \n",
      " 3   Cell.shape       683 non-null    int64  \n",
      " 4   Marg.adhesion    683 non-null    int64  \n",
      " 5   Epith.c.size     683 non-null    int64  \n",
      " 6   Bare.nuclei      683 non-null    float64\n",
      " 7   Bl.cromatin      683 non-null    int64  \n",
      " 8   Normal.nucleoli  683 non-null    int64  \n",
      " 9   Mitoses          683 non-null    int64  \n",
      " 10  Class            683 non-null    object \n",
      "dtypes: float64(1), int64(9), object(1)\n",
      "memory usage: 64.0+ KB\n"
     ]
    }
   ],
   "source": [
    "df.info()"
   ]
  },
  {
   "cell_type": "code",
   "execution_count": 80,
   "id": "fbf65adc",
   "metadata": {},
   "outputs": [],
   "source": [
    "df = df.rename({'Cl.thickness': 'Cl_thickness', 'Cell.size': 'Cell_size', 'Cell.shape':'Cell_shape', 'Marg.adhesion':'Marg_adhesion', 'Epith.c.size':'Epith_c_size', 'Bare.nuclei':'Bare_nuclei', 'Bl.cromatin':'Bl_cromatin', 'Normal.nucleoli':'Normal_nucleoli'}, axis=1)"
   ]
  },
  {
   "cell_type": "code",
   "execution_count": 81,
   "id": "75419723",
   "metadata": {},
   "outputs": [],
   "source": [
    "#Class(target variable)"
   ]
  },
  {
   "cell_type": "code",
   "execution_count": 82,
   "id": "fed04fe2",
   "metadata": {},
   "outputs": [
    {
     "data": {
      "text/plain": [
       "benign       444\n",
       "malignant    239\n",
       "Name: Class, dtype: int64"
      ]
     },
     "execution_count": 82,
     "metadata": {},
     "output_type": "execute_result"
    }
   ],
   "source": [
    "df.Class.value_counts() "
   ]
  },
  {
   "cell_type": "code",
   "execution_count": 83,
   "id": "37842070",
   "metadata": {},
   "outputs": [
    {
     "data": {
      "text/plain": [
       "Text(0.5, 1.0, 'Barplot of Class')"
      ]
     },
     "execution_count": 83,
     "metadata": {},
     "output_type": "execute_result"
    },
    {
     "data": {
      "image/png": "[encoded data removed]",
      "text/plain": [
       "<Figure size 432x288 with 1 Axes>"
      ]
     },
     "metadata": {},
     "output_type": "display_data"
    }
   ],
   "source": [
    "sns.countplot(x='Class',data=df,palette='summer')\n",
    "plt.title('Barplot of Class')"
   ]
  },
  {
   "cell_type": "code",
   "execution_count": 84,
   "id": "783f77f9",
   "metadata": {},
   "outputs": [],
   "source": [
    "#Cl_thickness "
   ]
  },
  {
   "cell_type": "code",
   "execution_count": 85,
   "id": "f52ce4c7",
   "metadata": {},
   "outputs": [
    {
     "name": "stderr",
     "output_type": "stream",
     "text": [
      "C:\\Users\\telug\\anaconda3\\lib\\site-packages\\seaborn\\distributions.py:2619: FutureWarning: `distplot` is a deprecated function and will be removed in a future version. Please adapt your code to use either `displot` (a figure-level function with similar flexibility) or `histplot` (an axes-level function for histograms).\n",
      "  warnings.warn(msg, FutureWarning)\n"
     ]
    },
    {
     "data": {
      "text/plain": [
       "Text(0.5, 1.0, 'Histogram of Cl_thickness')"
      ]
     },
     "execution_count": 85,
     "metadata": {},
     "output_type": "execute_result"
    },
    {
     "data": {
      "image/png": "[encoded data removed]",
      "text/plain": [
       "<Figure size 432x432 with 1 Axes>"
      ]
     },
     "metadata": {},
     "output_type": "display_data"
    }
   ],
   "source": [
    "sns.set()\n",
    "plt.figure(figsize=(6,6))\n",
    "sns.distplot(df['Cl_thickness'])\n",
    "plt.show\n",
    "plt.xlabel('Cl_thickness')\n",
    "plt.ylabel('counts')\n",
    "plt.title('Histogram of Cl_thickness') "
   ]
  },
  {
   "cell_type": "code",
   "execution_count": 86,
   "id": "cd8e1104",
   "metadata": {},
   "outputs": [
    {
     "data": {
      "text/plain": [
       "<AxesSubplot:>"
      ]
     },
     "execution_count": 86,
     "metadata": {},
     "output_type": "execute_result"
    },
    {
     "data": {
      "image/png": "[encoded data removed]",
      "text/plain": [
       "<Figure size 432x288 with 1 Axes>"
      ]
     },
     "metadata": {},
     "output_type": "display_data"
    }
   ],
   "source": [
    "Cl_thickness=df['Cl_thickness']\n",
    "props2= dict(boxes='blue',whiskers='black',medians='red',caps='black')\n",
    "Cl_thickness.plot.box(color=props2,patch_artist=True,vert=True)"
   ]
  },
  {
   "cell_type": "code",
   "execution_count": 87,
   "id": "cd9f81c1",
   "metadata": {},
   "outputs": [],
   "source": [
    "#Cell_size"
   ]
  },
  {
   "cell_type": "code",
   "execution_count": 88,
   "id": "a9494537",
   "metadata": {},
   "outputs": [
    {
     "data": {
      "text/plain": [
       "1     373\n",
       "10     67\n",
       "3      52\n",
       "2      45\n",
       "4      38\n",
       "5      30\n",
       "8      28\n",
       "6      25\n",
       "7      19\n",
       "9       6\n",
       "Name: Cell_size, dtype: int64"
      ]
     },
     "execution_count": 88,
     "metadata": {},
     "output_type": "execute_result"
    }
   ],
   "source": [
    "df.Cell_size.value_counts() "
   ]
  },
  {
   "cell_type": "code",
   "execution_count": 89,
   "id": "3714bc82",
   "metadata": {},
   "outputs": [
    {
     "name": "stderr",
     "output_type": "stream",
     "text": [
      "C:\\Users\\telug\\anaconda3\\lib\\site-packages\\seaborn\\distributions.py:2619: FutureWarning: `distplot` is a deprecated function and will be removed in a future version. Please adapt your code to use either `displot` (a figure-level function with similar flexibility) or `histplot` (an axes-level function for histograms).\n",
      "  warnings.warn(msg, FutureWarning)\n"
     ]
    },
    {
     "data": {
      "text/plain": [
       "Text(0.5, 1.0, 'Histogram of Cell_size')"
      ]
     },
     "execution_count": 89,
     "metadata": {},
     "output_type": "execute_result"
    },
    {
     "data": {
      "image/png": "[encoded data removed]",
      "text/plain": [
       "<Figure size 432x432 with 1 Axes>"
      ]
     },
     "metadata": {},
     "output_type": "display_data"
    }
   ],
   "source": [
    "sns.set()\n",
    "plt.figure(figsize=(6,6))\n",
    "sns.distplot(df['Cell_size'])\n",
    "plt.show\n",
    "plt.xlabel('Cell_size')\n",
    "plt.ylabel('counts')\n",
    "plt.title('Histogram of Cell_size') "
   ]
  },
  {
   "cell_type": "code",
   "execution_count": 90,
   "id": "f538d340",
   "metadata": {},
   "outputs": [
    {
     "data": {
      "text/plain": [
       "<AxesSubplot:>"
      ]
     },
     "execution_count": 90,
     "metadata": {},
     "output_type": "execute_result"
    },
    {
     "data": {
      "image/png": "[encoded data removed]",
      "text/plain": [
       "<Figure size 432x288 with 1 Axes>"
      ]
     },
     "metadata": {},
     "output_type": "display_data"
    }
   ],
   "source": [
    "Cell_size=df['Cell_size']\n",
    "props2= dict(boxes='blue',whiskers='black',medians='red',caps='black')\n",
    "Cell_size.plot.box(color=props2,patch_artist=True,vert=True)"
   ]
  },
  {
   "cell_type": "code",
   "execution_count": 91,
   "id": "6b96b1df",
   "metadata": {},
   "outputs": [],
   "source": [
    "#Cell_shape"
   ]
  },
  {
   "cell_type": "code",
   "execution_count": 92,
   "id": "38f28f17",
   "metadata": {},
   "outputs": [
    {
     "data": {
      "text/plain": [
       "1     346\n",
       "10     58\n",
       "2      58\n",
       "3      53\n",
       "4      43\n",
       "5      32\n",
       "7      30\n",
       "6      29\n",
       "8      27\n",
       "9       7\n",
       "Name: Cell_shape, dtype: int64"
      ]
     },
     "execution_count": 92,
     "metadata": {},
     "output_type": "execute_result"
    }
   ],
   "source": [
    "df.Cell_shape.value_counts() "
   ]
  },
  {
   "cell_type": "code",
   "execution_count": 93,
   "id": "c4f2fbf7",
   "metadata": {},
   "outputs": [
    {
     "name": "stderr",
     "output_type": "stream",
     "text": [
      "C:\\Users\\telug\\anaconda3\\lib\\site-packages\\seaborn\\distributions.py:2619: FutureWarning: `distplot` is a deprecated function and will be removed in a future version. Please adapt your code to use either `displot` (a figure-level function with similar flexibility) or `histplot` (an axes-level function for histograms).\n",
      "  warnings.warn(msg, FutureWarning)\n"
     ]
    },
    {
     "data": {
      "text/plain": [
       "Text(0.5, 1.0, 'Histogram of Cell_shape')"
      ]
     },
     "execution_count": 93,
     "metadata": {},
     "output_type": "execute_result"
    },
    {
     "data": {
      "image/png": "[encoded data removed]",
      "text/plain": [
       "<Figure size 432x432 with 1 Axes>"
      ]
     },
     "metadata": {},
     "output_type": "display_data"
    }
   ],
   "source": [
    "sns.set()\n",
    "plt.figure(figsize=(6,6))\n",
    "sns.distplot(df['Cell_shape'])\n",
    "plt.show\n",
    "plt.xlabel('Cell_shape')\n",
    "plt.ylabel('counts')\n",
    "plt.title('Histogram of Cell_shape') "
   ]
  },
  {
   "cell_type": "code",
   "execution_count": 94,
   "id": "d3aa5506",
   "metadata": {},
   "outputs": [
    {
     "data": {
      "text/plain": [
       "<AxesSubplot:>"
      ]
     },
     "execution_count": 94,
     "metadata": {},
     "output_type": "execute_result"
    },
    {
     "data": {
      "image/png": "[encoded data removed]",
      "text/plain": [
       "<Figure size 432x288 with 1 Axes>"
      ]
     },
     "metadata": {},
     "output_type": "display_data"
    }
   ],
   "source": [
    "Cell_shape=df['Cell_shape']\n",
    "props2= dict(boxes='blue',whiskers='black',medians='red',caps='black')\n",
    "Cell_shape.plot.box(color=props2,patch_artist=True,vert=True)"
   ]
  },
  {
   "cell_type": "code",
   "execution_count": 95,
   "id": "12fbfef1",
   "metadata": {},
   "outputs": [],
   "source": [
    "#Marg_adhesion"
   ]
  },
  {
   "cell_type": "code",
   "execution_count": 96,
   "id": "3da95bec",
   "metadata": {},
   "outputs": [
    {
     "data": {
      "text/plain": [
       "1     393\n",
       "3      58\n",
       "2      58\n",
       "10     55\n",
       "4      33\n",
       "8      25\n",
       "5      23\n",
       "6      21\n",
       "7      13\n",
       "9       4\n",
       "Name: Marg_adhesion, dtype: int64"
      ]
     },
     "execution_count": 96,
     "metadata": {},
     "output_type": "execute_result"
    }
   ],
   "source": [
    "df.Marg_adhesion.value_counts() "
   ]
  },
  {
   "cell_type": "code",
   "execution_count": 97,
   "id": "71449e3d",
   "metadata": {},
   "outputs": [
    {
     "name": "stderr",
     "output_type": "stream",
     "text": [
      "C:\\Users\\telug\\anaconda3\\lib\\site-packages\\seaborn\\distributions.py:2619: FutureWarning: `distplot` is a deprecated function and will be removed in a future version. Please adapt your code to use either `displot` (a figure-level function with similar flexibility) or `histplot` (an axes-level function for histograms).\n",
      "  warnings.warn(msg, FutureWarning)\n"
     ]
    },
    {
     "data": {
      "text/plain": [
       "Text(0.5, 1.0, 'Histogram of Marg_adhesion')"
      ]
     },
     "execution_count": 97,
     "metadata": {},
     "output_type": "execute_result"
    },
    {
     "data": {
      "image/png": "[encoded data removed]",
      "text/plain": [
       "<Figure size 432x432 with 1 Axes>"
      ]
     },
     "metadata": {},
     "output_type": "display_data"
    }
   ],
   "source": [
    "sns.set()\n",
    "plt.figure(figsize=(6,6))\n",
    "sns.distplot(df['Marg_adhesion'])\n",
    "plt.show\n",
    "plt.xlabel('Marg_adhesion')\n",
    "plt.ylabel('counts')\n",
    "plt.title('Histogram of Marg_adhesion') "
   ]
  },
  {
   "cell_type": "code",
   "execution_count": 98,
   "id": "f4427407",
   "metadata": {},
   "outputs": [
    {
     "data": {
      "text/plain": [
       "<AxesSubplot:>"
      ]
     },
     "execution_count": 98,
     "metadata": {},
     "output_type": "execute_result"
    },
    {
     "data": {
      "image/png": "[encoded data removed]",
      "text/plain": [
       "<Figure size 432x288 with 1 Axes>"
      ]
     },
     "metadata": {},
     "output_type": "display_data"
    }
   ],
   "source": [
    "Marg_adhesion=df['Marg_adhesion']\n",
    "props2= dict(boxes='blue',whiskers='black',medians='red',caps='black')\n",
    "Marg_adhesion.plot.box(color=props2,patch_artist=True,vert=True)"
   ]
  },
  {
   "cell_type": "code",
   "execution_count": 99,
   "id": "216aa69f",
   "metadata": {},
   "outputs": [],
   "source": [
    "#Epith_c_size"
   ]
  },
  {
   "cell_type": "code",
   "execution_count": 100,
   "id": "7e8bd79c",
   "metadata": {},
   "outputs": [
    {
     "data": {
      "text/plain": [
       "2     376\n",
       "3      71\n",
       "4      48\n",
       "1      44\n",
       "6      40\n",
       "5      39\n",
       "10     31\n",
       "8      21\n",
       "7      11\n",
       "9       2\n",
       "Name: Epith_c_size, dtype: int64"
      ]
     },
     "execution_count": 100,
     "metadata": {},
     "output_type": "execute_result"
    }
   ],
   "source": [
    "df.Epith_c_size.value_counts() "
   ]
  },
  {
   "cell_type": "code",
   "execution_count": 101,
   "id": "ef9357e9",
   "metadata": {},
   "outputs": [
    {
     "name": "stderr",
     "output_type": "stream",
     "text": [
      "C:\\Users\\telug\\anaconda3\\lib\\site-packages\\seaborn\\distributions.py:2619: FutureWarning: `distplot` is a deprecated function and will be removed in a future version. Please adapt your code to use either `displot` (a figure-level function with similar flexibility) or `histplot` (an axes-level function for histograms).\n",
      "  warnings.warn(msg, FutureWarning)\n"
     ]
    },
    {
     "data": {
      "text/plain": [
       "Text(0.5, 1.0, 'Histogram of Epith_c_size')"
      ]
     },
     "execution_count": 101,
     "metadata": {},
     "output_type": "execute_result"
    },
    {
     "data": {
      "image/png": "[encoded data removed]",
      "text/plain": [
       "<Figure size 432x432 with 1 Axes>"
      ]
     },
     "metadata": {},
     "output_type": "display_data"
    }
   ],
   "source": [
    "sns.set()\n",
    "plt.figure(figsize=(6,6))\n",
    "sns.distplot(df['Epith_c_size'])\n",
    "plt.show\n",
    "plt.xlabel('Epith_c_size')\n",
    "plt.ylabel('counts')\n",
    "plt.title('Histogram of Epith_c_size') "
   ]
  },
  {
   "cell_type": "code",
   "execution_count": 102,
   "id": "16dee396",
   "metadata": {},
   "outputs": [
    {
     "data": {
      "text/plain": [
       "<AxesSubplot:>"
      ]
     },
     "execution_count": 102,
     "metadata": {},
     "output_type": "execute_result"
    },
    {
     "data": {
      "image/png": "[encoded data removed]",
      "text/plain": [
       "<Figure size 432x288 with 1 Axes>"
      ]
     },
     "metadata": {},
     "output_type": "display_data"
    }
   ],
   "source": [
    "Epith_c_size=df['Epith_c_size']\n",
    "props2= dict(boxes='blue',whiskers='black',medians='red',caps='black')\n",
    "Epith_c_size.plot.box(color=props2,patch_artist=True,vert=True)"
   ]
  },
  {
   "cell_type": "code",
   "execution_count": 103,
   "id": "2a92b166",
   "metadata": {},
   "outputs": [],
   "source": [
    "#Bare_nuclei"
   ]
  },
  {
   "cell_type": "code",
   "execution_count": 104,
   "id": "aa0bebfc",
   "metadata": {},
   "outputs": [
    {
     "name": "stderr",
     "output_type": "stream",
     "text": [
      "C:\\Users\\telug\\anaconda3\\lib\\site-packages\\seaborn\\distributions.py:2619: FutureWarning: `distplot` is a deprecated function and will be removed in a future version. Please adapt your code to use either `displot` (a figure-level function with similar flexibility) or `histplot` (an axes-level function for histograms).\n",
      "  warnings.warn(msg, FutureWarning)\n"
     ]
    },
    {
     "data": {
      "text/plain": [
       "Text(0.5, 1.0, 'Histogram of Bare_nuclei')"
      ]
     },
     "execution_count": 104,
     "metadata": {},
     "output_type": "execute_result"
    },
    {
     "data": {
      "image/png": "[encoded data removed]",
      "text/plain": [
       "<Figure size 432x432 with 1 Axes>"
      ]
     },
     "metadata": {},
     "output_type": "display_data"
    }
   ],
   "source": [
    "sns.set()\n",
    "plt.figure(figsize=(6,6))\n",
    "sns.distplot(df['Bare_nuclei'])\n",
    "plt.show\n",
    "plt.xlabel('Bare_nuclei')\n",
    "plt.ylabel('counts')\n",
    "plt.title('Histogram of Bare_nuclei') "
   ]
  },
  {
   "cell_type": "code",
   "execution_count": 105,
   "id": "7d23faa2",
   "metadata": {},
   "outputs": [
    {
     "data": {
      "text/plain": [
       "<AxesSubplot:>"
      ]
     },
     "execution_count": 105,
     "metadata": {},
     "output_type": "execute_result"
    },
    {
     "data": {
      "image/png": "[encoded data removed]",
      "text/plain": [
       "<Figure size 432x288 with 1 Axes>"
      ]
     },
     "metadata": {},
     "output_type": "display_data"
    }
   ],
   "source": [
    "Bare_nuclei=df['Bare_nuclei']\n",
    "props2= dict(boxes='blue',whiskers='black',medians='red',caps='black')\n",
    "Bare_nuclei.plot.box(color=props2,patch_artist=True,vert=True)"
   ]
  },
  {
   "cell_type": "code",
   "execution_count": 106,
   "id": "ea1ba0c9",
   "metadata": {},
   "outputs": [],
   "source": [
    "#Bl_cromatin"
   ]
  },
  {
   "cell_type": "code",
   "execution_count": 107,
   "id": "38559a14",
   "metadata": {},
   "outputs": [
    {
     "data": {
      "text/plain": [
       "3     161\n",
       "2     160\n",
       "1     150\n",
       "7      71\n",
       "4      39\n",
       "5      34\n",
       "8      28\n",
       "10     20\n",
       "9      11\n",
       "6       9\n",
       "Name: Bl_cromatin, dtype: int64"
      ]
     },
     "execution_count": 107,
     "metadata": {},
     "output_type": "execute_result"
    }
   ],
   "source": [
    "df.Bl_cromatin.value_counts() "
   ]
  },
  {
   "cell_type": "code",
   "execution_count": 108,
   "id": "a9817650",
   "metadata": {},
   "outputs": [
    {
     "name": "stderr",
     "output_type": "stream",
     "text": [
      "C:\\Users\\telug\\anaconda3\\lib\\site-packages\\seaborn\\distributions.py:2619: FutureWarning: `distplot` is a deprecated function and will be removed in a future version. Please adapt your code to use either `displot` (a figure-level function with similar flexibility) or `histplot` (an axes-level function for histograms).\n",
      "  warnings.warn(msg, FutureWarning)\n"
     ]
    },
    {
     "data": {
      "text/plain": [
       "Text(0.5, 1.0, 'Histogram of Bl_cromatin')"
      ]
     },
     "execution_count": 108,
     "metadata": {},
     "output_type": "execute_result"
    },
    {
     "data": {
      "image/png": "[encoded data removed]",
      "text/plain": [
       "<Figure size 432x432 with 1 Axes>"
      ]
     },
     "metadata": {},
     "output_type": "display_data"
    }
   ],
   "source": [
    "sns.set()\n",
    "plt.figure(figsize=(6,6))\n",
    "sns.distplot(df['Bl_cromatin'])\n",
    "plt.show\n",
    "plt.xlabel('Bl_cromatin')\n",
    "plt.ylabel('counts')\n",
    "plt.title('Histogram of Bl_cromatin') "
   ]
  },
  {
   "cell_type": "code",
   "execution_count": 109,
   "id": "03774fbc",
   "metadata": {},
   "outputs": [
    {
     "data": {
      "text/plain": [
       "<AxesSubplot:>"
      ]
     },
     "execution_count": 109,
     "metadata": {},
     "output_type": "execute_result"
    },
    {
     "data": {
      "image/png": "[encoded data removed]",
      "text/plain": [
       "<Figure size 432x288 with 1 Axes>"
      ]
     },
     "metadata": {},
     "output_type": "display_data"
    }
   ],
   "source": [
    "Bl_cromatin=df['Bl_cromatin']\n",
    "props2= dict(boxes='blue',whiskers='black',medians='red',caps='black')\n",
    "Bl_cromatin.plot.box(color=props2,patch_artist=True,vert=True)"
   ]
  },
  {
   "cell_type": "code",
   "execution_count": 110,
   "id": "1eb31894",
   "metadata": {},
   "outputs": [],
   "source": [
    "#Normal_nucleoli"
   ]
  },
  {
   "cell_type": "code",
   "execution_count": 111,
   "id": "583896e4",
   "metadata": {},
   "outputs": [
    {
     "data": {
      "text/plain": [
       "1     432\n",
       "10     60\n",
       "3      42\n",
       "2      36\n",
       "8      23\n",
       "6      22\n",
       "5      19\n",
       "4      18\n",
       "7      16\n",
       "9      15\n",
       "Name: Normal_nucleoli, dtype: int64"
      ]
     },
     "execution_count": 111,
     "metadata": {},
     "output_type": "execute_result"
    }
   ],
   "source": [
    "df.Normal_nucleoli.value_counts() "
   ]
  },
  {
   "cell_type": "code",
   "execution_count": 112,
   "id": "19a56c22",
   "metadata": {},
   "outputs": [
    {
     "name": "stderr",
     "output_type": "stream",
     "text": [
      "C:\\Users\\telug\\anaconda3\\lib\\site-packages\\seaborn\\distributions.py:2619: FutureWarning: `distplot` is a deprecated function and will be removed in a future version. Please adapt your code to use either `displot` (a figure-level function with similar flexibility) or `histplot` (an axes-level function for histograms).\n",
      "  warnings.warn(msg, FutureWarning)\n"
     ]
    },
    {
     "data": {
      "text/plain": [
       "Text(0.5, 1.0, 'Histogram of Normal_nucleoli')"
      ]
     },
     "execution_count": 112,
     "metadata": {},
     "output_type": "execute_result"
    },
    {
     "data": {
      "image/png": "[encoded data removed]",
      "text/plain": [
       "<Figure size 432x432 with 1 Axes>"
      ]
     },
     "metadata": {},
     "output_type": "display_data"
    }
   ],
   "source": [
    "sns.set()\n",
    "plt.figure(figsize=(6,6))\n",
    "sns.distplot(df['Normal_nucleoli'])\n",
    "plt.show\n",
    "plt.xlabel('Normal_nucleoli')\n",
    "plt.ylabel('counts')\n",
    "plt.title('Histogram of Normal_nucleoli') "
   ]
  },
  {
   "cell_type": "code",
   "execution_count": 113,
   "id": "5d870618",
   "metadata": {},
   "outputs": [
    {
     "data": {
      "text/plain": [
       "<AxesSubplot:>"
      ]
     },
     "execution_count": 113,
     "metadata": {},
     "output_type": "execute_result"
    },
    {
     "data": {
      "image/png": "[encoded data removed]",
      "text/plain": [
       "<Figure size 432x288 with 1 Axes>"
      ]
     },
     "metadata": {},
     "output_type": "display_data"
    }
   ],
   "source": [
    "Normal_nucleoli=df['Normal_nucleoli']\n",
    "props2= dict(boxes='blue',whiskers='black',medians='red',caps='black')\n",
    "Normal_nucleoli.plot.box(color=props2,patch_artist=True,vert=True)"
   ]
  },
  {
   "cell_type": "code",
   "execution_count": 114,
   "id": "30edfce4",
   "metadata": {},
   "outputs": [],
   "source": [
    "#Mitoses"
   ]
  },
  {
   "cell_type": "code",
   "execution_count": 115,
   "id": "e0bda73f",
   "metadata": {},
   "outputs": [
    {
     "data": {
      "text/plain": [
       "1     563\n",
       "2      35\n",
       "3      33\n",
       "10     14\n",
       "4      12\n",
       "7       9\n",
       "8       8\n",
       "5       6\n",
       "6       3\n",
       "Name: Mitoses, dtype: int64"
      ]
     },
     "execution_count": 115,
     "metadata": {},
     "output_type": "execute_result"
    }
   ],
   "source": [
    "df.Mitoses.value_counts() "
   ]
  },
  {
   "cell_type": "code",
   "execution_count": 116,
   "id": "123e63fc",
   "metadata": {},
   "outputs": [
    {
     "name": "stderr",
     "output_type": "stream",
     "text": [
      "C:\\Users\\telug\\anaconda3\\lib\\site-packages\\seaborn\\distributions.py:2619: FutureWarning: `distplot` is a deprecated function and will be removed in a future version. Please adapt your code to use either `displot` (a figure-level function with similar flexibility) or `histplot` (an axes-level function for histograms).\n",
      "  warnings.warn(msg, FutureWarning)\n"
     ]
    },
    {
     "data": {
      "text/plain": [
       "Text(0.5, 1.0, 'Histogram of Mitoses')"
      ]
     },
     "execution_count": 116,
     "metadata": {},
     "output_type": "execute_result"
    },
    {
     "data": {
      "image/png": "[encoded data removed]",
      "text/plain": [
       "<Figure size 432x432 with 1 Axes>"
      ]
     },
     "metadata": {},
     "output_type": "display_data"
    }
   ],
   "source": [
    "sns.set()\n",
    "plt.figure(figsize=(6,6))\n",
    "sns.distplot(df['Mitoses'])\n",
    "plt.show\n",
    "plt.xlabel('Mitoses')\n",
    "plt.ylabel('counts')\n",
    "plt.title('Histogram of Mitoses') "
   ]
  },
  {
   "cell_type": "code",
   "execution_count": 117,
   "id": "d1f94225",
   "metadata": {},
   "outputs": [
    {
     "data": {
      "text/plain": [
       "<AxesSubplot:>"
      ]
     },
     "execution_count": 117,
     "metadata": {},
     "output_type": "execute_result"
    },
    {
     "data": {
      "image/png": "[encoded data removed]",
      "text/plain": [
       "<Figure size 432x288 with 1 Axes>"
      ]
     },
     "metadata": {},
     "output_type": "display_data"
    }
   ],
   "source": [
    "Mitoses=df['Mitoses']\n",
    "props2= dict(boxes='blue',whiskers='black',medians='red',caps='black')\n",
    "Mitoses.plot.box(color=props2,patch_artist=True,vert=True)"
   ]
  },
  {
   "cell_type": "code",
   "execution_count": 118,
   "id": "6f80ca30",
   "metadata": {},
   "outputs": [],
   "source": [
    "#covert to csv\n",
    "#df.to_csv('BreastCancer1.csv')"
   ]
  },
  {
   "cell_type": "code",
   "execution_count": 119,
   "id": "0d56af66",
   "metadata": {},
   "outputs": [],
   "source": [
    "df1= pd.read_csv(\"BreastCancer1.csv\")"
   ]
  },
  {
   "cell_type": "code",
   "execution_count": 120,
   "id": "e3147a3d",
   "metadata": {},
   "outputs": [
    {
     "name": "stdout",
     "output_type": "stream",
     "text": [
      "<class 'pandas.core.frame.DataFrame'>\n",
      "RangeIndex: 683 entries, 0 to 682\n",
      "Data columns (total 11 columns):\n",
      " #   Column           Non-Null Count  Dtype \n",
      "---  ------           --------------  ----- \n",
      " 0   Id               683 non-null    int64 \n",
      " 1   Cl_thickness     683 non-null    int64 \n",
      " 2   Cell_size        683 non-null    int64 \n",
      " 3   Cell_shape       683 non-null    int64 \n",
      " 4   Marg_adhesion    683 non-null    int64 \n",
      " 5   Epith_c_size     683 non-null    int64 \n",
      " 6   Bare_nuclei      683 non-null    int64 \n",
      " 7   Bl_cromatin      683 non-null    int64 \n",
      " 8   Normal_nucleoli  683 non-null    int64 \n",
      " 9   Mitoses          683 non-null    int64 \n",
      " 10  Class            683 non-null    object\n",
      "dtypes: int64(10), object(1)\n",
      "memory usage: 58.8+ KB\n"
     ]
    }
   ],
   "source": [
    "df1.info()"
   ]
  },
  {
   "cell_type": "code",
   "execution_count": 121,
   "id": "c3d69533",
   "metadata": {},
   "outputs": [],
   "source": [
    "df1.drop(['Id'],axis=1,inplace=True)"
   ]
  },
  {
   "cell_type": "code",
   "execution_count": 122,
   "id": "902377f2",
   "metadata": {},
   "outputs": [
    {
     "name": "stdout",
     "output_type": "stream",
     "text": [
      "<class 'pandas.core.frame.DataFrame'>\n",
      "RangeIndex: 683 entries, 0 to 682\n",
      "Data columns (total 10 columns):\n",
      " #   Column           Non-Null Count  Dtype \n",
      "---  ------           --------------  ----- \n",
      " 0   Cl_thickness     683 non-null    int64 \n",
      " 1   Cell_size        683 non-null    int64 \n",
      " 2   Cell_shape       683 non-null    int64 \n",
      " 3   Marg_adhesion    683 non-null    int64 \n",
      " 4   Epith_c_size     683 non-null    int64 \n",
      " 5   Bare_nuclei      683 non-null    int64 \n",
      " 6   Bl_cromatin      683 non-null    int64 \n",
      " 7   Normal_nucleoli  683 non-null    int64 \n",
      " 8   Mitoses          683 non-null    int64 \n",
      " 9   Class            683 non-null    object\n",
      "dtypes: int64(9), object(1)\n",
      "memory usage: 53.5+ KB\n"
     ]
    }
   ],
   "source": [
    "df1.info()"
   ]
  },
  {
   "cell_type": "markdown",
   "id": "f478f8db",
   "metadata": {},
   "source": [
    "# Model"
   ]
  },
  {
   "cell_type": "code",
   "execution_count": 123,
   "id": "1d783580",
   "metadata": {},
   "outputs": [],
   "source": [
    "df1['Class']=df1.get('Class').replace('benign',0)\n",
    "df1['Class']=df1.get('Class').replace('malignant',1)"
   ]
  },
  {
   "cell_type": "code",
   "execution_count": 124,
   "id": "1c4fff64",
   "metadata": {},
   "outputs": [
    {
     "data": {
      "text/plain": [
       "0    444\n",
       "1    239\n",
       "Name: Class, dtype: int64"
      ]
     },
     "execution_count": 124,
     "metadata": {},
     "output_type": "execute_result"
    }
   ],
   "source": [
    "df1.Class.value_counts()"
   ]
  },
  {
   "cell_type": "markdown",
   "id": "6e7bc345",
   "metadata": {},
   "source": [
    "#Smote"
   ]
  },
  {
   "cell_type": "code",
   "execution_count": 125,
   "id": "e3b658b3",
   "metadata": {},
   "outputs": [],
   "source": [
    "no_cls = df1[df1.Class == 0]\n",
    "cls1 = df1[df1.Class == 1]"
   ]
  },
  {
   "cell_type": "code",
   "execution_count": 126,
   "id": "f2d36db9",
   "metadata": {},
   "outputs": [],
   "source": [
    "from sklearn.utils import resample\n",
    "def_oversample = resample(cls1, replace = True,n_samples=len(no_cls),random_state=27)"
   ]
  },
  {
   "cell_type": "code",
   "execution_count": 127,
   "id": "adb2c437",
   "metadata": {},
   "outputs": [
    {
     "data": {
      "text/plain": [
       "0    444\n",
       "1    444\n",
       "Name: Class, dtype: int64"
      ]
     },
     "execution_count": 127,
     "metadata": {},
     "output_type": "execute_result"
    }
   ],
   "source": [
    "BCsmote = pd.concat([no_cls, def_oversample])\n",
    "BCsmote.Class.value_counts()"
   ]
  },
  {
   "cell_type": "code",
   "execution_count": 128,
   "id": "2c73182c",
   "metadata": {},
   "outputs": [],
   "source": [
    "#BCsmote.to_csv('BCsmote.csv')"
   ]
  },
  {
   "cell_type": "code",
   "execution_count": 129,
   "id": "6d25592d",
   "metadata": {},
   "outputs": [],
   "source": [
    "df2= pd.read_csv(\"BCsmote.csv\")"
   ]
  },
  {
   "cell_type": "code",
   "execution_count": 130,
   "id": "ef94d2cb",
   "metadata": {},
   "outputs": [
    {
     "name": "stdout",
     "output_type": "stream",
     "text": [
      "<class 'pandas.core.frame.DataFrame'>\n",
      "RangeIndex: 888 entries, 0 to 887\n",
      "Data columns (total 10 columns):\n",
      " #   Column           Non-Null Count  Dtype\n",
      "---  ------           --------------  -----\n",
      " 0   Cl_thickness     888 non-null    int64\n",
      " 1   Cell_size        888 non-null    int64\n",
      " 2   Cell_shape       888 non-null    int64\n",
      " 3   Marg_adhesion    888 non-null    int64\n",
      " 4   Epith_c_size     888 non-null    int64\n",
      " 5   Bare_nuclei      888 non-null    int64\n",
      " 6   Bl_cromatin      888 non-null    int64\n",
      " 7   Normal_nucleoli  888 non-null    int64\n",
      " 8   Mitoses          888 non-null    int64\n",
      " 9   Class            888 non-null    int64\n",
      "dtypes: int64(10)\n",
      "memory usage: 69.5 KB\n"
     ]
    }
   ],
   "source": [
    "df2.info()"
   ]
  },
  {
   "cell_type": "markdown",
   "id": "649203e9",
   "metadata": {},
   "source": [
    "# DECISION TREE"
   ]
  },
  {
   "cell_type": "code",
   "execution_count": 131,
   "id": "44050036",
   "metadata": {},
   "outputs": [],
   "source": [
    "#X and y\n",
    "X=df2.drop('Class',axis=1)\n",
    "y=df2['Class']"
   ]
  },
  {
   "cell_type": "code",
   "execution_count": 132,
   "id": "595d5120",
   "metadata": {},
   "outputs": [
    {
     "name": "stdout",
     "output_type": "stream",
     "text": [
      "<class 'pandas.core.frame.DataFrame'>\n",
      "RangeIndex: 888 entries, 0 to 887\n",
      "Data columns (total 9 columns):\n",
      " #   Column           Non-Null Count  Dtype\n",
      "---  ------           --------------  -----\n",
      " 0   Cl_thickness     888 non-null    int64\n",
      " 1   Cell_size        888 non-null    int64\n",
      " 2   Cell_shape       888 non-null    int64\n",
      " 3   Marg_adhesion    888 non-null    int64\n",
      " 4   Epith_c_size     888 non-null    int64\n",
      " 5   Bare_nuclei      888 non-null    int64\n",
      " 6   Bl_cromatin      888 non-null    int64\n",
      " 7   Normal_nucleoli  888 non-null    int64\n",
      " 8   Mitoses          888 non-null    int64\n",
      "dtypes: int64(9)\n",
      "memory usage: 62.6 KB\n"
     ]
    }
   ],
   "source": [
    "X.info()"
   ]
  },
  {
   "cell_type": "code",
   "execution_count": 133,
   "id": "64d197a2",
   "metadata": {},
   "outputs": [
    {
     "data": {
      "text/plain": [
       "(888, 9)"
      ]
     },
     "execution_count": 133,
     "metadata": {},
     "output_type": "execute_result"
    }
   ],
   "source": [
    "X.shape"
   ]
  },
  {
   "cell_type": "code",
   "execution_count": 134,
   "id": "5a7de14a",
   "metadata": {},
   "outputs": [
    {
     "data": {
      "text/plain": [
       "(888,)"
      ]
     },
     "execution_count": 134,
     "metadata": {},
     "output_type": "execute_result"
    }
   ],
   "source": [
    "y.shape"
   ]
  },
  {
   "cell_type": "code",
   "execution_count": 135,
   "id": "7ee9743c",
   "metadata": {},
   "outputs": [],
   "source": [
    "#train test\n",
    "from sklearn.model_selection import train_test_split\n",
    "X_train,X_test,y_train,y_test=train_test_split(X,y,test_size=0.3,random_state=123)"
   ]
  },
  {
   "cell_type": "code",
   "execution_count": 136,
   "id": "aacf8c9b",
   "metadata": {},
   "outputs": [
    {
     "data": {
      "text/plain": [
       "(621, 9)"
      ]
     },
     "execution_count": 136,
     "metadata": {},
     "output_type": "execute_result"
    }
   ],
   "source": [
    "X_train.shape"
   ]
  },
  {
   "cell_type": "code",
   "execution_count": 137,
   "id": "ceb4746f",
   "metadata": {},
   "outputs": [
    {
     "data": {
      "text/plain": [
       "(267, 9)"
      ]
     },
     "execution_count": 137,
     "metadata": {},
     "output_type": "execute_result"
    }
   ],
   "source": [
    "X_test.shape"
   ]
  },
  {
   "cell_type": "code",
   "execution_count": 138,
   "id": "d7ebd6cd",
   "metadata": {},
   "outputs": [
    {
     "data": {
      "text/plain": [
       "(621,)"
      ]
     },
     "execution_count": 138,
     "metadata": {},
     "output_type": "execute_result"
    }
   ],
   "source": [
    "y_train.shape"
   ]
  },
  {
   "cell_type": "code",
   "execution_count": 139,
   "id": "e83aacab",
   "metadata": {},
   "outputs": [
    {
     "data": {
      "text/plain": [
       "(267,)"
      ]
     },
     "execution_count": 139,
     "metadata": {},
     "output_type": "execute_result"
    }
   ],
   "source": [
    "y_test.shape"
   ]
  },
  {
   "cell_type": "code",
   "execution_count": 140,
   "id": "a361c0f4",
   "metadata": {},
   "outputs": [],
   "source": [
    "from sklearn.model_selection import train_test_split\n",
    "from sklearn import tree\n",
    "from sklearn.tree import DecisionTreeClassifier\n",
    "from sklearn import metrics\n",
    "from sklearn.metrics import classification_report, confusion_matrix\n",
    "from sklearn.metrics import roc_curve, auc, roc_auc_score"
   ]
  },
  {
   "cell_type": "code",
   "execution_count": 141,
   "id": "8780d75c",
   "metadata": {},
   "outputs": [],
   "source": [
    "# model \n",
    "dt = tree.DecisionTreeClassifier()\n",
    "dtmodel = dt.fit(X_train, y_train)"
   ]
  },
  {
   "cell_type": "code",
   "execution_count": 142,
   "id": "c07a0ab8",
   "metadata": {},
   "outputs": [
    {
     "data": {
      "text/plain": [
       "[Text(0.2798913043478261, 0.9375, 'X[2] <= 2.5\\ngini = 0.5\\nsamples = 621\\nvalue = [312, 309]'),\n",
       " Text(0.13043478260869565, 0.8125, 'X[5] <= 5.5\\ngini = 0.035\\nsamples = 284\\nvalue = [279, 5]'),\n",
       " Text(0.08695652173913043, 0.6875, 'X[1] <= 7.0\\ngini = 0.007\\nsamples = 280\\nvalue = [279, 1]'),\n",
       " Text(0.043478260869565216, 0.5625, 'gini = 0.0\\nsamples = 279\\nvalue = [279, 0]'),\n",
       " Text(0.13043478260869565, 0.5625, 'gini = 0.0\\nsamples = 1\\nvalue = [0, 1]'),\n",
       " Text(0.17391304347826086, 0.6875, 'gini = 0.0\\nsamples = 4\\nvalue = [0, 4]'),\n",
       " Text(0.42934782608695654, 0.8125, 'X[1] <= 1.5\\ngini = 0.177\\nsamples = 337\\nvalue = [33, 304]'),\n",
       " Text(0.2608695652173913, 0.6875, 'X[5] <= 3.5\\ngini = 0.111\\nsamples = 17\\nvalue = [16, 1]'),\n",
       " Text(0.21739130434782608, 0.5625, 'gini = 0.0\\nsamples = 16\\nvalue = [16, 0]'),\n",
       " Text(0.30434782608695654, 0.5625, 'gini = 0.0\\nsamples = 1\\nvalue = [0, 1]'),\n",
       " Text(0.5978260869565217, 0.6875, 'X[5] <= 2.5\\ngini = 0.101\\nsamples = 320\\nvalue = [17, 303]'),\n",
       " Text(0.391304347826087, 0.5625, 'X[4] <= 3.5\\ngini = 0.438\\nsamples = 37\\nvalue = [12, 25]'),\n",
       " Text(0.34782608695652173, 0.4375, 'gini = 0.0\\nsamples = 10\\nvalue = [10, 0]'),\n",
       " Text(0.43478260869565216, 0.4375, 'X[3] <= 1.5\\ngini = 0.137\\nsamples = 27\\nvalue = [2, 25]'),\n",
       " Text(0.391304347826087, 0.3125, 'X[0] <= 6.5\\ngini = 0.48\\nsamples = 5\\nvalue = [2, 3]'),\n",
       " Text(0.34782608695652173, 0.1875, 'gini = 0.0\\nsamples = 2\\nvalue = [2, 0]'),\n",
       " Text(0.43478260869565216, 0.1875, 'gini = 0.0\\nsamples = 3\\nvalue = [0, 3]'),\n",
       " Text(0.4782608695652174, 0.3125, 'gini = 0.0\\nsamples = 22\\nvalue = [0, 22]'),\n",
       " Text(0.8043478260869565, 0.5625, 'X[0] <= 6.5\\ngini = 0.035\\nsamples = 283\\nvalue = [5, 278]'),\n",
       " Text(0.7608695652173914, 0.4375, 'X[5] <= 5.5\\ngini = 0.081\\nsamples = 118\\nvalue = [5, 113]'),\n",
       " Text(0.6086956521739131, 0.3125, 'X[4] <= 5.5\\ngini = 0.219\\nsamples = 24\\nvalue = [3, 21]'),\n",
       " Text(0.5217391304347826, 0.1875, 'X[0] <= 5.5\\ngini = 0.091\\nsamples = 21\\nvalue = [1, 20]'),\n",
       " Text(0.4782608695652174, 0.0625, 'gini = 0.0\\nsamples = 20\\nvalue = [0, 20]'),\n",
       " Text(0.5652173913043478, 0.0625, 'gini = 0.0\\nsamples = 1\\nvalue = [1, 0]'),\n",
       " Text(0.6956521739130435, 0.1875, 'X[7] <= 8.0\\ngini = 0.444\\nsamples = 3\\nvalue = [2, 1]'),\n",
       " Text(0.6521739130434783, 0.0625, 'gini = 0.0\\nsamples = 2\\nvalue = [2, 0]'),\n",
       " Text(0.7391304347826086, 0.0625, 'gini = 0.0\\nsamples = 1\\nvalue = [0, 1]'),\n",
       " Text(0.9130434782608695, 0.3125, 'X[7] <= 2.5\\ngini = 0.042\\nsamples = 94\\nvalue = [2, 92]'),\n",
       " Text(0.8695652173913043, 0.1875, 'X[7] <= 1.5\\ngini = 0.26\\nsamples = 13\\nvalue = [2, 11]'),\n",
       " Text(0.8260869565217391, 0.0625, 'gini = 0.0\\nsamples = 11\\nvalue = [0, 11]'),\n",
       " Text(0.9130434782608695, 0.0625, 'gini = 0.0\\nsamples = 2\\nvalue = [2, 0]'),\n",
       " Text(0.9565217391304348, 0.1875, 'gini = 0.0\\nsamples = 81\\nvalue = [0, 81]'),\n",
       " Text(0.8478260869565217, 0.4375, 'gini = 0.0\\nsamples = 165\\nvalue = [0, 165]')]"
      ]
     },
     "execution_count": 142,
     "metadata": {},
     "output_type": "execute_result"
    },
    {
     "data": {
      "image/png": "[encoded data removed]",
      "text/plain": [
       "<Figure size 432x288 with 1 Axes>"
      ]
     },
     "metadata": {},
     "output_type": "display_data"
    }
   ],
   "source": [
    "# tree plot\n",
    "tree.plot_tree(dtmodel)"
   ]
  },
  {
   "cell_type": "code",
   "execution_count": 143,
   "id": "8f1b5ec0",
   "metadata": {},
   "outputs": [],
   "source": [
    "y_predict = dtmodel.predict(X_test)"
   ]
  },
  {
   "cell_type": "code",
   "execution_count": 144,
   "id": "44d5136e",
   "metadata": {},
   "outputs": [
    {
     "data": {
      "text/plain": [
       "array([[125,   7],\n",
       "       [  8, 127]], dtype=int64)"
      ]
     },
     "execution_count": 144,
     "metadata": {},
     "output_type": "execute_result"
    }
   ],
   "source": [
    "# classification matrix\n",
    "confusion_matrix(y_test, y_predict)"
   ]
  },
  {
   "cell_type": "code",
   "execution_count": 145,
   "id": "90b14c04",
   "metadata": {},
   "outputs": [
    {
     "name": "stdout",
     "output_type": "stream",
     "text": [
      "              precision    recall  f1-score   support\n",
      "\n",
      "           0       0.94      0.95      0.94       132\n",
      "           1       0.95      0.94      0.94       135\n",
      "\n",
      "    accuracy                           0.94       267\n",
      "   macro avg       0.94      0.94      0.94       267\n",
      "weighted avg       0.94      0.94      0.94       267\n",
      "\n"
     ]
    }
   ],
   "source": [
    "print(classification_report(y_test, y_predict))"
   ]
  },
  {
   "cell_type": "code",
   "execution_count": 146,
   "id": "8d2a709d",
   "metadata": {},
   "outputs": [
    {
     "name": "stdout",
     "output_type": "stream",
     "text": [
      "0.9438552188552188\n"
     ]
    }
   ],
   "source": [
    "y_pred_prob = dtmodel.predict_proba(X_test)\n",
    "fpr, tpr, thresholds =roc_curve(y_test, y_pred_prob[:,1])\n",
    "roc_auc = auc(fpr, tpr) \n",
    "print(roc_auc) "
   ]
  },
  {
   "cell_type": "code",
   "execution_count": 147,
   "id": "898fff3a",
   "metadata": {},
   "outputs": [
    {
     "data": {
      "image/png": "[encoded data removed]",
      "text/plain": [
       "<Figure size 432x288 with 1 Axes>"
      ]
     },
     "metadata": {},
     "output_type": "display_data"
    }
   ],
   "source": [
    "#ROC Curve\n",
    "plt.title('ROC Curve for Decision Tree')\n",
    "plt.xlabel('False Positive Rate (1-Specificity)')\n",
    "plt.ylabel('True Positive Rate (Sensitivity)')\n",
    "plt.plot([0, 1], [0, 1],'r--')\n",
    "plt.xlim([0, 1])\n",
    "plt.ylim([0, 1])\n",
    "plt.plot(fpr, tpr, label = 'AUC =' +str(roc_auc))\n",
    "plt.legend(loc=4) #Location of label\n",
    "plt.show()"
   ]
  },
  {
   "cell_type": "code",
   "execution_count": 148,
   "id": "78e8bc3a",
   "metadata": {},
   "outputs": [],
   "source": [
    "#oaa\n",
    "from sklearn.metrics import accuracy_score"
   ]
  },
  {
   "cell_type": "code",
   "execution_count": 149,
   "id": "6cf9c404",
   "metadata": {},
   "outputs": [],
   "source": [
    "y_train_pred=dt.predict(X_train)\n",
    "y_test_pred=dt.predict(X_test)"
   ]
  },
  {
   "cell_type": "code",
   "execution_count": 150,
   "id": "c9efcd19",
   "metadata": {},
   "outputs": [
    {
     "name": "stdout",
     "output_type": "stream",
     "text": [
      "1.0\n",
      "0.94\n"
     ]
    }
   ],
   "source": [
    "print(round(accuracy_score(y_train,y_train_pred),2))\n",
    "print(round(accuracy_score(y_test,y_test_pred),2))"
   ]
  },
  {
   "cell_type": "code",
   "execution_count": 151,
   "id": "882978ba",
   "metadata": {},
   "outputs": [],
   "source": [
    "#find optinum no of depth\n",
    "depth=[1,2,3,4,5,6,7,8,9]\n",
    "accuracy_train,accuracy_test=[],[]\n",
    "for i in depth:\n",
    "        tree=DecisionTreeClassifier(max_depth=i)\n",
    "        dt.fit(X_train,y_train)\n",
    "        y_train_pred1=dt.predict(X_train)\n",
    "        y_test_pred1=dt.predict(X_test)\n",
    "        \n",
    "        accuracy_train.append(accuracy_score(y_train,y_train_pred1))\n",
    "        accuracy_test.append(accuracy_score(y_test,y_test_pred1))"
   ]
  },
  {
   "cell_type": "code",
   "execution_count": 152,
   "id": "6867fde1",
   "metadata": {},
   "outputs": [
    {
     "data": {
      "image/png": "[encoded data removed]",
      "text/plain": [
       "<Figure size 1008x504 with 1 Axes>"
      ]
     },
     "metadata": {},
     "output_type": "display_data"
    }
   ],
   "source": [
    "#plot\n",
    "plt.figure(figsize=(14,7))\n",
    "sns.lineplot(y=accuracy_train,x=depth,label='TrainAccuracy')\n",
    "sns.lineplot(y=accuracy_test,x=depth,label='TestAccuracy')\n",
    "plt.title('Max Depth:Classification')\n",
    "plt.show()"
   ]
  },
  {
   "cell_type": "code",
   "execution_count": 153,
   "id": "483dd6dd",
   "metadata": {},
   "outputs": [],
   "source": [
    "#Building a tree with depth 4"
   ]
  },
  {
   "cell_type": "code",
   "execution_count": 154,
   "id": "970a85df",
   "metadata": {},
   "outputs": [],
   "source": [
    "tree2=DecisionTreeClassifier(random_state=40,max_depth=4)\n",
    "tree2.fit(X_train,y_train)\n",
    "y_train_pred2=tree2.predict(X_train)\n",
    "y_test_pred2=tree2.predict(X_test)\n"
   ]
  },
  {
   "cell_type": "code",
   "execution_count": 155,
   "id": "b8e95b57",
   "metadata": {},
   "outputs": [
    {
     "name": "stdout",
     "output_type": "stream",
     "text": [
      "0.99\n",
      "0.96\n"
     ]
    }
   ],
   "source": [
    "print(round(accuracy_score(y_train,y_train_pred2),2))\n",
    "print(round(accuracy_score(y_test,y_test_pred2),2))"
   ]
  },
  {
   "cell_type": "markdown",
   "id": "a9d0ec36",
   "metadata": {},
   "source": [
    "# Random Forest"
   ]
  },
  {
   "cell_type": "code",
   "execution_count": 156,
   "id": "ffd27e3c",
   "metadata": {},
   "outputs": [],
   "source": [
    "#Fit random forest"
   ]
  },
  {
   "cell_type": "code",
   "execution_count": 157,
   "id": "cd2f5490",
   "metadata": {},
   "outputs": [],
   "source": [
    "from sklearn.ensemble import RandomForestClassifier"
   ]
  },
  {
   "cell_type": "code",
   "execution_count": 158,
   "id": "998f22f3",
   "metadata": {},
   "outputs": [],
   "source": [
    "#create the model with 100 tress\n",
    "rf=RandomForestClassifier(n_estimators=100,bootstrap=True,max_features='sqrt')"
   ]
  },
  {
   "cell_type": "code",
   "execution_count": 159,
   "id": "0acd74cb",
   "metadata": {},
   "outputs": [],
   "source": [
    "rfFit=rf.fit(X_train,y_train)"
   ]
  },
  {
   "cell_type": "code",
   "execution_count": 160,
   "id": "5476905e",
   "metadata": {},
   "outputs": [],
   "source": [
    "#actual class prediction\n",
    "y_predRF=rfFit.predict(X_test)"
   ]
  },
  {
   "cell_type": "code",
   "execution_count": 161,
   "id": "45c3151a",
   "metadata": {},
   "outputs": [
    {
     "data": {
      "text/plain": [
       "267"
      ]
     },
     "execution_count": 161,
     "metadata": {},
     "output_type": "execute_result"
    }
   ],
   "source": [
    "len(y_predRF)"
   ]
  },
  {
   "cell_type": "code",
   "execution_count": 162,
   "id": "df596155",
   "metadata": {},
   "outputs": [
    {
     "data": {
      "text/plain": [
       "array([1, 1, 1, 0, 0, 1, 0, 0, 1, 0, 0, 1, 1, 0, 1, 1, 0, 0, 1, 1, 0, 0,\n",
       "       1, 0, 1, 1, 0, 1, 1, 1, 0, 0, 0, 0, 1, 1, 0, 0, 1, 0, 1, 1, 0, 0,\n",
       "       1, 0, 1, 0, 0, 0, 0, 0, 0, 1, 1, 1, 1, 0, 0, 1, 1, 1, 1, 0, 0, 1,\n",
       "       0, 0, 0, 0, 0, 1, 0, 1, 0, 1, 1, 1, 0, 0, 0, 0, 0, 1, 1, 0, 0, 0,\n",
       "       1, 0, 0, 0, 1, 0, 0, 1, 0, 1, 0, 0, 1, 0, 1, 0, 1, 1, 0, 0, 0, 0,\n",
       "       0, 0, 0, 1, 0, 1, 0, 1, 0, 1, 0, 1, 0, 1, 1, 0, 1, 1, 0, 1, 0, 0,\n",
       "       1, 0, 1, 0, 1, 1, 0, 1, 1, 0, 0, 0, 1, 0, 0, 0, 1, 1, 0, 1, 0, 1,\n",
       "       1, 0, 0, 1, 1, 1, 0, 0, 1, 1, 1, 1, 1, 0, 0, 1, 0, 1, 1, 0, 1, 0,\n",
       "       1, 0, 0, 0, 1, 1, 0, 1, 0, 1, 1, 1, 0, 1, 1, 0, 1, 1, 0, 0, 1, 1,\n",
       "       1, 0, 0, 1, 1, 0, 1, 1, 1, 1, 0, 0, 1, 0, 0, 1, 1, 0, 1, 1, 0, 1,\n",
       "       1, 1, 1, 1, 1, 1, 1, 0, 1, 0, 1, 1, 0, 1, 1, 0, 0, 0, 1, 1, 0, 1,\n",
       "       1, 0, 0, 0, 0, 1, 0, 1, 0, 0, 1, 1, 0, 0, 1, 0, 0, 1, 0, 0, 1, 0,\n",
       "       0, 1, 0], dtype=int64)"
      ]
     },
     "execution_count": 162,
     "metadata": {},
     "output_type": "execute_result"
    }
   ],
   "source": [
    "y_predRF"
   ]
  },
  {
   "cell_type": "code",
   "execution_count": 163,
   "id": "3ced6079",
   "metadata": {},
   "outputs": [
    {
     "data": {
      "text/html": [
       "<div>\n",
       "<style scoped>\n",
       "    .dataframe tbody tr th:only-of-type {\n",
       "        vertical-align: middle;\n",
       "    }\n",
       "\n",
       "    .dataframe tbody tr th {\n",
       "        vertical-align: top;\n",
       "    }\n",
       "\n",
       "    .dataframe thead th {\n",
       "        text-align: right;\n",
       "    }\n",
       "</style>\n",
       "<table border=\"1\" class=\"dataframe\">\n",
       "  <thead>\n",
       "    <tr style=\"text-align: right;\">\n",
       "      <th>predict</th>\n",
       "      <th>0</th>\n",
       "      <th>1</th>\n",
       "      <th>All</th>\n",
       "    </tr>\n",
       "    <tr>\n",
       "      <th>Acctual</th>\n",
       "      <th></th>\n",
       "      <th></th>\n",
       "      <th></th>\n",
       "    </tr>\n",
       "  </thead>\n",
       "  <tbody>\n",
       "    <tr>\n",
       "      <th>0</th>\n",
       "      <td>128</td>\n",
       "      <td>4</td>\n",
       "      <td>132</td>\n",
       "    </tr>\n",
       "    <tr>\n",
       "      <th>1</th>\n",
       "      <td>7</td>\n",
       "      <td>128</td>\n",
       "      <td>135</td>\n",
       "    </tr>\n",
       "    <tr>\n",
       "      <th>All</th>\n",
       "      <td>135</td>\n",
       "      <td>132</td>\n",
       "      <td>267</td>\n",
       "    </tr>\n",
       "  </tbody>\n",
       "</table>\n",
       "</div>"
      ],
      "text/plain": [
       "predict    0    1  All\n",
       "Acctual               \n",
       "0        128    4  132\n",
       "1          7  128  135\n",
       "All      135  132  267"
      ]
     },
     "execution_count": 163,
     "metadata": {},
     "output_type": "execute_result"
    }
   ],
   "source": [
    "#cross tab\n",
    "pd.crosstab(y_test,y_predRF,margins=True,rownames=['Acctual'],colnames=['predict'])"
   ]
  },
  {
   "cell_type": "code",
   "execution_count": 164,
   "id": "3ef9b462",
   "metadata": {},
   "outputs": [
    {
     "name": "stdout",
     "output_type": "stream",
     "text": [
      "              precision    recall  f1-score   support\n",
      "\n",
      "           0       0.95      0.97      0.96       132\n",
      "           1       0.97      0.95      0.96       135\n",
      "\n",
      "    accuracy                           0.96       267\n",
      "   macro avg       0.96      0.96      0.96       267\n",
      "weighted avg       0.96      0.96      0.96       267\n",
      "\n"
     ]
    }
   ],
   "source": [
    "print(classification_report(y_test,y_predRF))"
   ]
  },
  {
   "cell_type": "code",
   "execution_count": 165,
   "id": "910b2c2f",
   "metadata": {},
   "outputs": [],
   "source": [
    "#Probabilities for each class\n",
    "predP_RF=rfFit.predict_proba(X_test)[:,1]"
   ]
  },
  {
   "cell_type": "code",
   "execution_count": 166,
   "id": "2d0ae3e8",
   "metadata": {},
   "outputs": [
    {
     "data": {
      "text/plain": [
       "array([0.99, 0.98, 0.83, 0.  , 0.  , 1.  , 0.  , 0.  , 1.  , 0.  , 0.  ,\n",
       "       1.  , 1.  , 0.03, 1.  , 1.  , 0.  , 0.  , 0.98, 0.88, 0.  , 0.  ,\n",
       "       0.92, 0.  , 1.  , 0.92, 0.  , 0.99, 1.  , 0.98, 0.  , 0.  , 0.01,\n",
       "       0.  , 0.96, 0.79, 0.  , 0.13, 1.  , 0.  , 0.99, 0.98, 0.  , 0.  ,\n",
       "       0.8 , 0.2 , 1.  , 0.  , 0.  , 0.  , 0.  , 0.  , 0.37, 0.99, 1.  ,\n",
       "       0.99, 1.  , 0.  , 0.04, 0.97, 1.  , 0.99, 0.85, 0.  , 0.  , 0.99,\n",
       "       0.  , 0.  , 0.  , 0.  , 0.  , 1.  , 0.  , 0.98, 0.02, 1.  , 1.  ,\n",
       "       1.  , 0.  , 0.  , 0.  , 0.  , 0.  , 0.97, 0.97, 0.  , 0.  , 0.  ,\n",
       "       1.  , 0.04, 0.  , 0.02, 1.  , 0.  , 0.  , 0.99, 0.  , 1.  , 0.  ,\n",
       "       0.  , 1.  , 0.  , 1.  , 0.  , 1.  , 1.  , 0.14, 0.18, 0.  , 0.  ,\n",
       "       0.  , 0.  , 0.  , 1.  , 0.  , 1.  , 0.  , 0.92, 0.  , 0.91, 0.  ,\n",
       "       1.  , 0.42, 0.96, 1.  , 0.  , 1.  , 0.98, 0.  , 1.  , 0.  , 0.  ,\n",
       "       1.  , 0.48, 0.99, 0.  , 0.99, 0.96, 0.  , 0.94, 0.99, 0.  , 0.  ,\n",
       "       0.42, 1.  , 0.  , 0.  , 0.  , 0.97, 0.99, 0.  , 0.97, 0.  , 0.9 ,\n",
       "       0.78, 0.  , 0.  , 0.99, 1.  , 1.  , 0.  , 0.  , 1.  , 1.  , 0.97,\n",
       "       0.99, 1.  , 0.  , 0.  , 0.98, 0.  , 1.  , 1.  , 0.  , 0.93, 0.  ,\n",
       "       0.93, 0.  , 0.  , 0.  , 1.  , 0.98, 0.  , 0.9 , 0.  , 1.  , 0.99,\n",
       "       1.  , 0.  , 1.  , 1.  , 0.  , 0.99, 0.94, 0.04, 0.  , 0.98, 1.  ,\n",
       "       1.  , 0.  , 0.  , 1.  , 0.99, 0.  , 0.66, 0.94, 1.  , 1.  , 0.  ,\n",
       "       0.48, 1.  , 0.  , 0.42, 1.  , 1.  , 0.  , 0.98, 1.  , 0.14, 1.  ,\n",
       "       1.  , 1.  , 1.  , 0.88, 1.  , 1.  , 0.97, 0.  , 0.99, 0.  , 1.  ,\n",
       "       0.99, 0.  , 0.97, 0.97, 0.01, 0.  , 0.  , 1.  , 0.99, 0.01, 0.99,\n",
       "       1.  , 0.  , 0.01, 0.  , 0.  , 0.98, 0.  , 1.  , 0.14, 0.  , 0.99,\n",
       "       0.89, 0.  , 0.  , 0.99, 0.  , 0.  , 1.  , 0.  , 0.  , 0.97, 0.  ,\n",
       "       0.  , 1.  , 0.27])"
      ]
     },
     "execution_count": 166,
     "metadata": {},
     "output_type": "execute_result"
    }
   ],
   "source": [
    "predP_RF"
   ]
  },
  {
   "cell_type": "code",
   "execution_count": 167,
   "id": "13d41123",
   "metadata": {},
   "outputs": [],
   "source": [
    "#ROC Curve\n",
    "#find fpr,tpr,threshold\n",
    "false_positive_rateRF,true_positive_rateRF,thresholdsRF=sklearn.metrics.roc_curve(y_test,predP_RF)"
   ]
  },
  {
   "cell_type": "code",
   "execution_count": 168,
   "id": "e77f1c00",
   "metadata": {},
   "outputs": [],
   "source": [
    "roc_aucRF=auc(false_positive_rateRF,true_positive_rateRF)"
   ]
  },
  {
   "cell_type": "code",
   "execution_count": 169,
   "id": "2c57b995",
   "metadata": {},
   "outputs": [
    {
     "data": {
      "text/plain": [
       "0.9828563411896745"
      ]
     },
     "execution_count": 169,
     "metadata": {},
     "output_type": "execute_result"
    }
   ],
   "source": [
    "roc_aucRF"
   ]
  },
  {
   "cell_type": "code",
   "execution_count": 170,
   "id": "127eb47a",
   "metadata": {},
   "outputs": [
    {
     "data": {
      "image/png": "[encoded data removed]",
      "text/plain": [
       "<Figure size 432x288 with 1 Axes>"
      ]
     },
     "metadata": {
      "needs_background": "light"
     },
     "output_type": "display_data"
    }
   ],
   "source": [
    "#plot\n",
    "%matplotlib inline\n",
    "plt.figure()\n",
    "plt.plot(false_positive_rateRF,true_positive_rateRF,label='ROC curve-RF(area=%0.2f)'%roc_aucRF)\n",
    "plt.plot([0,1],[0,1],'k--')#k for black,r for red,b for blue,g for green\n",
    "plt.xlim([0.0,1.05])\n",
    "plt.ylim([0.0,1.05])\n",
    "plt.xlabel('False Poistive Rate')\n",
    "plt.ylabel('True Positive Rate')\n",
    "plt.title('Receiverrating Characteristic')\n",
    "plt.legend(loc='lower right')\n",
    "plt.show()"
   ]
  },
  {
   "cell_type": "markdown",
   "id": "d5bc63ce",
   "metadata": {},
   "source": [
    "Importance of variable"
   ]
  },
  {
   "cell_type": "code",
   "execution_count": 171,
   "id": "eacb0dab",
   "metadata": {},
   "outputs": [],
   "source": [
    "#extracr feature importances\n",
    "fi=pd.DataFrame({'feature':list(X_train.columns),'importance':rfFit.feature_importances_}).\\\n",
    "sort_values('importance',ascending=False)"
   ]
  },
  {
   "cell_type": "code",
   "execution_count": 172,
   "id": "a4d3daf3",
   "metadata": {},
   "outputs": [
    {
     "data": {
      "text/html": [
       "<div>\n",
       "<style scoped>\n",
       "    .dataframe tbody tr th:only-of-type {\n",
       "        vertical-align: middle;\n",
       "    }\n",
       "\n",
       "    .dataframe tbody tr th {\n",
       "        vertical-align: top;\n",
       "    }\n",
       "\n",
       "    .dataframe thead th {\n",
       "        text-align: right;\n",
       "    }\n",
       "</style>\n",
       "<table border=\"1\" class=\"dataframe\">\n",
       "  <thead>\n",
       "    <tr style=\"text-align: right;\">\n",
       "      <th></th>\n",
       "      <th>feature</th>\n",
       "      <th>importance</th>\n",
       "    </tr>\n",
       "  </thead>\n",
       "  <tbody>\n",
       "    <tr>\n",
       "      <th>2</th>\n",
       "      <td>Cell_shape</td>\n",
       "      <td>0.290012</td>\n",
       "    </tr>\n",
       "    <tr>\n",
       "      <th>1</th>\n",
       "      <td>Cell_size</td>\n",
       "      <td>0.229423</td>\n",
       "    </tr>\n",
       "    <tr>\n",
       "      <th>5</th>\n",
       "      <td>Bare_nuclei</td>\n",
       "      <td>0.181861</td>\n",
       "    </tr>\n",
       "    <tr>\n",
       "      <th>4</th>\n",
       "      <td>Epith_c_size</td>\n",
       "      <td>0.088015</td>\n",
       "    </tr>\n",
       "    <tr>\n",
       "      <th>6</th>\n",
       "      <td>Bl_cromatin</td>\n",
       "      <td>0.082523</td>\n",
       "    </tr>\n",
       "  </tbody>\n",
       "</table>\n",
       "</div>"
      ],
      "text/plain": [
       "        feature  importance\n",
       "2    Cell_shape    0.290012\n",
       "1     Cell_size    0.229423\n",
       "5   Bare_nuclei    0.181861\n",
       "4  Epith_c_size    0.088015\n",
       "6   Bl_cromatin    0.082523"
      ]
     },
     "execution_count": 172,
     "metadata": {},
     "output_type": "execute_result"
    }
   ],
   "source": [
    "fi.head()"
   ]
  },
  {
   "cell_type": "markdown",
   "id": "2b6c93db",
   "metadata": {},
   "source": [
    "# Grid search model\n",
    "\n"
   ]
  },
  {
   "cell_type": "code",
   "execution_count": 173,
   "id": "b304f1c0",
   "metadata": {},
   "outputs": [],
   "source": [
    "from sklearn.model_selection import GridSearchCV"
   ]
  },
  {
   "cell_type": "code",
   "execution_count": 174,
   "id": "23dfa920",
   "metadata": {},
   "outputs": [],
   "source": [
    "param_grid={'bootstrap':[True],'max_depth':[5,6,7,8,9,10,11],'max_features':['auto','log2'],'n_estimators':[25,50,100,150,200]}"
   ]
  },
  {
   "cell_type": "code",
   "execution_count": 175,
   "id": "505ac3e8",
   "metadata": {},
   "outputs": [],
   "source": [
    "rfr=RandomForestClassifier(random_state=1)"
   ]
  },
  {
   "cell_type": "code",
   "execution_count": 176,
   "id": "8ce085f1",
   "metadata": {},
   "outputs": [],
   "source": [
    "g_search=GridSearchCV(estimator=rfr,param_grid=param_grid,cv=3)"
   ]
  },
  {
   "cell_type": "code",
   "execution_count": 177,
   "id": "0b934019",
   "metadata": {},
   "outputs": [],
   "source": [
    "gmod=g_search.fit(X_train,y_train)"
   ]
  },
  {
   "cell_type": "code",
   "execution_count": 178,
   "id": "03b13ecb",
   "metadata": {},
   "outputs": [
    {
     "name": "stdout",
     "output_type": "stream",
     "text": [
      "{'bootstrap': True, 'max_depth': 5, 'max_features': 'auto', 'n_estimators': 150}\n"
     ]
    }
   ],
   "source": [
    "#best parameters\n",
    "print(gmod.best_params_)"
   ]
  },
  {
   "cell_type": "code",
   "execution_count": 179,
   "id": "8cbcd00c",
   "metadata": {},
   "outputs": [],
   "source": [
    "gprd=gmod.predict(X_test)"
   ]
  },
  {
   "cell_type": "code",
   "execution_count": 180,
   "id": "c44cab9f",
   "metadata": {},
   "outputs": [
    {
     "data": {
      "text/plain": [
       "array([1, 1, 1, 0, 0, 1, 0, 0, 1, 0, 0, 1, 1, 0, 1, 1, 0, 0, 1, 1, 0, 0,\n",
       "       1, 0, 1, 1, 0, 1, 1, 1, 0, 0, 0, 0, 1, 1, 0, 0, 1, 0, 1, 1, 0, 0,\n",
       "       1, 0, 1, 0, 0, 0, 0, 0, 0, 1, 1, 1, 1, 0, 0, 1, 1, 1, 1, 0, 0, 1,\n",
       "       0, 0, 0, 0, 0, 1, 0, 1, 0, 1, 1, 1, 0, 0, 0, 0, 0, 1, 1, 0, 0, 0,\n",
       "       1, 0, 0, 0, 1, 0, 0, 1, 0, 1, 0, 0, 1, 0, 1, 0, 1, 1, 0, 0, 0, 0,\n",
       "       0, 0, 0, 1, 0, 1, 0, 1, 0, 1, 0, 1, 0, 1, 1, 0, 1, 1, 0, 1, 0, 0,\n",
       "       1, 1, 1, 0, 1, 1, 0, 1, 1, 0, 0, 0, 1, 0, 0, 0, 1, 1, 0, 1, 0, 1,\n",
       "       1, 0, 0, 1, 1, 1, 0, 0, 1, 1, 1, 1, 1, 0, 0, 1, 0, 1, 1, 0, 1, 0,\n",
       "       1, 0, 0, 0, 1, 1, 0, 1, 0, 1, 1, 1, 0, 1, 1, 0, 1, 1, 0, 0, 1, 1,\n",
       "       1, 0, 0, 1, 1, 0, 1, 1, 1, 1, 0, 1, 1, 0, 0, 1, 1, 0, 1, 1, 0, 1,\n",
       "       1, 1, 1, 1, 1, 1, 1, 0, 1, 0, 1, 1, 0, 1, 1, 0, 0, 0, 1, 1, 0, 1,\n",
       "       1, 0, 0, 0, 0, 1, 0, 1, 0, 0, 1, 1, 0, 0, 1, 0, 0, 1, 0, 0, 1, 0,\n",
       "       0, 1, 0], dtype=int64)"
      ]
     },
     "execution_count": 180,
     "metadata": {},
     "output_type": "execute_result"
    }
   ],
   "source": [
    "gprd"
   ]
  },
  {
   "cell_type": "code",
   "execution_count": 181,
   "id": "f7e2b4dc",
   "metadata": {},
   "outputs": [
    {
     "data": {
      "text/html": [
       "<div>\n",
       "<style scoped>\n",
       "    .dataframe tbody tr th:only-of-type {\n",
       "        vertical-align: middle;\n",
       "    }\n",
       "\n",
       "    .dataframe tbody tr th {\n",
       "        vertical-align: top;\n",
       "    }\n",
       "\n",
       "    .dataframe thead th {\n",
       "        text-align: right;\n",
       "    }\n",
       "</style>\n",
       "<table border=\"1\" class=\"dataframe\">\n",
       "  <thead>\n",
       "    <tr style=\"text-align: right;\">\n",
       "      <th>predict</th>\n",
       "      <th>0</th>\n",
       "      <th>1</th>\n",
       "      <th>All</th>\n",
       "    </tr>\n",
       "    <tr>\n",
       "      <th>Acctual</th>\n",
       "      <th></th>\n",
       "      <th></th>\n",
       "      <th></th>\n",
       "    </tr>\n",
       "  </thead>\n",
       "  <tbody>\n",
       "    <tr>\n",
       "      <th>0</th>\n",
       "      <td>128</td>\n",
       "      <td>4</td>\n",
       "      <td>132</td>\n",
       "    </tr>\n",
       "    <tr>\n",
       "      <th>1</th>\n",
       "      <td>5</td>\n",
       "      <td>130</td>\n",
       "      <td>135</td>\n",
       "    </tr>\n",
       "    <tr>\n",
       "      <th>All</th>\n",
       "      <td>133</td>\n",
       "      <td>134</td>\n",
       "      <td>267</td>\n",
       "    </tr>\n",
       "  </tbody>\n",
       "</table>\n",
       "</div>"
      ],
      "text/plain": [
       "predict    0    1  All\n",
       "Acctual               \n",
       "0        128    4  132\n",
       "1          5  130  135\n",
       "All      133  134  267"
      ]
     },
     "execution_count": 181,
     "metadata": {},
     "output_type": "execute_result"
    }
   ],
   "source": [
    "pd.crosstab(y_test,gprd,margins=True,rownames=['Acctual'],colnames=['predict'])"
   ]
  },
  {
   "cell_type": "code",
   "execution_count": 182,
   "id": "e3923722",
   "metadata": {},
   "outputs": [
    {
     "name": "stdout",
     "output_type": "stream",
     "text": [
      "              precision    recall  f1-score   support\n",
      "\n",
      "           0       0.96      0.97      0.97       132\n",
      "           1       0.97      0.96      0.97       135\n",
      "\n",
      "    accuracy                           0.97       267\n",
      "   macro avg       0.97      0.97      0.97       267\n",
      "weighted avg       0.97      0.97      0.97       267\n",
      "\n"
     ]
    }
   ],
   "source": [
    "print(classification_report(y_test,gprd))"
   ]
  },
  {
   "cell_type": "code",
   "execution_count": 205,
   "id": "93628f56",
   "metadata": {},
   "outputs": [],
   "source": [
    "#Probabilities for each class\n",
    "predP_RFG=gmod.predict_proba(X_test)[:,1]"
   ]
  },
  {
   "cell_type": "code",
   "execution_count": 206,
   "id": "ba17f9c9",
   "metadata": {},
   "outputs": [
    {
     "data": {
      "text/plain": [
       "array([9.67764131e-01, 9.81443760e-01, 7.88481161e-01, 1.13524767e-04,\n",
       "       1.91044147e-04, 9.97725478e-01, 1.54636059e-03, 2.13027254e-04,\n",
       "       9.93644691e-01, 1.91044147e-04, 1.43112912e-03, 9.98615954e-01,\n",
       "       9.99407567e-01, 7.02721945e-02, 9.69878810e-01, 9.95046617e-01,\n",
       "       1.13524767e-04, 1.13524767e-04, 9.81803340e-01, 8.01664514e-01,\n",
       "       2.90546634e-04, 1.13524767e-04, 9.16114077e-01, 1.13524767e-04,\n",
       "       9.97267535e-01, 9.19166355e-01, 6.75782007e-03, 9.94723240e-01,\n",
       "       9.67872693e-01, 9.88333401e-01, 1.13524767e-04, 1.13524767e-04,\n",
       "       2.56085521e-03, 1.91044147e-04, 9.57336960e-01, 7.80204108e-01,\n",
       "       1.13524767e-04, 1.92032613e-01, 9.98882888e-01, 1.13524767e-04,\n",
       "       9.88250342e-01, 9.67098626e-01, 1.13524767e-04, 1.13524767e-04,\n",
       "       7.38887924e-01, 3.11552012e-01, 9.96353139e-01, 1.13524767e-04,\n",
       "       2.13027254e-04, 3.25127689e-02, 1.13524767e-04, 1.91044147e-04,\n",
       "       4.65453529e-01, 9.67764131e-01, 9.97826012e-01, 9.29781551e-01,\n",
       "       9.99407567e-01, 2.90546634e-04, 7.34029060e-02, 9.91131378e-01,\n",
       "       9.83880352e-01, 9.81766552e-01, 9.49542715e-01, 1.13524767e-04,\n",
       "       1.13524767e-04, 9.93620607e-01, 1.13524767e-04, 1.54636059e-03,\n",
       "       2.13027254e-04, 1.91044147e-04, 1.13524767e-04, 9.91899310e-01,\n",
       "       2.90546634e-04, 9.85187210e-01, 1.76079793e-02, 9.95938456e-01,\n",
       "       9.91913325e-01, 9.96019223e-01, 1.13524767e-04, 1.91044147e-04,\n",
       "       2.13027254e-04, 2.13027254e-04, 6.59698085e-03, 9.94627337e-01,\n",
       "       9.68491521e-01, 1.54636059e-03, 3.43409824e-04, 1.91044147e-04,\n",
       "       9.27174645e-01, 2.68649470e-02, 7.73257239e-03, 3.10584277e-02,\n",
       "       9.94529472e-01, 2.13027254e-04, 1.91044147e-04, 9.64223816e-01,\n",
       "       1.13524767e-04, 9.94529472e-01, 1.13524767e-04, 4.42912312e-04,\n",
       "       9.98499615e-01, 2.13027254e-04, 9.97725478e-01, 1.13524767e-04,\n",
       "       9.97826012e-01, 9.98499615e-01, 1.34415262e-01, 2.06286102e-01,\n",
       "       1.13524767e-04, 9.11534021e-05, 1.13524767e-04, 1.13524767e-04,\n",
       "       1.13524767e-04, 9.98644869e-01, 1.13524767e-04, 9.83039484e-01,\n",
       "       1.62644916e-02, 8.07037238e-01, 2.13027254e-04, 9.59363087e-01,\n",
       "       2.90546634e-04, 9.99266016e-01, 3.95678913e-01, 9.75332391e-01,\n",
       "       9.98745590e-01, 1.91044147e-04, 9.52917227e-01, 9.59147152e-01,\n",
       "       1.91044147e-04, 9.76418194e-01, 1.91044147e-04, 1.13524767e-04,\n",
       "       9.95938456e-01, 6.13581200e-01, 9.75922559e-01, 1.13524767e-04,\n",
       "       9.64223816e-01, 8.66152321e-01, 1.13524767e-04, 9.39715490e-01,\n",
       "       9.88250342e-01, 1.13524767e-04, 1.91044147e-04, 4.39761303e-01,\n",
       "       9.97725478e-01, 1.91044147e-04, 1.13524767e-04, 1.54636059e-03,\n",
       "       9.82085133e-01, 9.89968703e-01, 9.11534021e-05, 9.82085133e-01,\n",
       "       3.78873844e-03, 9.60384788e-01, 8.40746273e-01, 1.00323140e-02,\n",
       "       1.13524767e-04, 9.79721686e-01, 9.93093840e-01, 9.94528052e-01,\n",
       "       1.13524767e-04, 3.43409824e-04, 9.86956506e-01, 9.96844512e-01,\n",
       "       9.45351570e-01, 9.82214857e-01, 9.74739648e-01, 1.13524767e-04,\n",
       "       1.13524767e-04, 9.64799418e-01, 3.43409824e-04, 9.98644777e-01,\n",
       "       9.93467072e-01, 1.13524767e-04, 9.71527999e-01, 1.13524767e-04,\n",
       "       9.71527999e-01, 1.13524767e-04, 2.13027254e-04, 1.13524767e-04,\n",
       "       9.98679786e-01, 9.88562921e-01, 1.91044147e-04, 8.63563638e-01,\n",
       "       2.90546634e-04, 9.97380530e-01, 9.83708509e-01, 9.93093840e-01,\n",
       "       1.91044147e-04, 9.97277744e-01, 9.91913325e-01, 1.13524767e-04,\n",
       "       9.83708509e-01, 9.72381469e-01, 5.79083520e-02, 1.13524767e-04,\n",
       "       9.85187210e-01, 9.94602028e-01, 9.87186091e-01, 1.13524767e-04,\n",
       "       1.13524767e-04, 9.74739648e-01, 9.81766552e-01, 6.75782007e-03,\n",
       "       7.17957179e-01, 9.54628968e-01, 9.97055746e-01, 9.79591106e-01,\n",
       "       1.13524767e-04, 6.13581200e-01, 9.99575771e-01, 2.56085521e-03,\n",
       "       4.39761303e-01, 9.94602028e-01, 9.94528052e-01, 1.13524767e-04,\n",
       "       9.86905720e-01, 9.97773720e-01, 1.52493066e-01, 9.91899310e-01,\n",
       "       9.97267535e-01, 9.67705446e-01, 9.77224575e-01, 8.01664514e-01,\n",
       "       9.95603934e-01, 9.94602028e-01, 9.35873223e-01, 7.82165452e-03,\n",
       "       9.64223816e-01, 1.13524767e-04, 9.97773720e-01, 9.93704303e-01,\n",
       "       1.13524767e-04, 9.64181011e-01, 9.79503314e-01, 2.89182705e-02,\n",
       "       1.13524767e-04, 1.03857571e-02, 9.84880180e-01, 9.88250342e-01,\n",
       "       1.13524767e-04, 9.90736170e-01, 9.79591106e-01, 1.13524767e-04,\n",
       "       5.62466579e-02, 1.91044147e-04, 1.13524767e-04, 9.85187210e-01,\n",
       "       3.78873844e-03, 9.94602028e-01, 1.26211002e-01, 1.91044147e-04,\n",
       "       9.79721686e-01, 9.04568426e-01, 1.91044147e-04, 1.13524767e-04,\n",
       "       9.87078409e-01, 1.91044147e-04, 1.06183946e-02, 9.94602028e-01,\n",
       "       1.13524767e-04, 2.90546634e-04, 8.74329509e-01, 1.91044147e-04,\n",
       "       1.13524767e-04, 9.98644777e-01, 3.09947551e-01])"
      ]
     },
     "execution_count": 206,
     "metadata": {},
     "output_type": "execute_result"
    }
   ],
   "source": [
    "predP_RFG"
   ]
  },
  {
   "cell_type": "code",
   "execution_count": 207,
   "id": "02e40186",
   "metadata": {},
   "outputs": [],
   "source": [
    "#ROC Curve\n",
    "#find fpr,tpr,threshold\n",
    "false_positive_rateRFG,true_positive_rateRFG,thresholdsRFG=sklearn.metrics.roc_curve(y_test,predP_RFG)"
   ]
  },
  {
   "cell_type": "code",
   "execution_count": 208,
   "id": "a9f0fdcd",
   "metadata": {},
   "outputs": [],
   "source": [
    "roc_aucRFG=auc(false_positive_rateRFG,true_positive_rateRFG)"
   ]
  },
  {
   "cell_type": "code",
   "execution_count": 209,
   "id": "63e961ff",
   "metadata": {},
   "outputs": [
    {
     "data": {
      "text/plain": [
       "0.9882716049382716"
      ]
     },
     "execution_count": 209,
     "metadata": {},
     "output_type": "execute_result"
    }
   ],
   "source": [
    "roc_aucRFG"
   ]
  },
  {
   "cell_type": "code",
   "execution_count": 210,
   "id": "77f3e7ce",
   "metadata": {},
   "outputs": [
    {
     "data": {
      "image/png": "[encoded data removed]",
      "text/plain": [
       "<Figure size 432x288 with 1 Axes>"
      ]
     },
     "metadata": {
      "needs_background": "light"
     },
     "output_type": "display_data"
    }
   ],
   "source": [
    "#plot\n",
    "%matplotlib inline\n",
    "plt.figure()\n",
    "plt.plot(false_positive_rateRFG,true_positive_rateRFG,label='ROC curve-RFG(area=%0.2f)'%roc_aucRFG)\n",
    "plt.plot([0,1],[0,1],'k--')#k for black,r for red,b for blue,g for green\n",
    "plt.xlim([0.0,1.05])\n",
    "plt.ylim([0.0,1.05])\n",
    "plt.xlabel('False Poistive Rate')\n",
    "plt.ylabel('True Positive Rate')\n",
    "plt.title('Receiverrating Characteristic')\n",
    "plt.legend(loc='lower right')\n",
    "plt.show()"
   ]
  },
  {
   "cell_type": "markdown",
   "id": "a758b7d2",
   "metadata": {},
   "source": [
    "# Adaptive Boosting"
   ]
  },
  {
   "cell_type": "code",
   "execution_count": 148,
   "id": "940600f2",
   "metadata": {},
   "outputs": [],
   "source": [
    "from sklearn.ensemble import AdaBoostClassifier"
   ]
  },
  {
   "cell_type": "code",
   "execution_count": 149,
   "id": "2133f363",
   "metadata": {},
   "outputs": [],
   "source": [
    "ada=AdaBoostClassifier(DecisionTreeClassifier(max_depth=1),n_estimators=200)"
   ]
  },
  {
   "cell_type": "code",
   "execution_count": 150,
   "id": "bb264070",
   "metadata": {},
   "outputs": [],
   "source": [
    "adaFit=ada.fit(X_train,y_train)"
   ]
  },
  {
   "cell_type": "code",
   "execution_count": 151,
   "id": "12422acf",
   "metadata": {},
   "outputs": [
    {
     "data": {
      "text/plain": [
       "AdaBoostClassifier(base_estimator=DecisionTreeClassifier(max_depth=1),\n",
       "                   n_estimators=200)"
      ]
     },
     "execution_count": 151,
     "metadata": {},
     "output_type": "execute_result"
    }
   ],
   "source": [
    "adaFit"
   ]
  },
  {
   "cell_type": "code",
   "execution_count": 152,
   "id": "79e93a39",
   "metadata": {},
   "outputs": [],
   "source": [
    "y_predADA=ada.predict(X_test)"
   ]
  },
  {
   "cell_type": "code",
   "execution_count": 153,
   "id": "e882b3c9",
   "metadata": {},
   "outputs": [
    {
     "data": {
      "text/plain": [
       "array([1, 1, 1, 0, 0, 1, 0, 0, 1, 0, 0, 1, 1, 0, 1, 1, 0, 0, 1, 1, 0, 0,\n",
       "       1, 0, 1, 1, 0, 1, 1, 1, 0, 0, 0, 0, 1, 1, 0, 0, 1, 0, 1, 1, 0, 0,\n",
       "       1, 0, 1, 0, 0, 0, 0, 0, 0, 1, 1, 1, 1, 0, 0, 1, 1, 1, 1, 0, 0, 1,\n",
       "       0, 0, 0, 0, 0, 1, 0, 1, 0, 1, 1, 1, 0, 0, 0, 0, 0, 1, 1, 0, 0, 0,\n",
       "       1, 0, 0, 0, 1, 0, 0, 1, 0, 1, 0, 0, 1, 0, 1, 0, 1, 1, 0, 0, 0, 0,\n",
       "       0, 0, 0, 1, 0, 1, 0, 1, 0, 1, 0, 1, 0, 1, 1, 0, 1, 1, 0, 1, 0, 0,\n",
       "       1, 1, 1, 0, 1, 1, 0, 1, 1, 0, 0, 0, 1, 0, 0, 0, 1, 1, 0, 1, 0, 1,\n",
       "       1, 0, 0, 1, 1, 1, 0, 0, 1, 1, 1, 1, 1, 0, 0, 1, 0, 1, 1, 0, 1, 0,\n",
       "       1, 0, 0, 0, 1, 1, 0, 1, 0, 1, 1, 1, 0, 1, 1, 0, 1, 1, 0, 0, 1, 1,\n",
       "       1, 0, 0, 1, 1, 0, 1, 1, 1, 1, 0, 1, 1, 0, 0, 1, 1, 0, 1, 1, 0, 1,\n",
       "       1, 1, 1, 1, 1, 1, 1, 0, 1, 0, 1, 1, 0, 1, 1, 0, 0, 0, 1, 1, 0, 1,\n",
       "       1, 0, 0, 0, 0, 1, 0, 1, 0, 0, 1, 1, 0, 0, 1, 0, 0, 1, 0, 0, 1, 0,\n",
       "       0, 1, 0], dtype=int64)"
      ]
     },
     "execution_count": 153,
     "metadata": {},
     "output_type": "execute_result"
    }
   ],
   "source": [
    "y_predADA"
   ]
  },
  {
   "cell_type": "code",
   "execution_count": 154,
   "id": "e8e7dfea",
   "metadata": {},
   "outputs": [
    {
     "data": {
      "text/html": [
       "<div>\n",
       "<style scoped>\n",
       "    .dataframe tbody tr th:only-of-type {\n",
       "        vertical-align: middle;\n",
       "    }\n",
       "\n",
       "    .dataframe tbody tr th {\n",
       "        vertical-align: top;\n",
       "    }\n",
       "\n",
       "    .dataframe thead th {\n",
       "        text-align: right;\n",
       "    }\n",
       "</style>\n",
       "<table border=\"1\" class=\"dataframe\">\n",
       "  <thead>\n",
       "    <tr style=\"text-align: right;\">\n",
       "      <th>Predict</th>\n",
       "      <th>0</th>\n",
       "      <th>1</th>\n",
       "      <th>All</th>\n",
       "    </tr>\n",
       "    <tr>\n",
       "      <th>Actual</th>\n",
       "      <th></th>\n",
       "      <th></th>\n",
       "      <th></th>\n",
       "    </tr>\n",
       "  </thead>\n",
       "  <tbody>\n",
       "    <tr>\n",
       "      <th>0</th>\n",
       "      <td>128</td>\n",
       "      <td>4</td>\n",
       "      <td>132</td>\n",
       "    </tr>\n",
       "    <tr>\n",
       "      <th>1</th>\n",
       "      <td>5</td>\n",
       "      <td>130</td>\n",
       "      <td>135</td>\n",
       "    </tr>\n",
       "    <tr>\n",
       "      <th>All</th>\n",
       "      <td>133</td>\n",
       "      <td>134</td>\n",
       "      <td>267</td>\n",
       "    </tr>\n",
       "  </tbody>\n",
       "</table>\n",
       "</div>"
      ],
      "text/plain": [
       "Predict    0    1  All\n",
       "Actual                \n",
       "0        128    4  132\n",
       "1          5  130  135\n",
       "All      133  134  267"
      ]
     },
     "execution_count": 154,
     "metadata": {},
     "output_type": "execute_result"
    }
   ],
   "source": [
    "#crosstab\n",
    "pd.crosstab(y_test,y_predADA,margins=True,rownames=['Actual'],colnames=['Predict'])"
   ]
  },
  {
   "cell_type": "code",
   "execution_count": 155,
   "id": "64a733f0",
   "metadata": {},
   "outputs": [
    {
     "name": "stdout",
     "output_type": "stream",
     "text": [
      "              precision    recall  f1-score   support\n",
      "\n",
      "           0       0.96      0.97      0.97       132\n",
      "           1       0.97      0.96      0.97       135\n",
      "\n",
      "    accuracy                           0.97       267\n",
      "   macro avg       0.97      0.97      0.97       267\n",
      "weighted avg       0.97      0.97      0.97       267\n",
      "\n"
     ]
    }
   ],
   "source": [
    "print(classification_report(y_test,y_predADA))"
   ]
  },
  {
   "cell_type": "code",
   "execution_count": 156,
   "id": "0126a41e",
   "metadata": {},
   "outputs": [],
   "source": [
    "#probabilities\n",
    "predP_ADA=adaFit.predict_proba(X_test)[:,1]"
   ]
  },
  {
   "cell_type": "code",
   "execution_count": 157,
   "id": "a6f4169a",
   "metadata": {},
   "outputs": [
    {
     "data": {
      "text/plain": [
       "array([0.52674113, 0.60973583, 0.6521816 , 0.39291081, 0.39955865,\n",
       "       0.71878901, 0.39962656, 0.40032326, 0.71718851, 0.39955865,\n",
       "       0.46654854, 0.67833695, 0.76595094, 0.40804952, 0.66718504,\n",
       "       0.59797835, 0.39955865, 0.39955865, 0.62873185, 0.61720696,\n",
       "       0.39864895, 0.39955865, 0.52915494, 0.39388356, 0.704258  ,\n",
       "       0.57970525, 0.40251844, 0.69461646, 0.53793884, 0.63048797,\n",
       "       0.4018072 , 0.39955865, 0.39047758, 0.39955865, 0.61482182,\n",
       "       0.56030968, 0.39955865, 0.47947599, 0.68887774, 0.39955865,\n",
       "       0.61707866, 0.66318576, 0.39436003, 0.39955865, 0.52210207,\n",
       "       0.46446702, 0.62818107, 0.39955865, 0.39864895, 0.39643668,\n",
       "       0.39955865, 0.39388356, 0.45343429, 0.52674113, 0.74284942,\n",
       "       0.53272211, 0.79685515, 0.40032326, 0.4282086 , 0.6522799 ,\n",
       "       0.58191061, 0.68162947, 0.55057025, 0.39291081, 0.39955865,\n",
       "       0.64758078, 0.39291081, 0.39962656, 0.40032326, 0.39955865,\n",
       "       0.39955865, 0.68714626, 0.40032326, 0.67422853, 0.40298691,\n",
       "       0.71650818, 0.64805044, 0.5843069 , 0.39955865, 0.4018072 ,\n",
       "       0.40032326, 0.40032326, 0.39411801, 0.58262408, 0.60561059,\n",
       "       0.40130223, 0.46873401, 0.39291081, 0.52629054, 0.47106644,\n",
       "       0.40921926, 0.41200997, 0.68459247, 0.40032326, 0.39955865,\n",
       "       0.6431319 , 0.39955865, 0.68459247, 0.39291081, 0.46952747,\n",
       "       0.72250073, 0.40032326, 0.71878901, 0.39955865, 0.74284942,\n",
       "       0.72250073, 0.4556312 , 0.47230085, 0.39955865, 0.40823414,\n",
       "       0.40625939, 0.39955865, 0.39955865, 0.6878668 , 0.39955865,\n",
       "       0.53877898, 0.47371345, 0.55868535, 0.40032326, 0.55940028,\n",
       "       0.40257322, 0.78098911, 0.45263256, 0.64120863, 0.6895481 ,\n",
       "       0.38142282, 0.65362052, 0.52181852, 0.39955865, 0.55173385,\n",
       "       0.38142282, 0.39291081, 0.71650818, 0.51560989, 0.66868449,\n",
       "       0.39955865, 0.6431319 , 0.60281555, 0.39955865, 0.60824275,\n",
       "       0.61707866, 0.39955865, 0.39955865, 0.49793465, 0.71878901,\n",
       "       0.39291081, 0.39955865, 0.40130223, 0.66194731, 0.57476585,\n",
       "       0.40823414, 0.66194731, 0.39859668, 0.52017909, 0.57491282,\n",
       "       0.40823414, 0.39955865, 0.68110037, 0.52916131, 0.77771125,\n",
       "       0.39514657, 0.47106644, 0.67903556, 0.63210809, 0.60761629,\n",
       "       0.69444962, 0.53725824, 0.39955865, 0.39955865, 0.67692805,\n",
       "       0.46873401, 0.65765169, 0.67998814, 0.39291081, 0.60788124,\n",
       "       0.39955865, 0.60788124, 0.39955865, 0.40032326, 0.39291081,\n",
       "       0.71270851, 0.69320299, 0.39291081, 0.60051922, 0.40604466,\n",
       "       0.70919537, 0.52593922, 0.52916131, 0.39955865, 0.61859306,\n",
       "       0.64805044, 0.38774283, 0.52593922, 0.62414113, 0.47465924,\n",
       "       0.39291081, 0.67422853, 0.77470148, 0.59957737, 0.39955865,\n",
       "       0.39955865, 0.53725824, 0.68162947, 0.40251844, 0.58524834,\n",
       "       0.54366235, 0.64444124, 0.56378884, 0.39955865, 0.51560989,\n",
       "       0.72339276, 0.40206103, 0.49793465, 0.77470148, 0.77771125,\n",
       "       0.39955865, 0.61994713, 0.74127317, 0.43517051, 0.68714626,\n",
       "       0.704258  , 0.5477721 , 0.68503832, 0.61720696, 0.64377601,\n",
       "       0.77470148, 0.52596676, 0.39947694, 0.6431319 , 0.39955865,\n",
       "       0.74127317, 0.68554198, 0.39955865, 0.60140999, 0.7008789 ,\n",
       "       0.43761609, 0.39955865, 0.40519441, 0.69112422, 0.61707866,\n",
       "       0.45079195, 0.55849581, 0.56378884, 0.39955865, 0.41497982,\n",
       "       0.39955865, 0.39955865, 0.67422853, 0.40527651, 0.77470148,\n",
       "       0.41876122, 0.39955865, 0.68110037, 0.59567155, 0.39955865,\n",
       "       0.39955865, 0.6274208 , 0.39955865, 0.39859668, 0.77470148,\n",
       "       0.39955865, 0.38875732, 0.52407128, 0.39955865, 0.39955865,\n",
       "       0.65765169, 0.41079717])"
      ]
     },
     "execution_count": 157,
     "metadata": {},
     "output_type": "execute_result"
    }
   ],
   "source": [
    "predP_ADA"
   ]
  },
  {
   "cell_type": "code",
   "execution_count": 158,
   "id": "d0bc20b9",
   "metadata": {},
   "outputs": [],
   "source": [
    "#ROC Curve\n",
    "false_positive_rateADA,true_positive_rateADA,thresholdsADA=sklearn.metrics.roc_curve(y_test,predP_ADA)"
   ]
  },
  {
   "cell_type": "code",
   "execution_count": 159,
   "id": "2eaf6e3c",
   "metadata": {},
   "outputs": [],
   "source": [
    "roc_aucADA=auc(false_positive_rateADA,true_positive_rateADA)"
   ]
  },
  {
   "cell_type": "code",
   "execution_count": 160,
   "id": "5214e8ab",
   "metadata": {},
   "outputs": [
    {
     "data": {
      "text/plain": [
       "0.9881593714927048"
      ]
     },
     "execution_count": 160,
     "metadata": {},
     "output_type": "execute_result"
    }
   ],
   "source": [
    "roc_aucADA"
   ]
  },
  {
   "cell_type": "code",
   "execution_count": 161,
   "id": "08a9631d",
   "metadata": {},
   "outputs": [
    {
     "data": {
      "image/png": "[encoded data removed]",
      "text/plain": [
       "<Figure size 432x288 with 1 Axes>"
      ]
     },
     "metadata": {
      "needs_background": "light"
     },
     "output_type": "display_data"
    }
   ],
   "source": [
    "#Plot\n",
    "%matplotlib inline\n",
    "plt.figure()\n",
    "plt.plot(false_positive_rateADA,true_positive_rateADA,label='ROC Curve-ADA(area=%0.2f)'%roc_aucADA)\n",
    "plt.plot([0,1],[0,1],'k--')#k for black,r for red,b for blue,g for green\n",
    "plt.xlim([0.0,1.05])\n",
    "plt.ylim([0.0,1.05])\n",
    "plt.xlabel('False Positive Rate')\n",
    "plt.ylabel('True Positive Rate')\n",
    "plt.title('Receiverrating characteristic')\n",
    "plt.legend(loc='lower right')\n",
    "plt.show()"
   ]
  },
  {
   "cell_type": "markdown",
   "id": "b2696611",
   "metadata": {},
   "source": [
    "# Random search model"
   ]
  },
  {
   "cell_type": "code",
   "execution_count": 195,
   "id": "d77d34d1",
   "metadata": {},
   "outputs": [],
   "source": [
    "from sklearn.model_selection import RandomizedSearchCV"
   ]
  },
  {
   "cell_type": "code",
   "execution_count": 196,
   "id": "d24436be",
   "metadata": {},
   "outputs": [],
   "source": [
    "rfr_random=RandomizedSearchCV(estimator=rfr,param_distributions=param_grid,n_iter=20,cv=3,random_state=421)"
   ]
  },
  {
   "cell_type": "code",
   "execution_count": 198,
   "id": "9d1860dd",
   "metadata": {},
   "outputs": [],
   "source": [
    "rmod=rfr_random.fit(X_train,y_train)"
   ]
  },
  {
   "cell_type": "code",
   "execution_count": 199,
   "id": "b0fc981d",
   "metadata": {},
   "outputs": [
    {
     "name": "stdout",
     "output_type": "stream",
     "text": [
      "{'n_estimators': 150, 'max_features': 'log2', 'max_depth': 5, 'bootstrap': True}\n"
     ]
    }
   ],
   "source": [
    "#best parameters\n",
    "print(rmod.best_params_)"
   ]
  },
  {
   "cell_type": "code",
   "execution_count": 201,
   "id": "312b2767",
   "metadata": {},
   "outputs": [],
   "source": [
    "rprd=rmod.predict(X_test)"
   ]
  },
  {
   "cell_type": "code",
   "execution_count": 202,
   "id": "c7d6f36f",
   "metadata": {},
   "outputs": [
    {
     "data": {
      "text/plain": [
       "array([1, 1, 1, 0, 0, 1, 0, 0, 1, 0, 0, 1, 1, 0, 1, 1, 0, 0, 1, 1, 0, 0,\n",
       "       1, 0, 1, 1, 0, 1, 1, 1, 0, 0, 0, 0, 1, 1, 0, 0, 1, 0, 1, 1, 0, 0,\n",
       "       1, 0, 1, 0, 0, 0, 0, 0, 0, 1, 1, 1, 1, 0, 0, 1, 1, 1, 1, 0, 0, 1,\n",
       "       0, 0, 0, 0, 0, 1, 0, 1, 0, 1, 1, 1, 0, 0, 0, 0, 0, 1, 1, 0, 0, 0,\n",
       "       1, 0, 0, 0, 1, 0, 0, 1, 0, 1, 0, 0, 1, 0, 1, 0, 1, 1, 0, 0, 0, 0,\n",
       "       0, 0, 0, 1, 0, 1, 0, 1, 0, 1, 0, 1, 0, 1, 1, 0, 1, 1, 0, 1, 0, 0,\n",
       "       1, 1, 1, 0, 1, 1, 0, 1, 1, 0, 0, 0, 1, 0, 0, 0, 1, 1, 0, 1, 0, 1,\n",
       "       1, 0, 0, 1, 1, 1, 0, 0, 1, 1, 1, 1, 1, 0, 0, 1, 0, 1, 1, 0, 1, 0,\n",
       "       1, 0, 0, 0, 1, 1, 0, 1, 0, 1, 1, 1, 0, 1, 1, 0, 1, 1, 0, 0, 1, 1,\n",
       "       1, 0, 0, 1, 1, 0, 1, 1, 1, 1, 0, 1, 1, 0, 0, 1, 1, 0, 1, 1, 0, 1,\n",
       "       1, 1, 1, 1, 1, 1, 1, 0, 1, 0, 1, 1, 0, 1, 1, 0, 0, 0, 1, 1, 0, 1,\n",
       "       1, 0, 0, 0, 0, 1, 0, 1, 0, 0, 1, 1, 0, 0, 1, 0, 0, 1, 0, 0, 1, 0,\n",
       "       0, 1, 0], dtype=int64)"
      ]
     },
     "execution_count": 202,
     "metadata": {},
     "output_type": "execute_result"
    }
   ],
   "source": [
    "rprd"
   ]
  },
  {
   "cell_type": "code",
   "execution_count": 203,
   "id": "98faa09c",
   "metadata": {},
   "outputs": [
    {
     "data": {
      "text/html": [
       "<div>\n",
       "<style scoped>\n",
       "    .dataframe tbody tr th:only-of-type {\n",
       "        vertical-align: middle;\n",
       "    }\n",
       "\n",
       "    .dataframe tbody tr th {\n",
       "        vertical-align: top;\n",
       "    }\n",
       "\n",
       "    .dataframe thead th {\n",
       "        text-align: right;\n",
       "    }\n",
       "</style>\n",
       "<table border=\"1\" class=\"dataframe\">\n",
       "  <thead>\n",
       "    <tr style=\"text-align: right;\">\n",
       "      <th>Predict</th>\n",
       "      <th>0</th>\n",
       "      <th>1</th>\n",
       "      <th>All</th>\n",
       "    </tr>\n",
       "    <tr>\n",
       "      <th>Actual</th>\n",
       "      <th></th>\n",
       "      <th></th>\n",
       "      <th></th>\n",
       "    </tr>\n",
       "  </thead>\n",
       "  <tbody>\n",
       "    <tr>\n",
       "      <th>0</th>\n",
       "      <td>128</td>\n",
       "      <td>4</td>\n",
       "      <td>132</td>\n",
       "    </tr>\n",
       "    <tr>\n",
       "      <th>1</th>\n",
       "      <td>5</td>\n",
       "      <td>130</td>\n",
       "      <td>135</td>\n",
       "    </tr>\n",
       "    <tr>\n",
       "      <th>All</th>\n",
       "      <td>133</td>\n",
       "      <td>134</td>\n",
       "      <td>267</td>\n",
       "    </tr>\n",
       "  </tbody>\n",
       "</table>\n",
       "</div>"
      ],
      "text/plain": [
       "Predict    0    1  All\n",
       "Actual                \n",
       "0        128    4  132\n",
       "1          5  130  135\n",
       "All      133  134  267"
      ]
     },
     "execution_count": 203,
     "metadata": {},
     "output_type": "execute_result"
    }
   ],
   "source": [
    "#crosstab\n",
    "pd.crosstab(y_test,rprd,margins=True,rownames=['Actual'],colnames=['Predict'])"
   ]
  },
  {
   "cell_type": "code",
   "execution_count": 204,
   "id": "dbd8f18b",
   "metadata": {},
   "outputs": [
    {
     "name": "stdout",
     "output_type": "stream",
     "text": [
      "              precision    recall  f1-score   support\n",
      "\n",
      "           0       0.96      0.97      0.97       132\n",
      "           1       0.97      0.96      0.97       135\n",
      "\n",
      "    accuracy                           0.97       267\n",
      "   macro avg       0.97      0.97      0.97       267\n",
      "weighted avg       0.97      0.97      0.97       267\n",
      "\n"
     ]
    }
   ],
   "source": [
    "print(classification_report(y_test,rprd))"
   ]
  },
  {
   "cell_type": "code",
   "execution_count": 211,
   "id": "552a4d6b",
   "metadata": {},
   "outputs": [],
   "source": [
    "#probabilities\n",
    "predP_RANDOM=rmod.predict_proba(X_test)[:,1]"
   ]
  },
  {
   "cell_type": "code",
   "execution_count": 212,
   "id": "7a6205a4",
   "metadata": {},
   "outputs": [
    {
     "data": {
      "text/plain": [
       "array([9.67764131e-01, 9.81443760e-01, 7.88481161e-01, 1.13524767e-04,\n",
       "       1.91044147e-04, 9.97725478e-01, 1.54636059e-03, 2.13027254e-04,\n",
       "       9.93644691e-01, 1.91044147e-04, 1.43112912e-03, 9.98615954e-01,\n",
       "       9.99407567e-01, 7.02721945e-02, 9.69878810e-01, 9.95046617e-01,\n",
       "       1.13524767e-04, 1.13524767e-04, 9.81803340e-01, 8.01664514e-01,\n",
       "       2.90546634e-04, 1.13524767e-04, 9.16114077e-01, 1.13524767e-04,\n",
       "       9.97267535e-01, 9.19166355e-01, 6.75782007e-03, 9.94723240e-01,\n",
       "       9.67872693e-01, 9.88333401e-01, 1.13524767e-04, 1.13524767e-04,\n",
       "       2.56085521e-03, 1.91044147e-04, 9.57336960e-01, 7.80204108e-01,\n",
       "       1.13524767e-04, 1.92032613e-01, 9.98882888e-01, 1.13524767e-04,\n",
       "       9.88250342e-01, 9.67098626e-01, 1.13524767e-04, 1.13524767e-04,\n",
       "       7.38887924e-01, 3.11552012e-01, 9.96353139e-01, 1.13524767e-04,\n",
       "       2.13027254e-04, 3.25127689e-02, 1.13524767e-04, 1.91044147e-04,\n",
       "       4.65453529e-01, 9.67764131e-01, 9.97826012e-01, 9.29781551e-01,\n",
       "       9.99407567e-01, 2.90546634e-04, 7.34029060e-02, 9.91131378e-01,\n",
       "       9.83880352e-01, 9.81766552e-01, 9.49542715e-01, 1.13524767e-04,\n",
       "       1.13524767e-04, 9.93620607e-01, 1.13524767e-04, 1.54636059e-03,\n",
       "       2.13027254e-04, 1.91044147e-04, 1.13524767e-04, 9.91899310e-01,\n",
       "       2.90546634e-04, 9.85187210e-01, 1.76079793e-02, 9.95938456e-01,\n",
       "       9.91913325e-01, 9.96019223e-01, 1.13524767e-04, 1.91044147e-04,\n",
       "       2.13027254e-04, 2.13027254e-04, 6.59698085e-03, 9.94627337e-01,\n",
       "       9.68491521e-01, 1.54636059e-03, 3.43409824e-04, 1.91044147e-04,\n",
       "       9.27174645e-01, 2.68649470e-02, 7.73257239e-03, 3.10584277e-02,\n",
       "       9.94529472e-01, 2.13027254e-04, 1.91044147e-04, 9.64223816e-01,\n",
       "       1.13524767e-04, 9.94529472e-01, 1.13524767e-04, 4.42912312e-04,\n",
       "       9.98499615e-01, 2.13027254e-04, 9.97725478e-01, 1.13524767e-04,\n",
       "       9.97826012e-01, 9.98499615e-01, 1.34415262e-01, 2.06286102e-01,\n",
       "       1.13524767e-04, 9.11534021e-05, 1.13524767e-04, 1.13524767e-04,\n",
       "       1.13524767e-04, 9.98644869e-01, 1.13524767e-04, 9.83039484e-01,\n",
       "       1.62644916e-02, 8.07037238e-01, 2.13027254e-04, 9.59363087e-01,\n",
       "       2.90546634e-04, 9.99266016e-01, 3.95678913e-01, 9.75332391e-01,\n",
       "       9.98745590e-01, 1.91044147e-04, 9.52917227e-01, 9.59147152e-01,\n",
       "       1.91044147e-04, 9.76418194e-01, 1.91044147e-04, 1.13524767e-04,\n",
       "       9.95938456e-01, 6.13581200e-01, 9.75922559e-01, 1.13524767e-04,\n",
       "       9.64223816e-01, 8.66152321e-01, 1.13524767e-04, 9.39715490e-01,\n",
       "       9.88250342e-01, 1.13524767e-04, 1.91044147e-04, 4.39761303e-01,\n",
       "       9.97725478e-01, 1.91044147e-04, 1.13524767e-04, 1.54636059e-03,\n",
       "       9.82085133e-01, 9.89968703e-01, 9.11534021e-05, 9.82085133e-01,\n",
       "       3.78873844e-03, 9.60384788e-01, 8.40746273e-01, 1.00323140e-02,\n",
       "       1.13524767e-04, 9.79721686e-01, 9.93093840e-01, 9.94528052e-01,\n",
       "       1.13524767e-04, 3.43409824e-04, 9.86956506e-01, 9.96844512e-01,\n",
       "       9.45351570e-01, 9.82214857e-01, 9.74739648e-01, 1.13524767e-04,\n",
       "       1.13524767e-04, 9.64799418e-01, 3.43409824e-04, 9.98644777e-01,\n",
       "       9.93467072e-01, 1.13524767e-04, 9.71527999e-01, 1.13524767e-04,\n",
       "       9.71527999e-01, 1.13524767e-04, 2.13027254e-04, 1.13524767e-04,\n",
       "       9.98679786e-01, 9.88562921e-01, 1.91044147e-04, 8.63563638e-01,\n",
       "       2.90546634e-04, 9.97380530e-01, 9.83708509e-01, 9.93093840e-01,\n",
       "       1.91044147e-04, 9.97277744e-01, 9.91913325e-01, 1.13524767e-04,\n",
       "       9.83708509e-01, 9.72381469e-01, 5.79083520e-02, 1.13524767e-04,\n",
       "       9.85187210e-01, 9.94602028e-01, 9.87186091e-01, 1.13524767e-04,\n",
       "       1.13524767e-04, 9.74739648e-01, 9.81766552e-01, 6.75782007e-03,\n",
       "       7.17957179e-01, 9.54628968e-01, 9.97055746e-01, 9.79591106e-01,\n",
       "       1.13524767e-04, 6.13581200e-01, 9.99575771e-01, 2.56085521e-03,\n",
       "       4.39761303e-01, 9.94602028e-01, 9.94528052e-01, 1.13524767e-04,\n",
       "       9.86905720e-01, 9.97773720e-01, 1.52493066e-01, 9.91899310e-01,\n",
       "       9.97267535e-01, 9.67705446e-01, 9.77224575e-01, 8.01664514e-01,\n",
       "       9.95603934e-01, 9.94602028e-01, 9.35873223e-01, 7.82165452e-03,\n",
       "       9.64223816e-01, 1.13524767e-04, 9.97773720e-01, 9.93704303e-01,\n",
       "       1.13524767e-04, 9.64181011e-01, 9.79503314e-01, 2.89182705e-02,\n",
       "       1.13524767e-04, 1.03857571e-02, 9.84880180e-01, 9.88250342e-01,\n",
       "       1.13524767e-04, 9.90736170e-01, 9.79591106e-01, 1.13524767e-04,\n",
       "       5.62466579e-02, 1.91044147e-04, 1.13524767e-04, 9.85187210e-01,\n",
       "       3.78873844e-03, 9.94602028e-01, 1.26211002e-01, 1.91044147e-04,\n",
       "       9.79721686e-01, 9.04568426e-01, 1.91044147e-04, 1.13524767e-04,\n",
       "       9.87078409e-01, 1.91044147e-04, 1.06183946e-02, 9.94602028e-01,\n",
       "       1.13524767e-04, 2.90546634e-04, 8.74329509e-01, 1.91044147e-04,\n",
       "       1.13524767e-04, 9.98644777e-01, 3.09947551e-01])"
      ]
     },
     "execution_count": 212,
     "metadata": {},
     "output_type": "execute_result"
    }
   ],
   "source": [
    "predP_RANDOM"
   ]
  },
  {
   "cell_type": "code",
   "execution_count": 213,
   "id": "66478b6a",
   "metadata": {},
   "outputs": [],
   "source": [
    "#ROC Curve\n",
    "false_positive_rateRANDOM,true_positive_rateRANDOM,thresholdsRANDOM=sklearn.metrics.roc_curve(y_test,predP_RANDOM)"
   ]
  },
  {
   "cell_type": "code",
   "execution_count": 214,
   "id": "b3d552ca",
   "metadata": {},
   "outputs": [],
   "source": [
    "roc_aucRANDOM=auc(false_positive_rateRANDOM,true_positive_rateRANDOM)"
   ]
  },
  {
   "cell_type": "code",
   "execution_count": 215,
   "id": "7677c6e0",
   "metadata": {},
   "outputs": [
    {
     "data": {
      "text/plain": [
       "0.9882716049382716"
      ]
     },
     "execution_count": 215,
     "metadata": {},
     "output_type": "execute_result"
    }
   ],
   "source": [
    "roc_aucRANDOM"
   ]
  },
  {
   "cell_type": "code",
   "execution_count": 216,
   "id": "06ad527b",
   "metadata": {},
   "outputs": [
    {
     "data": {
      "image/png": "[encoded data removed]",
      "text/plain": [
       "<Figure size 432x288 with 1 Axes>"
      ]
     },
     "metadata": {
      "needs_background": "light"
     },
     "output_type": "display_data"
    }
   ],
   "source": [
    "#Plot\n",
    "%matplotlib inline\n",
    "plt.figure()\n",
    "plt.plot(false_positive_rateRANDOM,true_positive_rateRANDOM,label='ROC Curve-ADA(area=%0.2f)'%roc_aucRANDOM)\n",
    "plt.plot([0,1],[0,1],'k--')#k for black,r for red,b for blue,g for green\n",
    "plt.xlim([0.0,1.05])\n",
    "plt.ylim([0.0,1.05])\n",
    "plt.xlabel('False Positive Rate')\n",
    "plt.ylabel('True Positive Rate')\n",
    "plt.title('Receiverrating characteristic')\n",
    "plt.legend(loc='lower right')\n",
    "plt.show()"
   ]
  },
  {
   "cell_type": "markdown",
   "id": "4147b80d",
   "metadata": {},
   "source": [
    "# GRADIENT BOOSTING"
   ]
  },
  {
   "cell_type": "code",
   "execution_count": 219,
   "id": "33690375",
   "metadata": {},
   "outputs": [],
   "source": [
    "from sklearn.model_selection import GridSearchCV"
   ]
  },
  {
   "cell_type": "code",
   "execution_count": 221,
   "id": "cd26172b",
   "metadata": {},
   "outputs": [],
   "source": [
    "from sklearn.ensemble import GradientBoostingClassifier\n",
    "\n",
    "\n"
   ]
  },
  {
   "cell_type": "code",
   "execution_count": 222,
   "id": "d8e68df4",
   "metadata": {},
   "outputs": [
    {
     "name": "stdout",
     "output_type": "stream",
     "text": [
      "the best estimator returned by GridSearchCV is: GradientBoostingClassifier(n_estimators=146)\n"
     ]
    }
   ],
   "source": [
    "Model=GradientBoostingClassifier()\n",
    "params={'n_estimators':range(1,200)}\n",
    "grid=GridSearchCV(estimator=Model,cv=2,param_grid=params,scoring='f1')\n",
    "grid.fit(X,y)\n",
    "print('the best estimator returned by GridSearchCV is:',grid.best_estimator_)"
   ]
  },
  {
   "cell_type": "code",
   "execution_count": 223,
   "id": "12f2a596",
   "metadata": {},
   "outputs": [
    {
     "data": {
      "text/plain": [
       "GradientBoostingClassifier(n_estimators=146)"
      ]
     },
     "execution_count": 223,
     "metadata": {},
     "output_type": "execute_result"
    }
   ],
   "source": [
    "#Best Model\n",
    "GB=grid.best_estimator_\n",
    "GB.fit(X,y)"
   ]
  },
  {
   "cell_type": "code",
   "execution_count": 227,
   "id": "d737beef",
   "metadata": {},
   "outputs": [],
   "source": [
    "y_predictGB=GB.predict(X_test)"
   ]
  },
  {
   "cell_type": "code",
   "execution_count": 228,
   "id": "36f65dfa",
   "metadata": {},
   "outputs": [
    {
     "data": {
      "text/plain": [
       "array([1, 1, 1, 0, 0, 1, 0, 0, 1, 0, 0, 1, 1, 0, 1, 1, 0, 0, 1, 1, 0, 0,\n",
       "       1, 0, 1, 1, 1, 1, 1, 1, 0, 0, 0, 0, 0, 1, 0, 0, 1, 0, 1, 1, 0, 0,\n",
       "       1, 0, 1, 0, 0, 0, 0, 0, 0, 1, 1, 1, 1, 0, 0, 1, 1, 1, 0, 0, 0, 1,\n",
       "       0, 0, 0, 0, 0, 1, 0, 1, 0, 1, 1, 1, 0, 0, 0, 0, 0, 1, 1, 0, 0, 0,\n",
       "       1, 0, 0, 0, 1, 0, 0, 1, 0, 1, 0, 0, 1, 0, 1, 0, 1, 1, 0, 0, 0, 0,\n",
       "       0, 0, 0, 1, 0, 1, 0, 1, 0, 1, 0, 1, 0, 1, 1, 0, 1, 1, 0, 1, 0, 0,\n",
       "       1, 1, 1, 0, 1, 1, 0, 1, 1, 0, 0, 1, 1, 0, 0, 0, 1, 1, 0, 1, 0, 0,\n",
       "       1, 0, 0, 1, 1, 1, 0, 0, 1, 1, 1, 1, 1, 0, 0, 1, 0, 1, 1, 0, 1, 0,\n",
       "       1, 0, 0, 0, 1, 1, 0, 1, 0, 1, 1, 1, 0, 1, 1, 0, 1, 1, 0, 0, 1, 1,\n",
       "       0, 0, 0, 1, 1, 1, 1, 1, 1, 1, 0, 1, 1, 0, 1, 1, 1, 0, 1, 1, 0, 1,\n",
       "       1, 1, 1, 1, 1, 1, 1, 0, 1, 0, 1, 1, 0, 1, 1, 0, 0, 0, 1, 1, 0, 1,\n",
       "       1, 0, 0, 0, 0, 1, 0, 1, 0, 0, 1, 1, 0, 0, 1, 0, 0, 1, 0, 0, 1, 0,\n",
       "       0, 1, 1], dtype=int64)"
      ]
     },
     "execution_count": 228,
     "metadata": {},
     "output_type": "execute_result"
    }
   ],
   "source": [
    "y_predictGB"
   ]
  },
  {
   "cell_type": "code",
   "execution_count": 229,
   "id": "62f1a967",
   "metadata": {},
   "outputs": [
    {
     "data": {
      "text/html": [
       "<div>\n",
       "<style scoped>\n",
       "    .dataframe tbody tr th:only-of-type {\n",
       "        vertical-align: middle;\n",
       "    }\n",
       "\n",
       "    .dataframe tbody tr th {\n",
       "        vertical-align: top;\n",
       "    }\n",
       "\n",
       "    .dataframe thead th {\n",
       "        text-align: right;\n",
       "    }\n",
       "</style>\n",
       "<table border=\"1\" class=\"dataframe\">\n",
       "  <thead>\n",
       "    <tr style=\"text-align: right;\">\n",
       "      <th>Predict</th>\n",
       "      <th>0</th>\n",
       "      <th>1</th>\n",
       "      <th>All</th>\n",
       "    </tr>\n",
       "    <tr>\n",
       "      <th>Actual</th>\n",
       "      <th></th>\n",
       "      <th></th>\n",
       "      <th></th>\n",
       "    </tr>\n",
       "  </thead>\n",
       "  <tbody>\n",
       "    <tr>\n",
       "      <th>0</th>\n",
       "      <td>132</td>\n",
       "      <td>0</td>\n",
       "      <td>132</td>\n",
       "    </tr>\n",
       "    <tr>\n",
       "      <th>1</th>\n",
       "      <td>0</td>\n",
       "      <td>135</td>\n",
       "      <td>135</td>\n",
       "    </tr>\n",
       "    <tr>\n",
       "      <th>All</th>\n",
       "      <td>132</td>\n",
       "      <td>135</td>\n",
       "      <td>267</td>\n",
       "    </tr>\n",
       "  </tbody>\n",
       "</table>\n",
       "</div>"
      ],
      "text/plain": [
       "Predict    0    1  All\n",
       "Actual                \n",
       "0        132    0  132\n",
       "1          0  135  135\n",
       "All      132  135  267"
      ]
     },
     "execution_count": 229,
     "metadata": {},
     "output_type": "execute_result"
    }
   ],
   "source": [
    "#crosstab\n",
    "pd.crosstab(y_test,y_predictGB,margins=True,rownames=['Actual'],colnames=['Predict'])"
   ]
  },
  {
   "cell_type": "code",
   "execution_count": 230,
   "id": "8cb3108f",
   "metadata": {},
   "outputs": [
    {
     "name": "stdout",
     "output_type": "stream",
     "text": [
      "              precision    recall  f1-score   support\n",
      "\n",
      "           0       1.00      1.00      1.00       132\n",
      "           1       1.00      1.00      1.00       135\n",
      "\n",
      "    accuracy                           1.00       267\n",
      "   macro avg       1.00      1.00      1.00       267\n",
      "weighted avg       1.00      1.00      1.00       267\n",
      "\n"
     ]
    }
   ],
   "source": [
    "print(classification_report(y_test,y_predictGB))"
   ]
  },
  {
   "cell_type": "code",
   "execution_count": 232,
   "id": "1368289a",
   "metadata": {},
   "outputs": [],
   "source": [
    "#probabilities\n",
    "predP_GB=GB.predict_proba(X_test)[:,1]"
   ]
  },
  {
   "cell_type": "code",
   "execution_count": 233,
   "id": "2896f254",
   "metadata": {},
   "outputs": [
    {
     "data": {
      "text/plain": [
       "array([9.93684003e-01, 9.99345993e-01, 9.99153113e-01, 3.42570354e-04,\n",
       "       3.42570354e-04, 9.99936140e-01, 3.62082103e-04, 3.42570354e-04,\n",
       "       9.99879079e-01, 3.42570354e-04, 5.25398202e-04, 9.99948740e-01,\n",
       "       9.99967491e-01, 7.34003944e-04, 9.97920605e-01, 9.99847607e-01,\n",
       "       3.42570354e-04, 2.67348585e-04, 9.99230409e-01, 9.93931988e-01,\n",
       "       8.48427718e-04, 3.46249270e-04, 9.79079825e-01, 4.72857529e-04,\n",
       "       9.99958071e-01, 9.97746809e-01, 9.47457095e-01, 9.99971735e-01,\n",
       "       9.96375897e-01, 9.98010996e-01, 3.98086794e-04, 2.67348585e-04,\n",
       "       2.37532946e-04, 3.42570354e-04, 1.84657487e-01, 9.80098922e-01,\n",
       "       3.42570354e-04, 6.87138285e-04, 9.99905437e-01, 2.67348585e-04,\n",
       "       9.99452437e-01, 9.99345723e-01, 3.10653050e-04, 2.67348585e-04,\n",
       "       9.57174347e-01, 1.81101274e-02, 9.99750655e-01, 3.42570354e-04,\n",
       "       2.48493233e-04, 4.99366874e-04, 3.42570354e-04, 6.05866691e-04,\n",
       "       5.76661899e-02, 9.93684003e-01, 9.99717747e-01, 9.97409854e-01,\n",
       "       9.99977310e-01, 3.42570354e-04, 7.45975420e-03, 9.99755987e-01,\n",
       "       9.99384180e-01, 9.99536118e-01, 2.11170091e-01, 2.67348585e-04,\n",
       "       1.98292024e-04, 9.99808505e-01, 2.67348585e-04, 3.62082103e-04,\n",
       "       3.42570354e-04, 3.42570354e-04, 2.67348585e-04, 9.99926913e-01,\n",
       "       3.42570354e-04, 9.99788062e-01, 1.16523441e-03, 9.99857528e-01,\n",
       "       9.99739472e-01, 9.99560059e-01, 3.42570354e-04, 5.10074577e-04,\n",
       "       3.42570354e-04, 2.67348585e-04, 1.02813860e-03, 9.99794612e-01,\n",
       "       9.99220093e-01, 4.72857529e-04, 5.69913713e-04, 3.42570354e-04,\n",
       "       9.66417073e-01, 1.83511423e-03, 5.42688697e-04, 5.64591926e-04,\n",
       "       9.99910224e-01, 2.67348585e-04, 3.42570354e-04, 9.98516474e-01,\n",
       "       2.67348585e-04, 9.99910224e-01, 3.42570354e-04, 4.65698792e-04,\n",
       "       9.99971003e-01, 2.67348585e-04, 9.99936140e-01, 2.28808392e-04,\n",
       "       9.99717747e-01, 9.99971003e-01, 5.46743047e-03, 1.87310407e-02,\n",
       "       3.42570354e-04, 4.96122220e-03, 8.49088008e-04, 3.42570354e-04,\n",
       "       2.28808392e-04, 9.99946761e-01, 3.42570354e-04, 9.99286421e-01,\n",
       "       5.50854643e-04, 9.94234168e-01, 2.67348585e-04, 9.91353360e-01,\n",
       "       7.02685234e-04, 9.99974432e-01, 2.47793788e-02, 9.99835028e-01,\n",
       "       9.99890976e-01, 2.14680203e-04, 9.99501015e-01, 9.88712677e-01,\n",
       "       3.42570354e-04, 9.88144715e-01, 2.78041566e-04, 3.42570354e-04,\n",
       "       9.99857528e-01, 9.74291323e-01, 9.99323219e-01, 3.42570354e-04,\n",
       "       9.98516474e-01, 9.86967326e-01, 3.42570354e-04, 9.97074510e-01,\n",
       "       9.99452437e-01, 3.42570354e-04, 3.42570354e-04, 9.92250070e-01,\n",
       "       9.99936140e-01, 3.42570354e-04, 2.67348585e-04, 4.72857529e-04,\n",
       "       9.99724650e-01, 9.98398328e-01, 4.96122220e-03, 9.99724650e-01,\n",
       "       4.80143818e-04, 2.21421634e-01, 9.99194210e-01, 2.65393683e-03,\n",
       "       2.28808392e-04, 9.99495044e-01, 9.96295329e-01, 9.99955412e-01,\n",
       "       3.98086794e-04, 1.08704013e-03, 9.99001818e-01, 9.99829748e-01,\n",
       "       9.99388647e-01, 9.99746652e-01, 9.96873218e-01, 2.67348585e-04,\n",
       "       3.42570354e-04, 9.99285823e-01, 7.30203673e-04, 9.99714369e-01,\n",
       "       9.99941071e-01, 2.67348585e-04, 9.99721676e-01, 2.67348585e-04,\n",
       "       9.99721676e-01, 3.42570354e-04, 3.42570354e-04, 3.42570354e-04,\n",
       "       9.99927794e-01, 9.99889526e-01, 3.42570354e-04, 9.92677591e-01,\n",
       "       4.80143818e-04, 9.99958071e-01, 9.97488457e-01, 9.96295329e-01,\n",
       "       3.42570354e-04, 9.99672615e-01, 9.99739472e-01, 3.10653050e-04,\n",
       "       9.97488457e-01, 9.98870896e-01, 1.72756562e-03, 2.67348585e-04,\n",
       "       9.99788062e-01, 9.99941404e-01, 8.68712217e-02, 3.42570354e-04,\n",
       "       3.42570354e-04, 9.96873218e-01, 9.99536118e-01, 9.47457095e-01,\n",
       "       9.98012930e-01, 9.93525767e-01, 9.99874202e-01, 9.97726985e-01,\n",
       "       3.42570354e-04, 9.74291323e-01, 9.99948575e-01, 3.79031864e-04,\n",
       "       9.92250070e-01, 9.99941404e-01, 9.99955412e-01, 1.98292024e-04,\n",
       "       9.99610119e-01, 9.99950879e-01, 1.07614140e-03, 9.99926913e-01,\n",
       "       9.99958071e-01, 9.99006111e-01, 9.98267357e-01, 9.93931988e-01,\n",
       "       9.99969169e-01, 9.99941404e-01, 9.56556675e-01, 2.47156052e-04,\n",
       "       9.98516474e-01, 3.42570354e-04, 9.99950879e-01, 9.99758589e-01,\n",
       "       2.67348585e-04, 9.99531622e-01, 9.99864011e-01, 7.77705007e-04,\n",
       "       3.42570354e-04, 5.98421484e-04, 9.99011801e-01, 9.99452437e-01,\n",
       "       2.96876179e-03, 9.96807658e-01, 9.97726985e-01, 2.67348585e-04,\n",
       "       9.44320650e-03, 3.42570354e-04, 3.42570354e-04, 9.99788062e-01,\n",
       "       4.80143818e-04, 9.99941404e-01, 7.40994939e-04, 3.42570354e-04,\n",
       "       9.99495044e-01, 9.99348773e-01, 2.28808392e-04, 1.98292024e-04,\n",
       "       9.99459790e-01, 2.28808392e-04, 7.83435896e-04, 9.99941404e-01,\n",
       "       3.42570354e-04, 2.14680203e-04, 9.92174821e-01, 3.42570354e-04,\n",
       "       1.98292024e-04, 9.99714369e-01, 8.99336561e-01])"
      ]
     },
     "execution_count": 233,
     "metadata": {},
     "output_type": "execute_result"
    }
   ],
   "source": [
    "predP_GB"
   ]
  },
  {
   "cell_type": "code",
   "execution_count": 234,
   "id": "fd2b1adb",
   "metadata": {},
   "outputs": [],
   "source": [
    "#ROC Curve\n",
    "false_positive_rateGB,true_positive_rateGB,thresholdsGB=sklearn.metrics.roc_curve(y_test,predP_GB)"
   ]
  },
  {
   "cell_type": "code",
   "execution_count": 235,
   "id": "af8d0483",
   "metadata": {},
   "outputs": [],
   "source": [
    "roc_aucGB=auc(false_positive_rateGB,true_positive_rateGB)"
   ]
  },
  {
   "cell_type": "code",
   "execution_count": 236,
   "id": "72207c07",
   "metadata": {},
   "outputs": [
    {
     "data": {
      "text/plain": [
       "1.0"
      ]
     },
     "execution_count": 236,
     "metadata": {},
     "output_type": "execute_result"
    }
   ],
   "source": [
    "roc_aucGB"
   ]
  },
  {
   "cell_type": "code",
   "execution_count": 237,
   "id": "13c3993c",
   "metadata": {},
   "outputs": [
    {
     "data": {
      "image/png": "[encoded data removed]",
      "text/plain": [
       "<Figure size 432x288 with 1 Axes>"
      ]
     },
     "metadata": {
      "needs_background": "light"
     },
     "output_type": "display_data"
    }
   ],
   "source": [
    "#Plot\n",
    "%matplotlib inline\n",
    "plt.figure()\n",
    "plt.plot(false_positive_rateGB,true_positive_rateGB,label='ROC Curve-GB(area=%0.2f)'%roc_aucGB)\n",
    "plt.plot([0,1],[0,1],'k--')#k for black,r for red,b for blue,g for green\n",
    "plt.xlim([0.0,1.05])\n",
    "plt.ylim([0.0,1.05])\n",
    "plt.xlabel('False Positive Rate')\n",
    "plt.ylabel('True Positive Rate')\n",
    "plt.title('Receiverrating characteristic')\n",
    "plt.legend(loc='lower right')\n",
    "plt.show()"
   ]
  },
  {
   "cell_type": "code",
   "execution_count": null,
   "id": "4a58907f",
   "metadata": {},
   "outputs": [],
   "source": []
  }
 ],
 "metadata": {
  "kernelspec": {
   "display_name": "Python 3 (ipykernel)",
   "language": "python",
   "name": "python3"
  },
  "language_info": {
   "codemirror_mode": {
    "name": "ipython",
    "version": 3
   },
   "file_extension": ".py",
   "mimetype": "text/x-python",
   "name": "python",
   "nbconvert_exporter": "python",
   "pygments_lexer": "ipython3",
   "version": "3.9.12"
  }
 },
 "nbformat": 4,
 "nbformat_minor": 5
}
