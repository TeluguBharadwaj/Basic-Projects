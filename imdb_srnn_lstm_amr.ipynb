{
 "cells": [
  {
   "cell_type": "code",
   "execution_count": 13,
   "id": "0e1faab1",
   "metadata": {},
   "outputs": [],
   "source": [
    "import numpy as np\n",
    "from keras.preprocessing.text import Tokenizer \n",
    "from keras.datasets import imdb\n",
    "from keras import preprocessing\n",
    "from keras.layers import Embedding\n",
    "from keras.models import Sequential\n",
    "from keras.preprocessing import sequence\n",
    "from keras.layers import Flatten, Dense\n",
    "from tensorflow.keras.preprocessing.sequence import pad_sequences\n",
    "from keras.layers import Embedding, Flatten, Dense \n",
    "import matplotlib.pyplot as plt\n",
    "from keras.layers import LSTM\n",
    "from keras.layers import Embedding, SimpleRNN"
   ]
  },
  {
   "cell_type": "code",
   "execution_count": 16,
   "id": "5f2f2bad",
   "metadata": {},
   "outputs": [
    {
     "name": "stdout",
     "output_type": "stream",
     "text": [
      "25000 train sequences\n",
      "input_train shape: (25000, 500)\n"
     ]
    }
   ],
   "source": [
    "from keras.datasets import imdb \n",
    "from keras.preprocessing import sequence\n",
    "max_features = 10000\n",
    "maxlen = 500 \n",
    "batch_size = 32\n",
    "(input_train, y_train), (input_test, y_test) = imdb.load_data(\n",
    "num_words=max_features)\n",
    "print(len(input_train), 'train sequences') #25k print(len(input_test), 'test sequences') #25k\n",
    "input_train = pad_sequences (input_train, maxlen=maxlen) \n",
    "input_test = pad_sequences(input_test, maxlen=maxlen) \n",
    "print('input_train shape:', input_train.shape) #25,000; 500 print('input_test shape:', input_test.shape)# 25,000; 500"
   ]
  },
  {
   "cell_type": "code",
   "execution_count": 17,
   "id": "25b12500",
   "metadata": {},
   "outputs": [
    {
     "name": "stdout",
     "output_type": "stream",
     "text": [
      "Epoch 1/10\n",
      "157/157 [==============================] - 18s 106ms/step - loss: 0.6512 - acc: 0.6054 - val_loss: 0.6089 - val_acc: 0.6544\n",
      "Epoch 2/10\n",
      "157/157 [==============================] - 17s 106ms/step - loss: 0.4482 - acc: 0.8076 - val_loss: 0.4765 - val_acc: 0.7776\n",
      "Epoch 3/10\n",
      "157/157 [==============================] - 16s 105ms/step - loss: 0.3161 - acc: 0.8727 - val_loss: 0.4111 - val_acc: 0.8106\n",
      "Epoch 4/10\n",
      "157/157 [==============================] - 17s 109ms/step - loss: 0.2570 - acc: 0.8992 - val_loss: 0.3506 - val_acc: 0.8552\n",
      "Epoch 5/10\n",
      "157/157 [==============================] - 17s 110ms/step - loss: 0.2077 - acc: 0.9223 - val_loss: 0.4476 - val_acc: 0.7902\n",
      "Epoch 6/10\n",
      "157/157 [==============================] - 17s 109ms/step - loss: 0.1563 - acc: 0.9438 - val_loss: 0.3806 - val_acc: 0.8710\n",
      "Epoch 7/10\n",
      "157/157 [==============================] - 17s 108ms/step - loss: 0.1142 - acc: 0.9611 - val_loss: 0.4952 - val_acc: 0.7920\n",
      "Epoch 8/10\n",
      "157/157 [==============================] - 19s 120ms/step - loss: 0.0802 - acc: 0.9747 - val_loss: 0.4612 - val_acc: 0.8470\n",
      "Epoch 9/10\n",
      "157/157 [==============================] - 22s 138ms/step - loss: 0.0705 - acc: 0.9785 - val_loss: 0.5545 - val_acc: 0.8148\n",
      "Epoch 10/10\n",
      "157/157 [==============================] - 21s 131ms/step - loss: 0.0403 - acc: 0.9884 - val_loss: 0.5616 - val_acc: 0.8464\n"
     ]
    }
   ],
   "source": [
    "# Training the model with Embedding and SimpleRNN Layers\n",
    "from keras.layers import Dense\n",
    "model = Sequential()\n",
    "model.add(Embedding(max_features, 32))\n",
    "model.add(SimpleRNN(32))\n",
    "model.add(Dense(1, activation='sigmoid'))\n",
    "model.compile(optimizer='rmsprop', loss='binary_crossentropy', metrics=['acc'])\n",
    "history=model.fit(input_train, y_train,\n",
    "epochs=10,\n",
    "batch_size=128,\n",
    "validation_split=0.2)"
   ]
  },
  {
   "cell_type": "code",
   "execution_count": 18,
   "id": "3c4995bc",
   "metadata": {},
   "outputs": [
    {
     "name": "stdout",
     "output_type": "stream",
     "text": [
      "Epoch 1/10\n",
      "157/157 [==============================] - 18s 117ms/step - loss: 0.0301 - acc: 0.9916 - val_loss: 0.6066 - val_acc: 0.8390\n",
      "Epoch 2/10\n",
      "157/157 [==============================] - 22s 142ms/step - loss: 0.0240 - acc: 0.9924 - val_loss: 0.9875 - val_acc: 0.7652\n",
      "Epoch 3/10\n",
      "157/157 [==============================] - 20s 128ms/step - loss: 0.0194 - acc: 0.9940 - val_loss: 0.8264 - val_acc: 0.7712\n",
      "Epoch 4/10\n",
      "157/157 [==============================] - 19s 120ms/step - loss: 0.0177 - acc: 0.9949 - val_loss: 0.8674 - val_acc: 0.8194\n",
      "Epoch 5/10\n",
      "157/157 [==============================] - 19s 120ms/step - loss: 0.0149 - acc: 0.9960 - val_loss: 0.7589 - val_acc: 0.8218\n",
      "Epoch 6/10\n",
      "157/157 [==============================] - 19s 124ms/step - loss: 0.0125 - acc: 0.9957 - val_loss: 0.7742 - val_acc: 0.8292\n",
      "Epoch 7/10\n",
      "157/157 [==============================] - 19s 121ms/step - loss: 0.0150 - acc: 0.9951 - val_loss: 0.8435 - val_acc: 0.8128\n",
      "Epoch 8/10\n",
      "157/157 [==============================] - 20s 124ms/step - loss: 0.0121 - acc: 0.9966 - val_loss: 0.8917 - val_acc: 0.8096\n",
      "Epoch 9/10\n",
      "157/157 [==============================] - 19s 119ms/step - loss: 0.0064 - acc: 0.9980 - val_loss: 0.9156 - val_acc: 0.8016\n",
      "Epoch 10/10\n",
      "157/157 [==============================] - 19s 119ms/step - loss: 0.0206 - acc: 0.9949 - val_loss: 0.8872 - val_acc: 0.8134\n"
     ]
    }
   ],
   "source": [
    "history = model.fit(input_train, y_train,\n",
    "epochs=10,\n",
    "batch_size=128,\n",
    "validation_split=0.2)"
   ]
  },
  {
   "cell_type": "code",
   "execution_count": 19,
   "id": "c8cc442e",
   "metadata": {},
   "outputs": [
    {
     "data": {
      "image/png": "[encoded data removed]",
      "text/plain": [
       "<Figure size 432x288 with 1 Axes>"
      ]
     },
     "metadata": {
      "needs_background": "light"
     },
     "output_type": "display_data"
    }
   ],
   "source": [
    "import matplotlib.pyplot as plt \n",
    "acc = history.history['acc'] \n",
    "val_acc = history.history['val_acc'] \n",
    "loss = history.history['loss'] \n",
    "val_loss = history.history['val_loss']\n",
    "epochs = range(1, len(acc) + 1)\n",
    "plt.plot(epochs, acc, 'bo', label='Training acc')\n",
    "plt.plot(epochs, val_acc, 'g', label='Validation acc') \n",
    "plt.title('Training and validation accuracy')\n",
    "plt.legend()\n",
    "plt.show()"
   ]
  },
  {
   "cell_type": "code",
   "execution_count": 21,
   "id": "b39b21b2",
   "metadata": {},
   "outputs": [
    {
     "data": {
      "image/png": "[encoded data removed]",
      "text/plain": [
       "<Figure size 432x288 with 1 Axes>"
      ]
     },
     "metadata": {
      "needs_background": "light"
     },
     "output_type": "display_data"
    }
   ],
   "source": [
    "plt.plot(epochs, loss, 'bo', label='Training loss') \n",
    "plt.plot(epochs, val_loss, 'g', label='Validation loss')\n",
    "plt.title('Training and validation loss')\n",
    "plt.legend()\n",
    "plt.show()"
   ]
  },
  {
   "cell_type": "code",
   "execution_count": 22,
   "id": "40276a1f",
   "metadata": {},
   "outputs": [
    {
     "name": "stdout",
     "output_type": "stream",
     "text": [
      "Epoch 1/10\n",
      "157/157 [==============================] - 48s 283ms/step - loss: 0.5940 - acc: 0.6709 - val_loss: 0.4109 - val_acc: 0.8202\n",
      "Epoch 2/10\n",
      "157/157 [==============================] - 43s 272ms/step - loss: 0.3689 - acc: 0.8476 - val_loss: 0.3318 - val_acc: 0.8626\n",
      "Epoch 3/10\n",
      "157/157 [==============================] - 48s 303ms/step - loss: 0.2783 - acc: 0.8896 - val_loss: 0.3308 - val_acc: 0.8724\n",
      "Epoch 4/10\n",
      "157/157 [==============================] - 46s 296ms/step - loss: 0.2389 - acc: 0.9096 - val_loss: 0.2955 - val_acc: 0.8788\n",
      "Epoch 5/10\n",
      "157/157 [==============================] - 49s 311ms/step - loss: 0.2075 - acc: 0.9232 - val_loss: 0.3287 - val_acc: 0.8818\n",
      "Epoch 6/10\n",
      "157/157 [==============================] - 47s 299ms/step - loss: 0.1792 - acc: 0.9370 - val_loss: 0.3437 - val_acc: 0.8824\n",
      "Epoch 7/10\n",
      "157/157 [==============================] - 45s 288ms/step - loss: 0.1669 - acc: 0.9398 - val_loss: 0.3833 - val_acc: 0.8608\n",
      "Epoch 8/10\n",
      "157/157 [==============================] - 45s 286ms/step - loss: 0.1525 - acc: 0.9456 - val_loss: 0.3158 - val_acc: 0.8806\n",
      "Epoch 9/10\n",
      "157/157 [==============================] - 45s 286ms/step - loss: 0.1427 - acc: 0.9495 - val_loss: 0.3610 - val_acc: 0.8792\n",
      "Epoch 10/10\n",
      "157/157 [==============================] - 46s 292ms/step - loss: 0.1285 - acc: 0.9557 - val_loss: 0.3714 - val_acc: 0.8676\n"
     ]
    }
   ],
   "source": [
    "from keras.layers import LSTM \n",
    "model = Sequential()\n",
    "model.add(Embedding(max_features, 32))\n",
    "model.add(LSTM(32))\n",
    "model.add(Dense(1, activation='sigmoid'))\n",
    "model.compile(optimizer='rmsprop',\n",
    "loss='binary_crossentropy',\n",
    "metrics=['acc'])\n",
    "history = model.fit(input_train, y_train,\n",
    "epochs=10,\n",
    "batch_size=128,\n",
    "validation_split=0.2)"
   ]
  },
  {
   "cell_type": "code",
   "execution_count": 23,
   "id": "0b737536",
   "metadata": {},
   "outputs": [],
   "source": [
    "from keras.layers import LSTM\n",
    "model=Sequential()\n",
    "model.add(Embedding(max_features, 32))\n",
    "model.add(LSTM(32))\n",
    "model.add(Dense (1, activation='sigmoid'))\n",
    "model.compile(optimizer='rmsprop', \n",
    "loss='binary_crossentropy',\n",
    "metrics=['acc'])"
   ]
  },
  {
   "cell_type": "code",
   "execution_count": 24,
   "id": "acf65992",
   "metadata": {},
   "outputs": [],
   "source": [
    "import matplotlib.pyplot as plt \n",
    "acc1 = history.history['acc'] \n",
    "val_acc1 = history.history['val_acc'] \n",
    "loss1 = history.history['loss'] \n",
    "val_loss1 = history.history['val_loss']\n",
    "epochs1 = range (1, len(acc) + 1)"
   ]
  },
  {
   "cell_type": "code",
   "execution_count": 25,
   "id": "2aea3064",
   "metadata": {},
   "outputs": [
    {
     "data": {
      "image/png": "[encoded data removed]",
      "text/plain": [
       "<Figure size 432x288 with 1 Axes>"
      ]
     },
     "metadata": {
      "needs_background": "light"
     },
     "output_type": "display_data"
    }
   ],
   "source": [
    "plt.plot(epochs1, acc1, 'bo', label='Training acc') \n",
    "plt.plot(epochs1, val_acc1, 'r', label='Validation acc') \n",
    "plt.title('Training and validation accuracy')\n",
    "plt.legend()\n",
    "plt.show()"
   ]
  },
  {
   "cell_type": "code",
   "execution_count": 26,
   "id": "ee462e4d",
   "metadata": {},
   "outputs": [
    {
     "data": {
      "image/png": "[encoded data removed]",
      "text/plain": [
       "<Figure size 432x288 with 1 Axes>"
      ]
     },
     "metadata": {
      "needs_background": "light"
     },
     "output_type": "display_data"
    }
   ],
   "source": [
    "plt.plot(epochs1, loss1, 'bo', label='Training loss_lstm') \n",
    "plt.plot(epochs1, val_loss1, 'r', label='Validation loss_lstm') \n",
    "plt.title('Training and validation loss_lstm')\n",
    "plt.legend()\n",
    "plt.show()"
   ]
  },
  {
   "cell_type": "code",
   "execution_count": null,
   "id": "23ba09b5",
   "metadata": {},
   "outputs": [],
   "source": []
  }
 ],
 "metadata": {
  "kernelspec": {
   "display_name": "Python 3 (ipykernel)",
   "language": "python",
   "name": "python3"
  },
  "language_info": {
   "codemirror_mode": {
    "name": "ipython",
    "version": 3
   },
   "file_extension": ".py",
   "mimetype": "text/x-python",
   "name": "python",
   "nbconvert_exporter": "python",
   "pygments_lexer": "ipython3",
   "version": "3.9.12"
  }
 },
 "nbformat": 4,
 "nbformat_minor": 5
}
